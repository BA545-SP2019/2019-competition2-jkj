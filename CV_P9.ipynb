{
 "cells": [
  {
   "cell_type": "markdown",
   "metadata": {},
   "source": [
    "# **Cross-Validation & Modeling**"
   ]
  },
  {
   "cell_type": "code",
   "execution_count": 1,
   "metadata": {},
   "outputs": [],
   "source": [
    "import numpy as np \n",
    "import pandas as pd\n",
    "import matplotlib.pyplot as plt\n",
    "import seaborn as sns\n",
    "%matplotlib inline\n",
    "plt.style.use('ggplot')"
   ]
  },
  {
   "cell_type": "code",
   "execution_count": 2,
   "metadata": {},
   "outputs": [],
   "source": [
    "from sklearn.model_selection import train_test_split\n",
    "from sklearn import metrics \n",
    "from sklearn import model_selection\n",
    "from sklearn.model_selection import cross_val_score"
   ]
  },
  {
   "cell_type": "code",
   "execution_count": 3,
   "metadata": {},
   "outputs": [
    {
     "data": {
      "text/html": [
       "<div>\n",
       "<style scoped>\n",
       "    .dataframe tbody tr th:only-of-type {\n",
       "        vertical-align: middle;\n",
       "    }\n",
       "\n",
       "    .dataframe tbody tr th {\n",
       "        vertical-align: top;\n",
       "    }\n",
       "\n",
       "    .dataframe thead th {\n",
       "        text-align: right;\n",
       "    }\n",
       "</style>\n",
       "<table border=\"1\" class=\"dataframe\">\n",
       "  <thead>\n",
       "    <tr style=\"text-align: right;\">\n",
       "      <th></th>\n",
       "      <th>X2</th>\n",
       "      <th>X3_Bins</th>\n",
       "      <th>X4_Bins</th>\n",
       "      <th>X5_Bins</th>\n",
       "      <th>X6_BI</th>\n",
       "      <th>X7_BI</th>\n",
       "      <th>X8_BI</th>\n",
       "      <th>X9_BI</th>\n",
       "      <th>X10_BI</th>\n",
       "      <th>X11_BI</th>\n",
       "      <th>...</th>\n",
       "      <th>X22_BI</th>\n",
       "      <th>X23_BI</th>\n",
       "      <th>X1</th>\n",
       "      <th>X12_ABS</th>\n",
       "      <th>X13_ABS</th>\n",
       "      <th>X14_ABS</th>\n",
       "      <th>X15_ABS</th>\n",
       "      <th>X16_ABS</th>\n",
       "      <th>X17_ABS</th>\n",
       "      <th>Y</th>\n",
       "    </tr>\n",
       "  </thead>\n",
       "  <tbody>\n",
       "    <tr>\n",
       "      <th>2</th>\n",
       "      <td>2</td>\n",
       "      <td>1</td>\n",
       "      <td>0</td>\n",
       "      <td>0</td>\n",
       "      <td>0</td>\n",
       "      <td>1</td>\n",
       "      <td>0</td>\n",
       "      <td>0</td>\n",
       "      <td>0</td>\n",
       "      <td>1</td>\n",
       "      <td>...</td>\n",
       "      <td>0</td>\n",
       "      <td>1</td>\n",
       "      <td>-0.271418</td>\n",
       "      <td>0.116536</td>\n",
       "      <td>-0.233725</td>\n",
       "      <td>-0.216424</td>\n",
       "      <td>-0.139167</td>\n",
       "      <td>-0.067265</td>\n",
       "      <td>-0.007117</td>\n",
       "      <td>1</td>\n",
       "    </tr>\n",
       "    <tr>\n",
       "      <th>3</th>\n",
       "      <td>2</td>\n",
       "      <td>1</td>\n",
       "      <td>0</td>\n",
       "      <td>1</td>\n",
       "      <td>0</td>\n",
       "      <td>0</td>\n",
       "      <td>0</td>\n",
       "      <td>0</td>\n",
       "      <td>0</td>\n",
       "      <td>0</td>\n",
       "      <td>...</td>\n",
       "      <td>1</td>\n",
       "      <td>1</td>\n",
       "      <td>-0.895980</td>\n",
       "      <td>0.423406</td>\n",
       "      <td>0.476861</td>\n",
       "      <td>0.528327</td>\n",
       "      <td>0.227939</td>\n",
       "      <td>0.296254</td>\n",
       "      <td>0.345181</td>\n",
       "      <td>0</td>\n",
       "    </tr>\n",
       "    <tr>\n",
       "      <th>4</th>\n",
       "      <td>2</td>\n",
       "      <td>1</td>\n",
       "      <td>1</td>\n",
       "      <td>1</td>\n",
       "      <td>0</td>\n",
       "      <td>0</td>\n",
       "      <td>0</td>\n",
       "      <td>0</td>\n",
       "      <td>0</td>\n",
       "      <td>0</td>\n",
       "      <td>...</td>\n",
       "      <td>1</td>\n",
       "      <td>1</td>\n",
       "      <td>-0.895980</td>\n",
       "      <td>-0.482617</td>\n",
       "      <td>-0.597292</td>\n",
       "      <td>0.313576</td>\n",
       "      <td>0.054974</td>\n",
       "      <td>0.059507</td>\n",
       "      <td>0.098518</td>\n",
       "      <td>0</td>\n",
       "    </tr>\n",
       "    <tr>\n",
       "      <th>5</th>\n",
       "      <td>1</td>\n",
       "      <td>1</td>\n",
       "      <td>1</td>\n",
       "      <td>2</td>\n",
       "      <td>0</td>\n",
       "      <td>0</td>\n",
       "      <td>0</td>\n",
       "      <td>0</td>\n",
       "      <td>0</td>\n",
       "      <td>0</td>\n",
       "      <td>...</td>\n",
       "      <td>1</td>\n",
       "      <td>1</td>\n",
       "      <td>-0.895980</td>\n",
       "      <td>0.655807</td>\n",
       "      <td>0.598303</td>\n",
       "      <td>0.641960</td>\n",
       "      <td>0.013707</td>\n",
       "      <td>0.072582</td>\n",
       "      <td>0.122760</td>\n",
       "      <td>0</td>\n",
       "    </tr>\n",
       "    <tr>\n",
       "      <th>6</th>\n",
       "      <td>1</td>\n",
       "      <td>1</td>\n",
       "      <td>0</td>\n",
       "      <td>1</td>\n",
       "      <td>0</td>\n",
       "      <td>0</td>\n",
       "      <td>0</td>\n",
       "      <td>0</td>\n",
       "      <td>0</td>\n",
       "      <td>0</td>\n",
       "      <td>...</td>\n",
       "      <td>1</td>\n",
       "      <td>1</td>\n",
       "      <td>1.550666</td>\n",
       "      <td>2.491521</td>\n",
       "      <td>2.675594</td>\n",
       "      <td>2.833575</td>\n",
       "      <td>0.004727</td>\n",
       "      <td>0.030574</td>\n",
       "      <td>0.041317</td>\n",
       "      <td>0</td>\n",
       "    </tr>\n",
       "  </tbody>\n",
       "</table>\n",
       "<p>5 rows × 36 columns</p>\n",
       "</div>"
      ],
      "text/plain": [
       "   X2  X3_Bins  X4_Bins  X5_Bins  X6_BI  X7_BI  X8_BI  X9_BI  X10_BI  X11_BI  \\\n",
       "2   2        1        0        0      0      1      0      0       0       1   \n",
       "3   2        1        0        1      0      0      0      0       0       0   \n",
       "4   2        1        1        1      0      0      0      0       0       0   \n",
       "5   1        1        1        2      0      0      0      0       0       0   \n",
       "6   1        1        0        1      0      0      0      0       0       0   \n",
       "\n",
       "  ...  X22_BI  X23_BI        X1   X12_ABS   X13_ABS   X14_ABS   X15_ABS  \\\n",
       "2 ...       0       1 -0.271418  0.116536 -0.233725 -0.216424 -0.139167   \n",
       "3 ...       1       1 -0.895980  0.423406  0.476861  0.528327  0.227939   \n",
       "4 ...       1       1 -0.895980 -0.482617 -0.597292  0.313576  0.054974   \n",
       "5 ...       1       1 -0.895980  0.655807  0.598303  0.641960  0.013707   \n",
       "6 ...       1       1  1.550666  2.491521  2.675594  2.833575  0.004727   \n",
       "\n",
       "    X16_ABS   X17_ABS  Y  \n",
       "2 -0.067265 -0.007117  1  \n",
       "3  0.296254  0.345181  0  \n",
       "4  0.059507  0.098518  0  \n",
       "5  0.072582  0.122760  0  \n",
       "6  0.030574  0.041317  0  \n",
       "\n",
       "[5 rows x 36 columns]"
      ]
     },
     "execution_count": 3,
     "metadata": {},
     "output_type": "execute_result"
    }
   ],
   "source": [
    "# Importing Excel file, calling the DataFrame comp_df\n",
    "df = pd.read_csv('Final9', header=0, index_col=0)\n",
    "# Checking import \n",
    "df.head(5)"
   ]
  },
  {
   "cell_type": "code",
   "execution_count": 4,
   "metadata": {},
   "outputs": [],
   "source": [
    "X = df.iloc[:,:-1] # Features\n",
    "y = df.Y # Target variable"
   ]
  },
  {
   "cell_type": "markdown",
   "metadata": {},
   "source": [
    "# **Balancing Data**"
   ]
  },
  {
   "cell_type": "code",
   "execution_count": 5,
   "metadata": {},
   "outputs": [],
   "source": [
    "from imblearn.over_sampling import RandomOverSampler\n",
    "ros = RandomOverSampler(random_state=2019)\n",
    "X_resample, y_resample = ros.fit_resample(X, y)"
   ]
  },
  {
   "cell_type": "markdown",
   "metadata": {},
   "source": [
    "# **AdaBoostClassifier with Cross Validation**"
   ]
  },
  {
   "cell_type": "code",
   "execution_count": 6,
   "metadata": {},
   "outputs": [
    {
     "name": "stdout",
     "output_type": "stream",
     "text": [
      "[0.73057993 0.73806976 0.73721378 0.7453456  0.7774449  0.76567516\n",
      " 0.65568158 0.54675797 0.54666096 0.56164384]\n",
      "0.6805073465609783\n"
     ]
    }
   ],
   "source": [
    "from sklearn.ensemble import AdaBoostClassifier\n",
    "seed = 2019\n",
    "num_trees = 70\n",
    "kfold = model_selection.KFold(n_splits=10, random_state=seed)\n",
    "model = AdaBoostClassifier(n_estimators=num_trees, random_state=seed)\n",
    "results = model_selection.cross_val_score(model, X_resample, y_resample, cv=kfold)\n",
    "print(results)\n",
    "print(results.mean())"
   ]
  },
  {
   "cell_type": "markdown",
   "metadata": {},
   "source": [
    "# **Decision Tree with Cross Validation**"
   ]
  },
  {
   "cell_type": "code",
   "execution_count": 7,
   "metadata": {},
   "outputs": [
    {
     "name": "stdout",
     "output_type": "stream",
     "text": [
      "0.8889744906694059\n",
      "              precision    recall  f1-score   support\n",
      "\n",
      "           0       0.98      0.79      0.88     23364\n",
      "           1       0.83      0.98      0.90     23364\n",
      "\n",
      "   micro avg       0.89      0.89      0.89     46728\n",
      "   macro avg       0.90      0.89      0.89     46728\n",
      "weighted avg       0.90      0.89      0.89     46728\n",
      "\n"
     ]
    }
   ],
   "source": [
    "# Import Decision Tree Classifier  \n",
    "from sklearn.tree import DecisionTreeClassifier\n",
    "\n",
    "# Create Decision Tree Classifier Object \n",
    "clf = DecisionTreeClassifier()\n",
    "clf = clf.fit(X_resample, y_resample)\n",
    "\n",
    "kfold = model_selection.KFold(n_splits=10, random_state=seed)\n",
    "\n",
    "predicted = model_selection.cross_val_predict(clf, X_resample, y_resample, cv=kfold)\n",
    "\n",
    "print(metrics.accuracy_score(y_resample, predicted))\n",
    "#print(cross_val_score(clf, X_resample, y_resample, cv=10, scoring='roc_auc').mean())\n",
    "print(metrics.classification_report(y_resample, predicted))"
   ]
  },
  {
   "cell_type": "code",
   "execution_count": 8,
   "metadata": {},
   "outputs": [],
   "source": [
    "# **Decision Tree using TPOT Suggestion**"
   ]
  },
  {
   "cell_type": "code",
   "execution_count": 9,
   "metadata": {},
   "outputs": [
    {
     "name": "stdout",
     "output_type": "stream",
     "text": [
      "0.6934814244136278\n",
      "              precision    recall  f1-score   support\n",
      "\n",
      "           0       0.66      0.78      0.72     23364\n",
      "           1       0.74      0.60      0.66     23364\n",
      "\n",
      "   micro avg       0.69      0.69      0.69     46728\n",
      "   macro avg       0.70      0.69      0.69     46728\n",
      "weighted avg       0.70      0.69      0.69     46728\n",
      "\n"
     ]
    }
   ],
   "source": [
    "# Import Decision Tree Classifier  \n",
    "from sklearn.tree import DecisionTreeClassifier\n",
    "\n",
    "# Create Decision Tree Classifier Object \n",
    "clf = DecisionTreeClassifier(criterion=\"entropy\", max_depth=6, min_samples_leaf=3, min_samples_split=4)\n",
    "clf = clf.fit(X_resample, y_resample)\n",
    "\n",
    "kfold = model_selection.KFold(n_splits=10, random_state=seed)\n",
    "\n",
    "predicted = model_selection.cross_val_predict(clf, X_resample, y_resample, cv=kfold)\n",
    "\n",
    "print(metrics.accuracy_score(y_resample, predicted))\n",
    "#print(cross_val_score(clf, X_resample, y_resample, cv=10, scoring='roc_auc').mean())\n",
    "print(metrics.classification_report(y_resample, predicted))"
   ]
  },
  {
   "cell_type": "markdown",
   "metadata": {},
   "source": [
    "# **Logistic Regression with Cross Validation**"
   ]
  },
  {
   "cell_type": "code",
   "execution_count": 8,
   "metadata": {},
   "outputs": [
    {
     "name": "stdout",
     "output_type": "stream",
     "text": [
      "[0.73207789 0.73485983 0.72886796 0.74834154 0.77573293 0.76289322\n",
      " 0.65610957 0.55253584 0.5505137  0.56014555]\n",
      "0.6802078035361989\n"
     ]
    }
   ],
   "source": [
    "# import the class\n",
    "from sklearn.linear_model import LogisticRegression\n",
    "\n",
    "logreg = LogisticRegression(solver='liblinear')\n",
    "logreg = logreg.fit(X_resample,y_resample)\n",
    "\n",
    "kfold = model_selection.KFold(n_splits=10, random_state=seed)\n",
    "\n",
    "results = model_selection.cross_val_score(logreg, X_resample, y_resample, cv=kfold)\n",
    "print(results)\n",
    "print(results.mean())"
   ]
  },
  {
   "cell_type": "markdown",
   "metadata": {},
   "source": [
    "# **SVC with Cross**"
   ]
  },
  {
   "cell_type": "code",
   "execution_count": null,
   "metadata": {},
   "outputs": [],
   "source": [
    "from sklearn.svm import SVC  \n",
    "svclassifier = SVC(kernel='rbf', gamma='auto')  #Kernel=rbf, non-linearly separable data\n",
    "svclassifier = svclassifier.fit(X_resample, y_resample)\n",
    "\n",
    "kfold = model_selection.KFold(n_splits=10, random_state=seed)\n",
    "\n",
    "results = model_selection.cross_val_score(svclassifier, X_resample, y_resample, cv=kfold)\n",
    "print(results)\n",
    "print(results.mean())"
   ]
  },
  {
   "cell_type": "code",
   "execution_count": null,
   "metadata": {},
   "outputs": [],
   "source": []
  }
 ],
 "metadata": {
  "kernelspec": {
   "display_name": "Python 3",
   "language": "python",
   "name": "python3"
  },
  "language_info": {
   "codemirror_mode": {
    "name": "ipython",
    "version": 3
   },
   "file_extension": ".py",
   "mimetype": "text/x-python",
   "name": "python",
   "nbconvert_exporter": "python",
   "pygments_lexer": "ipython3",
   "version": "3.6.5"
  }
 },
 "nbformat": 4,
 "nbformat_minor": 2
}

{
 "cells": [
  {
   "cell_type": "code",
   "execution_count": 1,
   "metadata": {},
   "outputs": [],
   "source": [
    "import numpy as np \n",
    "import pandas as pd\n",
    "import matplotlib.pyplot as plt\n",
    "import seaborn as sns\n",
    "%matplotlib inline\n",
    "plt.style.use('ggplot')\n",
    "import pandas as pd\n",
    "import numpy as np\n",
    "import matplotlib.pyplot as plt\n",
    "from sklearn import preprocessing\n",
    "import seaborn as sns\n",
    "%matplotlib inline\n",
    "from sklearn.linear_model import (LinearRegression, Ridge, Lasso, RandomizedLasso)"
   ]
  },
  {
   "cell_type": "code",
   "execution_count": 2,
   "metadata": {},
   "outputs": [
    {
     "data": {
      "text/html": [
       "<div>\n",
       "<style scoped>\n",
       "    .dataframe tbody tr th:only-of-type {\n",
       "        vertical-align: middle;\n",
       "    }\n",
       "\n",
       "    .dataframe tbody tr th {\n",
       "        vertical-align: top;\n",
       "    }\n",
       "\n",
       "    .dataframe thead th {\n",
       "        text-align: right;\n",
       "    }\n",
       "</style>\n",
       "<table border=\"1\" class=\"dataframe\">\n",
       "  <thead>\n",
       "    <tr style=\"text-align: right;\">\n",
       "      <th></th>\n",
       "      <th>X2</th>\n",
       "      <th>X3</th>\n",
       "      <th>X4</th>\n",
       "      <th>X5_Bins</th>\n",
       "      <th>X6_BI</th>\n",
       "      <th>X7_BI</th>\n",
       "      <th>X8_BI</th>\n",
       "      <th>X9_BI</th>\n",
       "      <th>X10_BI</th>\n",
       "      <th>X11_BI</th>\n",
       "      <th>...</th>\n",
       "      <th>X22_BI</th>\n",
       "      <th>X23_BI</th>\n",
       "      <th>X1</th>\n",
       "      <th>X12_ABS</th>\n",
       "      <th>X13_ABS</th>\n",
       "      <th>X14_ABS</th>\n",
       "      <th>X15_ABS</th>\n",
       "      <th>X16_ABS</th>\n",
       "      <th>X17_ABS</th>\n",
       "      <th>Y</th>\n",
       "    </tr>\n",
       "  </thead>\n",
       "  <tbody>\n",
       "    <tr>\n",
       "      <th>1</th>\n",
       "      <td>2</td>\n",
       "      <td>2</td>\n",
       "      <td>1</td>\n",
       "      <td>0</td>\n",
       "      <td>1</td>\n",
       "      <td>1</td>\n",
       "      <td>0</td>\n",
       "      <td>0</td>\n",
       "      <td>0</td>\n",
       "      <td>0</td>\n",
       "      <td>...</td>\n",
       "      <td>0</td>\n",
       "      <td>0</td>\n",
       "      <td>0.599709</td>\n",
       "      <td>0.254713</td>\n",
       "      <td>0.223054</td>\n",
       "      <td>0.263690</td>\n",
       "      <td>0.290992</td>\n",
       "      <td>0.304196</td>\n",
       "      <td>0.299765</td>\n",
       "      <td>1</td>\n",
       "    </tr>\n",
       "    <tr>\n",
       "      <th>2</th>\n",
       "      <td>2</td>\n",
       "      <td>2</td>\n",
       "      <td>2</td>\n",
       "      <td>0</td>\n",
       "      <td>0</td>\n",
       "      <td>1</td>\n",
       "      <td>0</td>\n",
       "      <td>0</td>\n",
       "      <td>0</td>\n",
       "      <td>1</td>\n",
       "      <td>...</td>\n",
       "      <td>0</td>\n",
       "      <td>1</td>\n",
       "      <td>0.539312</td>\n",
       "      <td>0.564787</td>\n",
       "      <td>0.448541</td>\n",
       "      <td>0.452568</td>\n",
       "      <td>0.476104</td>\n",
       "      <td>0.495677</td>\n",
       "      <td>0.504543</td>\n",
       "      <td>1</td>\n",
       "    </tr>\n",
       "    <tr>\n",
       "      <th>3</th>\n",
       "      <td>2</td>\n",
       "      <td>2</td>\n",
       "      <td>2</td>\n",
       "      <td>1</td>\n",
       "      <td>0</td>\n",
       "      <td>0</td>\n",
       "      <td>0</td>\n",
       "      <td>0</td>\n",
       "      <td>0</td>\n",
       "      <td>0</td>\n",
       "      <td>...</td>\n",
       "      <td>1</td>\n",
       "      <td>1</td>\n",
       "      <td>0.428052</td>\n",
       "      <td>0.661555</td>\n",
       "      <td>0.677011</td>\n",
       "      <td>0.695874</td>\n",
       "      <td>0.597415</td>\n",
       "      <td>0.617920</td>\n",
       "      <td>0.624935</td>\n",
       "      <td>0</td>\n",
       "    </tr>\n",
       "    <tr>\n",
       "      <th>4</th>\n",
       "      <td>2</td>\n",
       "      <td>2</td>\n",
       "      <td>1</td>\n",
       "      <td>1</td>\n",
       "      <td>0</td>\n",
       "      <td>0</td>\n",
       "      <td>0</td>\n",
       "      <td>0</td>\n",
       "      <td>0</td>\n",
       "      <td>0</td>\n",
       "      <td>...</td>\n",
       "      <td>1</td>\n",
       "      <td>1</td>\n",
       "      <td>0.428052</td>\n",
       "      <td>0.375851</td>\n",
       "      <td>0.331646</td>\n",
       "      <td>0.625716</td>\n",
       "      <td>0.540258</td>\n",
       "      <td>0.538308</td>\n",
       "      <td>0.540642</td>\n",
       "      <td>0</td>\n",
       "    </tr>\n",
       "    <tr>\n",
       "      <th>5</th>\n",
       "      <td>1</td>\n",
       "      <td>2</td>\n",
       "      <td>1</td>\n",
       "      <td>2</td>\n",
       "      <td>0</td>\n",
       "      <td>0</td>\n",
       "      <td>0</td>\n",
       "      <td>0</td>\n",
       "      <td>0</td>\n",
       "      <td>0</td>\n",
       "      <td>...</td>\n",
       "      <td>1</td>\n",
       "      <td>1</td>\n",
       "      <td>0.428052</td>\n",
       "      <td>0.734840</td>\n",
       "      <td>0.716057</td>\n",
       "      <td>0.732997</td>\n",
       "      <td>0.526621</td>\n",
       "      <td>0.542705</td>\n",
       "      <td>0.548927</td>\n",
       "      <td>0</td>\n",
       "    </tr>\n",
       "  </tbody>\n",
       "</table>\n",
       "<p>5 rows × 36 columns</p>\n",
       "</div>"
      ],
      "text/plain": [
       "   X2  X3  X4  X5_Bins  X6_BI  X7_BI  X8_BI  X9_BI  X10_BI  X11_BI ...  \\\n",
       "1   2   2   1        0      1      1      0      0       0       0 ...   \n",
       "2   2   2   2        0      0      1      0      0       0       1 ...   \n",
       "3   2   2   2        1      0      0      0      0       0       0 ...   \n",
       "4   2   2   1        1      0      0      0      0       0       0 ...   \n",
       "5   1   2   1        2      0      0      0      0       0       0 ...   \n",
       "\n",
       "   X22_BI  X23_BI        X1   X12_ABS   X13_ABS   X14_ABS   X15_ABS   X16_ABS  \\\n",
       "1       0       0  0.599709  0.254713  0.223054  0.263690  0.290992  0.304196   \n",
       "2       0       1  0.539312  0.564787  0.448541  0.452568  0.476104  0.495677   \n",
       "3       1       1  0.428052  0.661555  0.677011  0.695874  0.597415  0.617920   \n",
       "4       1       1  0.428052  0.375851  0.331646  0.625716  0.540258  0.538308   \n",
       "5       1       1  0.428052  0.734840  0.716057  0.732997  0.526621  0.542705   \n",
       "\n",
       "    X17_ABS  Y  \n",
       "1  0.299765  1  \n",
       "2  0.504543  1  \n",
       "3  0.624935  0  \n",
       "4  0.540642  0  \n",
       "5  0.548927  0  \n",
       "\n",
       "[5 rows x 36 columns]"
      ]
     },
     "execution_count": 2,
     "metadata": {},
     "output_type": "execute_result"
    }
   ],
   "source": [
    "# Importing Excel file, calling the DataFrame comp_df\n",
    "df = pd.read_csv(\"Final6\", index_col=0, header=0)\n",
    "df.head()"
   ]
  },
  {
   "cell_type": "code",
   "execution_count": 3,
   "metadata": {},
   "outputs": [],
   "source": [
    "X = df.iloc[:,:-1]# Features\n",
    "\n",
    "y = df.Y # Target variable"
   ]
  },
  {
   "cell_type": "code",
   "execution_count": 4,
   "metadata": {},
   "outputs": [],
   "source": [
    "from sklearn.model_selection import train_test_split\n",
    "\n",
    "# split data using train_test_split\n",
    "X_train, X_test, y_train, y_test=train_test_split(X,y, test_size=0.25, random_state=2019)"
   ]
  },
  {
   "cell_type": "code",
   "execution_count": 5,
   "metadata": {},
   "outputs": [],
   "source": [
    "from imblearn.over_sampling import RandomOverSampler\n",
    "ros = RandomOverSampler(random_state=2019)\n",
    "X_train_resample, y_train_resample = ros.fit_resample(X_train, y_train)"
   ]
  },
  {
   "cell_type": "markdown",
   "metadata": {},
   "source": [
    "# **Lasso Regression**"
   ]
  },
  {
   "cell_type": "code",
   "execution_count": 6,
   "metadata": {},
   "outputs": [
    {
     "data": {
      "text/plain": [
       "-0.4762849584278155"
      ]
     },
     "execution_count": 6,
     "metadata": {},
     "output_type": "execute_result"
    }
   ],
   "source": [
    "from sklearn.linear_model import Lasso\n",
    "\n",
    "lassoReg = Lasso(alpha=0.3, normalize=True)\n",
    "\n",
    "lassoReg = lassoReg.fit(X_train_resample,y_train_resample)\n",
    "\n",
    "y_pred = lassoReg.predict(X_test)\n",
    "\n",
    "lassoReg.score(X_test,y_test)"
   ]
  },
  {
   "cell_type": "code",
   "execution_count": 7,
   "metadata": {},
   "outputs": [
    {
     "name": "stderr",
     "output_type": "stream",
     "text": [
      "/home/jupyter-jhoffmann/.local/lib/python3.6/site-packages/sklearn/metrics/classification.py:1143: UndefinedMetricWarning: F-score is ill-defined and being set to 0.0 in labels with no predicted samples.\n",
      "  'precision', 'predicted', average, warn_for)\n"
     ]
    },
    {
     "data": {
      "text/plain": [
       "0.6890762331838565"
      ]
     },
     "execution_count": 7,
     "metadata": {},
     "output_type": "execute_result"
    }
   ],
   "source": [
    "from sklearn.metrics import f1_score\n",
    "f1_score(y_test, y_pred.round(), average='weighted')"
   ]
  },
  {
   "cell_type": "code",
   "execution_count": 8,
   "metadata": {},
   "outputs": [
    {
     "data": {
      "text/plain": [
       "0.5"
      ]
     },
     "execution_count": 8,
     "metadata": {},
     "output_type": "execute_result"
    }
   ],
   "source": [
    "from sklearn.metrics import roc_auc_score\n",
    "roc_auc_score(y_test, y_pred)"
   ]
  },
  {
   "cell_type": "markdown",
   "metadata": {},
   "source": [
    "# **ElasticNet**"
   ]
  },
  {
   "cell_type": "code",
   "execution_count": 9,
   "metadata": {},
   "outputs": [
    {
     "data": {
      "text/plain": [
       "-0.4762849584278155"
      ]
     },
     "execution_count": 9,
     "metadata": {},
     "output_type": "execute_result"
    }
   ],
   "source": [
    "from sklearn.linear_model import ElasticNet\n",
    "\n",
    "ENreg = ElasticNet(alpha=1, l1_ratio=0.5, normalize=False)\n",
    "\n",
    "Enreg = ENreg.fit(X_train_resample,y_train_resample)\n",
    "\n",
    "y_pred = ENreg.predict(X_test)\n",
    "\n",
    "ENreg.score(X_test,y_test)"
   ]
  },
  {
   "cell_type": "code",
   "execution_count": 10,
   "metadata": {},
   "outputs": [
    {
     "name": "stderr",
     "output_type": "stream",
     "text": [
      "/home/jupyter-jhoffmann/.local/lib/python3.6/site-packages/sklearn/metrics/classification.py:1143: UndefinedMetricWarning: F-score is ill-defined and being set to 0.0 in labels with no predicted samples.\n",
      "  'precision', 'predicted', average, warn_for)\n"
     ]
    },
    {
     "data": {
      "text/plain": [
       "0.6890762331838565"
      ]
     },
     "execution_count": 10,
     "metadata": {},
     "output_type": "execute_result"
    }
   ],
   "source": [
    "from sklearn.metrics import f1_score\n",
    "f1_score(y_test, y_pred.round(), average='weighted')"
   ]
  },
  {
   "cell_type": "code",
   "execution_count": 11,
   "metadata": {},
   "outputs": [
    {
     "data": {
      "text/plain": [
       "0.5"
      ]
     },
     "execution_count": 11,
     "metadata": {},
     "output_type": "execute_result"
    }
   ],
   "source": [
    "from sklearn.metrics import roc_auc_score\n",
    "roc_auc_score(y_test, y_pred)"
   ]
  },
  {
   "cell_type": "code",
   "execution_count": null,
   "metadata": {},
   "outputs": [],
   "source": []
  }
 ],
 "metadata": {
  "kernelspec": {
   "display_name": "Python 3",
   "language": "python",
   "name": "python3"
  },
  "language_info": {
   "codemirror_mode": {
    "name": "ipython",
    "version": 3
   },
   "file_extension": ".py",
   "mimetype": "text/x-python",
   "name": "python",
   "nbconvert_exporter": "python",
   "pygments_lexer": "ipython3",
   "version": "3.6.5"
  }
 },
 "nbformat": 4,
 "nbformat_minor": 2
}

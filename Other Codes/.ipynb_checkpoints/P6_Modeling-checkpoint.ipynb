{
 "cells": [
  {
   "cell_type": "markdown",
   "metadata": {},
   "source": [
    "# **Pipeline 6 Modeling**"
   ]
  },
  {
   "cell_type": "code",
   "execution_count": 1,
   "metadata": {},
   "outputs": [],
   "source": [
    "import numpy as np \n",
    "import pandas as pd\n",
    "import matplotlib.pyplot as plt\n",
    "import seaborn as sns\n",
    "%matplotlib inline\n",
    "plt.style.use('ggplot')\n",
    "from sklearn import metrics \n",
    "from sklearn.metrics import roc_auc_score\n",
    "from sklearn.metrics import f1_score"
   ]
  },
  {
   "cell_type": "code",
   "execution_count": 2,
   "metadata": {},
   "outputs": [],
   "source": [
    "# import required packages for splitting data\n",
    "from sklearn import model_selection\n",
    "from sklearn.model_selection import cross_val_score\n",
    "\n",
    "# import required packages for evaluating models\n",
    "from sklearn import metrics\n",
    "from sklearn.metrics import confusion_matrix\n",
    "from sklearn.metrics import classification_report\n",
    "from sklearn.metrics import roc_auc_score\n",
    "from sklearn.metrics import accuracy_score\n",
    "from sklearn.metrics import precision_recall_fscore_support"
   ]
  },
  {
   "cell_type": "code",
   "execution_count": 3,
   "metadata": {},
   "outputs": [
    {
     "data": {
      "text/html": [
       "<div>\n",
       "<style scoped>\n",
       "    .dataframe tbody tr th:only-of-type {\n",
       "        vertical-align: middle;\n",
       "    }\n",
       "\n",
       "    .dataframe tbody tr th {\n",
       "        vertical-align: top;\n",
       "    }\n",
       "\n",
       "    .dataframe thead th {\n",
       "        text-align: right;\n",
       "    }\n",
       "</style>\n",
       "<table border=\"1\" class=\"dataframe\">\n",
       "  <thead>\n",
       "    <tr style=\"text-align: right;\">\n",
       "      <th></th>\n",
       "      <th>X2</th>\n",
       "      <th>X3</th>\n",
       "      <th>X4</th>\n",
       "      <th>X5_Bins</th>\n",
       "      <th>X6_BI</th>\n",
       "      <th>X7_BI</th>\n",
       "      <th>X8_BI</th>\n",
       "      <th>X9_BI</th>\n",
       "      <th>X10_BI</th>\n",
       "      <th>X11_BI</th>\n",
       "      <th>...</th>\n",
       "      <th>X22_BI</th>\n",
       "      <th>X23_BI</th>\n",
       "      <th>X1</th>\n",
       "      <th>X12_ABS</th>\n",
       "      <th>X13_ABS</th>\n",
       "      <th>X14_ABS</th>\n",
       "      <th>X15_ABS</th>\n",
       "      <th>X16_ABS</th>\n",
       "      <th>X17_ABS</th>\n",
       "      <th>Y</th>\n",
       "    </tr>\n",
       "  </thead>\n",
       "  <tbody>\n",
       "    <tr>\n",
       "      <th>0</th>\n",
       "      <td>2</td>\n",
       "      <td>2</td>\n",
       "      <td>1</td>\n",
       "      <td>0</td>\n",
       "      <td>1</td>\n",
       "      <td>1</td>\n",
       "      <td>0</td>\n",
       "      <td>0</td>\n",
       "      <td>0</td>\n",
       "      <td>0</td>\n",
       "      <td>...</td>\n",
       "      <td>0</td>\n",
       "      <td>0</td>\n",
       "      <td>0.269656</td>\n",
       "      <td>0.288891</td>\n",
       "      <td>0.271245</td>\n",
       "      <td>0.167628</td>\n",
       "      <td>0.000000</td>\n",
       "      <td>0.000000</td>\n",
       "      <td>0.000000</td>\n",
       "      <td>1</td>\n",
       "    </tr>\n",
       "    <tr>\n",
       "      <th>1</th>\n",
       "      <td>2</td>\n",
       "      <td>2</td>\n",
       "      <td>2</td>\n",
       "      <td>0</td>\n",
       "      <td>0</td>\n",
       "      <td>1</td>\n",
       "      <td>0</td>\n",
       "      <td>0</td>\n",
       "      <td>0</td>\n",
       "      <td>1</td>\n",
       "      <td>...</td>\n",
       "      <td>0</td>\n",
       "      <td>1</td>\n",
       "      <td>0.599709</td>\n",
       "      <td>0.254713</td>\n",
       "      <td>0.223054</td>\n",
       "      <td>0.263690</td>\n",
       "      <td>0.290992</td>\n",
       "      <td>0.304196</td>\n",
       "      <td>0.299765</td>\n",
       "      <td>1</td>\n",
       "    </tr>\n",
       "    <tr>\n",
       "      <th>2</th>\n",
       "      <td>2</td>\n",
       "      <td>2</td>\n",
       "      <td>2</td>\n",
       "      <td>1</td>\n",
       "      <td>0</td>\n",
       "      <td>0</td>\n",
       "      <td>0</td>\n",
       "      <td>0</td>\n",
       "      <td>0</td>\n",
       "      <td>0</td>\n",
       "      <td>...</td>\n",
       "      <td>1</td>\n",
       "      <td>1</td>\n",
       "      <td>0.539312</td>\n",
       "      <td>0.564787</td>\n",
       "      <td>0.448541</td>\n",
       "      <td>0.452568</td>\n",
       "      <td>0.476104</td>\n",
       "      <td>0.495677</td>\n",
       "      <td>0.504543</td>\n",
       "      <td>0</td>\n",
       "    </tr>\n",
       "    <tr>\n",
       "      <th>3</th>\n",
       "      <td>2</td>\n",
       "      <td>2</td>\n",
       "      <td>1</td>\n",
       "      <td>1</td>\n",
       "      <td>0</td>\n",
       "      <td>0</td>\n",
       "      <td>0</td>\n",
       "      <td>0</td>\n",
       "      <td>0</td>\n",
       "      <td>0</td>\n",
       "      <td>...</td>\n",
       "      <td>1</td>\n",
       "      <td>1</td>\n",
       "      <td>0.428052</td>\n",
       "      <td>0.661555</td>\n",
       "      <td>0.677011</td>\n",
       "      <td>0.695874</td>\n",
       "      <td>0.597415</td>\n",
       "      <td>0.617920</td>\n",
       "      <td>0.624935</td>\n",
       "      <td>0</td>\n",
       "    </tr>\n",
       "    <tr>\n",
       "      <th>4</th>\n",
       "      <td>1</td>\n",
       "      <td>2</td>\n",
       "      <td>1</td>\n",
       "      <td>2</td>\n",
       "      <td>0</td>\n",
       "      <td>0</td>\n",
       "      <td>0</td>\n",
       "      <td>0</td>\n",
       "      <td>0</td>\n",
       "      <td>0</td>\n",
       "      <td>...</td>\n",
       "      <td>1</td>\n",
       "      <td>1</td>\n",
       "      <td>0.428052</td>\n",
       "      <td>0.375851</td>\n",
       "      <td>0.331646</td>\n",
       "      <td>0.625716</td>\n",
       "      <td>0.540258</td>\n",
       "      <td>0.538308</td>\n",
       "      <td>0.540642</td>\n",
       "      <td>0</td>\n",
       "    </tr>\n",
       "  </tbody>\n",
       "</table>\n",
       "<p>5 rows × 36 columns</p>\n",
       "</div>"
      ],
      "text/plain": [
       "   X2  X3  X4  X5_Bins  X6_BI  X7_BI  X8_BI  X9_BI  X10_BI  X11_BI ...  \\\n",
       "0   2   2   1        0      1      1      0      0       0       0 ...   \n",
       "1   2   2   2        0      0      1      0      0       0       1 ...   \n",
       "2   2   2   2        1      0      0      0      0       0       0 ...   \n",
       "3   2   2   1        1      0      0      0      0       0       0 ...   \n",
       "4   1   2   1        2      0      0      0      0       0       0 ...   \n",
       "\n",
       "   X22_BI  X23_BI        X1   X12_ABS   X13_ABS   X14_ABS   X15_ABS   X16_ABS  \\\n",
       "0       0       0  0.269656  0.288891  0.271245  0.167628  0.000000  0.000000   \n",
       "1       0       1  0.599709  0.254713  0.223054  0.263690  0.290992  0.304196   \n",
       "2       1       1  0.539312  0.564787  0.448541  0.452568  0.476104  0.495677   \n",
       "3       1       1  0.428052  0.661555  0.677011  0.695874  0.597415  0.617920   \n",
       "4       1       1  0.428052  0.375851  0.331646  0.625716  0.540258  0.538308   \n",
       "\n",
       "    X17_ABS  Y  \n",
       "0  0.000000  1  \n",
       "1  0.299765  1  \n",
       "2  0.504543  0  \n",
       "3  0.624935  0  \n",
       "4  0.540642  0  \n",
       "\n",
       "[5 rows x 36 columns]"
      ]
     },
     "execution_count": 3,
     "metadata": {},
     "output_type": "execute_result"
    }
   ],
   "source": [
    "# Importing Excel file, calling the DataFrame comp_df\n",
    "df = pd.read_csv('Final6', header=0, index_col=0)\n",
    "# Checking import \n",
    "df.head(5)"
   ]
  },
  {
   "cell_type": "markdown",
   "metadata": {},
   "source": [
    "# **Splitting and Resampling Data**"
   ]
  },
  {
   "cell_type": "code",
   "execution_count": 4,
   "metadata": {},
   "outputs": [],
   "source": [
    "X = df.iloc[:,:-1] # Features\n",
    "y = df.Y # Target variable"
   ]
  },
  {
   "cell_type": "code",
   "execution_count": 5,
   "metadata": {},
   "outputs": [],
   "source": [
    "from sklearn.model_selection import train_test_split\n",
    "\n",
    "X_train,X_test,y_train,y_test=train_test_split(X,y,test_size=0.25,random_state=2019)"
   ]
  },
  {
   "cell_type": "code",
   "execution_count": 6,
   "metadata": {},
   "outputs": [],
   "source": [
    "from imblearn.over_sampling import RandomOverSampler\n",
    "ros = RandomOverSampler(random_state=2019)\n",
    "X_train_resample, y_train_resample = ros.fit_resample(X_train, y_train)"
   ]
  },
  {
   "cell_type": "markdown",
   "metadata": {},
   "source": [
    "# **Logistic Regression**"
   ]
  },
  {
   "cell_type": "code",
   "execution_count": 7,
   "metadata": {},
   "outputs": [
    {
     "name": "stdout",
     "output_type": "stream",
     "text": [
      "['X2' 'X3' 'X4' 'X5_Bins' 'X6_BI' 'X7_BI' 'X8_BI' 'X9_BI' 'X10_BI'\n",
      " 'X11_BI' 'X12_BI' 'X13_BI' 'X14_BI' 'X15_BI' 'X16_BI' 'X17_BI' 'X12_M'\n",
      " 'X13_M' 'X14_M' 'X15_M' 'X16_M' 'X17_M' 'X18_BI' 'X19_BI' 'X20_BI'\n",
      " 'X21_BI' 'X22_BI' 'X23_BI' 'X1' 'X12_ABS' 'X13_ABS' 'X14_ABS' 'X15_ABS'\n",
      " 'X16_ABS' 'X17_ABS' 'Y']\n"
     ]
    }
   ],
   "source": [
    "cols = df.columns.values\n",
    "print(cols)"
   ]
  },
  {
   "cell_type": "code",
   "execution_count": 8,
   "metadata": {},
   "outputs": [],
   "source": [
    "# import the class\n",
    "from sklearn.linear_model import LogisticRegression\n",
    "\n",
    "# instantiate the model (using the default parameters)\n",
    "logreg = LogisticRegression(solver='liblinear')\n",
    "\n",
    "# fit the model with data\n",
    "logreg = logreg.fit(X_train_resample,y_train_resample)\n",
    "\n",
    "#\n",
    "y_pred=logreg.predict(X_test)"
   ]
  },
  {
   "cell_type": "code",
   "execution_count": 9,
   "metadata": {},
   "outputs": [
    {
     "data": {
      "text/plain": [
       "array([[4723, 1183],\n",
       "       [ 602,  992]])"
      ]
     },
     "execution_count": 9,
     "metadata": {},
     "output_type": "execute_result"
    }
   ],
   "source": [
    "# import the metrics class\n",
    "cnf_matrix = metrics.confusion_matrix(y_test, y_pred)\n",
    "cnf_matrix"
   ]
  },
  {
   "cell_type": "code",
   "execution_count": 10,
   "metadata": {},
   "outputs": [
    {
     "data": {
      "text/plain": [
       "Text(0.5, 257.44, 'Predicted label')"
      ]
     },
     "execution_count": 10,
     "metadata": {},
     "output_type": "execute_result"
    },
    {
     "data": {
      "image/png": "[encoded data removed]",
      "text/plain": [
       "<Figure size 432x288 with 2 Axes>"
      ]
     },
     "metadata": {},
     "output_type": "display_data"
    }
   ],
   "source": [
    "class_names=[0,1] # name  of classes\n",
    "fig, ax = plt.subplots()\n",
    "tick_marks = np.arange(len(class_names))\n",
    "plt.xticks(tick_marks, class_names)\n",
    "plt.yticks(tick_marks, class_names)\n",
    "# create heatmap\n",
    "sns.heatmap(pd.DataFrame(cnf_matrix), annot=True, cmap=\"YlGnBu\" ,fmt='g')\n",
    "ax.xaxis.set_label_position(\"top\")\n",
    "plt.tight_layout()\n",
    "plt.title('Confusion matrix', y=1.1)\n",
    "plt.ylabel('Actual label')\n",
    "plt.xlabel('Predicted label')"
   ]
  },
  {
   "cell_type": "code",
   "execution_count": 11,
   "metadata": {},
   "outputs": [
    {
     "name": "stdout",
     "output_type": "stream",
     "text": [
      "Accuracy: 0.762\n",
      "F1_Score: 0.7741880372757255\n",
      "AUC: 0.7110144883815495\n"
     ]
    }
   ],
   "source": [
    "# Model Accuracy, how often is the classifier correct?\n",
    "print(\"Accuracy:\",metrics.accuracy_score(y_test, y_pred))\n",
    "print(\"F1_Score:\",f1_score(y_test, y_pred, average='weighted'))\n",
    "print(\"AUC:\",roc_auc_score(y_test, y_pred))"
   ]
  },
  {
   "cell_type": "markdown",
   "metadata": {},
   "source": [
    "# **Decision Tree**"
   ]
  },
  {
   "cell_type": "code",
   "execution_count": 12,
   "metadata": {},
   "outputs": [
    {
     "name": "stdout",
     "output_type": "stream",
     "text": [
      "Accuracy: 0.7304\n",
      "              precision    recall  f1-score   support\n",
      "\n",
      "           0       0.84      0.82      0.83      5906\n",
      "           1       0.38      0.41      0.39      1594\n",
      "\n",
      "   micro avg       0.73      0.73      0.73      7500\n",
      "   macro avg       0.61      0.61      0.61      7500\n",
      "weighted avg       0.74      0.73      0.73      7500\n",
      "\n",
      "[[4821 1085]\n",
      " [ 937  657]]\n"
     ]
    }
   ],
   "source": [
    "# Import Decision Tree Classifier  \n",
    "from sklearn.tree import DecisionTreeClassifier \n",
    "\n",
    "# Create Decision Tree Classifier Object \n",
    "clf = DecisionTreeClassifier()\n",
    "clf = clf.fit(X_train_resample, y_train_resample)\n",
    "\n",
    "# Predict the response for test dataset \n",
    "y_pred = clf.predict(X_test)\n",
    "\n",
    "# Model Accuracy \n",
    "print(\"Accuracy:\", metrics.accuracy_score(y_test, y_pred))\n",
    "print(metrics.classification_report(y_test, y_pred))\n",
    "print(metrics.confusion_matrix(y_test, y_pred))"
   ]
  },
  {
   "cell_type": "code",
   "execution_count": 13,
   "metadata": {},
   "outputs": [
    {
     "name": "stdout",
     "output_type": "stream",
     "text": [
      "Accuracy: 0.7304\n",
      "F1_Score: 0.73466991049136\n",
      "AUC: 0.6142295800243123\n"
     ]
    }
   ],
   "source": [
    "# Model Accuracy, how often is the classifier correct?\n",
    "print(\"Accuracy:\",metrics.accuracy_score(y_test, y_pred))\n",
    "print(\"F1_Score:\",f1_score(y_test, y_pred, average='weighted'))\n",
    "print(\"AUC:\",roc_auc_score(y_test, y_pred))"
   ]
  },
  {
   "cell_type": "markdown",
   "metadata": {},
   "source": [
    "# **Feature Importance**"
   ]
  },
  {
   "cell_type": "code",
   "execution_count": 14,
   "metadata": {},
   "outputs": [
    {
     "data": {
      "text/plain": [
       "X6_BI      0.158564\n",
       "X12_ABS    0.115017\n",
       "X1         0.099251\n",
       "X17_ABS    0.092482\n",
       "X15_ABS    0.090357\n",
       "X13_ABS    0.088006\n",
       "X14_ABS    0.087242\n",
       "X16_ABS    0.076501\n",
       "X3         0.030723\n",
       "X5_Bins    0.026324\n",
       "X4         0.022472\n",
       "X8_BI      0.015692\n",
       "X2         0.013972\n",
       "X12_BI     0.012445\n",
       "X23_BI     0.010450\n",
       "X21_BI     0.008112\n",
       "X22_BI     0.006977\n",
       "X20_BI     0.006449\n",
       "X9_BI      0.006370\n",
       "X10_BI     0.006159\n",
       "X11_BI     0.005523\n",
       "X7_BI      0.004568\n",
       "X18_BI     0.003968\n",
       "X19_BI     0.003581\n",
       "X16_BI     0.002159\n",
       "X14_BI     0.001978\n",
       "X17_BI     0.001840\n",
       "X15_BI     0.001436\n",
       "X13_BI     0.001381\n",
       "X17_M      0.000000\n",
       "X16_M      0.000000\n",
       "X12_M      0.000000\n",
       "X14_M      0.000000\n",
       "X15_M      0.000000\n",
       "X13_M      0.000000\n",
       "dtype: float64"
      ]
     },
     "execution_count": 14,
     "metadata": {},
     "output_type": "execute_result"
    }
   ],
   "source": [
    "feature_importance = pd.Series(clf.feature_importances_, index=df.iloc[:,:-1].columns).sort_values(ascending=False)\n",
    "feature_importance"
   ]
  },
  {
   "cell_type": "code",
   "execution_count": 15,
   "metadata": {},
   "outputs": [
    {
     "data": {
      "image/png": "[encoded data removed]",
      "text/plain": [
       "<Figure size 864x720 with 1 Axes>"
      ]
     },
     "metadata": {},
     "output_type": "display_data"
    }
   ],
   "source": [
    "import matplotlib.pyplot as plt\n",
    "import seaborn as sns\n",
    "%matplotlib inline\n",
    "plt.style.use('ggplot')\n",
    "plt.figure(figsize=(12,10))\n",
    "\n",
    "sns.barplot(x=feature_importance, y=feature_importance.index)\n",
    "\n",
    "plt.xlabel('Feature Importance Score')\n",
    "plt.ylabel('Features')\n",
    "plt.title(\"Visualing Feature Importance\")\n",
    "\n",
    "plt.show()"
   ]
  },
  {
   "cell_type": "markdown",
   "metadata": {},
   "source": [
    "# **SVM Gaussian Kernel**"
   ]
  },
  {
   "cell_type": "code",
   "execution_count": 16,
   "metadata": {},
   "outputs": [],
   "source": [
    "from sklearn.svm import SVC  \n",
    "svclassifier = SVC(kernel='rbf', gamma='auto')  #Kernel=rbf, non-linearly separable data\n",
    "svclassifier = svclassifier.fit(X_train_resample, y_train_resample) "
   ]
  },
  {
   "cell_type": "code",
   "execution_count": 17,
   "metadata": {},
   "outputs": [],
   "source": [
    "y_pred = svclassifier.predict(X_test)  "
   ]
  },
  {
   "cell_type": "code",
   "execution_count": 18,
   "metadata": {},
   "outputs": [
    {
     "name": "stdout",
     "output_type": "stream",
     "text": [
      "[[4801 1105]\n",
      " [ 602  992]]\n",
      "              precision    recall  f1-score   support\n",
      "\n",
      "           0       0.89      0.81      0.85      5906\n",
      "           1       0.47      0.62      0.54      1594\n",
      "\n",
      "   micro avg       0.77      0.77      0.77      7500\n",
      "   macro avg       0.68      0.72      0.69      7500\n",
      "weighted avg       0.80      0.77      0.78      7500\n",
      "\n"
     ]
    }
   ],
   "source": [
    "from sklearn.metrics import classification_report, confusion_matrix  \n",
    "print(confusion_matrix(y_test, y_pred))  \n",
    "print(classification_report(y_test, y_pred))"
   ]
  },
  {
   "cell_type": "code",
   "execution_count": 19,
   "metadata": {},
   "outputs": [
    {
     "name": "stdout",
     "output_type": "stream",
     "text": [
      "Accuracy: 0.7724\n",
      "F1_Score: 0.7828467924418372\n",
      "AUC: 0.7176179424960093\n"
     ]
    }
   ],
   "source": [
    "# Model Accuracy, how often is the classifier correct?\n",
    "print(\"Accuracy:\",metrics.accuracy_score(y_test, y_pred))\n",
    "print(\"F1_Score:\",f1_score(y_test, y_pred, average='weighted'))\n",
    "print(\"AUC:\",roc_auc_score(y_test, y_pred))"
   ]
  },
  {
   "cell_type": "markdown",
   "metadata": {},
   "source": [
    "# **K-Neighbors Classifier**"
   ]
  },
  {
   "cell_type": "code",
   "execution_count": 20,
   "metadata": {},
   "outputs": [],
   "source": [
    "from sklearn.neighbors import KNeighborsClassifier\n",
    "kneigh = KNeighborsClassifier()\n",
    "kneigh = kneigh.fit(X_train_resample, y_train_resample)\n",
    "y_pred = kneigh.predict(X_test)"
   ]
  },
  {
   "cell_type": "code",
   "execution_count": 21,
   "metadata": {},
   "outputs": [
    {
     "name": "stdout",
     "output_type": "stream",
     "text": [
      "Accuracy: 0.6606666666666666\n",
      "F1_Score: 0.6890765258584497\n",
      "AUC: 0.6452990408920006\n"
     ]
    }
   ],
   "source": [
    "# Model Accuracy, how often is the classifier correct?\n",
    "print(\"Accuracy:\",metrics.accuracy_score(y_test, y_pred))\n",
    "print(\"F1_Score:\",f1_score(y_test, y_pred, average='weighted'))\n",
    "print(\"AUC:\",roc_auc_score(y_test, y_pred))"
   ]
  },
  {
   "cell_type": "markdown",
   "metadata": {},
   "source": [
    "# **ADA Classifier**"
   ]
  },
  {
   "cell_type": "code",
   "execution_count": 22,
   "metadata": {},
   "outputs": [],
   "source": [
    "from sklearn.ensemble import AdaBoostClassifier\n",
    "ADA = AdaBoostClassifier(n_estimators=70, random_state=2019)\n",
    "ADA = ADA.fit(X_train_resample, y_train_resample)\n",
    "y_pred = ADA.predict(X_test)"
   ]
  },
  {
   "cell_type": "code",
   "execution_count": 23,
   "metadata": {},
   "outputs": [
    {
     "name": "stdout",
     "output_type": "stream",
     "text": [
      "Accuracy: 0.7585333333333333\n",
      "F1_Score: 0.7714263264158171\n",
      "AUC: 0.7097294034818175\n"
     ]
    }
   ],
   "source": [
    "# Model Accuracy, how often is the classifier correct?\n",
    "print(\"Accuracy:\",metrics.accuracy_score(y_test, y_pred))\n",
    "print(\"F1_Score:\",f1_score(y_test, y_pred, average='weighted'))\n",
    "print(\"AUC:\",roc_auc_score(y_test, y_pred))"
   ]
  },
  {
   "cell_type": "code",
   "execution_count": 24,
   "metadata": {},
   "outputs": [],
   "source": [
    "# **Random Forest** "
   ]
  },
  {
   "cell_type": "code",
   "execution_count": 25,
   "metadata": {},
   "outputs": [],
   "source": [
    "#from sklearn.ensemble import RandomForestClassifier\n",
    "#clf = RandomForestClassifier(n_estimators=100)\n",
    "\n",
    "#clf.fit(X_train_resample, y_train_resample)\n",
    "\n",
    "#y_pred = clf.predict(X_test)"
   ]
  },
  {
   "cell_type": "code",
   "execution_count": 26,
   "metadata": {},
   "outputs": [],
   "source": [
    "# Model Accuracy, how often is the classifier correct?\n",
    "#print(\"Accuracy:\",metrics.accuracy_score(y_test, y_pred))\n",
    "#print(\"F1_Score:\",f1_score(y_test, y_pred, average='weighted'))\n",
    "#print(\"AUC:\",roc_auc_score(y_test, y_pred))"
   ]
  },
  {
   "cell_type": "code",
   "execution_count": null,
   "metadata": {},
   "outputs": [],
   "source": []
  }
 ],
 "metadata": {
  "kernelspec": {
   "display_name": "Python 3",
   "language": "python",
   "name": "python3"
  },
  "language_info": {
   "codemirror_mode": {
    "name": "ipython",
    "version": 3
   },
   "file_extension": ".py",
   "mimetype": "text/x-python",
   "name": "python",
   "nbconvert_exporter": "python",
   "pygments_lexer": "ipython3",
   "version": "3.6.5"
  }
 },
 "nbformat": 4,
 "nbformat_minor": 2
}

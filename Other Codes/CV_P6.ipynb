{
 "cells": [
  {
   "cell_type": "markdown",
   "metadata": {},
   "source": [
    "# **Cross-Validation & Modeling**"
   ]
  },
  {
   "cell_type": "code",
   "execution_count": 1,
   "metadata": {},
   "outputs": [],
   "source": [
    "import numpy as np \n",
    "import pandas as pd\n",
    "import matplotlib.pyplot as plt\n",
    "import seaborn as sns\n",
    "%matplotlib inline\n",
    "plt.style.use('ggplot')"
   ]
  },
  {
   "cell_type": "code",
   "execution_count": 2,
   "metadata": {},
   "outputs": [],
   "source": [
    "from sklearn.model_selection import train_test_split\n",
    "from sklearn import metrics \n",
    "from sklearn import model_selection\n",
    "from sklearn.model_selection import cross_val_score"
   ]
  },
  {
   "cell_type": "code",
   "execution_count": 3,
   "metadata": {},
   "outputs": [
    {
     "data": {
      "text/html": [
       "<div>\n",
       "<style scoped>\n",
       "    .dataframe tbody tr th:only-of-type {\n",
       "        vertical-align: middle;\n",
       "    }\n",
       "\n",
       "    .dataframe tbody tr th {\n",
       "        vertical-align: top;\n",
       "    }\n",
       "\n",
       "    .dataframe thead th {\n",
       "        text-align: right;\n",
       "    }\n",
       "</style>\n",
       "<table border=\"1\" class=\"dataframe\">\n",
       "  <thead>\n",
       "    <tr style=\"text-align: right;\">\n",
       "      <th></th>\n",
       "      <th>X2</th>\n",
       "      <th>X3</th>\n",
       "      <th>X4</th>\n",
       "      <th>X5_Bins</th>\n",
       "      <th>X6_BI</th>\n",
       "      <th>X7_BI</th>\n",
       "      <th>X8_BI</th>\n",
       "      <th>X9_BI</th>\n",
       "      <th>X10_BI</th>\n",
       "      <th>X11_BI</th>\n",
       "      <th>...</th>\n",
       "      <th>X22_BI</th>\n",
       "      <th>X23_BI</th>\n",
       "      <th>X1</th>\n",
       "      <th>X12_ABS</th>\n",
       "      <th>X13_ABS</th>\n",
       "      <th>X14_ABS</th>\n",
       "      <th>X15_ABS</th>\n",
       "      <th>X16_ABS</th>\n",
       "      <th>X17_ABS</th>\n",
       "      <th>Y</th>\n",
       "    </tr>\n",
       "  </thead>\n",
       "  <tbody>\n",
       "    <tr>\n",
       "      <th>2</th>\n",
       "      <td>2</td>\n",
       "      <td>2</td>\n",
       "      <td>2</td>\n",
       "      <td>0</td>\n",
       "      <td>0</td>\n",
       "      <td>1</td>\n",
       "      <td>0</td>\n",
       "      <td>0</td>\n",
       "      <td>0</td>\n",
       "      <td>1</td>\n",
       "      <td>...</td>\n",
       "      <td>0</td>\n",
       "      <td>1</td>\n",
       "      <td>0.539312</td>\n",
       "      <td>0.564787</td>\n",
       "      <td>0.448541</td>\n",
       "      <td>0.452568</td>\n",
       "      <td>0.476104</td>\n",
       "      <td>0.495677</td>\n",
       "      <td>0.504543</td>\n",
       "      <td>1</td>\n",
       "    </tr>\n",
       "    <tr>\n",
       "      <th>3</th>\n",
       "      <td>2</td>\n",
       "      <td>2</td>\n",
       "      <td>2</td>\n",
       "      <td>1</td>\n",
       "      <td>0</td>\n",
       "      <td>0</td>\n",
       "      <td>0</td>\n",
       "      <td>0</td>\n",
       "      <td>0</td>\n",
       "      <td>0</td>\n",
       "      <td>...</td>\n",
       "      <td>1</td>\n",
       "      <td>1</td>\n",
       "      <td>0.428052</td>\n",
       "      <td>0.661555</td>\n",
       "      <td>0.677011</td>\n",
       "      <td>0.695874</td>\n",
       "      <td>0.597415</td>\n",
       "      <td>0.617920</td>\n",
       "      <td>0.624935</td>\n",
       "      <td>0</td>\n",
       "    </tr>\n",
       "    <tr>\n",
       "      <th>4</th>\n",
       "      <td>2</td>\n",
       "      <td>2</td>\n",
       "      <td>1</td>\n",
       "      <td>1</td>\n",
       "      <td>0</td>\n",
       "      <td>0</td>\n",
       "      <td>0</td>\n",
       "      <td>0</td>\n",
       "      <td>0</td>\n",
       "      <td>0</td>\n",
       "      <td>...</td>\n",
       "      <td>1</td>\n",
       "      <td>1</td>\n",
       "      <td>0.428052</td>\n",
       "      <td>0.375851</td>\n",
       "      <td>0.331646</td>\n",
       "      <td>0.625716</td>\n",
       "      <td>0.540258</td>\n",
       "      <td>0.538308</td>\n",
       "      <td>0.540642</td>\n",
       "      <td>0</td>\n",
       "    </tr>\n",
       "    <tr>\n",
       "      <th>5</th>\n",
       "      <td>1</td>\n",
       "      <td>2</td>\n",
       "      <td>1</td>\n",
       "      <td>2</td>\n",
       "      <td>0</td>\n",
       "      <td>0</td>\n",
       "      <td>0</td>\n",
       "      <td>0</td>\n",
       "      <td>0</td>\n",
       "      <td>0</td>\n",
       "      <td>...</td>\n",
       "      <td>1</td>\n",
       "      <td>1</td>\n",
       "      <td>0.428052</td>\n",
       "      <td>0.734840</td>\n",
       "      <td>0.716057</td>\n",
       "      <td>0.732997</td>\n",
       "      <td>0.526621</td>\n",
       "      <td>0.542705</td>\n",
       "      <td>0.548927</td>\n",
       "      <td>0</td>\n",
       "    </tr>\n",
       "    <tr>\n",
       "      <th>6</th>\n",
       "      <td>1</td>\n",
       "      <td>1</td>\n",
       "      <td>2</td>\n",
       "      <td>1</td>\n",
       "      <td>0</td>\n",
       "      <td>0</td>\n",
       "      <td>0</td>\n",
       "      <td>0</td>\n",
       "      <td>0</td>\n",
       "      <td>0</td>\n",
       "      <td>...</td>\n",
       "      <td>1</td>\n",
       "      <td>1</td>\n",
       "      <td>0.986753</td>\n",
       "      <td>0.745061</td>\n",
       "      <td>0.744032</td>\n",
       "      <td>0.743738</td>\n",
       "      <td>0.743413</td>\n",
       "      <td>0.742378</td>\n",
       "      <td>0.740974</td>\n",
       "      <td>0</td>\n",
       "    </tr>\n",
       "  </tbody>\n",
       "</table>\n",
       "<p>5 rows × 36 columns</p>\n",
       "</div>"
      ],
      "text/plain": [
       "   X2  X3  X4  X5_Bins  X6_BI  X7_BI  X8_BI  X9_BI  X10_BI  X11_BI ...  \\\n",
       "2   2   2   2        0      0      1      0      0       0       1 ...   \n",
       "3   2   2   2        1      0      0      0      0       0       0 ...   \n",
       "4   2   2   1        1      0      0      0      0       0       0 ...   \n",
       "5   1   2   1        2      0      0      0      0       0       0 ...   \n",
       "6   1   1   2        1      0      0      0      0       0       0 ...   \n",
       "\n",
       "   X22_BI  X23_BI        X1   X12_ABS   X13_ABS   X14_ABS   X15_ABS   X16_ABS  \\\n",
       "2       0       1  0.539312  0.564787  0.448541  0.452568  0.476104  0.495677   \n",
       "3       1       1  0.428052  0.661555  0.677011  0.695874  0.597415  0.617920   \n",
       "4       1       1  0.428052  0.375851  0.331646  0.625716  0.540258  0.538308   \n",
       "5       1       1  0.428052  0.734840  0.716057  0.732997  0.526621  0.542705   \n",
       "6       1       1  0.986753  0.745061  0.744032  0.743738  0.743413  0.742378   \n",
       "\n",
       "    X17_ABS  Y  \n",
       "2  0.504543  1  \n",
       "3  0.624935  0  \n",
       "4  0.540642  0  \n",
       "5  0.548927  0  \n",
       "6  0.740974  0  \n",
       "\n",
       "[5 rows x 36 columns]"
      ]
     },
     "execution_count": 3,
     "metadata": {},
     "output_type": "execute_result"
    }
   ],
   "source": [
    "# Importing Excel file, calling the DataFrame comp_df\n",
    "df = pd.read_csv('Final6', header=0, index_col=0)\n",
    "# Checking import \n",
    "df.head(5)"
   ]
  },
  {
   "cell_type": "code",
   "execution_count": 4,
   "metadata": {},
   "outputs": [],
   "source": [
    "X = df.iloc[:,:-1] # Features\n",
    "y = df.Y # Target variable"
   ]
  },
  {
   "cell_type": "markdown",
   "metadata": {},
   "source": [
    "# **Balancing Data**"
   ]
  },
  {
   "cell_type": "code",
   "execution_count": 5,
   "metadata": {},
   "outputs": [],
   "source": [
    "from imblearn.over_sampling import RandomOverSampler\n",
    "ros = RandomOverSampler(random_state=2019)\n",
    "X_resample, y_resample = ros.fit_resample(X, y)"
   ]
  },
  {
   "cell_type": "markdown",
   "metadata": {},
   "source": [
    "# **AdaBoostClassifier with Cross Validation**"
   ]
  },
  {
   "cell_type": "code",
   "execution_count": 8,
   "metadata": {},
   "outputs": [
    {
     "name": "stdout",
     "output_type": "stream",
     "text": [
      "[0.72779799 0.73314787 0.7316499  0.74662957 0.77487695 0.76481917\n",
      " 0.64733576 0.54868393 0.54794521 0.55693493]\n",
      "0.6779821288280974\n"
     ]
    }
   ],
   "source": [
    "from sklearn.ensemble import AdaBoostClassifier\n",
    "seed = 2019\n",
    "num_trees = 70\n",
    "kfold = model_selection.KFold(n_splits=10, random_state=seed)\n",
    "model = AdaBoostClassifier(n_estimators=num_trees, random_state=seed)\n",
    "results = model_selection.cross_val_score(model, X_resample, y_resample, cv=kfold)\n",
    "print(results)\n",
    "print(results.mean())"
   ]
  },
  {
   "cell_type": "markdown",
   "metadata": {},
   "source": [
    "# **Decision Tree with Cross Validation**"
   ]
  },
  {
   "cell_type": "code",
   "execution_count": 10,
   "metadata": {},
   "outputs": [
    {
     "name": "stdout",
     "output_type": "stream",
     "text": [
      "0.8876904639616504\n",
      "              precision    recall  f1-score   support\n",
      "\n",
      "           0       0.98      0.79      0.88     23364\n",
      "           1       0.83      0.98      0.90     23364\n",
      "\n",
      "   micro avg       0.89      0.89      0.89     46728\n",
      "   macro avg       0.90      0.89      0.89     46728\n",
      "weighted avg       0.90      0.89      0.89     46728\n",
      "\n"
     ]
    }
   ],
   "source": [
    "# Import Decision Tree Classifier  \n",
    "from sklearn.tree import DecisionTreeClassifier\n",
    "\n",
    "# Create Decision Tree Classifier Object \n",
    "clf = DecisionTreeClassifier()\n",
    "clf = clf.fit(X_resample, y_resample)\n",
    "\n",
    "kfold = model_selection.KFold(n_splits=10, random_state=seed)\n",
    "\n",
    "predicted = model_selection.cross_val_predict(clf, X_resample, y_resample, cv=kfold)\n",
    "\n",
    "print(metrics.accuracy_score(y_resample, predicted))\n",
    "#print(cross_val_score(clf, X_resample, y_resample, cv=10, scoring='roc_auc').mean())\n",
    "print(metrics.classification_report(y_resample, predicted))"
   ]
  },
  {
   "cell_type": "code",
   "execution_count": 11,
   "metadata": {},
   "outputs": [],
   "source": [
    "# **Decision Tree using TPOT Suggestion**"
   ]
  },
  {
   "cell_type": "code",
   "execution_count": 14,
   "metadata": {},
   "outputs": [
    {
     "name": "stdout",
     "output_type": "stream",
     "text": [
      "0.6922829994863893\n",
      "              precision    recall  f1-score   support\n",
      "\n",
      "           0       0.66      0.79      0.72     23364\n",
      "           1       0.74      0.60      0.66     23364\n",
      "\n",
      "   micro avg       0.69      0.69      0.69     46728\n",
      "   macro avg       0.70      0.69      0.69     46728\n",
      "weighted avg       0.70      0.69      0.69     46728\n",
      "\n"
     ]
    }
   ],
   "source": [
    "# Import Decision Tree Classifier  \n",
    "from sklearn.tree import DecisionTreeClassifier\n",
    "\n",
    "# Create Decision Tree Classifier Object \n",
    "clf = DecisionTreeClassifier(criterion=\"entropy\", max_depth=6, min_samples_leaf=3, min_samples_split=4)\n",
    "clf = clf.fit(X_resample, y_resample)\n",
    "\n",
    "kfold = model_selection.KFold(n_splits=10, random_state=seed)\n",
    "\n",
    "predicted = model_selection.cross_val_predict(clf, X_resample, y_resample, cv=kfold)\n",
    "\n",
    "print(metrics.accuracy_score(y_resample, predicted))\n",
    "#print(cross_val_score(clf, X_resample, y_resample, cv=10, scoring='roc_auc').mean())\n",
    "print(metrics.classification_report(y_resample, predicted))"
   ]
  },
  {
   "cell_type": "markdown",
   "metadata": {},
   "source": [
    "# **Logistic Regression with Cross Validation**"
   ]
  },
  {
   "cell_type": "code",
   "execution_count": 8,
   "metadata": {},
   "outputs": [
    {
     "name": "stdout",
     "output_type": "stream",
     "text": [
      "[0.73271988 0.73443184 0.72843997 0.74684357 0.77765889 0.76160924\n",
      " 0.65482559 0.55232185 0.5505137  0.56035959]\n",
      "0.6799724132952638\n"
     ]
    }
   ],
   "source": [
    "# import the class\n",
    "from sklearn.linear_model import LogisticRegression\n",
    "\n",
    "logreg = LogisticRegression(solver='liblinear')\n",
    "logreg = logreg.fit(X_resample,y_resample)\n",
    "\n",
    "kfold = model_selection.KFold(n_splits=10, random_state=seed)\n",
    "\n",
    "results = model_selection.cross_val_score(logreg, X_resample, y_resample, cv=kfold)\n",
    "print(results)\n",
    "print(results.mean())"
   ]
  },
  {
   "cell_type": "markdown",
   "metadata": {},
   "source": [
    "# **SVC with Cross**"
   ]
  },
  {
   "cell_type": "code",
   "execution_count": null,
   "metadata": {},
   "outputs": [],
   "source": [
    "from sklearn.svm import SVC  \n",
    "svclassifier = SVC(kernel='rbf', gamma='auto')  #Kernel=rbf, non-linearly separable data\n",
    "svclassifier = svclassifier.fit(X_resample, y_resample)\n",
    "\n",
    "kfold = model_selection.KFold(n_splits=10, random_state=seed)\n",
    "\n",
    "results = model_selection.cross_val_score(svclassifier, X_resample, y_resample, cv=kfold)\n",
    "print(results)\n",
    "print(results.mean())"
   ]
  },
  {
   "cell_type": "code",
   "execution_count": null,
   "metadata": {},
   "outputs": [],
   "source": []
  }
 ],
 "metadata": {
  "kernelspec": {
   "display_name": "Python 3",
   "language": "python",
   "name": "python3"
  },
  "language_info": {
   "codemirror_mode": {
    "name": "ipython",
    "version": 3
   },
   "file_extension": ".py",
   "mimetype": "text/x-python",
   "name": "python",
   "nbconvert_exporter": "python",
   "pygments_lexer": "ipython3",
   "version": "3.6.5"
  }
 },
 "nbformat": 4,
 "nbformat_minor": 2
}

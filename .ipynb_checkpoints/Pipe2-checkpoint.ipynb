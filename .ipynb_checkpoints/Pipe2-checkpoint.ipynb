{
 "cells": [
  {
   "cell_type": "code",
   "execution_count": 1,
   "metadata": {},
   "outputs": [],
   "source": [
    "# Importing necessary packages \n",
    "import numpy as np \n",
    "import pandas as pd\n",
    "import matplotlib.pyplot as plt\n",
    "%matplotlib inline\n",
    "plt.style.use('ggplot')\n",
    "from scipy.stats import iqr\n",
    "from sklearn import preprocessing"
   ]
  },
  {
   "cell_type": "code",
   "execution_count": 2,
   "metadata": {},
   "outputs": [
    {
     "data": {
      "text/html": [
       "<div>\n",
       "<style scoped>\n",
       "    .dataframe tbody tr th:only-of-type {\n",
       "        vertical-align: middle;\n",
       "    }\n",
       "\n",
       "    .dataframe tbody tr th {\n",
       "        vertical-align: top;\n",
       "    }\n",
       "\n",
       "    .dataframe thead th {\n",
       "        text-align: right;\n",
       "    }\n",
       "</style>\n",
       "<table border=\"1\" class=\"dataframe\">\n",
       "  <thead>\n",
       "    <tr style=\"text-align: right;\">\n",
       "      <th></th>\n",
       "      <th>X1</th>\n",
       "      <th>X2</th>\n",
       "      <th>X3</th>\n",
       "      <th>X4</th>\n",
       "      <th>X5</th>\n",
       "      <th>X6</th>\n",
       "      <th>X7</th>\n",
       "      <th>X8</th>\n",
       "      <th>X9</th>\n",
       "      <th>X10</th>\n",
       "      <th>...</th>\n",
       "      <th>X15</th>\n",
       "      <th>X16</th>\n",
       "      <th>X17</th>\n",
       "      <th>X18</th>\n",
       "      <th>X19</th>\n",
       "      <th>X20</th>\n",
       "      <th>X21</th>\n",
       "      <th>X22</th>\n",
       "      <th>X23</th>\n",
       "      <th>Y</th>\n",
       "    </tr>\n",
       "  </thead>\n",
       "  <tbody>\n",
       "    <tr>\n",
       "      <th>1</th>\n",
       "      <td>20000</td>\n",
       "      <td>2</td>\n",
       "      <td>2</td>\n",
       "      <td>1</td>\n",
       "      <td>24</td>\n",
       "      <td>2</td>\n",
       "      <td>2</td>\n",
       "      <td>-1</td>\n",
       "      <td>-1</td>\n",
       "      <td>-2</td>\n",
       "      <td>...</td>\n",
       "      <td>0</td>\n",
       "      <td>0</td>\n",
       "      <td>0</td>\n",
       "      <td>0</td>\n",
       "      <td>689</td>\n",
       "      <td>0</td>\n",
       "      <td>0</td>\n",
       "      <td>0</td>\n",
       "      <td>0</td>\n",
       "      <td>1</td>\n",
       "    </tr>\n",
       "    <tr>\n",
       "      <th>2</th>\n",
       "      <td>120000</td>\n",
       "      <td>2</td>\n",
       "      <td>2</td>\n",
       "      <td>2</td>\n",
       "      <td>26</td>\n",
       "      <td>-1</td>\n",
       "      <td>2</td>\n",
       "      <td>0</td>\n",
       "      <td>0</td>\n",
       "      <td>0</td>\n",
       "      <td>...</td>\n",
       "      <td>3272</td>\n",
       "      <td>3455</td>\n",
       "      <td>3261</td>\n",
       "      <td>0</td>\n",
       "      <td>1000</td>\n",
       "      <td>1000</td>\n",
       "      <td>1000</td>\n",
       "      <td>0</td>\n",
       "      <td>2000</td>\n",
       "      <td>1</td>\n",
       "    </tr>\n",
       "    <tr>\n",
       "      <th>3</th>\n",
       "      <td>90000</td>\n",
       "      <td>2</td>\n",
       "      <td>2</td>\n",
       "      <td>2</td>\n",
       "      <td>34</td>\n",
       "      <td>0</td>\n",
       "      <td>0</td>\n",
       "      <td>0</td>\n",
       "      <td>0</td>\n",
       "      <td>0</td>\n",
       "      <td>...</td>\n",
       "      <td>14331</td>\n",
       "      <td>14948</td>\n",
       "      <td>15549</td>\n",
       "      <td>1518</td>\n",
       "      <td>1500</td>\n",
       "      <td>1000</td>\n",
       "      <td>1000</td>\n",
       "      <td>1000</td>\n",
       "      <td>5000</td>\n",
       "      <td>0</td>\n",
       "    </tr>\n",
       "    <tr>\n",
       "      <th>4</th>\n",
       "      <td>50000</td>\n",
       "      <td>2</td>\n",
       "      <td>2</td>\n",
       "      <td>1</td>\n",
       "      <td>37</td>\n",
       "      <td>0</td>\n",
       "      <td>0</td>\n",
       "      <td>0</td>\n",
       "      <td>0</td>\n",
       "      <td>0</td>\n",
       "      <td>...</td>\n",
       "      <td>28314</td>\n",
       "      <td>28959</td>\n",
       "      <td>29547</td>\n",
       "      <td>2000</td>\n",
       "      <td>2019</td>\n",
       "      <td>1200</td>\n",
       "      <td>1100</td>\n",
       "      <td>1069</td>\n",
       "      <td>1000</td>\n",
       "      <td>0</td>\n",
       "    </tr>\n",
       "    <tr>\n",
       "      <th>5</th>\n",
       "      <td>50000</td>\n",
       "      <td>1</td>\n",
       "      <td>2</td>\n",
       "      <td>1</td>\n",
       "      <td>57</td>\n",
       "      <td>-1</td>\n",
       "      <td>0</td>\n",
       "      <td>-1</td>\n",
       "      <td>0</td>\n",
       "      <td>0</td>\n",
       "      <td>...</td>\n",
       "      <td>20940</td>\n",
       "      <td>19146</td>\n",
       "      <td>19131</td>\n",
       "      <td>2000</td>\n",
       "      <td>36681</td>\n",
       "      <td>10000</td>\n",
       "      <td>9000</td>\n",
       "      <td>689</td>\n",
       "      <td>679</td>\n",
       "      <td>0</td>\n",
       "    </tr>\n",
       "    <tr>\n",
       "      <th>6</th>\n",
       "      <td>50000</td>\n",
       "      <td>1</td>\n",
       "      <td>1</td>\n",
       "      <td>2</td>\n",
       "      <td>37</td>\n",
       "      <td>0</td>\n",
       "      <td>0</td>\n",
       "      <td>0</td>\n",
       "      <td>0</td>\n",
       "      <td>0</td>\n",
       "      <td>...</td>\n",
       "      <td>19394</td>\n",
       "      <td>19619</td>\n",
       "      <td>20024</td>\n",
       "      <td>2500</td>\n",
       "      <td>1815</td>\n",
       "      <td>657</td>\n",
       "      <td>1000</td>\n",
       "      <td>1000</td>\n",
       "      <td>800</td>\n",
       "      <td>0</td>\n",
       "    </tr>\n",
       "    <tr>\n",
       "      <th>7</th>\n",
       "      <td>500000</td>\n",
       "      <td>1</td>\n",
       "      <td>1</td>\n",
       "      <td>2</td>\n",
       "      <td>29</td>\n",
       "      <td>0</td>\n",
       "      <td>0</td>\n",
       "      <td>0</td>\n",
       "      <td>0</td>\n",
       "      <td>0</td>\n",
       "      <td>...</td>\n",
       "      <td>542653</td>\n",
       "      <td>483003</td>\n",
       "      <td>473944</td>\n",
       "      <td>55000</td>\n",
       "      <td>40000</td>\n",
       "      <td>38000</td>\n",
       "      <td>20239</td>\n",
       "      <td>13750</td>\n",
       "      <td>13770</td>\n",
       "      <td>0</td>\n",
       "    </tr>\n",
       "    <tr>\n",
       "      <th>8</th>\n",
       "      <td>100000</td>\n",
       "      <td>2</td>\n",
       "      <td>2</td>\n",
       "      <td>2</td>\n",
       "      <td>23</td>\n",
       "      <td>0</td>\n",
       "      <td>-1</td>\n",
       "      <td>-1</td>\n",
       "      <td>0</td>\n",
       "      <td>0</td>\n",
       "      <td>...</td>\n",
       "      <td>221</td>\n",
       "      <td>-159</td>\n",
       "      <td>567</td>\n",
       "      <td>380</td>\n",
       "      <td>601</td>\n",
       "      <td>0</td>\n",
       "      <td>581</td>\n",
       "      <td>1687</td>\n",
       "      <td>1542</td>\n",
       "      <td>0</td>\n",
       "    </tr>\n",
       "    <tr>\n",
       "      <th>9</th>\n",
       "      <td>140000</td>\n",
       "      <td>2</td>\n",
       "      <td>3</td>\n",
       "      <td>1</td>\n",
       "      <td>28</td>\n",
       "      <td>0</td>\n",
       "      <td>0</td>\n",
       "      <td>2</td>\n",
       "      <td>0</td>\n",
       "      <td>0</td>\n",
       "      <td>...</td>\n",
       "      <td>12211</td>\n",
       "      <td>11793</td>\n",
       "      <td>3719</td>\n",
       "      <td>3329</td>\n",
       "      <td>0</td>\n",
       "      <td>432</td>\n",
       "      <td>1000</td>\n",
       "      <td>1000</td>\n",
       "      <td>1000</td>\n",
       "      <td>0</td>\n",
       "    </tr>\n",
       "    <tr>\n",
       "      <th>10</th>\n",
       "      <td>20000</td>\n",
       "      <td>1</td>\n",
       "      <td>3</td>\n",
       "      <td>2</td>\n",
       "      <td>35</td>\n",
       "      <td>-2</td>\n",
       "      <td>-2</td>\n",
       "      <td>-2</td>\n",
       "      <td>-2</td>\n",
       "      <td>-1</td>\n",
       "      <td>...</td>\n",
       "      <td>0</td>\n",
       "      <td>13007</td>\n",
       "      <td>13912</td>\n",
       "      <td>0</td>\n",
       "      <td>0</td>\n",
       "      <td>0</td>\n",
       "      <td>13007</td>\n",
       "      <td>1122</td>\n",
       "      <td>0</td>\n",
       "      <td>0</td>\n",
       "    </tr>\n",
       "    <tr>\n",
       "      <th>11</th>\n",
       "      <td>200000</td>\n",
       "      <td>2</td>\n",
       "      <td>3</td>\n",
       "      <td>2</td>\n",
       "      <td>34</td>\n",
       "      <td>0</td>\n",
       "      <td>0</td>\n",
       "      <td>2</td>\n",
       "      <td>0</td>\n",
       "      <td>0</td>\n",
       "      <td>...</td>\n",
       "      <td>2513</td>\n",
       "      <td>1828</td>\n",
       "      <td>3731</td>\n",
       "      <td>2306</td>\n",
       "      <td>12</td>\n",
       "      <td>50</td>\n",
       "      <td>300</td>\n",
       "      <td>3738</td>\n",
       "      <td>66</td>\n",
       "      <td>0</td>\n",
       "    </tr>\n",
       "    <tr>\n",
       "      <th>12</th>\n",
       "      <td>260000</td>\n",
       "      <td>2</td>\n",
       "      <td>1</td>\n",
       "      <td>2</td>\n",
       "      <td>51</td>\n",
       "      <td>-1</td>\n",
       "      <td>-1</td>\n",
       "      <td>-1</td>\n",
       "      <td>-1</td>\n",
       "      <td>-1</td>\n",
       "      <td>...</td>\n",
       "      <td>8517</td>\n",
       "      <td>22287</td>\n",
       "      <td>13668</td>\n",
       "      <td>21818</td>\n",
       "      <td>9966</td>\n",
       "      <td>8583</td>\n",
       "      <td>22301</td>\n",
       "      <td>0</td>\n",
       "      <td>3640</td>\n",
       "      <td>0</td>\n",
       "    </tr>\n",
       "    <tr>\n",
       "      <th>13</th>\n",
       "      <td>630000</td>\n",
       "      <td>2</td>\n",
       "      <td>2</td>\n",
       "      <td>2</td>\n",
       "      <td>41</td>\n",
       "      <td>-1</td>\n",
       "      <td>0</td>\n",
       "      <td>-1</td>\n",
       "      <td>-1</td>\n",
       "      <td>-1</td>\n",
       "      <td>...</td>\n",
       "      <td>6500</td>\n",
       "      <td>6500</td>\n",
       "      <td>2870</td>\n",
       "      <td>1000</td>\n",
       "      <td>6500</td>\n",
       "      <td>6500</td>\n",
       "      <td>6500</td>\n",
       "      <td>2870</td>\n",
       "      <td>0</td>\n",
       "      <td>0</td>\n",
       "    </tr>\n",
       "    <tr>\n",
       "      <th>14</th>\n",
       "      <td>70000</td>\n",
       "      <td>1</td>\n",
       "      <td>2</td>\n",
       "      <td>2</td>\n",
       "      <td>30</td>\n",
       "      <td>1</td>\n",
       "      <td>2</td>\n",
       "      <td>2</td>\n",
       "      <td>0</td>\n",
       "      <td>0</td>\n",
       "      <td>...</td>\n",
       "      <td>66782</td>\n",
       "      <td>36137</td>\n",
       "      <td>36894</td>\n",
       "      <td>3200</td>\n",
       "      <td>0</td>\n",
       "      <td>3000</td>\n",
       "      <td>3000</td>\n",
       "      <td>1500</td>\n",
       "      <td>0</td>\n",
       "      <td>1</td>\n",
       "    </tr>\n",
       "    <tr>\n",
       "      <th>15</th>\n",
       "      <td>250000</td>\n",
       "      <td>1</td>\n",
       "      <td>1</td>\n",
       "      <td>2</td>\n",
       "      <td>29</td>\n",
       "      <td>0</td>\n",
       "      <td>0</td>\n",
       "      <td>0</td>\n",
       "      <td>0</td>\n",
       "      <td>0</td>\n",
       "      <td>...</td>\n",
       "      <td>59696</td>\n",
       "      <td>56875</td>\n",
       "      <td>55512</td>\n",
       "      <td>3000</td>\n",
       "      <td>3000</td>\n",
       "      <td>3000</td>\n",
       "      <td>3000</td>\n",
       "      <td>3000</td>\n",
       "      <td>3000</td>\n",
       "      <td>0</td>\n",
       "    </tr>\n",
       "  </tbody>\n",
       "</table>\n",
       "<p>15 rows × 24 columns</p>\n",
       "</div>"
      ],
      "text/plain": [
       "        X1 X2 X3 X4  X5  X6  X7  X8  X9 X10 ...     X15     X16     X17  \\\n",
       "1    20000  2  2  1  24   2   2  -1  -1  -2 ...       0       0       0   \n",
       "2   120000  2  2  2  26  -1   2   0   0   0 ...    3272    3455    3261   \n",
       "3    90000  2  2  2  34   0   0   0   0   0 ...   14331   14948   15549   \n",
       "4    50000  2  2  1  37   0   0   0   0   0 ...   28314   28959   29547   \n",
       "5    50000  1  2  1  57  -1   0  -1   0   0 ...   20940   19146   19131   \n",
       "6    50000  1  1  2  37   0   0   0   0   0 ...   19394   19619   20024   \n",
       "7   500000  1  1  2  29   0   0   0   0   0 ...  542653  483003  473944   \n",
       "8   100000  2  2  2  23   0  -1  -1   0   0 ...     221    -159     567   \n",
       "9   140000  2  3  1  28   0   0   2   0   0 ...   12211   11793    3719   \n",
       "10   20000  1  3  2  35  -2  -2  -2  -2  -1 ...       0   13007   13912   \n",
       "11  200000  2  3  2  34   0   0   2   0   0 ...    2513    1828    3731   \n",
       "12  260000  2  1  2  51  -1  -1  -1  -1  -1 ...    8517   22287   13668   \n",
       "13  630000  2  2  2  41  -1   0  -1  -1  -1 ...    6500    6500    2870   \n",
       "14   70000  1  2  2  30   1   2   2   0   0 ...   66782   36137   36894   \n",
       "15  250000  1  1  2  29   0   0   0   0   0 ...   59696   56875   55512   \n",
       "\n",
       "      X18    X19    X20    X21    X22    X23  Y  \n",
       "1       0    689      0      0      0      0  1  \n",
       "2       0   1000   1000   1000      0   2000  1  \n",
       "3    1518   1500   1000   1000   1000   5000  0  \n",
       "4    2000   2019   1200   1100   1069   1000  0  \n",
       "5    2000  36681  10000   9000    689    679  0  \n",
       "6    2500   1815    657   1000   1000    800  0  \n",
       "7   55000  40000  38000  20239  13750  13770  0  \n",
       "8     380    601      0    581   1687   1542  0  \n",
       "9    3329      0    432   1000   1000   1000  0  \n",
       "10      0      0      0  13007   1122      0  0  \n",
       "11   2306     12     50    300   3738     66  0  \n",
       "12  21818   9966   8583  22301      0   3640  0  \n",
       "13   1000   6500   6500   6500   2870      0  0  \n",
       "14   3200      0   3000   3000   1500      0  1  \n",
       "15   3000   3000   3000   3000   3000   3000  0  \n",
       "\n",
       "[15 rows x 24 columns]"
      ]
     },
     "execution_count": 2,
     "metadata": {},
     "output_type": "execute_result"
    }
   ],
   "source": [
    "# Importing Excel file, calling the DataFrame comp_df\n",
    "df = pd.read_excel(\"default.xls\", index_col=0, header=0)\n",
    "df = df.iloc[1:, :]\n",
    "# Checking import \n",
    "df.head(15)"
   ]
  },
  {
   "cell_type": "code",
   "execution_count": 3,
   "metadata": {},
   "outputs": [
    {
     "name": "stdout",
     "output_type": "stream",
     "text": [
      "<class 'pandas.core.frame.DataFrame'>\n",
      "Index: 30000 entries, 1 to 30000\n",
      "Data columns (total 24 columns):\n",
      "X1     30000 non-null int64\n",
      "X2     30000 non-null int64\n",
      "X3     30000 non-null int64\n",
      "X4     30000 non-null int64\n",
      "X5     30000 non-null int64\n",
      "X6     30000 non-null int64\n",
      "X7     30000 non-null int64\n",
      "X8     30000 non-null int64\n",
      "X9     30000 non-null int64\n",
      "X10    30000 non-null int64\n",
      "X11    30000 non-null int64\n",
      "X12    30000 non-null int64\n",
      "X13    30000 non-null int64\n",
      "X14    30000 non-null int64\n",
      "X15    30000 non-null int64\n",
      "X16    30000 non-null int64\n",
      "X17    30000 non-null int64\n",
      "X18    30000 non-null int64\n",
      "X19    30000 non-null int64\n",
      "X20    30000 non-null int64\n",
      "X21    30000 non-null int64\n",
      "X22    30000 non-null int64\n",
      "X23    30000 non-null int64\n",
      "Y      30000 non-null int64\n",
      "dtypes: int64(24)\n",
      "memory usage: 5.7+ MB\n"
     ]
    }
   ],
   "source": [
    "# Changing data type to float \n",
    "df = df.astype(int)\n",
    "df.info()"
   ]
  },
  {
   "cell_type": "code",
   "execution_count": 4,
   "metadata": {},
   "outputs": [
    {
     "name": "stdout",
     "output_type": "stream",
     "text": [
      "[0, 0, 0, 0, 0, 0, 0, 0, 0, 0, 0, 0, 0, 0, 0, 0, 0, 0, 0, 0, 0, 0, 0, 0]\n"
     ]
    }
   ],
   "source": [
    "# checking for null values \n",
    "print(df.isnull().sum(axis=0).tolist())"
   ]
  },
  {
   "cell_type": "code",
   "execution_count": 5,
   "metadata": {},
   "outputs": [
    {
     "data": {
      "text/html": [
       "<div>\n",
       "<style scoped>\n",
       "    .dataframe tbody tr th:only-of-type {\n",
       "        vertical-align: middle;\n",
       "    }\n",
       "\n",
       "    .dataframe tbody tr th {\n",
       "        vertical-align: top;\n",
       "    }\n",
       "\n",
       "    .dataframe thead th {\n",
       "        text-align: right;\n",
       "    }\n",
       "</style>\n",
       "<table border=\"1\" class=\"dataframe\">\n",
       "  <thead>\n",
       "    <tr style=\"text-align: right;\">\n",
       "      <th></th>\n",
       "      <th>Y</th>\n",
       "    </tr>\n",
       "  </thead>\n",
       "  <tbody>\n",
       "    <tr>\n",
       "      <th>1</th>\n",
       "      <td>1</td>\n",
       "    </tr>\n",
       "    <tr>\n",
       "      <th>2</th>\n",
       "      <td>1</td>\n",
       "    </tr>\n",
       "    <tr>\n",
       "      <th>3</th>\n",
       "      <td>0</td>\n",
       "    </tr>\n",
       "    <tr>\n",
       "      <th>4</th>\n",
       "      <td>0</td>\n",
       "    </tr>\n",
       "    <tr>\n",
       "      <th>5</th>\n",
       "      <td>0</td>\n",
       "    </tr>\n",
       "  </tbody>\n",
       "</table>\n",
       "</div>"
      ],
      "text/plain": [
       "   Y\n",
       "1  1\n",
       "2  1\n",
       "3  0\n",
       "4  0\n",
       "5  0"
      ]
     },
     "execution_count": 5,
     "metadata": {},
     "output_type": "execute_result"
    }
   ],
   "source": [
    "# Separating Target from rest of data \n",
    "target = df.iloc[:, -1:]\n",
    "\n",
    "# Taking target out of main dataframe \n",
    "df = df.iloc[:, :-1]\n",
    "target.head()"
   ]
  },
  {
   "cell_type": "code",
   "execution_count": 6,
   "metadata": {},
   "outputs": [],
   "source": [
    "# Defining functin to replace outliers using IQR of each column\n",
    "def outlier_replace(x): \n",
    "    if x > (Q3 + (1.5*IQR)): \n",
    "        x = Q3\n",
    "    elif x < (Q1 - (1.5*IQR)): \n",
    "        x = Q1\n",
    "    else: \n",
    "        pass\n",
    "    return(x)"
   ]
  },
  {
   "cell_type": "code",
   "execution_count": 7,
   "metadata": {},
   "outputs": [
    {
     "data": {
      "text/plain": [
       "Text(0.5, 1.0, 'Fixed Outliers')"
      ]
     },
     "execution_count": 7,
     "metadata": {},
     "output_type": "execute_result"
    },
    {
     "data": {
      "image/png": "[encoded data removed]",
      "text/plain": [
       "<Figure size 432x288 with 1 Axes>"
      ]
     },
     "metadata": {},
     "output_type": "display_data"
    }
   ],
   "source": [
    "Q1 = df['X1'].quantile(0.25)\n",
    "Q3 = df['X1'].quantile(0.75)\n",
    "IQR = iqr(df['X1'])\n",
    "df['X1'] = df['X1'].apply(lambda x: outlier_replace(x)) \n",
    "\n",
    "# Checking Outliers Replacement with Boxplot \n",
    "plt.boxplot(df['X1'])\n",
    "plt.title(\"Fixed Outliers\")"
   ]
  },
  {
   "cell_type": "code",
   "execution_count": 8,
   "metadata": {},
   "outputs": [
    {
     "data": {
      "text/plain": [
       "Text(0.5, 1.0, 'Fixed Outliers')"
      ]
     },
     "execution_count": 8,
     "metadata": {},
     "output_type": "execute_result"
    },
    {
     "data": {
      "image/png": "[encoded data removed]",
      "text/plain": [
       "<Figure size 432x288 with 1 Axes>"
      ]
     },
     "metadata": {},
     "output_type": "display_data"
    }
   ],
   "source": [
    "Q1 = df['X5'].quantile(0.25)\n",
    "Q3 = df['X5'].quantile(0.75)\n",
    "IQR = iqr(df['X5'])\n",
    "df['X5'] = df['X5'].apply(lambda x: outlier_replace(x)) \n",
    "\n",
    "# Checking Outliers Replacement with Boxplot \n",
    "plt.boxplot(df['X5'])\n",
    "plt.title(\"Fixed Outliers\")"
   ]
  },
  {
   "cell_type": "code",
   "execution_count": 9,
   "metadata": {},
   "outputs": [
    {
     "data": {
      "text/plain": [
       "Text(0.5, 1.0, 'Fixed Outliers')"
      ]
     },
     "execution_count": 9,
     "metadata": {},
     "output_type": "execute_result"
    },
    {
     "data": {
      "image/png": "[encoded data removed]",
      "text/plain": [
       "<Figure size 432x288 with 1 Axes>"
      ]
     },
     "metadata": {},
     "output_type": "display_data"
    }
   ],
   "source": [
    "Q1 = df['X12'].quantile(0.25)\n",
    "Q3 = df['X12'].quantile(0.75)\n",
    "IQR = iqr(df['X12'])\n",
    "df['X12'] = df['X12'].apply(lambda x: outlier_replace(x)) \n",
    "\n",
    "# Checking Outliers Replacement with Boxplot \n",
    "plt.boxplot(df['X12'])\n",
    "plt.title(\"Fixed Outliers\")"
   ]
  },
  {
   "cell_type": "code",
   "execution_count": 10,
   "metadata": {},
   "outputs": [
    {
     "data": {
      "text/plain": [
       "Text(0.5, 1.0, 'Fixed Outliers')"
      ]
     },
     "execution_count": 10,
     "metadata": {},
     "output_type": "execute_result"
    },
    {
     "data": {
      "image/png": "[encoded data removed]",
      "text/plain": [
       "<Figure size 432x288 with 1 Axes>"
      ]
     },
     "metadata": {},
     "output_type": "display_data"
    }
   ],
   "source": [
    "Q1 = df['X13'].quantile(0.25)\n",
    "Q3 = df['X13'].quantile(0.75)\n",
    "IQR = iqr(df['X13'])\n",
    "df['X13'] = df['X13'].apply(lambda x: outlier_replace(x)) \n",
    "\n",
    "# Checking Outliers Replacement with Boxplot \n",
    "plt.boxplot(df['X13'])\n",
    "plt.title(\"Fixed Outliers\")"
   ]
  },
  {
   "cell_type": "code",
   "execution_count": 11,
   "metadata": {},
   "outputs": [
    {
     "data": {
      "text/plain": [
       "Text(0.5, 1.0, 'Fixed Outliers')"
      ]
     },
     "execution_count": 11,
     "metadata": {},
     "output_type": "execute_result"
    },
    {
     "data": {
      "image/png": "[encoded data removed]",
      "text/plain": [
       "<Figure size 432x288 with 1 Axes>"
      ]
     },
     "metadata": {},
     "output_type": "display_data"
    }
   ],
   "source": [
    "Q1 = df['X14'].quantile(0.25)\n",
    "Q3 = df['X14'].quantile(0.75)\n",
    "IQR = iqr(df['X14'])\n",
    "df['X14'] = df['X14'].apply(lambda x: outlier_replace(x)) \n",
    "\n",
    "# Checking Outliers Replacement with Boxplot \n",
    "plt.boxplot(df['X14'])\n",
    "plt.title(\"Fixed Outliers\")"
   ]
  },
  {
   "cell_type": "code",
   "execution_count": 12,
   "metadata": {},
   "outputs": [
    {
     "data": {
      "text/plain": [
       "Text(0.5, 1.0, 'Fixed Outliers')"
      ]
     },
     "execution_count": 12,
     "metadata": {},
     "output_type": "execute_result"
    },
    {
     "data": {
      "image/png": "[encoded data removed]",
      "text/plain": [
       "<Figure size 432x288 with 1 Axes>"
      ]
     },
     "metadata": {},
     "output_type": "display_data"
    }
   ],
   "source": [
    "Q1 = df['X15'].quantile(0.25)\n",
    "Q3 = df['X15'].quantile(0.75)\n",
    "IQR = iqr(df['X15'])\n",
    "df['X15'] = df['X15'].apply(lambda x: outlier_replace(x)) \n",
    "\n",
    "# Checking Outliers Replacement with Boxplot \n",
    "plt.boxplot(df['X15'])\n",
    "plt.title(\"Fixed Outliers\")"
   ]
  },
  {
   "cell_type": "code",
   "execution_count": 13,
   "metadata": {},
   "outputs": [
    {
     "data": {
      "text/plain": [
       "Text(0.5, 1.0, 'Fixed Outliers')"
      ]
     },
     "execution_count": 13,
     "metadata": {},
     "output_type": "execute_result"
    },
    {
     "data": {
      "image/png": "[encoded data removed]",
      "text/plain": [
       "<Figure size 432x288 with 1 Axes>"
      ]
     },
     "metadata": {},
     "output_type": "display_data"
    }
   ],
   "source": [
    "Q1 = df['X16'].quantile(0.25)\n",
    "Q3 = df['X16'].quantile(0.75)\n",
    "IQR = iqr(df['X16'])\n",
    "df['X16'] = df['X16'].apply(lambda x: outlier_replace(x)) \n",
    "\n",
    "# Checking Outliers Replacement with Boxplot \n",
    "plt.boxplot(df['X16'])\n",
    "plt.title(\"Fixed Outliers\")"
   ]
  },
  {
   "cell_type": "code",
   "execution_count": 14,
   "metadata": {},
   "outputs": [
    {
     "data": {
      "text/plain": [
       "Text(0.5, 1.0, 'Fixed Outliers')"
      ]
     },
     "execution_count": 14,
     "metadata": {},
     "output_type": "execute_result"
    },
    {
     "data": {
      "image/png": "[encoded data removed]",
      "text/plain": [
       "<Figure size 432x288 with 1 Axes>"
      ]
     },
     "metadata": {},
     "output_type": "display_data"
    }
   ],
   "source": [
    "Q1 = df['X17'].quantile(0.25)\n",
    "Q3 = df['X17'].quantile(0.75)\n",
    "IQR = iqr(df['X17'])\n",
    "df['X17'] = df['X17'].apply(lambda x: outlier_replace(x)) \n",
    "\n",
    "# Checking Outliers Replacement with Boxplot \n",
    "plt.boxplot(df['X17'])\n",
    "plt.title(\"Fixed Outliers\")"
   ]
  },
  {
   "cell_type": "code",
   "execution_count": 15,
   "metadata": {},
   "outputs": [
    {
     "data": {
      "text/plain": [
       "Text(0.5, 1.0, 'Fixed Outliers')"
      ]
     },
     "execution_count": 15,
     "metadata": {},
     "output_type": "execute_result"
    },
    {
     "data": {
      "image/png": "[encoded data removed]",
      "text/plain": [
       "<Figure size 432x288 with 1 Axes>"
      ]
     },
     "metadata": {},
     "output_type": "display_data"
    }
   ],
   "source": [
    "Q1 = df['X18'].quantile(0.25)\n",
    "Q3 = df['X18'].quantile(0.75)\n",
    "IQR = iqr(df['X18'])\n",
    "df['X18'] = df['X18'].apply(lambda x: outlier_replace(x)) \n",
    "\n",
    "# Checking Outliers Replacement with Boxplot \n",
    "plt.boxplot(df['X18'])\n",
    "plt.title(\"Fixed Outliers\")"
   ]
  },
  {
   "cell_type": "code",
   "execution_count": 16,
   "metadata": {},
   "outputs": [
    {
     "data": {
      "text/plain": [
       "Text(0.5, 1.0, 'Fixed Outliers')"
      ]
     },
     "execution_count": 16,
     "metadata": {},
     "output_type": "execute_result"
    },
    {
     "data": {
      "image/png": "[encoded data removed]",
      "text/plain": [
       "<Figure size 432x288 with 1 Axes>"
      ]
     },
     "metadata": {},
     "output_type": "display_data"
    }
   ],
   "source": [
    "Q1 = df['X19'].quantile(0.25)\n",
    "Q3 = df['X19'].quantile(0.75)\n",
    "IQR = iqr(df['X19'])\n",
    "df['X19'] = df['X19'].apply(lambda x: outlier_replace(x)) \n",
    "\n",
    "# Checking Outliers Replacement with Boxplot \n",
    "plt.boxplot(df['X19'])\n",
    "plt.title(\"Fixed Outliers\")"
   ]
  },
  {
   "cell_type": "code",
   "execution_count": 17,
   "metadata": {},
   "outputs": [
    {
     "data": {
      "text/plain": [
       "Text(0.5, 1.0, 'Fixed Outliers')"
      ]
     },
     "execution_count": 17,
     "metadata": {},
     "output_type": "execute_result"
    },
    {
     "data": {
      "image/png": "[encoded data removed]",
      "text/plain": [
       "<Figure size 432x288 with 1 Axes>"
      ]
     },
     "metadata": {},
     "output_type": "display_data"
    }
   ],
   "source": [
    "Q1 = df['X20'].quantile(0.25)\n",
    "Q3 = df['X20'].quantile(0.75)\n",
    "IQR = iqr(df['X20'])\n",
    "df['X20'] = df['X20'].apply(lambda x: outlier_replace(x)) \n",
    "\n",
    "# Checking Outliers Replacement with Boxplot \n",
    "plt.boxplot(df['X20'])\n",
    "plt.title(\"Fixed Outliers\")"
   ]
  },
  {
   "cell_type": "code",
   "execution_count": 18,
   "metadata": {},
   "outputs": [
    {
     "data": {
      "text/plain": [
       "Text(0.5, 1.0, 'Fixed Outliers')"
      ]
     },
     "execution_count": 18,
     "metadata": {},
     "output_type": "execute_result"
    },
    {
     "data": {
      "image/png": "[encoded data removed]",
      "text/plain": [
       "<Figure size 432x288 with 1 Axes>"
      ]
     },
     "metadata": {},
     "output_type": "display_data"
    }
   ],
   "source": [
    "Q1 = df['X21'].quantile(0.25)\n",
    "Q3 = df['X21'].quantile(0.75)\n",
    "IQR = iqr(df['X21'])\n",
    "df['X21'] = df['X21'].apply(lambda x: outlier_replace(x)) \n",
    "\n",
    "# Checking Outliers Replacement with Boxplot \n",
    "plt.boxplot(df['X21'])\n",
    "plt.title(\"Fixed Outliers\")"
   ]
  },
  {
   "cell_type": "code",
   "execution_count": 19,
   "metadata": {},
   "outputs": [
    {
     "data": {
      "text/plain": [
       "Text(0.5, 1.0, 'Fixed Outliers')"
      ]
     },
     "execution_count": 19,
     "metadata": {},
     "output_type": "execute_result"
    },
    {
     "data": {
      "image/png": "[encoded data removed]",
      "text/plain": [
       "<Figure size 432x288 with 1 Axes>"
      ]
     },
     "metadata": {},
     "output_type": "display_data"
    }
   ],
   "source": [
    "Q1 = df['X22'].quantile(0.25)\n",
    "Q3 = df['X22'].quantile(0.75)\n",
    "IQR = iqr(df['X22'])\n",
    "df['X22'] = df['X22'].apply(lambda x: outlier_replace(x)) \n",
    "\n",
    "# Checking Outliers Replacement with Boxplot \n",
    "plt.boxplot(df['X22'])\n",
    "plt.title(\"Fixed Outliers\")"
   ]
  },
  {
   "cell_type": "code",
   "execution_count": 20,
   "metadata": {},
   "outputs": [
    {
     "data": {
      "text/plain": [
       "Text(0.5, 1.0, 'Fixed Outliers')"
      ]
     },
     "execution_count": 20,
     "metadata": {},
     "output_type": "execute_result"
    },
    {
     "data": {
      "image/png": "[encoded data removed]",
      "text/plain": [
       "<Figure size 432x288 with 1 Axes>"
      ]
     },
     "metadata": {},
     "output_type": "display_data"
    }
   ],
   "source": [
    "Q1 = df['X23'].quantile(0.25)\n",
    "Q3 = df['X23'].quantile(0.75)\n",
    "IQR = iqr(df['X23'])\n",
    "df['X23'] = df['X23'].apply(lambda x: outlier_replace(x)) \n",
    "\n",
    "# Checking Outliers Replacement with Boxplot \n",
    "plt.boxplot(df['X23'])\n",
    "plt.title(\"Fixed Outliers\")"
   ]
  },
  {
   "cell_type": "code",
   "execution_count": 21,
   "metadata": {},
   "outputs": [
    {
     "data": {
      "text/plain": [
       "['X1',\n",
       " 'X2',\n",
       " 'X3',\n",
       " 'X4',\n",
       " 'X5',\n",
       " 'X6',\n",
       " 'X7',\n",
       " 'X8',\n",
       " 'X9',\n",
       " 'X10',\n",
       " 'X11',\n",
       " 'X12',\n",
       " 'X13',\n",
       " 'X14',\n",
       " 'X15',\n",
       " 'X16',\n",
       " 'X17',\n",
       " 'X18',\n",
       " 'X19',\n",
       " 'X20',\n",
       " 'X21',\n",
       " 'X22',\n",
       " 'X23']"
      ]
     },
     "execution_count": 21,
     "metadata": {},
     "output_type": "execute_result"
    }
   ],
   "source": [
    "cols = df.columns.values.tolist()\n",
    "cols"
   ]
  },
  {
   "cell_type": "code",
   "execution_count": 22,
   "metadata": {},
   "outputs": [],
   "source": [
    "from sklearn.preprocessing import MinMaxScaler\n",
    "minmax = preprocessing.MinMaxScaler()\n",
    "df = (minmax.fit_transform(df))\n",
    "df = pd.DataFrame(df, columns=cols)"
   ]
  },
  {
   "cell_type": "code",
   "execution_count": 23,
   "metadata": {},
   "outputs": [
    {
     "data": {
      "text/html": [
       "<div>\n",
       "<style scoped>\n",
       "    .dataframe tbody tr th:only-of-type {\n",
       "        vertical-align: middle;\n",
       "    }\n",
       "\n",
       "    .dataframe tbody tr th {\n",
       "        vertical-align: top;\n",
       "    }\n",
       "\n",
       "    .dataframe thead th {\n",
       "        text-align: right;\n",
       "    }\n",
       "</style>\n",
       "<table border=\"1\" class=\"dataframe\">\n",
       "  <thead>\n",
       "    <tr style=\"text-align: right;\">\n",
       "      <th></th>\n",
       "      <th>X1</th>\n",
       "      <th>X2</th>\n",
       "      <th>X3</th>\n",
       "      <th>X4</th>\n",
       "      <th>X5</th>\n",
       "      <th>X6</th>\n",
       "      <th>X7</th>\n",
       "      <th>X8</th>\n",
       "      <th>X9</th>\n",
       "      <th>X10</th>\n",
       "      <th>...</th>\n",
       "      <th>X14</th>\n",
       "      <th>X15</th>\n",
       "      <th>X16</th>\n",
       "      <th>X17</th>\n",
       "      <th>X18</th>\n",
       "      <th>X19</th>\n",
       "      <th>X20</th>\n",
       "      <th>X21</th>\n",
       "      <th>X22</th>\n",
       "      <th>X23</th>\n",
       "    </tr>\n",
       "  </thead>\n",
       "  <tbody>\n",
       "    <tr>\n",
       "      <th>0</th>\n",
       "      <td>0.019608</td>\n",
       "      <td>1.0</td>\n",
       "      <td>0.333333</td>\n",
       "      <td>0.333333</td>\n",
       "      <td>0.076923</td>\n",
       "      <td>0.4</td>\n",
       "      <td>0.4</td>\n",
       "      <td>0.1</td>\n",
       "      <td>0.1</td>\n",
       "      <td>0.0</td>\n",
       "      <td>...</td>\n",
       "      <td>0.299135</td>\n",
       "      <td>0.329258</td>\n",
       "      <td>0.333178</td>\n",
       "      <td>0.320342</td>\n",
       "      <td>0.000000</td>\n",
       "      <td>0.061250</td>\n",
       "      <td>0.000000</td>\n",
       "      <td>0.000000</td>\n",
       "      <td>0.000000</td>\n",
       "      <td>0.000000</td>\n",
       "    </tr>\n",
       "    <tr>\n",
       "      <th>1</th>\n",
       "      <td>0.215686</td>\n",
       "      <td>1.0</td>\n",
       "      <td>0.333333</td>\n",
       "      <td>0.666667</td>\n",
       "      <td>0.128205</td>\n",
       "      <td>0.1</td>\n",
       "      <td>0.4</td>\n",
       "      <td>0.2</td>\n",
       "      <td>0.2</td>\n",
       "      <td>0.2</td>\n",
       "      <td>...</td>\n",
       "      <td>0.308721</td>\n",
       "      <td>0.345789</td>\n",
       "      <td>0.351934</td>\n",
       "      <td>0.338650</td>\n",
       "      <td>0.000000</td>\n",
       "      <td>0.088897</td>\n",
       "      <td>0.093694</td>\n",
       "      <td>0.104341</td>\n",
       "      <td>0.000000</td>\n",
       "      <td>0.203728</td>\n",
       "    </tr>\n",
       "    <tr>\n",
       "      <th>2</th>\n",
       "      <td>0.156863</td>\n",
       "      <td>1.0</td>\n",
       "      <td>0.333333</td>\n",
       "      <td>0.666667</td>\n",
       "      <td>0.333333</td>\n",
       "      <td>0.2</td>\n",
       "      <td>0.2</td>\n",
       "      <td>0.2</td>\n",
       "      <td>0.2</td>\n",
       "      <td>0.2</td>\n",
       "      <td>...</td>\n",
       "      <td>0.361035</td>\n",
       "      <td>0.401665</td>\n",
       "      <td>0.414328</td>\n",
       "      <td>0.407636</td>\n",
       "      <td>0.137837</td>\n",
       "      <td>0.133345</td>\n",
       "      <td>0.093694</td>\n",
       "      <td>0.104341</td>\n",
       "      <td>0.103093</td>\n",
       "      <td>0.509321</td>\n",
       "    </tr>\n",
       "    <tr>\n",
       "      <th>3</th>\n",
       "      <td>0.078431</td>\n",
       "      <td>1.0</td>\n",
       "      <td>0.333333</td>\n",
       "      <td>0.333333</td>\n",
       "      <td>0.410256</td>\n",
       "      <td>0.2</td>\n",
       "      <td>0.2</td>\n",
       "      <td>0.2</td>\n",
       "      <td>0.2</td>\n",
       "      <td>0.2</td>\n",
       "      <td>...</td>\n",
       "      <td>0.532893</td>\n",
       "      <td>0.472315</td>\n",
       "      <td>0.490391</td>\n",
       "      <td>0.486223</td>\n",
       "      <td>0.181604</td>\n",
       "      <td>0.179483</td>\n",
       "      <td>0.112433</td>\n",
       "      <td>0.114775</td>\n",
       "      <td>0.110206</td>\n",
       "      <td>0.101864</td>\n",
       "    </tr>\n",
       "    <tr>\n",
       "      <th>4</th>\n",
       "      <td>0.078431</td>\n",
       "      <td>0.0</td>\n",
       "      <td>0.333333</td>\n",
       "      <td>0.333333</td>\n",
       "      <td>0.923077</td>\n",
       "      <td>0.1</td>\n",
       "      <td>0.2</td>\n",
       "      <td>0.1</td>\n",
       "      <td>0.2</td>\n",
       "      <td>0.2</td>\n",
       "      <td>...</td>\n",
       "      <td>0.468175</td>\n",
       "      <td>0.435057</td>\n",
       "      <td>0.437118</td>\n",
       "      <td>0.427746</td>\n",
       "      <td>0.181604</td>\n",
       "      <td>0.444484</td>\n",
       "      <td>0.936944</td>\n",
       "      <td>0.939065</td>\n",
       "      <td>0.071031</td>\n",
       "      <td>0.069166</td>\n",
       "    </tr>\n",
       "  </tbody>\n",
       "</table>\n",
       "<p>5 rows × 23 columns</p>\n",
       "</div>"
      ],
      "text/plain": [
       "         X1   X2        X3        X4        X5   X6   X7   X8   X9  X10  \\\n",
       "0  0.019608  1.0  0.333333  0.333333  0.076923  0.4  0.4  0.1  0.1  0.0   \n",
       "1  0.215686  1.0  0.333333  0.666667  0.128205  0.1  0.4  0.2  0.2  0.2   \n",
       "2  0.156863  1.0  0.333333  0.666667  0.333333  0.2  0.2  0.2  0.2  0.2   \n",
       "3  0.078431  1.0  0.333333  0.333333  0.410256  0.2  0.2  0.2  0.2  0.2   \n",
       "4  0.078431  0.0  0.333333  0.333333  0.923077  0.1  0.2  0.1  0.2  0.2   \n",
       "\n",
       "     ...          X14       X15       X16       X17       X18       X19  \\\n",
       "0    ...     0.299135  0.329258  0.333178  0.320342  0.000000  0.061250   \n",
       "1    ...     0.308721  0.345789  0.351934  0.338650  0.000000  0.088897   \n",
       "2    ...     0.361035  0.401665  0.414328  0.407636  0.137837  0.133345   \n",
       "3    ...     0.532893  0.472315  0.490391  0.486223  0.181604  0.179483   \n",
       "4    ...     0.468175  0.435057  0.437118  0.427746  0.181604  0.444484   \n",
       "\n",
       "        X20       X21       X22       X23  \n",
       "0  0.000000  0.000000  0.000000  0.000000  \n",
       "1  0.093694  0.104341  0.000000  0.203728  \n",
       "2  0.093694  0.104341  0.103093  0.509321  \n",
       "3  0.112433  0.114775  0.110206  0.101864  \n",
       "4  0.936944  0.939065  0.071031  0.069166  \n",
       "\n",
       "[5 rows x 23 columns]"
      ]
     },
     "execution_count": 23,
     "metadata": {},
     "output_type": "execute_result"
    }
   ],
   "source": [
    "df.head()"
   ]
  },
  {
   "cell_type": "code",
   "execution_count": 24,
   "metadata": {},
   "outputs": [
    {
     "data": {
      "text/plain": [
       "X1     0.873682\n",
       "X2    -0.424183\n",
       "X3     0.970972\n",
       "X4    -0.018742\n",
       "X5     0.578144\n",
       "X6     0.731975\n",
       "X7     0.790565\n",
       "X8     0.840682\n",
       "X9     0.999629\n",
       "X10    1.008197\n",
       "X11    0.948029\n",
       "X12    1.125061\n",
       "X13    1.125451\n",
       "X14    1.135420\n",
       "X15    1.141995\n",
       "X16    1.151097\n",
       "X17    1.168303\n",
       "X18    0.932274\n",
       "X19    0.996433\n",
       "X20    1.122634\n",
       "X21    0.998876\n",
       "X22    0.995168\n",
       "X23    1.012478\n",
       "dtype: float64"
      ]
     },
     "execution_count": 24,
     "metadata": {},
     "output_type": "execute_result"
    }
   ],
   "source": [
    "df.skew()"
   ]
  },
  {
   "cell_type": "code",
   "execution_count": 25,
   "metadata": {},
   "outputs": [
    {
     "data": {
      "text/plain": [
       "-0.3673569837277125"
      ]
     },
     "execution_count": 25,
     "metadata": {},
     "output_type": "execute_result"
    },
    {
     "data": {
      "image/png": "[encoded data removed]",
      "text/plain": [
       "<Figure size 432x288 with 1 Axes>"
      ]
     },
     "metadata": {},
     "output_type": "display_data"
    }
   ],
   "source": [
    "df['X1'] = np.cbrt(df['X1'])\n",
    "plt.hist(df['X1'])\n",
    "plt.title(\"Fixed Shew\")\n",
    "df['X1'].skew()"
   ]
  },
  {
   "cell_type": "code",
   "execution_count": 26,
   "metadata": {},
   "outputs": [
    {
     "data": {
      "text/plain": [
       "-0.39240446025775794"
      ]
     },
     "execution_count": 26,
     "metadata": {},
     "output_type": "execute_result"
    },
    {
     "data": {
      "image/png": "[encoded data removed]",
      "text/plain": [
       "<Figure size 432x288 with 1 Axes>"
      ]
     },
     "metadata": {},
     "output_type": "display_data"
    }
   ],
   "source": [
    "df['X5'] = np.cbrt(df['X5'])\n",
    "plt.hist(df['X5'])\n",
    "plt.title(\"Fixed Shew\")\n",
    "df['X5'].skew()"
   ]
  },
  {
   "cell_type": "code",
   "execution_count": 27,
   "metadata": {},
   "outputs": [
    {
     "data": {
      "text/plain": [
       "0.46186655716186215"
      ]
     },
     "execution_count": 27,
     "metadata": {},
     "output_type": "execute_result"
    },
    {
     "data": {
      "image/png": "[encoded data removed]",
      "text/plain": [
       "<Figure size 432x288 with 1 Axes>"
      ]
     },
     "metadata": {},
     "output_type": "display_data"
    }
   ],
   "source": [
    "df['X12'] = np.cbrt(df['X12'])\n",
    "plt.hist(df['X12'])\n",
    "plt.title(\"Fixed Shew\")\n",
    "df['X12'].skew()"
   ]
  },
  {
   "cell_type": "code",
   "execution_count": 28,
   "metadata": {},
   "outputs": [
    {
     "data": {
      "text/plain": [
       "0.7373715321786604"
      ]
     },
     "execution_count": 28,
     "metadata": {},
     "output_type": "execute_result"
    },
    {
     "data": {
      "image/png": "[encoded data removed]",
      "text/plain": [
       "<Figure size 432x288 with 1 Axes>"
      ]
     },
     "metadata": {},
     "output_type": "display_data"
    }
   ],
   "source": [
    "df['X13'] = np.cbrt(df['X13'])\n",
    "plt.hist(df['X13'])\n",
    "plt.title(\"Fixed Shew\")\n",
    "df['X13'].skew()"
   ]
  },
  {
   "cell_type": "code",
   "execution_count": 29,
   "metadata": {},
   "outputs": [
    {
     "data": {
      "text/plain": [
       "0.7404624720308154"
      ]
     },
     "execution_count": 29,
     "metadata": {},
     "output_type": "execute_result"
    },
    {
     "data": {
      "image/png": "[encoded data removed]",
      "text/plain": [
       "<Figure size 432x288 with 1 Axes>"
      ]
     },
     "metadata": {},
     "output_type": "display_data"
    }
   ],
   "source": [
    "df['X14'] = np.cbrt(df['X14'])\n",
    "plt.hist(df['X14'])\n",
    "plt.title(\"Fixed Shew\")\n",
    "df['X14'].skew()"
   ]
  },
  {
   "cell_type": "code",
   "execution_count": 30,
   "metadata": {},
   "outputs": [
    {
     "data": {
      "text/plain": [
       "0.7639590693841847"
      ]
     },
     "execution_count": 30,
     "metadata": {},
     "output_type": "execute_result"
    },
    {
     "data": {
      "image/png": "[encoded data removed]",
      "text/plain": [
       "<Figure size 432x288 with 1 Axes>"
      ]
     },
     "metadata": {},
     "output_type": "display_data"
    }
   ],
   "source": [
    "df['X15'] = np.cbrt(df['X15'])\n",
    "plt.hist(df['X15'])\n",
    "plt.title(\"Fixed Shew\")\n",
    "df['X15'].skew()"
   ]
  },
  {
   "cell_type": "code",
   "execution_count": 31,
   "metadata": {},
   "outputs": [
    {
     "data": {
      "text/plain": [
       "0.7686068041331622"
      ]
     },
     "execution_count": 31,
     "metadata": {},
     "output_type": "execute_result"
    },
    {
     "data": {
      "image/png": "[encoded data removed]",
      "text/plain": [
       "<Figure size 432x288 with 1 Axes>"
      ]
     },
     "metadata": {},
     "output_type": "display_data"
    }
   ],
   "source": [
    "df['X16'] = np.cbrt(df['X16'])\n",
    "plt.hist(df['X16'])\n",
    "plt.title(\"Fixed Shew\")\n",
    "df['X16'].skew()"
   ]
  },
  {
   "cell_type": "code",
   "execution_count": 32,
   "metadata": {},
   "outputs": [
    {
     "data": {
      "text/plain": [
       "0.771093406739133"
      ]
     },
     "execution_count": 32,
     "metadata": {},
     "output_type": "execute_result"
    },
    {
     "data": {
      "image/png": "[encoded data removed]",
      "text/plain": [
       "<Figure size 432x288 with 1 Axes>"
      ]
     },
     "metadata": {},
     "output_type": "display_data"
    }
   ],
   "source": [
    "df['X17'] = np.cbrt(df['X17'])\n",
    "plt.hist(df['X17'])\n",
    "plt.title(\"Fixed Shew\")\n",
    "df['X17'].skew()"
   ]
  },
  {
   "cell_type": "code",
   "execution_count": 33,
   "metadata": {},
   "outputs": [
    {
     "data": {
      "text/plain": [
       "-0.7422227315865716"
      ]
     },
     "execution_count": 33,
     "metadata": {},
     "output_type": "execute_result"
    },
    {
     "data": {
      "image/png": "[encoded data removed]",
      "text/plain": [
       "<Figure size 432x288 with 1 Axes>"
      ]
     },
     "metadata": {},
     "output_type": "display_data"
    }
   ],
   "source": [
    "df['X18'] = np.cbrt(df['X18'])\n",
    "plt.hist(df['X18'])\n",
    "plt.title(\"Fixed Shew\")\n",
    "df['X18'].skew()"
   ]
  },
  {
   "cell_type": "code",
   "execution_count": 34,
   "metadata": {},
   "outputs": [
    {
     "data": {
      "text/plain": [
       "-0.6971577341842635"
      ]
     },
     "execution_count": 34,
     "metadata": {},
     "output_type": "execute_result"
    },
    {
     "data": {
      "image/png": "[encoded data removed]",
      "text/plain": [
       "<Figure size 432x288 with 1 Axes>"
      ]
     },
     "metadata": {},
     "output_type": "display_data"
    }
   ],
   "source": [
    "df['X19'] = np.cbrt(df['X19'])\n",
    "plt.hist(df['X19'])\n",
    "plt.title(\"Fixed Shew\")\n",
    "df['X19'].skew()"
   ]
  },
  {
   "cell_type": "code",
   "execution_count": 35,
   "metadata": {},
   "outputs": [
    {
     "data": {
      "text/plain": [
       "-0.5365294917331601"
      ]
     },
     "execution_count": 35,
     "metadata": {},
     "output_type": "execute_result"
    },
    {
     "data": {
      "image/png": "[encoded data removed]",
      "text/plain": [
       "<Figure size 432x288 with 1 Axes>"
      ]
     },
     "metadata": {},
     "output_type": "display_data"
    }
   ],
   "source": [
    "df['X20'] = np.cbrt(df['X20'])\n",
    "plt.hist(df['X20'])\n",
    "plt.title(\"Fixed Shew\")\n",
    "df['X20'].skew()"
   ]
  },
  {
   "cell_type": "code",
   "execution_count": 36,
   "metadata": {},
   "outputs": [
    {
     "data": {
      "text/plain": [
       "-0.4913159270271235"
      ]
     },
     "execution_count": 36,
     "metadata": {},
     "output_type": "execute_result"
    },
    {
     "data": {
      "image/png": "[encoded data removed]",
      "text/plain": [
       "<Figure size 432x288 with 1 Axes>"
      ]
     },
     "metadata": {},
     "output_type": "display_data"
    }
   ],
   "source": [
    "df['X21'] = np.cbrt(df['X21'])\n",
    "plt.hist(df['X21'])\n",
    "plt.title(\"Fixed Shew\")\n",
    "df['X21'].skew()"
   ]
  },
  {
   "cell_type": "code",
   "execution_count": 37,
   "metadata": {},
   "outputs": [
    {
     "data": {
      "text/plain": [
       "-0.48573021680124506"
      ]
     },
     "execution_count": 37,
     "metadata": {},
     "output_type": "execute_result"
    },
    {
     "data": {
      "image/png": "[encoded data removed]",
      "text/plain": [
       "<Figure size 432x288 with 1 Axes>"
      ]
     },
     "metadata": {},
     "output_type": "display_data"
    }
   ],
   "source": [
    "df['X22'] = np.cbrt(df['X22'])\n",
    "plt.hist(df['X22'])\n",
    "plt.title(\"Fixed Shew\")\n",
    "df['X22'].skew()"
   ]
  },
  {
   "cell_type": "code",
   "execution_count": 38,
   "metadata": {},
   "outputs": [
    {
     "data": {
      "text/plain": [
       "-0.44737669549752174"
      ]
     },
     "execution_count": 38,
     "metadata": {},
     "output_type": "execute_result"
    },
    {
     "data": {
      "image/png": "[encoded data removed]",
      "text/plain": [
       "<Figure size 432x288 with 1 Axes>"
      ]
     },
     "metadata": {},
     "output_type": "display_data"
    }
   ],
   "source": [
    "df['X23'] = np.cbrt(df['X23'])\n",
    "plt.hist(df['X23'])\n",
    "plt.title(\"Fixed Shew\")\n",
    "df['X23'].skew()"
   ]
  },
  {
   "cell_type": "code",
   "execution_count": 39,
   "metadata": {},
   "outputs": [
    {
     "data": {
      "text/plain": [
       "X1    -0.367357\n",
       "X2    -0.424183\n",
       "X3     0.970972\n",
       "X4    -0.018742\n",
       "X5    -0.392404\n",
       "X6     0.731975\n",
       "X7     0.790565\n",
       "X8     0.840682\n",
       "X9     0.999629\n",
       "X10    1.008197\n",
       "X11    0.948029\n",
       "X12    0.461867\n",
       "X13    0.737372\n",
       "X14    0.740462\n",
       "X15    0.763959\n",
       "X16    0.768607\n",
       "X17    0.771093\n",
       "X18   -0.742223\n",
       "X19   -0.697158\n",
       "X20   -0.536529\n",
       "X21   -0.491316\n",
       "X22   -0.485730\n",
       "X23   -0.447377\n",
       "dtype: float64"
      ]
     },
     "execution_count": 39,
     "metadata": {},
     "output_type": "execute_result"
    }
   ],
   "source": [
    "df.skew()"
   ]
  },
  {
   "cell_type": "code",
   "execution_count": 40,
   "metadata": {},
   "outputs": [
    {
     "data": {
      "text/html": [
       "<div>\n",
       "<style scoped>\n",
       "    .dataframe tbody tr th:only-of-type {\n",
       "        vertical-align: middle;\n",
       "    }\n",
       "\n",
       "    .dataframe tbody tr th {\n",
       "        vertical-align: top;\n",
       "    }\n",
       "\n",
       "    .dataframe thead th {\n",
       "        text-align: right;\n",
       "    }\n",
       "</style>\n",
       "<table border=\"1\" class=\"dataframe\">\n",
       "  <thead>\n",
       "    <tr style=\"text-align: right;\">\n",
       "      <th></th>\n",
       "      <th>Y</th>\n",
       "    </tr>\n",
       "  </thead>\n",
       "  <tbody>\n",
       "    <tr>\n",
       "      <th>1</th>\n",
       "      <td>1</td>\n",
       "    </tr>\n",
       "    <tr>\n",
       "      <th>2</th>\n",
       "      <td>1</td>\n",
       "    </tr>\n",
       "    <tr>\n",
       "      <th>3</th>\n",
       "      <td>0</td>\n",
       "    </tr>\n",
       "    <tr>\n",
       "      <th>4</th>\n",
       "      <td>0</td>\n",
       "    </tr>\n",
       "    <tr>\n",
       "      <th>5</th>\n",
       "      <td>0</td>\n",
       "    </tr>\n",
       "  </tbody>\n",
       "</table>\n",
       "</div>"
      ],
      "text/plain": [
       "   Y\n",
       "1  1\n",
       "2  1\n",
       "3  0\n",
       "4  0\n",
       "5  0"
      ]
     },
     "execution_count": 40,
     "metadata": {},
     "output_type": "execute_result"
    }
   ],
   "source": [
    "target.head()"
   ]
  },
  {
   "cell_type": "code",
   "execution_count": 41,
   "metadata": {},
   "outputs": [
    {
     "data": {
      "text/html": [
       "<div>\n",
       "<style scoped>\n",
       "    .dataframe tbody tr th:only-of-type {\n",
       "        vertical-align: middle;\n",
       "    }\n",
       "\n",
       "    .dataframe tbody tr th {\n",
       "        vertical-align: top;\n",
       "    }\n",
       "\n",
       "    .dataframe thead th {\n",
       "        text-align: right;\n",
       "    }\n",
       "</style>\n",
       "<table border=\"1\" class=\"dataframe\">\n",
       "  <thead>\n",
       "    <tr style=\"text-align: right;\">\n",
       "      <th></th>\n",
       "      <th>X1</th>\n",
       "      <th>X2</th>\n",
       "      <th>X3</th>\n",
       "      <th>X4</th>\n",
       "      <th>X5</th>\n",
       "      <th>X6</th>\n",
       "      <th>X7</th>\n",
       "      <th>X8</th>\n",
       "      <th>X9</th>\n",
       "      <th>X10</th>\n",
       "      <th>...</th>\n",
       "      <th>X14</th>\n",
       "      <th>X15</th>\n",
       "      <th>X16</th>\n",
       "      <th>X17</th>\n",
       "      <th>X18</th>\n",
       "      <th>X19</th>\n",
       "      <th>X20</th>\n",
       "      <th>X21</th>\n",
       "      <th>X22</th>\n",
       "      <th>X23</th>\n",
       "    </tr>\n",
       "  </thead>\n",
       "  <tbody>\n",
       "    <tr>\n",
       "      <th>0</th>\n",
       "      <td>0.269656</td>\n",
       "      <td>1.0</td>\n",
       "      <td>0.333333</td>\n",
       "      <td>0.333333</td>\n",
       "      <td>0.425290</td>\n",
       "      <td>0.4</td>\n",
       "      <td>0.4</td>\n",
       "      <td>0.1</td>\n",
       "      <td>0.1</td>\n",
       "      <td>0.0</td>\n",
       "      <td>...</td>\n",
       "      <td>0.668789</td>\n",
       "      <td>0.690524</td>\n",
       "      <td>0.693253</td>\n",
       "      <td>0.684234</td>\n",
       "      <td>0.000000</td>\n",
       "      <td>0.394187</td>\n",
       "      <td>0.000000</td>\n",
       "      <td>0.000000</td>\n",
       "      <td>0.000000</td>\n",
       "      <td>0.000000</td>\n",
       "    </tr>\n",
       "    <tr>\n",
       "      <th>1</th>\n",
       "      <td>0.599709</td>\n",
       "      <td>1.0</td>\n",
       "      <td>0.333333</td>\n",
       "      <td>0.666667</td>\n",
       "      <td>0.504237</td>\n",
       "      <td>0.1</td>\n",
       "      <td>0.4</td>\n",
       "      <td>0.2</td>\n",
       "      <td>0.2</td>\n",
       "      <td>0.2</td>\n",
       "      <td>...</td>\n",
       "      <td>0.675858</td>\n",
       "      <td>0.701892</td>\n",
       "      <td>0.706026</td>\n",
       "      <td>0.697028</td>\n",
       "      <td>0.000000</td>\n",
       "      <td>0.446302</td>\n",
       "      <td>0.454190</td>\n",
       "      <td>0.470780</td>\n",
       "      <td>0.000000</td>\n",
       "      <td>0.588415</td>\n",
       "    </tr>\n",
       "    <tr>\n",
       "      <th>2</th>\n",
       "      <td>0.539312</td>\n",
       "      <td>1.0</td>\n",
       "      <td>0.333333</td>\n",
       "      <td>0.666667</td>\n",
       "      <td>0.693361</td>\n",
       "      <td>0.2</td>\n",
       "      <td>0.2</td>\n",
       "      <td>0.2</td>\n",
       "      <td>0.2</td>\n",
       "      <td>0.2</td>\n",
       "      <td>...</td>\n",
       "      <td>0.712060</td>\n",
       "      <td>0.737827</td>\n",
       "      <td>0.745501</td>\n",
       "      <td>0.741466</td>\n",
       "      <td>0.516562</td>\n",
       "      <td>0.510888</td>\n",
       "      <td>0.454190</td>\n",
       "      <td>0.470780</td>\n",
       "      <td>0.468896</td>\n",
       "      <td>0.798602</td>\n",
       "    </tr>\n",
       "    <tr>\n",
       "      <th>3</th>\n",
       "      <td>0.428052</td>\n",
       "      <td>1.0</td>\n",
       "      <td>0.333333</td>\n",
       "      <td>0.333333</td>\n",
       "      <td>0.743051</td>\n",
       "      <td>0.2</td>\n",
       "      <td>0.2</td>\n",
       "      <td>0.2</td>\n",
       "      <td>0.2</td>\n",
       "      <td>0.2</td>\n",
       "      <td>...</td>\n",
       "      <td>0.810737</td>\n",
       "      <td>0.778772</td>\n",
       "      <td>0.788583</td>\n",
       "      <td>0.786343</td>\n",
       "      <td>0.566293</td>\n",
       "      <td>0.564080</td>\n",
       "      <td>0.482649</td>\n",
       "      <td>0.485977</td>\n",
       "      <td>0.479441</td>\n",
       "      <td>0.467025</td>\n",
       "    </tr>\n",
       "    <tr>\n",
       "      <th>4</th>\n",
       "      <td>0.428052</td>\n",
       "      <td>0.0</td>\n",
       "      <td>0.333333</td>\n",
       "      <td>0.333333</td>\n",
       "      <td>0.973672</td>\n",
       "      <td>0.1</td>\n",
       "      <td>0.2</td>\n",
       "      <td>0.1</td>\n",
       "      <td>0.2</td>\n",
       "      <td>0.2</td>\n",
       "      <td>...</td>\n",
       "      <td>0.776490</td>\n",
       "      <td>0.757732</td>\n",
       "      <td>0.758926</td>\n",
       "      <td>0.753463</td>\n",
       "      <td>0.566293</td>\n",
       "      <td>0.763165</td>\n",
       "      <td>0.978523</td>\n",
       "      <td>0.979261</td>\n",
       "      <td>0.414142</td>\n",
       "      <td>0.410485</td>\n",
       "    </tr>\n",
       "  </tbody>\n",
       "</table>\n",
       "<p>5 rows × 23 columns</p>\n",
       "</div>"
      ],
      "text/plain": [
       "         X1   X2        X3        X4        X5   X6   X7   X8   X9  X10  \\\n",
       "0  0.269656  1.0  0.333333  0.333333  0.425290  0.4  0.4  0.1  0.1  0.0   \n",
       "1  0.599709  1.0  0.333333  0.666667  0.504237  0.1  0.4  0.2  0.2  0.2   \n",
       "2  0.539312  1.0  0.333333  0.666667  0.693361  0.2  0.2  0.2  0.2  0.2   \n",
       "3  0.428052  1.0  0.333333  0.333333  0.743051  0.2  0.2  0.2  0.2  0.2   \n",
       "4  0.428052  0.0  0.333333  0.333333  0.973672  0.1  0.2  0.1  0.2  0.2   \n",
       "\n",
       "     ...          X14       X15       X16       X17       X18       X19  \\\n",
       "0    ...     0.668789  0.690524  0.693253  0.684234  0.000000  0.394187   \n",
       "1    ...     0.675858  0.701892  0.706026  0.697028  0.000000  0.446302   \n",
       "2    ...     0.712060  0.737827  0.745501  0.741466  0.516562  0.510888   \n",
       "3    ...     0.810737  0.778772  0.788583  0.786343  0.566293  0.564080   \n",
       "4    ...     0.776490  0.757732  0.758926  0.753463  0.566293  0.763165   \n",
       "\n",
       "        X20       X21       X22       X23  \n",
       "0  0.000000  0.000000  0.000000  0.000000  \n",
       "1  0.454190  0.470780  0.000000  0.588415  \n",
       "2  0.454190  0.470780  0.468896  0.798602  \n",
       "3  0.482649  0.485977  0.479441  0.467025  \n",
       "4  0.978523  0.979261  0.414142  0.410485  \n",
       "\n",
       "[5 rows x 23 columns]"
      ]
     },
     "execution_count": 41,
     "metadata": {},
     "output_type": "execute_result"
    }
   ],
   "source": [
    "df.head()"
   ]
  },
  {
   "cell_type": "code",
   "execution_count": 42,
   "metadata": {},
   "outputs": [
    {
     "data": {
      "text/html": [
       "<div>\n",
       "<style scoped>\n",
       "    .dataframe tbody tr th:only-of-type {\n",
       "        vertical-align: middle;\n",
       "    }\n",
       "\n",
       "    .dataframe tbody tr th {\n",
       "        vertical-align: top;\n",
       "    }\n",
       "\n",
       "    .dataframe thead th {\n",
       "        text-align: right;\n",
       "    }\n",
       "</style>\n",
       "<table border=\"1\" class=\"dataframe\">\n",
       "  <thead>\n",
       "    <tr style=\"text-align: right;\">\n",
       "      <th></th>\n",
       "      <th>X1</th>\n",
       "      <th>X2</th>\n",
       "      <th>X3</th>\n",
       "      <th>X4</th>\n",
       "      <th>X5</th>\n",
       "      <th>X6</th>\n",
       "      <th>X7</th>\n",
       "      <th>X8</th>\n",
       "      <th>X9</th>\n",
       "      <th>X10</th>\n",
       "      <th>...</th>\n",
       "      <th>X15</th>\n",
       "      <th>X16</th>\n",
       "      <th>X17</th>\n",
       "      <th>X18</th>\n",
       "      <th>X19</th>\n",
       "      <th>X20</th>\n",
       "      <th>X21</th>\n",
       "      <th>X22</th>\n",
       "      <th>X23</th>\n",
       "      <th>Y</th>\n",
       "    </tr>\n",
       "  </thead>\n",
       "  <tbody>\n",
       "    <tr>\n",
       "      <th>1</th>\n",
       "      <td>0.599709</td>\n",
       "      <td>1.0</td>\n",
       "      <td>0.333333</td>\n",
       "      <td>0.666667</td>\n",
       "      <td>0.504237</td>\n",
       "      <td>0.1</td>\n",
       "      <td>0.4</td>\n",
       "      <td>0.2</td>\n",
       "      <td>0.2</td>\n",
       "      <td>0.2</td>\n",
       "      <td>...</td>\n",
       "      <td>0.701892</td>\n",
       "      <td>0.706026</td>\n",
       "      <td>0.697028</td>\n",
       "      <td>0.000000</td>\n",
       "      <td>0.446302</td>\n",
       "      <td>0.454190</td>\n",
       "      <td>0.470780</td>\n",
       "      <td>0.000000</td>\n",
       "      <td>0.588415</td>\n",
       "      <td>1</td>\n",
       "    </tr>\n",
       "    <tr>\n",
       "      <th>2</th>\n",
       "      <td>0.539312</td>\n",
       "      <td>1.0</td>\n",
       "      <td>0.333333</td>\n",
       "      <td>0.666667</td>\n",
       "      <td>0.693361</td>\n",
       "      <td>0.2</td>\n",
       "      <td>0.2</td>\n",
       "      <td>0.2</td>\n",
       "      <td>0.2</td>\n",
       "      <td>0.2</td>\n",
       "      <td>...</td>\n",
       "      <td>0.737827</td>\n",
       "      <td>0.745501</td>\n",
       "      <td>0.741466</td>\n",
       "      <td>0.516562</td>\n",
       "      <td>0.510888</td>\n",
       "      <td>0.454190</td>\n",
       "      <td>0.470780</td>\n",
       "      <td>0.468896</td>\n",
       "      <td>0.798602</td>\n",
       "      <td>1</td>\n",
       "    </tr>\n",
       "    <tr>\n",
       "      <th>3</th>\n",
       "      <td>0.428052</td>\n",
       "      <td>1.0</td>\n",
       "      <td>0.333333</td>\n",
       "      <td>0.333333</td>\n",
       "      <td>0.743051</td>\n",
       "      <td>0.2</td>\n",
       "      <td>0.2</td>\n",
       "      <td>0.2</td>\n",
       "      <td>0.2</td>\n",
       "      <td>0.2</td>\n",
       "      <td>...</td>\n",
       "      <td>0.778772</td>\n",
       "      <td>0.788583</td>\n",
       "      <td>0.786343</td>\n",
       "      <td>0.566293</td>\n",
       "      <td>0.564080</td>\n",
       "      <td>0.482649</td>\n",
       "      <td>0.485977</td>\n",
       "      <td>0.479441</td>\n",
       "      <td>0.467025</td>\n",
       "      <td>0</td>\n",
       "    </tr>\n",
       "    <tr>\n",
       "      <th>4</th>\n",
       "      <td>0.428052</td>\n",
       "      <td>0.0</td>\n",
       "      <td>0.333333</td>\n",
       "      <td>0.333333</td>\n",
       "      <td>0.973672</td>\n",
       "      <td>0.1</td>\n",
       "      <td>0.2</td>\n",
       "      <td>0.1</td>\n",
       "      <td>0.2</td>\n",
       "      <td>0.2</td>\n",
       "      <td>...</td>\n",
       "      <td>0.757732</td>\n",
       "      <td>0.758926</td>\n",
       "      <td>0.753463</td>\n",
       "      <td>0.566293</td>\n",
       "      <td>0.763165</td>\n",
       "      <td>0.978523</td>\n",
       "      <td>0.979261</td>\n",
       "      <td>0.414142</td>\n",
       "      <td>0.410485</td>\n",
       "      <td>0</td>\n",
       "    </tr>\n",
       "    <tr>\n",
       "      <th>5</th>\n",
       "      <td>0.428052</td>\n",
       "      <td>0.0</td>\n",
       "      <td>0.166667</td>\n",
       "      <td>0.666667</td>\n",
       "      <td>0.743051</td>\n",
       "      <td>0.2</td>\n",
       "      <td>0.2</td>\n",
       "      <td>0.2</td>\n",
       "      <td>0.2</td>\n",
       "      <td>0.2</td>\n",
       "      <td>...</td>\n",
       "      <td>0.753170</td>\n",
       "      <td>0.760409</td>\n",
       "      <td>0.756395</td>\n",
       "      <td>0.610021</td>\n",
       "      <td>0.544403</td>\n",
       "      <td>0.394845</td>\n",
       "      <td>0.470780</td>\n",
       "      <td>0.468896</td>\n",
       "      <td>0.433548</td>\n",
       "      <td>0</td>\n",
       "    </tr>\n",
       "  </tbody>\n",
       "</table>\n",
       "<p>5 rows × 24 columns</p>\n",
       "</div>"
      ],
      "text/plain": [
       "         X1   X2        X3        X4        X5   X6   X7   X8   X9  X10 ...  \\\n",
       "1  0.599709  1.0  0.333333  0.666667  0.504237  0.1  0.4  0.2  0.2  0.2 ...   \n",
       "2  0.539312  1.0  0.333333  0.666667  0.693361  0.2  0.2  0.2  0.2  0.2 ...   \n",
       "3  0.428052  1.0  0.333333  0.333333  0.743051  0.2  0.2  0.2  0.2  0.2 ...   \n",
       "4  0.428052  0.0  0.333333  0.333333  0.973672  0.1  0.2  0.1  0.2  0.2 ...   \n",
       "5  0.428052  0.0  0.166667  0.666667  0.743051  0.2  0.2  0.2  0.2  0.2 ...   \n",
       "\n",
       "        X15       X16       X17       X18       X19       X20       X21  \\\n",
       "1  0.701892  0.706026  0.697028  0.000000  0.446302  0.454190  0.470780   \n",
       "2  0.737827  0.745501  0.741466  0.516562  0.510888  0.454190  0.470780   \n",
       "3  0.778772  0.788583  0.786343  0.566293  0.564080  0.482649  0.485977   \n",
       "4  0.757732  0.758926  0.753463  0.566293  0.763165  0.978523  0.979261   \n",
       "5  0.753170  0.760409  0.756395  0.610021  0.544403  0.394845  0.470780   \n",
       "\n",
       "        X22       X23  Y  \n",
       "1  0.000000  0.588415  1  \n",
       "2  0.468896  0.798602  1  \n",
       "3  0.479441  0.467025  0  \n",
       "4  0.414142  0.410485  0  \n",
       "5  0.468896  0.433548  0  \n",
       "\n",
       "[5 rows x 24 columns]"
      ]
     },
     "execution_count": 42,
     "metadata": {},
     "output_type": "execute_result"
    }
   ],
   "source": [
    "df = pd.concat([df,target], axis=1, join='inner')\n",
    "df.head()"
   ]
  },
  {
   "cell_type": "code",
   "execution_count": 43,
   "metadata": {},
   "outputs": [],
   "source": [
    "y = df.loc[:, ['Y']].values.ravel()\n",
    "\n",
    "dfnew = df.drop(['Y'], axis=1)"
   ]
  },
  {
   "cell_type": "code",
   "execution_count": 44,
   "metadata": {},
   "outputs": [
    {
     "name": "stdout",
     "output_type": "stream",
     "text": [
      "[False False False False False False False False False False False False\n",
      "  True  True  True False False False False False False False False]\n",
      "{'X1': 10, 'X2': 5, 'X3': 9, 'X4': 6, 'X5': 8, 'X6': 2, 'X7': 16, 'X8': 14, 'X9': 4, 'X10': 3, 'X11': 11, 'X12': 20, 'X13': 1, 'X14': 1, 'X15': 1, 'X16': 15, 'X17': 21, 'X18': 7, 'X19': 17, 'X20': 13, 'X21': 12, 'X22': 19, 'X23': 18}\n"
     ]
    }
   ],
   "source": [
    "# Recursive Feature Elimination for Y1 target \n",
    "from sklearn import datasets\n",
    "from sklearn.feature_selection import RFE\n",
    "from sklearn.linear_model import LogisticRegression\n",
    "# create a base classifier used to evaluate a subset of attributes\n",
    "model = LogisticRegression()\n",
    "# create the RFE model and select 3 attributes\n",
    "rfe = RFE(model, 3)\n",
    "rfe = rfe.fit(dfnew, y)\n",
    "# summarize the selection of the attributes\n",
    "print(rfe.support_)\n",
    "print(dict(zip(df.columns, rfe.ranking_)))"
   ]
  },
  {
   "cell_type": "code",
   "execution_count": 45,
   "metadata": {},
   "outputs": [],
   "source": [
    "# Exporting DataFrame as CSV \n",
    "df.to_csv('Final1', ',')"
   ]
  },
  {
   "cell_type": "code",
   "execution_count": 46,
   "metadata": {},
   "outputs": [
    {
     "data": {
      "text/plain": [
       "array(['X1', 'X2', 'X3', 'X4', 'X5', 'X6', 'X7', 'X8', 'X9', 'X10', 'X11',\n",
       "       'X12', 'X13', 'X14', 'X15', 'X16', 'X17', 'X18', 'X19', 'X20',\n",
       "       'X21', 'X22', 'X23', 'Y'], dtype=object)"
      ]
     },
     "execution_count": 46,
     "metadata": {},
     "output_type": "execute_result"
    }
   ],
   "source": [
    "# Logistic Regression \n",
    "df.columns.values"
   ]
  },
  {
   "cell_type": "code",
   "execution_count": 47,
   "metadata": {},
   "outputs": [],
   "source": [
    "X = df.iloc[:,:-1] # Features\n",
    "y = df.Y # Target variable"
   ]
  },
  {
   "cell_type": "code",
   "execution_count": 48,
   "metadata": {},
   "outputs": [],
   "source": [
    "from sklearn.model_selection import train_test_split\n",
    "\n",
    "X_train,X_test,y_train,y_test=train_test_split(X,y,test_size=0.25,random_state=2019)"
   ]
  },
  {
   "cell_type": "code",
   "execution_count": 49,
   "metadata": {},
   "outputs": [],
   "source": [
    "# import the class\n",
    "from sklearn.linear_model import LogisticRegression\n",
    "\n",
    "# instantiate the model (using the default parameters)\n",
    "logreg = LogisticRegression()\n",
    "\n",
    "# fit the model with data\n",
    "logreg.fit(X_train,y_train)\n",
    "\n",
    "#\n",
    "y_pred=logreg.predict(X_test)"
   ]
  },
  {
   "cell_type": "code",
   "execution_count": 50,
   "metadata": {},
   "outputs": [
    {
     "data": {
      "text/plain": [
       "array([[5880,    0],\n",
       "       [1620,    0]])"
      ]
     },
     "execution_count": 50,
     "metadata": {},
     "output_type": "execute_result"
    }
   ],
   "source": [
    "# import the metrics class\n",
    "from sklearn import metrics\n",
    "cnf_matrix = metrics.confusion_matrix(y_test, y_pred)\n",
    "cnf_matrix"
   ]
  },
  {
   "cell_type": "code",
   "execution_count": 51,
   "metadata": {},
   "outputs": [
    {
     "data": {
      "text/plain": [
       "Text(0.5, 257.44, 'Predicted label')"
      ]
     },
     "execution_count": 51,
     "metadata": {},
     "output_type": "execute_result"
    },
    {
     "data": {
      "image/png": "[encoded data removed]",
      "text/plain": [
       "<Figure size 432x288 with 2 Axes>"
      ]
     },
     "metadata": {},
     "output_type": "display_data"
    }
   ],
   "source": [
    "import seaborn as sns\n",
    "\n",
    "\n",
    "class_names=[0,1] # name  of classes\n",
    "fig, ax = plt.subplots()\n",
    "tick_marks = np.arange(len(class_names))\n",
    "plt.xticks(tick_marks, class_names)\n",
    "plt.yticks(tick_marks, class_names)\n",
    "# create heatmap\n",
    "sns.heatmap(pd.DataFrame(cnf_matrix), annot=True, cmap=\"YlGnBu\" ,fmt='g')\n",
    "ax.xaxis.set_label_position(\"top\")\n",
    "plt.tight_layout()\n",
    "plt.title('Confusion matrix', y=1.1)\n",
    "plt.ylabel('Actual label')\n",
    "plt.xlabel('Predicted label')"
   ]
  },
  {
   "cell_type": "code",
   "execution_count": 52,
   "metadata": {},
   "outputs": [
    {
     "name": "stdout",
     "output_type": "stream",
     "text": [
      "Accuracy: 0.784\n",
      "Precision: 0.0\n",
      "Recall: 0.0\n"
     ]
    },
    {
     "name": "stderr",
     "output_type": "stream",
     "text": [
      "/home/jupyter-jhoffmann/.local/lib/python3.6/site-packages/sklearn/metrics/classification.py:1135: UndefinedMetricWarning: Precision is ill-defined and being set to 0.0 due to no predicted samples.\n",
      "  'precision', 'predicted', average, warn_for)\n"
     ]
    }
   ],
   "source": [
    "print(\"Accuracy:\",metrics.accuracy_score(y_test, y_pred))\n",
    "print(\"Precision:\",metrics.precision_score(y_test, y_pred))\n",
    "print(\"Recall:\",metrics.recall_score(y_test, y_pred))"
   ]
  },
  {
   "cell_type": "code",
   "execution_count": 53,
   "metadata": {},
   "outputs": [],
   "source": [
    "# FIN"
   ]
  }
 ],
 "metadata": {
  "kernelspec": {
   "display_name": "Python 3",
   "language": "python",
   "name": "python3"
  },
  "language_info": {
   "codemirror_mode": {
    "name": "ipython",
    "version": 3
   },
   "file_extension": ".py",
   "mimetype": "text/x-python",
   "name": "python",
   "nbconvert_exporter": "python",
   "pygments_lexer": "ipython3",
   "version": "3.6.5"
  }
 },
 "nbformat": 4,
 "nbformat_minor": 2
}

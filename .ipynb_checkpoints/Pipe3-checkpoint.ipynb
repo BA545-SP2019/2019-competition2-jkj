{
 "cells": [
  {
   "cell_type": "code",
   "execution_count": 1,
   "metadata": {},
   "outputs": [],
   "source": [
    "# Importing Data from Excel into Python as DataFrame"
   ]
  },
  {
   "cell_type": "code",
   "execution_count": 2,
   "metadata": {},
   "outputs": [],
   "source": [
    "import numpy as np \n",
    "import pandas as pd\n",
    "import matplotlib.pyplot as plt\n",
    "%matplotlib inline\n",
    "from scipy.stats import iqr\n",
    "plt.style.use('ggplot')\n",
    "from sklearn import preprocessing"
   ]
  },
  {
   "cell_type": "code",
   "execution_count": 3,
   "metadata": {},
   "outputs": [
    {
     "data": {
      "text/html": [
       "<div>\n",
       "<style scoped>\n",
       "    .dataframe tbody tr th:only-of-type {\n",
       "        vertical-align: middle;\n",
       "    }\n",
       "\n",
       "    .dataframe tbody tr th {\n",
       "        vertical-align: top;\n",
       "    }\n",
       "\n",
       "    .dataframe thead th {\n",
       "        text-align: right;\n",
       "    }\n",
       "</style>\n",
       "<table border=\"1\" class=\"dataframe\">\n",
       "  <thead>\n",
       "    <tr style=\"text-align: right;\">\n",
       "      <th></th>\n",
       "      <th>X1</th>\n",
       "      <th>X2</th>\n",
       "      <th>X3</th>\n",
       "      <th>X4</th>\n",
       "      <th>X5</th>\n",
       "      <th>X6</th>\n",
       "      <th>X7</th>\n",
       "      <th>X8</th>\n",
       "      <th>X9</th>\n",
       "      <th>X10</th>\n",
       "      <th>...</th>\n",
       "      <th>X15</th>\n",
       "      <th>X16</th>\n",
       "      <th>X17</th>\n",
       "      <th>X18</th>\n",
       "      <th>X19</th>\n",
       "      <th>X20</th>\n",
       "      <th>X21</th>\n",
       "      <th>X22</th>\n",
       "      <th>X23</th>\n",
       "      <th>Y</th>\n",
       "    </tr>\n",
       "  </thead>\n",
       "  <tbody>\n",
       "    <tr>\n",
       "      <th>1</th>\n",
       "      <td>20000</td>\n",
       "      <td>2</td>\n",
       "      <td>2</td>\n",
       "      <td>1</td>\n",
       "      <td>24</td>\n",
       "      <td>2</td>\n",
       "      <td>2</td>\n",
       "      <td>-1</td>\n",
       "      <td>-1</td>\n",
       "      <td>-2</td>\n",
       "      <td>...</td>\n",
       "      <td>0</td>\n",
       "      <td>0</td>\n",
       "      <td>0</td>\n",
       "      <td>0</td>\n",
       "      <td>689</td>\n",
       "      <td>0</td>\n",
       "      <td>0</td>\n",
       "      <td>0</td>\n",
       "      <td>0</td>\n",
       "      <td>1</td>\n",
       "    </tr>\n",
       "    <tr>\n",
       "      <th>2</th>\n",
       "      <td>120000</td>\n",
       "      <td>2</td>\n",
       "      <td>2</td>\n",
       "      <td>2</td>\n",
       "      <td>26</td>\n",
       "      <td>-1</td>\n",
       "      <td>2</td>\n",
       "      <td>0</td>\n",
       "      <td>0</td>\n",
       "      <td>0</td>\n",
       "      <td>...</td>\n",
       "      <td>3272</td>\n",
       "      <td>3455</td>\n",
       "      <td>3261</td>\n",
       "      <td>0</td>\n",
       "      <td>1000</td>\n",
       "      <td>1000</td>\n",
       "      <td>1000</td>\n",
       "      <td>0</td>\n",
       "      <td>2000</td>\n",
       "      <td>1</td>\n",
       "    </tr>\n",
       "    <tr>\n",
       "      <th>3</th>\n",
       "      <td>90000</td>\n",
       "      <td>2</td>\n",
       "      <td>2</td>\n",
       "      <td>2</td>\n",
       "      <td>34</td>\n",
       "      <td>0</td>\n",
       "      <td>0</td>\n",
       "      <td>0</td>\n",
       "      <td>0</td>\n",
       "      <td>0</td>\n",
       "      <td>...</td>\n",
       "      <td>14331</td>\n",
       "      <td>14948</td>\n",
       "      <td>15549</td>\n",
       "      <td>1518</td>\n",
       "      <td>1500</td>\n",
       "      <td>1000</td>\n",
       "      <td>1000</td>\n",
       "      <td>1000</td>\n",
       "      <td>5000</td>\n",
       "      <td>0</td>\n",
       "    </tr>\n",
       "    <tr>\n",
       "      <th>4</th>\n",
       "      <td>50000</td>\n",
       "      <td>2</td>\n",
       "      <td>2</td>\n",
       "      <td>1</td>\n",
       "      <td>37</td>\n",
       "      <td>0</td>\n",
       "      <td>0</td>\n",
       "      <td>0</td>\n",
       "      <td>0</td>\n",
       "      <td>0</td>\n",
       "      <td>...</td>\n",
       "      <td>28314</td>\n",
       "      <td>28959</td>\n",
       "      <td>29547</td>\n",
       "      <td>2000</td>\n",
       "      <td>2019</td>\n",
       "      <td>1200</td>\n",
       "      <td>1100</td>\n",
       "      <td>1069</td>\n",
       "      <td>1000</td>\n",
       "      <td>0</td>\n",
       "    </tr>\n",
       "    <tr>\n",
       "      <th>5</th>\n",
       "      <td>50000</td>\n",
       "      <td>1</td>\n",
       "      <td>2</td>\n",
       "      <td>1</td>\n",
       "      <td>57</td>\n",
       "      <td>-1</td>\n",
       "      <td>0</td>\n",
       "      <td>-1</td>\n",
       "      <td>0</td>\n",
       "      <td>0</td>\n",
       "      <td>...</td>\n",
       "      <td>20940</td>\n",
       "      <td>19146</td>\n",
       "      <td>19131</td>\n",
       "      <td>2000</td>\n",
       "      <td>36681</td>\n",
       "      <td>10000</td>\n",
       "      <td>9000</td>\n",
       "      <td>689</td>\n",
       "      <td>679</td>\n",
       "      <td>0</td>\n",
       "    </tr>\n",
       "    <tr>\n",
       "      <th>6</th>\n",
       "      <td>50000</td>\n",
       "      <td>1</td>\n",
       "      <td>1</td>\n",
       "      <td>2</td>\n",
       "      <td>37</td>\n",
       "      <td>0</td>\n",
       "      <td>0</td>\n",
       "      <td>0</td>\n",
       "      <td>0</td>\n",
       "      <td>0</td>\n",
       "      <td>...</td>\n",
       "      <td>19394</td>\n",
       "      <td>19619</td>\n",
       "      <td>20024</td>\n",
       "      <td>2500</td>\n",
       "      <td>1815</td>\n",
       "      <td>657</td>\n",
       "      <td>1000</td>\n",
       "      <td>1000</td>\n",
       "      <td>800</td>\n",
       "      <td>0</td>\n",
       "    </tr>\n",
       "    <tr>\n",
       "      <th>7</th>\n",
       "      <td>500000</td>\n",
       "      <td>1</td>\n",
       "      <td>1</td>\n",
       "      <td>2</td>\n",
       "      <td>29</td>\n",
       "      <td>0</td>\n",
       "      <td>0</td>\n",
       "      <td>0</td>\n",
       "      <td>0</td>\n",
       "      <td>0</td>\n",
       "      <td>...</td>\n",
       "      <td>542653</td>\n",
       "      <td>483003</td>\n",
       "      <td>473944</td>\n",
       "      <td>55000</td>\n",
       "      <td>40000</td>\n",
       "      <td>38000</td>\n",
       "      <td>20239</td>\n",
       "      <td>13750</td>\n",
       "      <td>13770</td>\n",
       "      <td>0</td>\n",
       "    </tr>\n",
       "    <tr>\n",
       "      <th>8</th>\n",
       "      <td>100000</td>\n",
       "      <td>2</td>\n",
       "      <td>2</td>\n",
       "      <td>2</td>\n",
       "      <td>23</td>\n",
       "      <td>0</td>\n",
       "      <td>-1</td>\n",
       "      <td>-1</td>\n",
       "      <td>0</td>\n",
       "      <td>0</td>\n",
       "      <td>...</td>\n",
       "      <td>221</td>\n",
       "      <td>-159</td>\n",
       "      <td>567</td>\n",
       "      <td>380</td>\n",
       "      <td>601</td>\n",
       "      <td>0</td>\n",
       "      <td>581</td>\n",
       "      <td>1687</td>\n",
       "      <td>1542</td>\n",
       "      <td>0</td>\n",
       "    </tr>\n",
       "    <tr>\n",
       "      <th>9</th>\n",
       "      <td>140000</td>\n",
       "      <td>2</td>\n",
       "      <td>3</td>\n",
       "      <td>1</td>\n",
       "      <td>28</td>\n",
       "      <td>0</td>\n",
       "      <td>0</td>\n",
       "      <td>2</td>\n",
       "      <td>0</td>\n",
       "      <td>0</td>\n",
       "      <td>...</td>\n",
       "      <td>12211</td>\n",
       "      <td>11793</td>\n",
       "      <td>3719</td>\n",
       "      <td>3329</td>\n",
       "      <td>0</td>\n",
       "      <td>432</td>\n",
       "      <td>1000</td>\n",
       "      <td>1000</td>\n",
       "      <td>1000</td>\n",
       "      <td>0</td>\n",
       "    </tr>\n",
       "    <tr>\n",
       "      <th>10</th>\n",
       "      <td>20000</td>\n",
       "      <td>1</td>\n",
       "      <td>3</td>\n",
       "      <td>2</td>\n",
       "      <td>35</td>\n",
       "      <td>-2</td>\n",
       "      <td>-2</td>\n",
       "      <td>-2</td>\n",
       "      <td>-2</td>\n",
       "      <td>-1</td>\n",
       "      <td>...</td>\n",
       "      <td>0</td>\n",
       "      <td>13007</td>\n",
       "      <td>13912</td>\n",
       "      <td>0</td>\n",
       "      <td>0</td>\n",
       "      <td>0</td>\n",
       "      <td>13007</td>\n",
       "      <td>1122</td>\n",
       "      <td>0</td>\n",
       "      <td>0</td>\n",
       "    </tr>\n",
       "    <tr>\n",
       "      <th>11</th>\n",
       "      <td>200000</td>\n",
       "      <td>2</td>\n",
       "      <td>3</td>\n",
       "      <td>2</td>\n",
       "      <td>34</td>\n",
       "      <td>0</td>\n",
       "      <td>0</td>\n",
       "      <td>2</td>\n",
       "      <td>0</td>\n",
       "      <td>0</td>\n",
       "      <td>...</td>\n",
       "      <td>2513</td>\n",
       "      <td>1828</td>\n",
       "      <td>3731</td>\n",
       "      <td>2306</td>\n",
       "      <td>12</td>\n",
       "      <td>50</td>\n",
       "      <td>300</td>\n",
       "      <td>3738</td>\n",
       "      <td>66</td>\n",
       "      <td>0</td>\n",
       "    </tr>\n",
       "    <tr>\n",
       "      <th>12</th>\n",
       "      <td>260000</td>\n",
       "      <td>2</td>\n",
       "      <td>1</td>\n",
       "      <td>2</td>\n",
       "      <td>51</td>\n",
       "      <td>-1</td>\n",
       "      <td>-1</td>\n",
       "      <td>-1</td>\n",
       "      <td>-1</td>\n",
       "      <td>-1</td>\n",
       "      <td>...</td>\n",
       "      <td>8517</td>\n",
       "      <td>22287</td>\n",
       "      <td>13668</td>\n",
       "      <td>21818</td>\n",
       "      <td>9966</td>\n",
       "      <td>8583</td>\n",
       "      <td>22301</td>\n",
       "      <td>0</td>\n",
       "      <td>3640</td>\n",
       "      <td>0</td>\n",
       "    </tr>\n",
       "    <tr>\n",
       "      <th>13</th>\n",
       "      <td>630000</td>\n",
       "      <td>2</td>\n",
       "      <td>2</td>\n",
       "      <td>2</td>\n",
       "      <td>41</td>\n",
       "      <td>-1</td>\n",
       "      <td>0</td>\n",
       "      <td>-1</td>\n",
       "      <td>-1</td>\n",
       "      <td>-1</td>\n",
       "      <td>...</td>\n",
       "      <td>6500</td>\n",
       "      <td>6500</td>\n",
       "      <td>2870</td>\n",
       "      <td>1000</td>\n",
       "      <td>6500</td>\n",
       "      <td>6500</td>\n",
       "      <td>6500</td>\n",
       "      <td>2870</td>\n",
       "      <td>0</td>\n",
       "      <td>0</td>\n",
       "    </tr>\n",
       "    <tr>\n",
       "      <th>14</th>\n",
       "      <td>70000</td>\n",
       "      <td>1</td>\n",
       "      <td>2</td>\n",
       "      <td>2</td>\n",
       "      <td>30</td>\n",
       "      <td>1</td>\n",
       "      <td>2</td>\n",
       "      <td>2</td>\n",
       "      <td>0</td>\n",
       "      <td>0</td>\n",
       "      <td>...</td>\n",
       "      <td>66782</td>\n",
       "      <td>36137</td>\n",
       "      <td>36894</td>\n",
       "      <td>3200</td>\n",
       "      <td>0</td>\n",
       "      <td>3000</td>\n",
       "      <td>3000</td>\n",
       "      <td>1500</td>\n",
       "      <td>0</td>\n",
       "      <td>1</td>\n",
       "    </tr>\n",
       "    <tr>\n",
       "      <th>15</th>\n",
       "      <td>250000</td>\n",
       "      <td>1</td>\n",
       "      <td>1</td>\n",
       "      <td>2</td>\n",
       "      <td>29</td>\n",
       "      <td>0</td>\n",
       "      <td>0</td>\n",
       "      <td>0</td>\n",
       "      <td>0</td>\n",
       "      <td>0</td>\n",
       "      <td>...</td>\n",
       "      <td>59696</td>\n",
       "      <td>56875</td>\n",
       "      <td>55512</td>\n",
       "      <td>3000</td>\n",
       "      <td>3000</td>\n",
       "      <td>3000</td>\n",
       "      <td>3000</td>\n",
       "      <td>3000</td>\n",
       "      <td>3000</td>\n",
       "      <td>0</td>\n",
       "    </tr>\n",
       "  </tbody>\n",
       "</table>\n",
       "<p>15 rows × 24 columns</p>\n",
       "</div>"
      ],
      "text/plain": [
       "        X1 X2 X3 X4  X5  X6  X7  X8  X9 X10 ...     X15     X16     X17  \\\n",
       "1    20000  2  2  1  24   2   2  -1  -1  -2 ...       0       0       0   \n",
       "2   120000  2  2  2  26  -1   2   0   0   0 ...    3272    3455    3261   \n",
       "3    90000  2  2  2  34   0   0   0   0   0 ...   14331   14948   15549   \n",
       "4    50000  2  2  1  37   0   0   0   0   0 ...   28314   28959   29547   \n",
       "5    50000  1  2  1  57  -1   0  -1   0   0 ...   20940   19146   19131   \n",
       "6    50000  1  1  2  37   0   0   0   0   0 ...   19394   19619   20024   \n",
       "7   500000  1  1  2  29   0   0   0   0   0 ...  542653  483003  473944   \n",
       "8   100000  2  2  2  23   0  -1  -1   0   0 ...     221    -159     567   \n",
       "9   140000  2  3  1  28   0   0   2   0   0 ...   12211   11793    3719   \n",
       "10   20000  1  3  2  35  -2  -2  -2  -2  -1 ...       0   13007   13912   \n",
       "11  200000  2  3  2  34   0   0   2   0   0 ...    2513    1828    3731   \n",
       "12  260000  2  1  2  51  -1  -1  -1  -1  -1 ...    8517   22287   13668   \n",
       "13  630000  2  2  2  41  -1   0  -1  -1  -1 ...    6500    6500    2870   \n",
       "14   70000  1  2  2  30   1   2   2   0   0 ...   66782   36137   36894   \n",
       "15  250000  1  1  2  29   0   0   0   0   0 ...   59696   56875   55512   \n",
       "\n",
       "      X18    X19    X20    X21    X22    X23  Y  \n",
       "1       0    689      0      0      0      0  1  \n",
       "2       0   1000   1000   1000      0   2000  1  \n",
       "3    1518   1500   1000   1000   1000   5000  0  \n",
       "4    2000   2019   1200   1100   1069   1000  0  \n",
       "5    2000  36681  10000   9000    689    679  0  \n",
       "6    2500   1815    657   1000   1000    800  0  \n",
       "7   55000  40000  38000  20239  13750  13770  0  \n",
       "8     380    601      0    581   1687   1542  0  \n",
       "9    3329      0    432   1000   1000   1000  0  \n",
       "10      0      0      0  13007   1122      0  0  \n",
       "11   2306     12     50    300   3738     66  0  \n",
       "12  21818   9966   8583  22301      0   3640  0  \n",
       "13   1000   6500   6500   6500   2870      0  0  \n",
       "14   3200      0   3000   3000   1500      0  1  \n",
       "15   3000   3000   3000   3000   3000   3000  0  \n",
       "\n",
       "[15 rows x 24 columns]"
      ]
     },
     "execution_count": 3,
     "metadata": {},
     "output_type": "execute_result"
    }
   ],
   "source": [
    "# Importing Excel file, calling the DataFrame comp_df\n",
    "df = pd.read_excel(\"default.xls\", index_col=0, header=0)\n",
    "df = df.iloc[1:, :]\n",
    "# Checking import \n",
    "df.head(15)"
   ]
  },
  {
   "cell_type": "code",
   "execution_count": 4,
   "metadata": {},
   "outputs": [
    {
     "name": "stdout",
     "output_type": "stream",
     "text": [
      "<class 'pandas.core.frame.DataFrame'>\n",
      "Index: 30000 entries, 1 to 30000\n",
      "Data columns (total 24 columns):\n",
      "X1     30000 non-null object\n",
      "X2     30000 non-null object\n",
      "X3     30000 non-null object\n",
      "X4     30000 non-null object\n",
      "X5     30000 non-null object\n",
      "X6     30000 non-null object\n",
      "X7     30000 non-null object\n",
      "X8     30000 non-null object\n",
      "X9     30000 non-null object\n",
      "X10    30000 non-null object\n",
      "X11    30000 non-null object\n",
      "X12    30000 non-null object\n",
      "X13    30000 non-null object\n",
      "X14    30000 non-null object\n",
      "X15    30000 non-null object\n",
      "X16    30000 non-null object\n",
      "X17    30000 non-null object\n",
      "X18    30000 non-null object\n",
      "X19    30000 non-null object\n",
      "X20    30000 non-null object\n",
      "X21    30000 non-null object\n",
      "X22    30000 non-null object\n",
      "X23    30000 non-null object\n",
      "Y      30000 non-null object\n",
      "dtypes: object(24)\n",
      "memory usage: 5.7+ MB\n"
     ]
    }
   ],
   "source": [
    "# Checking out the data\n",
    "df.info()"
   ]
  },
  {
   "cell_type": "code",
   "execution_count": 5,
   "metadata": {},
   "outputs": [
    {
     "data": {
      "text/html": [
       "<div>\n",
       "<style scoped>\n",
       "    .dataframe tbody tr th:only-of-type {\n",
       "        vertical-align: middle;\n",
       "    }\n",
       "\n",
       "    .dataframe tbody tr th {\n",
       "        vertical-align: top;\n",
       "    }\n",
       "\n",
       "    .dataframe thead th {\n",
       "        text-align: right;\n",
       "    }\n",
       "</style>\n",
       "<table border=\"1\" class=\"dataframe\">\n",
       "  <thead>\n",
       "    <tr style=\"text-align: right;\">\n",
       "      <th></th>\n",
       "      <th>X1</th>\n",
       "      <th>X2</th>\n",
       "      <th>X3</th>\n",
       "      <th>X4</th>\n",
       "      <th>X5</th>\n",
       "      <th>X6</th>\n",
       "      <th>X7</th>\n",
       "      <th>X8</th>\n",
       "      <th>X9</th>\n",
       "      <th>X10</th>\n",
       "      <th>...</th>\n",
       "      <th>X15</th>\n",
       "      <th>X16</th>\n",
       "      <th>X17</th>\n",
       "      <th>X18</th>\n",
       "      <th>X19</th>\n",
       "      <th>X20</th>\n",
       "      <th>X21</th>\n",
       "      <th>X22</th>\n",
       "      <th>X23</th>\n",
       "      <th>Y</th>\n",
       "    </tr>\n",
       "  </thead>\n",
       "  <tbody>\n",
       "    <tr>\n",
       "      <th>1</th>\n",
       "      <td>20000</td>\n",
       "      <td>2</td>\n",
       "      <td>2</td>\n",
       "      <td>1</td>\n",
       "      <td>24</td>\n",
       "      <td>2</td>\n",
       "      <td>2</td>\n",
       "      <td>-1</td>\n",
       "      <td>-1</td>\n",
       "      <td>-2</td>\n",
       "      <td>...</td>\n",
       "      <td>0</td>\n",
       "      <td>0</td>\n",
       "      <td>0</td>\n",
       "      <td>0</td>\n",
       "      <td>689</td>\n",
       "      <td>0</td>\n",
       "      <td>0</td>\n",
       "      <td>0</td>\n",
       "      <td>0</td>\n",
       "      <td>1</td>\n",
       "    </tr>\n",
       "    <tr>\n",
       "      <th>2</th>\n",
       "      <td>120000</td>\n",
       "      <td>2</td>\n",
       "      <td>2</td>\n",
       "      <td>2</td>\n",
       "      <td>26</td>\n",
       "      <td>-1</td>\n",
       "      <td>2</td>\n",
       "      <td>0</td>\n",
       "      <td>0</td>\n",
       "      <td>0</td>\n",
       "      <td>...</td>\n",
       "      <td>3272</td>\n",
       "      <td>3455</td>\n",
       "      <td>3261</td>\n",
       "      <td>0</td>\n",
       "      <td>1000</td>\n",
       "      <td>1000</td>\n",
       "      <td>1000</td>\n",
       "      <td>0</td>\n",
       "      <td>2000</td>\n",
       "      <td>1</td>\n",
       "    </tr>\n",
       "    <tr>\n",
       "      <th>3</th>\n",
       "      <td>90000</td>\n",
       "      <td>2</td>\n",
       "      <td>2</td>\n",
       "      <td>2</td>\n",
       "      <td>34</td>\n",
       "      <td>0</td>\n",
       "      <td>0</td>\n",
       "      <td>0</td>\n",
       "      <td>0</td>\n",
       "      <td>0</td>\n",
       "      <td>...</td>\n",
       "      <td>14331</td>\n",
       "      <td>14948</td>\n",
       "      <td>15549</td>\n",
       "      <td>1518</td>\n",
       "      <td>1500</td>\n",
       "      <td>1000</td>\n",
       "      <td>1000</td>\n",
       "      <td>1000</td>\n",
       "      <td>5000</td>\n",
       "      <td>0</td>\n",
       "    </tr>\n",
       "    <tr>\n",
       "      <th>4</th>\n",
       "      <td>50000</td>\n",
       "      <td>2</td>\n",
       "      <td>2</td>\n",
       "      <td>1</td>\n",
       "      <td>37</td>\n",
       "      <td>0</td>\n",
       "      <td>0</td>\n",
       "      <td>0</td>\n",
       "      <td>0</td>\n",
       "      <td>0</td>\n",
       "      <td>...</td>\n",
       "      <td>28314</td>\n",
       "      <td>28959</td>\n",
       "      <td>29547</td>\n",
       "      <td>2000</td>\n",
       "      <td>2019</td>\n",
       "      <td>1200</td>\n",
       "      <td>1100</td>\n",
       "      <td>1069</td>\n",
       "      <td>1000</td>\n",
       "      <td>0</td>\n",
       "    </tr>\n",
       "    <tr>\n",
       "      <th>5</th>\n",
       "      <td>50000</td>\n",
       "      <td>1</td>\n",
       "      <td>2</td>\n",
       "      <td>1</td>\n",
       "      <td>57</td>\n",
       "      <td>-1</td>\n",
       "      <td>0</td>\n",
       "      <td>-1</td>\n",
       "      <td>0</td>\n",
       "      <td>0</td>\n",
       "      <td>...</td>\n",
       "      <td>20940</td>\n",
       "      <td>19146</td>\n",
       "      <td>19131</td>\n",
       "      <td>2000</td>\n",
       "      <td>36681</td>\n",
       "      <td>10000</td>\n",
       "      <td>9000</td>\n",
       "      <td>689</td>\n",
       "      <td>679</td>\n",
       "      <td>0</td>\n",
       "    </tr>\n",
       "  </tbody>\n",
       "</table>\n",
       "<p>5 rows × 24 columns</p>\n",
       "</div>"
      ],
      "text/plain": [
       "       X1  X2  X3  X4  X5  X6  X7  X8  X9  X10 ...    X15    X16    X17   X18  \\\n",
       "1   20000   2   2   1  24   2   2  -1  -1   -2 ...      0      0      0     0   \n",
       "2  120000   2   2   2  26  -1   2   0   0    0 ...   3272   3455   3261     0   \n",
       "3   90000   2   2   2  34   0   0   0   0    0 ...  14331  14948  15549  1518   \n",
       "4   50000   2   2   1  37   0   0   0   0    0 ...  28314  28959  29547  2000   \n",
       "5   50000   1   2   1  57  -1   0  -1   0    0 ...  20940  19146  19131  2000   \n",
       "\n",
       "     X19    X20   X21   X22   X23  Y  \n",
       "1    689      0     0     0     0  1  \n",
       "2   1000   1000  1000     0  2000  1  \n",
       "3   1500   1000  1000  1000  5000  0  \n",
       "4   2019   1200  1100  1069  1000  0  \n",
       "5  36681  10000  9000   689   679  0  \n",
       "\n",
       "[5 rows x 24 columns]"
      ]
     },
     "execution_count": 5,
     "metadata": {},
     "output_type": "execute_result"
    }
   ],
   "source": [
    "df = df.astype(int)\n",
    "df.head()"
   ]
  },
  {
   "cell_type": "code",
   "execution_count": 6,
   "metadata": {},
   "outputs": [
    {
     "name": "stdout",
     "output_type": "stream",
     "text": [
      "[0, 0, 0, 0, 0, 0, 0, 0, 0, 0, 0, 0, 0, 0, 0, 0, 0, 0, 0, 0, 0, 0, 0, 0]\n"
     ]
    }
   ],
   "source": [
    "# checking for null values \n",
    "print(df.isnull().sum(axis=0).tolist())"
   ]
  },
  {
   "cell_type": "code",
   "execution_count": 7,
   "metadata": {},
   "outputs": [
    {
     "data": {
      "text/html": [
       "<div>\n",
       "<style scoped>\n",
       "    .dataframe tbody tr th:only-of-type {\n",
       "        vertical-align: middle;\n",
       "    }\n",
       "\n",
       "    .dataframe tbody tr th {\n",
       "        vertical-align: top;\n",
       "    }\n",
       "\n",
       "    .dataframe thead th {\n",
       "        text-align: right;\n",
       "    }\n",
       "</style>\n",
       "<table border=\"1\" class=\"dataframe\">\n",
       "  <thead>\n",
       "    <tr style=\"text-align: right;\">\n",
       "      <th></th>\n",
       "      <th>X1</th>\n",
       "      <th>X2</th>\n",
       "      <th>X3</th>\n",
       "      <th>X4</th>\n",
       "      <th>X5</th>\n",
       "      <th>X6</th>\n",
       "      <th>X7</th>\n",
       "      <th>X8</th>\n",
       "      <th>X9</th>\n",
       "      <th>X10</th>\n",
       "      <th>...</th>\n",
       "      <th>X14</th>\n",
       "      <th>X15</th>\n",
       "      <th>X16</th>\n",
       "      <th>X17</th>\n",
       "      <th>X18</th>\n",
       "      <th>X19</th>\n",
       "      <th>X20</th>\n",
       "      <th>X21</th>\n",
       "      <th>X22</th>\n",
       "      <th>X23</th>\n",
       "    </tr>\n",
       "  </thead>\n",
       "  <tbody>\n",
       "    <tr>\n",
       "      <th>1</th>\n",
       "      <td>20000</td>\n",
       "      <td>2</td>\n",
       "      <td>2</td>\n",
       "      <td>1</td>\n",
       "      <td>24</td>\n",
       "      <td>2</td>\n",
       "      <td>2</td>\n",
       "      <td>-1</td>\n",
       "      <td>-1</td>\n",
       "      <td>-2</td>\n",
       "      <td>...</td>\n",
       "      <td>689</td>\n",
       "      <td>0</td>\n",
       "      <td>0</td>\n",
       "      <td>0</td>\n",
       "      <td>0</td>\n",
       "      <td>689</td>\n",
       "      <td>0</td>\n",
       "      <td>0</td>\n",
       "      <td>0</td>\n",
       "      <td>0</td>\n",
       "    </tr>\n",
       "    <tr>\n",
       "      <th>2</th>\n",
       "      <td>120000</td>\n",
       "      <td>2</td>\n",
       "      <td>2</td>\n",
       "      <td>2</td>\n",
       "      <td>26</td>\n",
       "      <td>-1</td>\n",
       "      <td>2</td>\n",
       "      <td>0</td>\n",
       "      <td>0</td>\n",
       "      <td>0</td>\n",
       "      <td>...</td>\n",
       "      <td>2682</td>\n",
       "      <td>3272</td>\n",
       "      <td>3455</td>\n",
       "      <td>3261</td>\n",
       "      <td>0</td>\n",
       "      <td>1000</td>\n",
       "      <td>1000</td>\n",
       "      <td>1000</td>\n",
       "      <td>0</td>\n",
       "      <td>2000</td>\n",
       "    </tr>\n",
       "    <tr>\n",
       "      <th>3</th>\n",
       "      <td>90000</td>\n",
       "      <td>2</td>\n",
       "      <td>2</td>\n",
       "      <td>2</td>\n",
       "      <td>34</td>\n",
       "      <td>0</td>\n",
       "      <td>0</td>\n",
       "      <td>0</td>\n",
       "      <td>0</td>\n",
       "      <td>0</td>\n",
       "      <td>...</td>\n",
       "      <td>13559</td>\n",
       "      <td>14331</td>\n",
       "      <td>14948</td>\n",
       "      <td>15549</td>\n",
       "      <td>1518</td>\n",
       "      <td>1500</td>\n",
       "      <td>1000</td>\n",
       "      <td>1000</td>\n",
       "      <td>1000</td>\n",
       "      <td>5000</td>\n",
       "    </tr>\n",
       "    <tr>\n",
       "      <th>4</th>\n",
       "      <td>50000</td>\n",
       "      <td>2</td>\n",
       "      <td>2</td>\n",
       "      <td>1</td>\n",
       "      <td>37</td>\n",
       "      <td>0</td>\n",
       "      <td>0</td>\n",
       "      <td>0</td>\n",
       "      <td>0</td>\n",
       "      <td>0</td>\n",
       "      <td>...</td>\n",
       "      <td>49291</td>\n",
       "      <td>28314</td>\n",
       "      <td>28959</td>\n",
       "      <td>29547</td>\n",
       "      <td>2000</td>\n",
       "      <td>2019</td>\n",
       "      <td>1200</td>\n",
       "      <td>1100</td>\n",
       "      <td>1069</td>\n",
       "      <td>1000</td>\n",
       "    </tr>\n",
       "    <tr>\n",
       "      <th>5</th>\n",
       "      <td>50000</td>\n",
       "      <td>1</td>\n",
       "      <td>2</td>\n",
       "      <td>1</td>\n",
       "      <td>57</td>\n",
       "      <td>-1</td>\n",
       "      <td>0</td>\n",
       "      <td>-1</td>\n",
       "      <td>0</td>\n",
       "      <td>0</td>\n",
       "      <td>...</td>\n",
       "      <td>35835</td>\n",
       "      <td>20940</td>\n",
       "      <td>19146</td>\n",
       "      <td>19131</td>\n",
       "      <td>2000</td>\n",
       "      <td>36681</td>\n",
       "      <td>10000</td>\n",
       "      <td>9000</td>\n",
       "      <td>689</td>\n",
       "      <td>679</td>\n",
       "    </tr>\n",
       "  </tbody>\n",
       "</table>\n",
       "<p>5 rows × 23 columns</p>\n",
       "</div>"
      ],
      "text/plain": [
       "       X1  X2  X3  X4  X5  X6  X7  X8  X9  X10  ...     X14    X15    X16  \\\n",
       "1   20000   2   2   1  24   2   2  -1  -1   -2  ...     689      0      0   \n",
       "2  120000   2   2   2  26  -1   2   0   0    0  ...    2682   3272   3455   \n",
       "3   90000   2   2   2  34   0   0   0   0    0  ...   13559  14331  14948   \n",
       "4   50000   2   2   1  37   0   0   0   0    0  ...   49291  28314  28959   \n",
       "5   50000   1   2   1  57  -1   0  -1   0    0  ...   35835  20940  19146   \n",
       "\n",
       "     X17   X18    X19    X20   X21   X22   X23  \n",
       "1      0     0    689      0     0     0     0  \n",
       "2   3261     0   1000   1000  1000     0  2000  \n",
       "3  15549  1518   1500   1000  1000  1000  5000  \n",
       "4  29547  2000   2019   1200  1100  1069  1000  \n",
       "5  19131  2000  36681  10000  9000   689   679  \n",
       "\n",
       "[5 rows x 23 columns]"
      ]
     },
     "execution_count": 7,
     "metadata": {},
     "output_type": "execute_result"
    }
   ],
   "source": [
    "# Separating Target from rest of data \n",
    "target = df.iloc[:, -1:]\n",
    "target.head()\n",
    "\n",
    "# Taking target out of main dataframe \n",
    "df = df.iloc[:, :-1]\n",
    "df.head()"
   ]
  },
  {
   "cell_type": "code",
   "execution_count": 8,
   "metadata": {},
   "outputs": [
    {
     "data": {
      "text/plain": [
       "count    30000.000000\n",
       "mean        35.485500\n",
       "std          9.217904\n",
       "min         21.000000\n",
       "25%         28.000000\n",
       "50%         34.000000\n",
       "75%         41.000000\n",
       "max         79.000000\n",
       "Name: X5, dtype: float64"
      ]
     },
     "execution_count": 8,
     "metadata": {},
     "output_type": "execute_result"
    },
    {
     "data": {
      "image/png": "[encoded data removed]",
      "text/plain": [
       "<Figure size 432x288 with 1 Axes>"
      ]
     },
     "metadata": {},
     "output_type": "display_data"
    }
   ],
   "source": [
    "# Distribution of Age in the Dataset \n",
    "df['X5'].hist()\n",
    "df['X5'].describe()"
   ]
  },
  {
   "cell_type": "code",
   "execution_count": 9,
   "metadata": {},
   "outputs": [
    {
     "data": {
      "text/plain": [
       "1        (20.999, 30.0]\n",
       "2        (20.999, 30.0]\n",
       "3          (30.0, 39.0]\n",
       "4          (30.0, 39.0]\n",
       "5          (39.0, 79.0]\n",
       "6          (30.0, 39.0]\n",
       "7        (20.999, 30.0]\n",
       "8        (20.999, 30.0]\n",
       "9        (20.999, 30.0]\n",
       "10         (30.0, 39.0]\n",
       "11         (30.0, 39.0]\n",
       "12         (39.0, 79.0]\n",
       "13         (39.0, 79.0]\n",
       "14       (20.999, 30.0]\n",
       "15       (20.999, 30.0]\n",
       "16       (20.999, 30.0]\n",
       "17       (20.999, 30.0]\n",
       "18         (39.0, 79.0]\n",
       "19         (39.0, 79.0]\n",
       "20       (20.999, 30.0]\n",
       "21         (30.0, 39.0]\n",
       "22         (30.0, 39.0]\n",
       "23       (20.999, 30.0]\n",
       "24         (39.0, 79.0]\n",
       "25       (20.999, 30.0]\n",
       "26       (20.999, 30.0]\n",
       "27       (20.999, 30.0]\n",
       "28       (20.999, 30.0]\n",
       "29         (39.0, 79.0]\n",
       "30       (20.999, 30.0]\n",
       "              ...      \n",
       "29971      (30.0, 39.0]\n",
       "29972      (30.0, 39.0]\n",
       "29973      (30.0, 39.0]\n",
       "29974      (30.0, 39.0]\n",
       "29975      (30.0, 39.0]\n",
       "29976      (39.0, 79.0]\n",
       "29977      (39.0, 79.0]\n",
       "29978      (30.0, 39.0]\n",
       "29979      (30.0, 39.0]\n",
       "29980      (30.0, 39.0]\n",
       "29981      (39.0, 79.0]\n",
       "29982      (39.0, 79.0]\n",
       "29983      (30.0, 39.0]\n",
       "29984      (39.0, 79.0]\n",
       "29985      (30.0, 39.0]\n",
       "29986    (20.999, 30.0]\n",
       "29987      (30.0, 39.0]\n",
       "29988      (30.0, 39.0]\n",
       "29989      (30.0, 39.0]\n",
       "29990      (30.0, 39.0]\n",
       "29991      (39.0, 79.0]\n",
       "29992      (30.0, 39.0]\n",
       "29993      (39.0, 79.0]\n",
       "29994      (30.0, 39.0]\n",
       "29995      (30.0, 39.0]\n",
       "29996      (30.0, 39.0]\n",
       "29997      (39.0, 79.0]\n",
       "29998      (30.0, 39.0]\n",
       "29999      (39.0, 79.0]\n",
       "30000      (39.0, 79.0]\n",
       "Name: X5, Length: 30000, dtype: category\n",
       "Categories (3, interval[float64]): [(20.999, 30.0] < (30.0, 39.0] < (39.0, 79.0]]"
      ]
     },
     "execution_count": 9,
     "metadata": {},
     "output_type": "execute_result"
    }
   ],
   "source": [
    "# Trying to create bins out of the age variable\n",
    "pd.qcut(df['X5'], 3)\n",
    "# Creating 3 equal height bins for Age "
   ]
  },
  {
   "cell_type": "code",
   "execution_count": 10,
   "metadata": {},
   "outputs": [
    {
     "data": {
      "text/html": [
       "<div>\n",
       "<style scoped>\n",
       "    .dataframe tbody tr th:only-of-type {\n",
       "        vertical-align: middle;\n",
       "    }\n",
       "\n",
       "    .dataframe tbody tr th {\n",
       "        vertical-align: top;\n",
       "    }\n",
       "\n",
       "    .dataframe thead th {\n",
       "        text-align: right;\n",
       "    }\n",
       "</style>\n",
       "<table border=\"1\" class=\"dataframe\">\n",
       "  <thead>\n",
       "    <tr style=\"text-align: right;\">\n",
       "      <th></th>\n",
       "      <th>X1</th>\n",
       "      <th>X2</th>\n",
       "      <th>X3</th>\n",
       "      <th>X4</th>\n",
       "      <th>X5</th>\n",
       "      <th>X6</th>\n",
       "      <th>X7</th>\n",
       "      <th>X8</th>\n",
       "      <th>X9</th>\n",
       "      <th>X10</th>\n",
       "      <th>...</th>\n",
       "      <th>X15</th>\n",
       "      <th>X16</th>\n",
       "      <th>X17</th>\n",
       "      <th>X18</th>\n",
       "      <th>X19</th>\n",
       "      <th>X20</th>\n",
       "      <th>X21</th>\n",
       "      <th>X22</th>\n",
       "      <th>X23</th>\n",
       "      <th>X5_Bins</th>\n",
       "    </tr>\n",
       "  </thead>\n",
       "  <tbody>\n",
       "    <tr>\n",
       "      <th>1</th>\n",
       "      <td>20000</td>\n",
       "      <td>2</td>\n",
       "      <td>2</td>\n",
       "      <td>1</td>\n",
       "      <td>24</td>\n",
       "      <td>2</td>\n",
       "      <td>2</td>\n",
       "      <td>-1</td>\n",
       "      <td>-1</td>\n",
       "      <td>-2</td>\n",
       "      <td>...</td>\n",
       "      <td>0</td>\n",
       "      <td>0</td>\n",
       "      <td>0</td>\n",
       "      <td>0</td>\n",
       "      <td>689</td>\n",
       "      <td>0</td>\n",
       "      <td>0</td>\n",
       "      <td>0</td>\n",
       "      <td>0</td>\n",
       "      <td>0</td>\n",
       "    </tr>\n",
       "    <tr>\n",
       "      <th>2</th>\n",
       "      <td>120000</td>\n",
       "      <td>2</td>\n",
       "      <td>2</td>\n",
       "      <td>2</td>\n",
       "      <td>26</td>\n",
       "      <td>-1</td>\n",
       "      <td>2</td>\n",
       "      <td>0</td>\n",
       "      <td>0</td>\n",
       "      <td>0</td>\n",
       "      <td>...</td>\n",
       "      <td>3272</td>\n",
       "      <td>3455</td>\n",
       "      <td>3261</td>\n",
       "      <td>0</td>\n",
       "      <td>1000</td>\n",
       "      <td>1000</td>\n",
       "      <td>1000</td>\n",
       "      <td>0</td>\n",
       "      <td>2000</td>\n",
       "      <td>0</td>\n",
       "    </tr>\n",
       "    <tr>\n",
       "      <th>3</th>\n",
       "      <td>90000</td>\n",
       "      <td>2</td>\n",
       "      <td>2</td>\n",
       "      <td>2</td>\n",
       "      <td>34</td>\n",
       "      <td>0</td>\n",
       "      <td>0</td>\n",
       "      <td>0</td>\n",
       "      <td>0</td>\n",
       "      <td>0</td>\n",
       "      <td>...</td>\n",
       "      <td>14331</td>\n",
       "      <td>14948</td>\n",
       "      <td>15549</td>\n",
       "      <td>1518</td>\n",
       "      <td>1500</td>\n",
       "      <td>1000</td>\n",
       "      <td>1000</td>\n",
       "      <td>1000</td>\n",
       "      <td>5000</td>\n",
       "      <td>1</td>\n",
       "    </tr>\n",
       "    <tr>\n",
       "      <th>4</th>\n",
       "      <td>50000</td>\n",
       "      <td>2</td>\n",
       "      <td>2</td>\n",
       "      <td>1</td>\n",
       "      <td>37</td>\n",
       "      <td>0</td>\n",
       "      <td>0</td>\n",
       "      <td>0</td>\n",
       "      <td>0</td>\n",
       "      <td>0</td>\n",
       "      <td>...</td>\n",
       "      <td>28314</td>\n",
       "      <td>28959</td>\n",
       "      <td>29547</td>\n",
       "      <td>2000</td>\n",
       "      <td>2019</td>\n",
       "      <td>1200</td>\n",
       "      <td>1100</td>\n",
       "      <td>1069</td>\n",
       "      <td>1000</td>\n",
       "      <td>1</td>\n",
       "    </tr>\n",
       "    <tr>\n",
       "      <th>5</th>\n",
       "      <td>50000</td>\n",
       "      <td>1</td>\n",
       "      <td>2</td>\n",
       "      <td>1</td>\n",
       "      <td>57</td>\n",
       "      <td>-1</td>\n",
       "      <td>0</td>\n",
       "      <td>-1</td>\n",
       "      <td>0</td>\n",
       "      <td>0</td>\n",
       "      <td>...</td>\n",
       "      <td>20940</td>\n",
       "      <td>19146</td>\n",
       "      <td>19131</td>\n",
       "      <td>2000</td>\n",
       "      <td>36681</td>\n",
       "      <td>10000</td>\n",
       "      <td>9000</td>\n",
       "      <td>689</td>\n",
       "      <td>679</td>\n",
       "      <td>2</td>\n",
       "    </tr>\n",
       "    <tr>\n",
       "      <th>6</th>\n",
       "      <td>50000</td>\n",
       "      <td>1</td>\n",
       "      <td>1</td>\n",
       "      <td>2</td>\n",
       "      <td>37</td>\n",
       "      <td>0</td>\n",
       "      <td>0</td>\n",
       "      <td>0</td>\n",
       "      <td>0</td>\n",
       "      <td>0</td>\n",
       "      <td>...</td>\n",
       "      <td>19394</td>\n",
       "      <td>19619</td>\n",
       "      <td>20024</td>\n",
       "      <td>2500</td>\n",
       "      <td>1815</td>\n",
       "      <td>657</td>\n",
       "      <td>1000</td>\n",
       "      <td>1000</td>\n",
       "      <td>800</td>\n",
       "      <td>1</td>\n",
       "    </tr>\n",
       "    <tr>\n",
       "      <th>7</th>\n",
       "      <td>500000</td>\n",
       "      <td>1</td>\n",
       "      <td>1</td>\n",
       "      <td>2</td>\n",
       "      <td>29</td>\n",
       "      <td>0</td>\n",
       "      <td>0</td>\n",
       "      <td>0</td>\n",
       "      <td>0</td>\n",
       "      <td>0</td>\n",
       "      <td>...</td>\n",
       "      <td>542653</td>\n",
       "      <td>483003</td>\n",
       "      <td>473944</td>\n",
       "      <td>55000</td>\n",
       "      <td>40000</td>\n",
       "      <td>38000</td>\n",
       "      <td>20239</td>\n",
       "      <td>13750</td>\n",
       "      <td>13770</td>\n",
       "      <td>0</td>\n",
       "    </tr>\n",
       "    <tr>\n",
       "      <th>8</th>\n",
       "      <td>100000</td>\n",
       "      <td>2</td>\n",
       "      <td>2</td>\n",
       "      <td>2</td>\n",
       "      <td>23</td>\n",
       "      <td>0</td>\n",
       "      <td>-1</td>\n",
       "      <td>-1</td>\n",
       "      <td>0</td>\n",
       "      <td>0</td>\n",
       "      <td>...</td>\n",
       "      <td>221</td>\n",
       "      <td>-159</td>\n",
       "      <td>567</td>\n",
       "      <td>380</td>\n",
       "      <td>601</td>\n",
       "      <td>0</td>\n",
       "      <td>581</td>\n",
       "      <td>1687</td>\n",
       "      <td>1542</td>\n",
       "      <td>0</td>\n",
       "    </tr>\n",
       "    <tr>\n",
       "      <th>9</th>\n",
       "      <td>140000</td>\n",
       "      <td>2</td>\n",
       "      <td>3</td>\n",
       "      <td>1</td>\n",
       "      <td>28</td>\n",
       "      <td>0</td>\n",
       "      <td>0</td>\n",
       "      <td>2</td>\n",
       "      <td>0</td>\n",
       "      <td>0</td>\n",
       "      <td>...</td>\n",
       "      <td>12211</td>\n",
       "      <td>11793</td>\n",
       "      <td>3719</td>\n",
       "      <td>3329</td>\n",
       "      <td>0</td>\n",
       "      <td>432</td>\n",
       "      <td>1000</td>\n",
       "      <td>1000</td>\n",
       "      <td>1000</td>\n",
       "      <td>0</td>\n",
       "    </tr>\n",
       "    <tr>\n",
       "      <th>10</th>\n",
       "      <td>20000</td>\n",
       "      <td>1</td>\n",
       "      <td>3</td>\n",
       "      <td>2</td>\n",
       "      <td>35</td>\n",
       "      <td>-2</td>\n",
       "      <td>-2</td>\n",
       "      <td>-2</td>\n",
       "      <td>-2</td>\n",
       "      <td>-1</td>\n",
       "      <td>...</td>\n",
       "      <td>0</td>\n",
       "      <td>13007</td>\n",
       "      <td>13912</td>\n",
       "      <td>0</td>\n",
       "      <td>0</td>\n",
       "      <td>0</td>\n",
       "      <td>13007</td>\n",
       "      <td>1122</td>\n",
       "      <td>0</td>\n",
       "      <td>1</td>\n",
       "    </tr>\n",
       "    <tr>\n",
       "      <th>11</th>\n",
       "      <td>200000</td>\n",
       "      <td>2</td>\n",
       "      <td>3</td>\n",
       "      <td>2</td>\n",
       "      <td>34</td>\n",
       "      <td>0</td>\n",
       "      <td>0</td>\n",
       "      <td>2</td>\n",
       "      <td>0</td>\n",
       "      <td>0</td>\n",
       "      <td>...</td>\n",
       "      <td>2513</td>\n",
       "      <td>1828</td>\n",
       "      <td>3731</td>\n",
       "      <td>2306</td>\n",
       "      <td>12</td>\n",
       "      <td>50</td>\n",
       "      <td>300</td>\n",
       "      <td>3738</td>\n",
       "      <td>66</td>\n",
       "      <td>1</td>\n",
       "    </tr>\n",
       "    <tr>\n",
       "      <th>12</th>\n",
       "      <td>260000</td>\n",
       "      <td>2</td>\n",
       "      <td>1</td>\n",
       "      <td>2</td>\n",
       "      <td>51</td>\n",
       "      <td>-1</td>\n",
       "      <td>-1</td>\n",
       "      <td>-1</td>\n",
       "      <td>-1</td>\n",
       "      <td>-1</td>\n",
       "      <td>...</td>\n",
       "      <td>8517</td>\n",
       "      <td>22287</td>\n",
       "      <td>13668</td>\n",
       "      <td>21818</td>\n",
       "      <td>9966</td>\n",
       "      <td>8583</td>\n",
       "      <td>22301</td>\n",
       "      <td>0</td>\n",
       "      <td>3640</td>\n",
       "      <td>2</td>\n",
       "    </tr>\n",
       "    <tr>\n",
       "      <th>13</th>\n",
       "      <td>630000</td>\n",
       "      <td>2</td>\n",
       "      <td>2</td>\n",
       "      <td>2</td>\n",
       "      <td>41</td>\n",
       "      <td>-1</td>\n",
       "      <td>0</td>\n",
       "      <td>-1</td>\n",
       "      <td>-1</td>\n",
       "      <td>-1</td>\n",
       "      <td>...</td>\n",
       "      <td>6500</td>\n",
       "      <td>6500</td>\n",
       "      <td>2870</td>\n",
       "      <td>1000</td>\n",
       "      <td>6500</td>\n",
       "      <td>6500</td>\n",
       "      <td>6500</td>\n",
       "      <td>2870</td>\n",
       "      <td>0</td>\n",
       "      <td>2</td>\n",
       "    </tr>\n",
       "    <tr>\n",
       "      <th>14</th>\n",
       "      <td>70000</td>\n",
       "      <td>1</td>\n",
       "      <td>2</td>\n",
       "      <td>2</td>\n",
       "      <td>30</td>\n",
       "      <td>1</td>\n",
       "      <td>2</td>\n",
       "      <td>2</td>\n",
       "      <td>0</td>\n",
       "      <td>0</td>\n",
       "      <td>...</td>\n",
       "      <td>66782</td>\n",
       "      <td>36137</td>\n",
       "      <td>36894</td>\n",
       "      <td>3200</td>\n",
       "      <td>0</td>\n",
       "      <td>3000</td>\n",
       "      <td>3000</td>\n",
       "      <td>1500</td>\n",
       "      <td>0</td>\n",
       "      <td>0</td>\n",
       "    </tr>\n",
       "    <tr>\n",
       "      <th>15</th>\n",
       "      <td>250000</td>\n",
       "      <td>1</td>\n",
       "      <td>1</td>\n",
       "      <td>2</td>\n",
       "      <td>29</td>\n",
       "      <td>0</td>\n",
       "      <td>0</td>\n",
       "      <td>0</td>\n",
       "      <td>0</td>\n",
       "      <td>0</td>\n",
       "      <td>...</td>\n",
       "      <td>59696</td>\n",
       "      <td>56875</td>\n",
       "      <td>55512</td>\n",
       "      <td>3000</td>\n",
       "      <td>3000</td>\n",
       "      <td>3000</td>\n",
       "      <td>3000</td>\n",
       "      <td>3000</td>\n",
       "      <td>3000</td>\n",
       "      <td>0</td>\n",
       "    </tr>\n",
       "  </tbody>\n",
       "</table>\n",
       "<p>15 rows × 24 columns</p>\n",
       "</div>"
      ],
      "text/plain": [
       "        X1  X2  X3  X4  X5  X6  X7  X8  X9  X10   ...        X15     X16  \\\n",
       "1    20000   2   2   1  24   2   2  -1  -1   -2   ...          0       0   \n",
       "2   120000   2   2   2  26  -1   2   0   0    0   ...       3272    3455   \n",
       "3    90000   2   2   2  34   0   0   0   0    0   ...      14331   14948   \n",
       "4    50000   2   2   1  37   0   0   0   0    0   ...      28314   28959   \n",
       "5    50000   1   2   1  57  -1   0  -1   0    0   ...      20940   19146   \n",
       "6    50000   1   1   2  37   0   0   0   0    0   ...      19394   19619   \n",
       "7   500000   1   1   2  29   0   0   0   0    0   ...     542653  483003   \n",
       "8   100000   2   2   2  23   0  -1  -1   0    0   ...        221    -159   \n",
       "9   140000   2   3   1  28   0   0   2   0    0   ...      12211   11793   \n",
       "10   20000   1   3   2  35  -2  -2  -2  -2   -1   ...          0   13007   \n",
       "11  200000   2   3   2  34   0   0   2   0    0   ...       2513    1828   \n",
       "12  260000   2   1   2  51  -1  -1  -1  -1   -1   ...       8517   22287   \n",
       "13  630000   2   2   2  41  -1   0  -1  -1   -1   ...       6500    6500   \n",
       "14   70000   1   2   2  30   1   2   2   0    0   ...      66782   36137   \n",
       "15  250000   1   1   2  29   0   0   0   0    0   ...      59696   56875   \n",
       "\n",
       "       X17    X18    X19    X20    X21    X22    X23  X5_Bins  \n",
       "1        0      0    689      0      0      0      0        0  \n",
       "2     3261      0   1000   1000   1000      0   2000        0  \n",
       "3    15549   1518   1500   1000   1000   1000   5000        1  \n",
       "4    29547   2000   2019   1200   1100   1069   1000        1  \n",
       "5    19131   2000  36681  10000   9000    689    679        2  \n",
       "6    20024   2500   1815    657   1000   1000    800        1  \n",
       "7   473944  55000  40000  38000  20239  13750  13770        0  \n",
       "8      567    380    601      0    581   1687   1542        0  \n",
       "9     3719   3329      0    432   1000   1000   1000        0  \n",
       "10   13912      0      0      0  13007   1122      0        1  \n",
       "11    3731   2306     12     50    300   3738     66        1  \n",
       "12   13668  21818   9966   8583  22301      0   3640        2  \n",
       "13    2870   1000   6500   6500   6500   2870      0        2  \n",
       "14   36894   3200      0   3000   3000   1500      0        0  \n",
       "15   55512   3000   3000   3000   3000   3000   3000        0  \n",
       "\n",
       "[15 rows x 24 columns]"
      ]
     },
     "execution_count": 10,
     "metadata": {},
     "output_type": "execute_result"
    }
   ],
   "source": [
    "def binning(X5):\n",
    "    if X5 > 20 and X5 <= 30:                \n",
    "        return(0)\n",
    "    if X5 > 30 and X5 <= 39:        \n",
    "        return(1)\n",
    "    if X5 > 39:      \n",
    "        return(2)\n",
    "df['X5_Bins'] = df['X5'].apply(binning)\n",
    "df.head(15)"
   ]
  },
  {
   "cell_type": "code",
   "execution_count": 11,
   "metadata": {},
   "outputs": [],
   "source": [
    "df = df.drop(['X5'], axis=1)"
   ]
  },
  {
   "cell_type": "code",
   "execution_count": 12,
   "metadata": {},
   "outputs": [
    {
     "data": {
      "text/plain": [
       "X1          0.992867\n",
       "X2         -0.424183\n",
       "X3          0.970972\n",
       "X4         -0.018742\n",
       "X6          0.731975\n",
       "X7          0.790565\n",
       "X8          0.840682\n",
       "X9          0.999629\n",
       "X10         1.008197\n",
       "X11         0.948029\n",
       "X12         2.663861\n",
       "X13         2.705221\n",
       "X14         3.087830\n",
       "X15         2.821965\n",
       "X16         2.876380\n",
       "X17         2.846645\n",
       "X18        14.668364\n",
       "X19        30.453817\n",
       "X20        17.216635\n",
       "X21        12.904985\n",
       "X22        11.127417\n",
       "X23        10.640727\n",
       "X5_Bins     0.115017\n",
       "dtype: float64"
      ]
     },
     "execution_count": 12,
     "metadata": {},
     "output_type": "execute_result"
    }
   ],
   "source": [
    "# Checking Skew of Data \n",
    "df.skew()\n",
    "# Goal to get Skew of data between [-0.5, 0.5]"
   ]
  },
  {
   "cell_type": "code",
   "execution_count": 13,
   "metadata": {},
   "outputs": [
    {
     "data": {
      "text/plain": [
       "-0.5134595917536328"
      ]
     },
     "execution_count": 13,
     "metadata": {},
     "output_type": "execute_result"
    },
    {
     "data": {
      "image/png": "[encoded data removed]",
      "text/plain": [
       "<Figure size 432x288 with 1 Axes>"
      ]
     },
     "metadata": {},
     "output_type": "display_data"
    }
   ],
   "source": [
    "df['X1'] = np.log10(df['X1'])\n",
    "plt.hist(df['X1'])\n",
    "plt.title(\"Fixed Shew\")\n",
    "df['X1'].skew()"
   ]
  },
  {
   "cell_type": "code",
   "execution_count": 14,
   "metadata": {},
   "outputs": [
    {
     "data": {
      "text/plain": [
       "0.18381416335551004"
      ]
     },
     "execution_count": 14,
     "metadata": {},
     "output_type": "execute_result"
    },
    {
     "data": {
      "image/png": "[encoded data removed]",
      "text/plain": [
       "<Figure size 432x288 with 1 Axes>"
      ]
     },
     "metadata": {},
     "output_type": "display_data"
    }
   ],
   "source": [
    "df['X12'] = np.cbrt(df['X12'])\n",
    "plt.hist(df['X12'])\n",
    "plt.title(\"Fixed Shew\")\n",
    "df['X12'].skew()"
   ]
  },
  {
   "cell_type": "code",
   "execution_count": 15,
   "metadata": {},
   "outputs": [
    {
     "data": {
      "text/plain": [
       "0.14408321488887335"
      ]
     },
     "execution_count": 15,
     "metadata": {},
     "output_type": "execute_result"
    },
    {
     "data": {
      "image/png": "[encoded data removed]",
      "text/plain": [
       "<Figure size 432x288 with 1 Axes>"
      ]
     },
     "metadata": {},
     "output_type": "display_data"
    }
   ],
   "source": [
    "df['X13'] = np.cbrt(df['X13'])\n",
    "plt.hist(df['X13'])\n",
    "plt.title(\"Fixed Shew\")\n",
    "df['X13'].skew()"
   ]
  },
  {
   "cell_type": "code",
   "execution_count": 16,
   "metadata": {},
   "outputs": [
    {
     "data": {
      "text/plain": [
       "0.14274118585011475"
      ]
     },
     "execution_count": 16,
     "metadata": {},
     "output_type": "execute_result"
    },
    {
     "data": {
      "image/png": "[encoded data removed]",
      "text/plain": [
       "<Figure size 432x288 with 1 Axes>"
      ]
     },
     "metadata": {},
     "output_type": "display_data"
    }
   ],
   "source": [
    "df['X14'] = np.cbrt(df['X14'])\n",
    "plt.hist(df['X14'])\n",
    "plt.title(\"Fixed Shew\")\n",
    "df['X14'].skew()"
   ]
  },
  {
   "cell_type": "code",
   "execution_count": 17,
   "metadata": {},
   "outputs": [
    {
     "data": {
      "text/plain": [
       "0.1432832104310938"
      ]
     },
     "execution_count": 17,
     "metadata": {},
     "output_type": "execute_result"
    },
    {
     "data": {
      "image/png": "[encoded data removed]",
      "text/plain": [
       "<Figure size 432x288 with 1 Axes>"
      ]
     },
     "metadata": {},
     "output_type": "display_data"
    }
   ],
   "source": [
    "df['X15'] = np.cbrt(df['X15'])\n",
    "plt.hist(df['X15'])\n",
    "plt.title(\"Fixed Shew\")\n",
    "df['X15'].skew()"
   ]
  },
  {
   "cell_type": "code",
   "execution_count": 18,
   "metadata": {},
   "outputs": [
    {
     "data": {
      "text/plain": [
       "0.1598484820025544"
      ]
     },
     "execution_count": 18,
     "metadata": {},
     "output_type": "execute_result"
    },
    {
     "data": {
      "image/png": "[encoded data removed]",
      "text/plain": [
       "<Figure size 432x288 with 1 Axes>"
      ]
     },
     "metadata": {},
     "output_type": "display_data"
    }
   ],
   "source": [
    "df['X16'] = np.cbrt(df['X16'])\n",
    "plt.hist(df['X16'])\n",
    "plt.title(\"Fixed Shew\")\n",
    "df['X16'].skew()"
   ]
  },
  {
   "cell_type": "code",
   "execution_count": 19,
   "metadata": {},
   "outputs": [
    {
     "data": {
      "text/plain": [
       "0.15650735628780213"
      ]
     },
     "execution_count": 19,
     "metadata": {},
     "output_type": "execute_result"
    },
    {
     "data": {
      "image/png": "[encoded data removed]",
      "text/plain": [
       "<Figure size 432x288 with 1 Axes>"
      ]
     },
     "metadata": {},
     "output_type": "display_data"
    }
   ],
   "source": [
    "df['X17'] = np.cbrt(df['X17'])\n",
    "plt.hist(df['X17'])\n",
    "plt.title(\"Fixed Shew\")\n",
    "df['X17'].skew()"
   ]
  },
  {
   "cell_type": "code",
   "execution_count": 20,
   "metadata": {},
   "outputs": [
    {
     "data": {
      "text/plain": [
       "0.8355355554768575"
      ]
     },
     "execution_count": 20,
     "metadata": {},
     "output_type": "execute_result"
    },
    {
     "data": {
      "image/png": "[encoded data removed]",
      "text/plain": [
       "<Figure size 432x288 with 1 Axes>"
      ]
     },
     "metadata": {},
     "output_type": "display_data"
    }
   ],
   "source": [
    "df['X18'] = np.cbrt(df['X18'])\n",
    "plt.hist(df['X18'])\n",
    "plt.title(\"Fixed Shew\")\n",
    "df['X18'].skew()"
   ]
  },
  {
   "cell_type": "code",
   "execution_count": 21,
   "metadata": {},
   "outputs": [
    {
     "data": {
      "text/plain": [
       "1.109112560376716"
      ]
     },
     "execution_count": 21,
     "metadata": {},
     "output_type": "execute_result"
    },
    {
     "data": {
      "image/png": "[encoded data removed]",
      "text/plain": [
       "<Figure size 432x288 with 1 Axes>"
      ]
     },
     "metadata": {},
     "output_type": "display_data"
    }
   ],
   "source": [
    "df['X19'] = np.cbrt(df['X19'])\n",
    "plt.hist(df['X19'])\n",
    "plt.title(\"Fixed Shew\")\n",
    "df['X19'].skew()"
   ]
  },
  {
   "cell_type": "code",
   "execution_count": 22,
   "metadata": {},
   "outputs": [
    {
     "data": {
      "text/plain": [
       "1.0503099548630996"
      ]
     },
     "execution_count": 22,
     "metadata": {},
     "output_type": "execute_result"
    },
    {
     "data": {
      "image/png": "[encoded data removed]",
      "text/plain": [
       "<Figure size 432x288 with 1 Axes>"
      ]
     },
     "metadata": {},
     "output_type": "display_data"
    }
   ],
   "source": [
    "df['X20'] = np.cbrt(df['X20'])\n",
    "plt.hist(df['X20'])\n",
    "plt.title(\"Fixed Shew\")\n",
    "df['X20'].skew()"
   ]
  },
  {
   "cell_type": "code",
   "execution_count": 23,
   "metadata": {},
   "outputs": [
    {
     "data": {
      "text/plain": [
       "1.06232179053067"
      ]
     },
     "execution_count": 23,
     "metadata": {},
     "output_type": "execute_result"
    },
    {
     "data": {
      "image/png": "[encoded data removed]",
      "text/plain": [
       "<Figure size 432x288 with 1 Axes>"
      ]
     },
     "metadata": {},
     "output_type": "display_data"
    }
   ],
   "source": [
    "df['X21'] = np.cbrt(df['X21'])\n",
    "plt.hist(df['X21'])\n",
    "plt.title(\"Fixed Shew\")\n",
    "df['X21'].skew()"
   ]
  },
  {
   "cell_type": "code",
   "execution_count": 24,
   "metadata": {},
   "outputs": [
    {
     "data": {
      "text/plain": [
       "-0.9985532763546628"
      ]
     },
     "execution_count": 24,
     "metadata": {},
     "output_type": "execute_result"
    },
    {
     "data": {
      "image/png": "[encoded data removed]",
      "text/plain": [
       "<Figure size 432x288 with 1 Axes>"
      ]
     },
     "metadata": {},
     "output_type": "display_data"
    }
   ],
   "source": [
    "df['X22'] = np.cbrt(np.cbrt(df['X22']))\n",
    "plt.hist(df['X22'])\n",
    "plt.title(\"Fixed Shew\")\n",
    "df['X22'].skew()"
   ]
  },
  {
   "cell_type": "code",
   "execution_count": 25,
   "metadata": {},
   "outputs": [
    {
     "data": {
      "text/plain": [
       "-0.5266272915032604"
      ]
     },
     "execution_count": 25,
     "metadata": {},
     "output_type": "execute_result"
    },
    {
     "data": {
      "image/png": "[encoded data removed]",
      "text/plain": [
       "<Figure size 432x288 with 1 Axes>"
      ]
     },
     "metadata": {},
     "output_type": "display_data"
    }
   ],
   "source": [
    "df['X23'] = np.sqrt(np.cbrt(df['X23']))\n",
    "plt.hist(df['X23'])\n",
    "plt.title(\"Fixed Shew\")\n",
    "df['X23'].skew()"
   ]
  },
  {
   "cell_type": "code",
   "execution_count": 26,
   "metadata": {},
   "outputs": [
    {
     "data": {
      "text/plain": [
       "X1        -0.513460\n",
       "X2        -0.424183\n",
       "X3         0.970972\n",
       "X4        -0.018742\n",
       "X6         0.731975\n",
       "X7         0.790565\n",
       "X8         0.840682\n",
       "X9         0.999629\n",
       "X10        1.008197\n",
       "X11        0.948029\n",
       "X12        0.183814\n",
       "X13        0.144083\n",
       "X14        0.142741\n",
       "X15        0.143283\n",
       "X16        0.159848\n",
       "X17        0.156507\n",
       "X18        0.835536\n",
       "X19        1.109113\n",
       "X20        1.050310\n",
       "X21        1.062322\n",
       "X22       -0.998553\n",
       "X23       -0.526627\n",
       "X5_Bins    0.115017\n",
       "dtype: float64"
      ]
     },
     "execution_count": 26,
     "metadata": {},
     "output_type": "execute_result"
    }
   ],
   "source": [
    "df.skew()"
   ]
  },
  {
   "cell_type": "code",
   "execution_count": 27,
   "metadata": {},
   "outputs": [],
   "source": [
    "# Defining functin to replace outliers using IQR of each column\n",
    "def sd_outlier_replace(x): \n",
    "    if x > (mean + (3*SD)): \n",
    "        x = median\n",
    "    # If a values is greater than the mean plus three times the standard deviation\n",
    "    # This value is then replaced by the median of the columns\n",
    "    elif x < (mean - (3*SD)): \n",
    "        x = median\n",
    "    # If a values is less than the mean minus three times the standard deviation\n",
    "    # This value is then replaced by the median of the columns\n",
    "    else: \n",
    "        pass\n",
    "    # Otherwise, leave the value as is \n",
    "    return(x)"
   ]
  },
  {
   "cell_type": "code",
   "execution_count": 28,
   "metadata": {},
   "outputs": [
    {
     "data": {
      "text/plain": [
       "Text(0.5, 1.0, 'Fixed Outliers')"
      ]
     },
     "execution_count": 28,
     "metadata": {},
     "output_type": "execute_result"
    },
    {
     "data": {
      "image/png": "[encoded data removed]",
      "text/plain": [
       "<Figure size 432x288 with 1 Axes>"
      ]
     },
     "metadata": {},
     "output_type": "display_data"
    }
   ],
   "source": [
    "# Applying function to columns with outliers \n",
    "mean = df['X1'].mean()\n",
    "SD = df['X1'].std()\n",
    "median = df['X1'].median()\n",
    "df['X1'] = df['X1'].apply(lambda x: sd_outlier_replace(x))\n",
    "\n",
    "# Checking with Boxplot \n",
    "plt.boxplot(df['X1'])\n",
    "plt.title(\"Fixed Outliers\")"
   ]
  },
  {
   "cell_type": "code",
   "execution_count": 29,
   "metadata": {},
   "outputs": [
    {
     "data": {
      "text/plain": [
       "Text(0.5, 1.0, 'Fixed Outliers')"
      ]
     },
     "execution_count": 29,
     "metadata": {},
     "output_type": "execute_result"
    },
    {
     "data": {
      "image/png": "[encoded data removed]",
      "text/plain": [
       "<Figure size 432x288 with 1 Axes>"
      ]
     },
     "metadata": {},
     "output_type": "display_data"
    }
   ],
   "source": [
    "# Applying function to columns with outliers \n",
    "mean = df['X12'].mean()\n",
    "SD = df['X12'].std()\n",
    "median = df['X12'].median()\n",
    "df['X12'] = df['X12'].apply(lambda x: sd_outlier_replace(x))\n",
    "\n",
    "# Checking with Boxplot \n",
    "plt.boxplot(df['X12'])\n",
    "plt.title(\"Fixed Outliers\")"
   ]
  },
  {
   "cell_type": "code",
   "execution_count": 30,
   "metadata": {},
   "outputs": [
    {
     "data": {
      "text/plain": [
       "Text(0.5, 1.0, 'Fixed Outliers')"
      ]
     },
     "execution_count": 30,
     "metadata": {},
     "output_type": "execute_result"
    },
    {
     "data": {
      "image/png": "[encoded data removed]",
      "text/plain": [
       "<Figure size 432x288 with 1 Axes>"
      ]
     },
     "metadata": {},
     "output_type": "display_data"
    }
   ],
   "source": [
    "# Applying function to columns with outliers \n",
    "mean = df['X13'].mean()\n",
    "SD = df['X13'].std()\n",
    "median = df['X13'].median()\n",
    "df['X13'] = df['X13'].apply(lambda x: sd_outlier_replace(x))\n",
    "\n",
    "# Checking with Boxplot \n",
    "plt.boxplot(df['X13'])\n",
    "plt.title(\"Fixed Outliers\")"
   ]
  },
  {
   "cell_type": "code",
   "execution_count": 31,
   "metadata": {},
   "outputs": [
    {
     "data": {
      "text/plain": [
       "Text(0.5, 1.0, 'Fixed Outliers')"
      ]
     },
     "execution_count": 31,
     "metadata": {},
     "output_type": "execute_result"
    },
    {
     "data": {
      "image/png": "[encoded data removed]",
      "text/plain": [
       "<Figure size 432x288 with 1 Axes>"
      ]
     },
     "metadata": {},
     "output_type": "display_data"
    }
   ],
   "source": [
    "# Applying function to columns with outliers \n",
    "mean = df['X14'].mean()\n",
    "SD = df['X14'].std()\n",
    "median = df['X14'].median()\n",
    "df['X14'] = df['X14'].apply(lambda x: sd_outlier_replace(x))\n",
    "\n",
    "# Checking with Boxplot \n",
    "plt.boxplot(df['X14'])\n",
    "plt.title(\"Fixed Outliers\")"
   ]
  },
  {
   "cell_type": "code",
   "execution_count": 32,
   "metadata": {},
   "outputs": [
    {
     "data": {
      "text/plain": [
       "Text(0.5, 1.0, 'Fixed Outliers')"
      ]
     },
     "execution_count": 32,
     "metadata": {},
     "output_type": "execute_result"
    },
    {
     "data": {
      "image/png": "[encoded data removed]",
      "text/plain": [
       "<Figure size 432x288 with 1 Axes>"
      ]
     },
     "metadata": {},
     "output_type": "display_data"
    }
   ],
   "source": [
    "# Applying function to columns with outliers \n",
    "mean = df['X15'].mean()\n",
    "SD = df['X15'].std()\n",
    "median = df['X15'].median()\n",
    "df['X15'] = df['X15'].apply(lambda x: sd_outlier_replace(x))\n",
    "\n",
    "# Checking with Boxplot \n",
    "plt.boxplot(df['X15'])\n",
    "plt.title(\"Fixed Outliers\")"
   ]
  },
  {
   "cell_type": "code",
   "execution_count": 33,
   "metadata": {},
   "outputs": [
    {
     "data": {
      "text/plain": [
       "Text(0.5, 1.0, 'Fixed Outliers')"
      ]
     },
     "execution_count": 33,
     "metadata": {},
     "output_type": "execute_result"
    },
    {
     "data": {
      "image/png": "[encoded data removed]",
      "text/plain": [
       "<Figure size 432x288 with 1 Axes>"
      ]
     },
     "metadata": {},
     "output_type": "display_data"
    }
   ],
   "source": [
    "# Applying function to columns with outliers \n",
    "mean = df['X16'].mean()\n",
    "SD = df['X16'].std()\n",
    "median = df['X16'].median()\n",
    "df['X16'] = df['X16'].apply(lambda x: sd_outlier_replace(x))\n",
    "\n",
    "# Checking with Boxplot \n",
    "plt.boxplot(df['X16'])\n",
    "plt.title(\"Fixed Outliers\")"
   ]
  },
  {
   "cell_type": "code",
   "execution_count": 34,
   "metadata": {},
   "outputs": [
    {
     "data": {
      "text/plain": [
       "Text(0.5, 1.0, 'Fixed Outliers')"
      ]
     },
     "execution_count": 34,
     "metadata": {},
     "output_type": "execute_result"
    },
    {
     "data": {
      "image/png": "[encoded data removed]",
      "text/plain": [
       "<Figure size 432x288 with 1 Axes>"
      ]
     },
     "metadata": {},
     "output_type": "display_data"
    }
   ],
   "source": [
    "# Applying function to columns with outliers \n",
    "mean = df['X17'].mean()\n",
    "SD = df['X17'].std()\n",
    "median = df['X17'].median()\n",
    "df['X17'] = df['X17'].apply(lambda x: sd_outlier_replace(x))\n",
    "\n",
    "# Checking with Boxplot \n",
    "plt.boxplot(df['X17'])\n",
    "plt.title(\"Fixed Outliers\")"
   ]
  },
  {
   "cell_type": "code",
   "execution_count": 35,
   "metadata": {},
   "outputs": [
    {
     "data": {
      "text/plain": [
       "Text(0.5, 1.0, 'Fixed Outliers')"
      ]
     },
     "execution_count": 35,
     "metadata": {},
     "output_type": "execute_result"
    },
    {
     "data": {
      "image/png": "[encoded data removed]",
      "text/plain": [
       "<Figure size 432x288 with 1 Axes>"
      ]
     },
     "metadata": {},
     "output_type": "display_data"
    }
   ],
   "source": [
    "# Applying function to columns with outliers \n",
    "mean = df['X18'].mean()\n",
    "SD = df['X18'].std()\n",
    "median = df['X18'].median()\n",
    "df['X18'] = df['X18'].apply(lambda x: sd_outlier_replace(x))\n",
    "\n",
    "# Checking with Boxplot \n",
    "plt.boxplot(df['X18'])\n",
    "plt.title(\"Fixed Outliers\")"
   ]
  },
  {
   "cell_type": "code",
   "execution_count": 36,
   "metadata": {},
   "outputs": [
    {
     "data": {
      "text/plain": [
       "Text(0.5, 1.0, 'Fixed Outliers')"
      ]
     },
     "execution_count": 36,
     "metadata": {},
     "output_type": "execute_result"
    },
    {
     "data": {
      "image/png": "[encoded data removed]",
      "text/plain": [
       "<Figure size 432x288 with 1 Axes>"
      ]
     },
     "metadata": {},
     "output_type": "display_data"
    }
   ],
   "source": [
    "# Applying function to columns with outliers \n",
    "mean = df['X19'].mean()\n",
    "SD = df['X19'].std()\n",
    "median = df['X19'].median()\n",
    "df['X19'] = df['X19'].apply(lambda x: sd_outlier_replace(x))\n",
    "\n",
    "# Checking with Boxplot \n",
    "plt.boxplot(df['X19'])\n",
    "plt.title(\"Fixed Outliers\")"
   ]
  },
  {
   "cell_type": "code",
   "execution_count": 37,
   "metadata": {},
   "outputs": [
    {
     "data": {
      "text/plain": [
       "Text(0.5, 1.0, 'Fixed Outliers')"
      ]
     },
     "execution_count": 37,
     "metadata": {},
     "output_type": "execute_result"
    },
    {
     "data": {
      "image/png": "[encoded data removed]",
      "text/plain": [
       "<Figure size 432x288 with 1 Axes>"
      ]
     },
     "metadata": {},
     "output_type": "display_data"
    }
   ],
   "source": [
    "# Applying function to columns with outliers \n",
    "mean = df['X20'].mean()\n",
    "SD = df['X20'].std()\n",
    "median = df['X20'].median()\n",
    "df['X20'] = df['X20'].apply(lambda x: sd_outlier_replace(x))\n",
    "\n",
    "# Checking with Boxplot \n",
    "plt.boxplot(df['X20'])\n",
    "plt.title(\"Fixed Outliers\")"
   ]
  },
  {
   "cell_type": "code",
   "execution_count": 38,
   "metadata": {},
   "outputs": [
    {
     "data": {
      "text/plain": [
       "Text(0.5, 1.0, 'Fixed Outliers')"
      ]
     },
     "execution_count": 38,
     "metadata": {},
     "output_type": "execute_result"
    },
    {
     "data": {
      "image/png": "[encoded data removed]",
      "text/plain": [
       "<Figure size 432x288 with 1 Axes>"
      ]
     },
     "metadata": {},
     "output_type": "display_data"
    }
   ],
   "source": [
    "# Applying function to columns with outliers \n",
    "mean = df['X21'].mean()\n",
    "SD = df['X21'].std()\n",
    "median = df['X21'].median()\n",
    "df['X21'] = df['X21'].apply(lambda x: sd_outlier_replace(x))\n",
    "\n",
    "# Checking with Boxplot \n",
    "plt.boxplot(df['X21'])\n",
    "plt.title(\"Fixed Outliers\")"
   ]
  },
  {
   "cell_type": "code",
   "execution_count": 39,
   "metadata": {},
   "outputs": [
    {
     "data": {
      "text/plain": [
       "Text(0.5, 1.0, 'Fixed Outliers')"
      ]
     },
     "execution_count": 39,
     "metadata": {},
     "output_type": "execute_result"
    },
    {
     "data": {
      "image/png": "[encoded data removed]",
      "text/plain": [
       "<Figure size 432x288 with 1 Axes>"
      ]
     },
     "metadata": {},
     "output_type": "display_data"
    }
   ],
   "source": [
    "# Applying function to columns with outliers \n",
    "mean = df['X22'].mean()\n",
    "SD = df['X22'].std()\n",
    "median = df['X23'].median()\n",
    "df['X23'] = df['X23'].apply(lambda x: sd_outlier_replace(x))\n",
    "\n",
    "# Checking with Boxplot \n",
    "plt.boxplot(df['X23'])\n",
    "plt.title(\"Fixed Outliers\")"
   ]
  },
  {
   "cell_type": "code",
   "execution_count": 40,
   "metadata": {},
   "outputs": [],
   "source": [
    "dfnorm = df.drop([\"X2\", 'X3', 'X4', 'X5_Bins'], axis=1)\n",
    "df= df.filter([\"X2\", 'X3', 'X4', 'X5_Bins'], axis=1)"
   ]
  },
  {
   "cell_type": "code",
   "execution_count": 41,
   "metadata": {},
   "outputs": [],
   "source": [
    "# Column Names \n",
    "cols = dfnorm.columns\n",
    "\n",
    "# Scaler function from Preprocessing \n",
    "scaler = preprocessing.StandardScaler()\n",
    "\n",
    "# Transforming norm_df\n",
    "dfnorm = scaler.fit_transform(dfnorm)\n",
    "\n",
    "# Making DataFrame from Standardized data \n",
    "# Using column names defined earlier \n",
    "dfnorm = pd.DataFrame(dfnorm, columns=cols)"
   ]
  },
  {
   "cell_type": "code",
   "execution_count": 42,
   "metadata": {},
   "outputs": [
    {
     "name": "stdout",
     "output_type": "stream",
     "text": [
      "             X1        X6        X7        X8        X9       X10       X11  \\\n",
      "0     -1.869598  1.794564  1.782348 -0.696663 -0.666599 -1.530046 -1.486041   \n",
      "1      0.034263 -0.874991  1.782348  0.138865  0.188746  0.234917  1.992316   \n",
      "2     -0.271418  0.014861  0.111736  0.138865  0.188746  0.234917  0.253137   \n",
      "3     -0.895980  0.014861  0.111736  0.138865  0.188746  0.234917  0.253137   \n",
      "4     -0.895980 -0.874991  0.111736 -0.696663  0.188746  0.234917  0.253137   \n",
      "5     -0.895980  0.014861  0.111736  0.138865  0.188746  0.234917  0.253137   \n",
      "6      1.550666  0.014861  0.111736  0.138865  0.188746  0.234917  0.253137   \n",
      "7     -0.159466  0.014861 -0.723570 -0.696663  0.188746  0.234917 -0.616452   \n",
      "8      0.198058  0.014861  0.111736  1.809921  0.188746  0.234917  0.253137   \n",
      "9     -1.869598 -1.764843 -1.558876 -1.532192 -1.521944 -0.647565 -0.616452   \n",
      "10     0.577048  0.014861  0.111736  1.809921  0.188746  0.234917 -0.616452   \n",
      "11     0.855827 -0.874991 -0.723570 -0.696663 -0.666599 -0.647565  1.992316   \n",
      "12     1.796237 -0.874991  0.111736 -0.696663 -0.666599 -0.647565 -0.616452   \n",
      "13    -0.538456  0.904712  1.782348  1.809921  0.188746  0.234917  1.992316   \n",
      "14     0.814152  0.014861  0.111736  0.138865  0.188746  0.234917  0.253137   \n",
      "15    -0.895980  0.904712  1.782348  0.138865  0.188746  0.234917  0.253137   \n",
      "16    -1.869598  0.014861  0.111736  1.809921  1.899436  1.999879  1.992316   \n",
      "17     1.076457  0.014861  0.111736  0.138865 -0.666599 -0.647565 -0.616452   \n",
      "18     1.201609  0.904712 -1.558876 -1.532192 -1.521944 -1.530046 -1.486041   \n",
      "19     0.465095  0.904712 -1.558876 -1.532192 -1.521944 -1.530046 -1.486041   \n",
      "20     0.119313  0.014861  0.111736  0.138865  0.188746  0.234917 -0.616452   \n",
      "21     0.034263 -0.874991 -0.723570 -0.696663 -0.666599 -0.647565 -0.616452   \n",
      "22    -0.538456  1.794564  0.111736  0.138865  1.899436  1.999879  1.992316   \n",
      "23     1.438714 -1.764843 -1.558876 -1.532192 -1.521944 -1.530046 -1.486041   \n",
      "24    -0.271418  0.014861  0.111736  0.138865 -0.666599  0.234917  0.253137   \n",
      "25    -0.895980  0.014861  0.111736  0.138865  0.188746  0.234917  0.253137   \n",
      "26    -0.702251  0.904712 -1.558876 -0.696663 -0.666599 -0.647565 -0.616452   \n",
      "27    -0.895980  0.014861  0.111736  0.138865  0.188746  0.234917  0.253137   \n",
      "28    -0.895980 -0.874991 -0.723570 -0.696663 -0.666599 -0.647565 -0.616452   \n",
      "29    -0.895980  0.014861  0.111736  0.138865  0.188746  0.234917  0.253137   \n",
      "...         ...       ...       ...       ...       ...       ...       ...   \n",
      "29970  1.201609 -0.874991 -0.723570 -0.696663  0.188746  0.234917 -0.616452   \n",
      "29971 -0.396570  0.014861  0.111736  0.138865  0.188746  0.234917  0.253137   \n",
      "29972  0.522545  0.014861  0.111736  0.138865  0.188746  0.234917 -0.616452   \n",
      "29973  0.725554  0.904712 -1.558876 -1.532192 -1.521944 -1.530046 -1.486041   \n",
      "29974 -0.895980  0.904712  1.782348  1.809921  1.899436  0.234917  0.253137   \n",
      "29975  0.678321  0.014861  0.111736 -0.696663 -0.666599 -1.530046 -1.486041   \n",
      "29976 -1.133084  1.794564  1.782348  2.645450  1.899436  1.999879  1.992316   \n",
      "29977  1.365404  0.014861  0.111736  0.138865  0.188746  0.234917  0.253137   \n",
      "29978  1.042722  0.014861  0.111736  0.138865  0.188746  0.234917  0.253137   \n",
      "29979  0.465095 -1.764843 -1.558876 -1.532192 -1.521944 -1.530046 -1.486041   \n",
      "29980 -0.895980  0.014861  0.111736  0.138865  0.188746  0.234917  0.253137   \n",
      "29981 -0.895980  0.904712  1.782348  1.809921  1.899436  0.234917  0.253137   \n",
      "29982 -0.271418  0.014861  0.111736  0.138865  0.188746  0.234917  0.253137   \n",
      "29983 -1.869598 -1.764843 -1.558876 -1.532192 -1.521944 -1.530046 -1.486041   \n",
      "29984 -1.438765 -0.874991 -0.723570 -1.532192 -0.666599 -0.647565 -0.616452   \n",
      "29985  0.770776 -1.764843 -1.558876 -1.532192 -1.521944 -1.530046 -1.486041   \n",
      "29986  1.201609 -0.874991 -0.723570 -1.532192 -1.521944 -1.530046 -1.486041   \n",
      "29987  0.119313  0.014861  0.111736  0.138865  0.188746  0.234917  0.253137   \n",
      "29988  0.814152  0.014861  0.111736  0.138865  0.188746  0.234917  0.253137   \n",
      "29989  0.271367 -0.874991 -0.723570 -0.696663 -0.666599 -0.647565 -1.486041   \n",
      "29990  0.198058  0.014861  0.111736  0.138865  0.188746  0.234917  0.253137   \n",
      "29991  0.628891  2.684416  1.782348  1.809921  1.899436  1.999879  1.992316   \n",
      "29992 -2.606112  0.014861  0.111736  0.138865 -1.521944 -1.530046 -1.486041   \n",
      "29993 -0.159466  0.014861 -0.723570 -0.696663  0.188746  0.234917  0.253137   \n",
      "29994 -0.396570  1.794564  1.782348  1.809921  1.899436  1.999879  1.992316   \n",
      "29995  0.678321  0.014861  0.111736  0.138865  0.188746  0.234917  0.253137   \n",
      "29996  0.271367 -0.874991 -0.723570 -0.696663 -0.666599  0.234917  0.253137   \n",
      "29997 -1.438765  3.574267  2.617654  1.809921 -0.666599  0.234917  0.253137   \n",
      "29998 -0.396570  0.904712 -0.723570  0.138865  0.188746  0.234917 -0.616452   \n",
      "29999 -0.895980  0.014861  0.111736  0.138865  0.188746  0.234917  0.253137   \n",
      "\n",
      "            X12       X13       X14       X15       X16       X17       X18  \\\n",
      "0     -0.730282 -0.751864 -1.046078 -1.521226 -1.484385 -1.424560 -1.641267   \n",
      "1     -0.836401 -0.898091 -0.759368 -0.664866 -0.603803 -0.571497 -1.641267   \n",
      "2      0.126334 -0.213883 -0.195635 -0.120099 -0.049507  0.011254 -0.143924   \n",
      "3      0.426782  0.479376  0.530547  0.236909  0.304360  0.353863  0.000232   \n",
      "4     -0.460283 -0.568584  0.321150  0.068702  0.073899  0.113984  0.000232   \n",
      "5      0.654320  0.597856  0.641347  0.028569  0.086627  0.137559  0.126985   \n",
      "6      2.451623  2.624492  2.778314  0.019405  0.045115  0.056651  3.313443   \n",
      "7     -0.328588 -1.166151 -1.068356 -1.172475 -1.799948 -0.948430 -0.697586   \n",
      "8     -0.350497 -0.211655 -0.245647 -0.192907 -0.158532 -0.533297  0.304102   \n",
      "9     -1.627244 -1.574918 -1.546390 -1.521226 -0.114514 -0.041013 -1.641267   \n",
      "10    -0.358543 -0.367760 -0.544377 -0.736985 -0.772167 -0.532339  0.080009   \n",
      "11    -0.314703 -0.001536 -0.327379 -0.343220  0.154837 -0.049150  1.999300   \n",
      "12    -0.319143 -0.521699 -0.489235 -0.444704 -0.397313 -0.607053 -0.338408   \n",
      "13     0.670758  0.721413  0.739339  0.819075  0.441386  0.490500  0.278642   \n",
      "14     0.728490  0.717897  0.714248  0.733188  0.755682  0.769892  0.237781   \n",
      "15     0.478284  0.162382  0.176081  0.246318  0.316060  0.367086 -1.641267   \n",
      "16    -0.211824 -0.095631 -0.077746 -0.000086  0.039476  0.113259  0.278642   \n",
      "17     1.974182  1.963761  1.736542  0.856915 -0.434470  1.914719  1.198761   \n",
      "18    -1.627244 -1.574918 -1.546390 -1.521226 -1.484385 -1.424560 -1.641267   \n",
      "19    -1.627244 -1.574918 -1.546390 -1.521226 -1.484385 -1.424560 -1.641267   \n",
      "20     0.292409  0.132389  0.098579  0.060459 -0.158195 -0.863049  0.237781   \n",
      "21    -1.239540 -1.190524 -1.160560 -1.521226 -0.984512 -1.032734 -0.753852   \n",
      "22     0.336895  0.393678  0.468738  0.515296  0.616297  0.636802  0.002145   \n",
      "23    -0.621763 -0.057993 -0.901872 -1.045765 -1.484385 -1.424560  1.861195   \n",
      "24    -0.670816 -0.491771 -1.546390 -0.509345 -0.405174 -0.260210  0.693783   \n",
      "25     0.435921  0.383812  0.324410  0.250323  0.322096  0.363819 -0.007188   \n",
      "26    -1.899146 -1.999222 -1.185312 -1.743221 -1.191596 -1.754689 -1.641267   \n",
      "27    -0.019333 -0.148771 -0.085228 -0.012913  0.068044  0.126903 -0.219336   \n",
      "28    -1.134174 -0.725063 -0.693277 -0.789646  0.334148 -1.058818  0.320712   \n",
      "29    -0.213268 -0.136013 -0.075838 -0.012098  0.052695 -0.129871 -0.149866   \n",
      "...         ...       ...       ...       ...       ...       ...       ...   \n",
      "29970  0.210492  0.540743  0.720254  0.589663 -0.287478  0.123468  3.251134   \n",
      "29971  0.667868  0.715592  0.768852  0.852381  0.928386  0.986345  0.101874   \n",
      "29972 -0.041342 -0.020571 -0.524615  0.255526  0.086547  1.621617  0.000232   \n",
      "29973 -1.627244 -1.574918 -1.546390 -1.521226 -1.484385 -1.424560 -1.641267   \n",
      "29974 -0.365031 -0.387444 -0.623259 -0.703772 -0.805238 -0.792885 -1.641267   \n",
      "29975  0.398491 -0.408023 -0.917412 -0.477491 -0.781244 -0.721694  1.052633   \n",
      "29976  0.502195  0.569869  0.586926  0.621543  0.619963  0.650480  0.426893   \n",
      "29977  1.270512  1.332402  1.395015  1.486028  1.574636  1.618002  0.851012   \n",
      "29978  1.905025  1.918497  1.943532  1.957899  2.013455  1.998398  1.168368   \n",
      "29979 -1.627244 -1.574918 -1.546390 -1.521226 -1.484385 -1.424560 -1.641267   \n",
      "29980  0.382227  0.491934  0.532035  0.608942  0.095967  0.128930  1.165657   \n",
      "29981  0.297617  0.301747  0.272394  0.234380  0.164319 -0.017065  0.078515   \n",
      "29982 -0.500716 -0.396175 -0.313671 -0.225729 -0.149487 -0.027326 -0.149866   \n",
      "29983 -0.932027 -0.772731 -0.756444 -0.700339 -0.262305 -0.735449  0.214528   \n",
      "29984 -1.239949 -1.025443 -0.734992 -0.795308 -0.762052 -0.566470 -0.372745   \n",
      "29985 -1.627244 -1.574918 -1.546390 -1.521226 -1.484385 -1.424560 -1.641267   \n",
      "29986 -0.884700 -1.574918 -1.546390 -1.521226 -1.484385 -1.424560 -1.641267   \n",
      "29987 -0.001671 -0.212268 -0.132637  1.226180  1.161349  1.221788  0.237781   \n",
      "29988  2.094992  1.994013  1.988812  2.091900  1.773763  1.821596  0.027147   \n",
      "29989 -0.769236 -0.400634 -1.628087 -0.990240 -1.484385 -1.424560  1.074198   \n",
      "29990  1.316529  1.335383  1.388692  1.461542  0.656861  0.638428  0.726185   \n",
      "29991 -0.854710 -0.808979 -0.777589 -0.738340 -0.693827 -0.643812 -1.641267   \n",
      "29992 -0.451991 -0.343065 -1.546390 -1.521226 -1.484385 -1.424560  0.000232   \n",
      "29993 -0.802491 -0.939554  1.108873  0.863143  0.910176  0.763178  0.000232   \n",
      "29994  0.746846  0.833340  0.888121  0.938318  1.052454  1.066061  0.851012   \n",
      "29995  1.639022  1.685411  1.811829  1.044554  0.350084  0.024399  1.017643   \n",
      "29996 -0.950176 -0.884880 -0.686177 -0.322294 -0.475884 -1.424560 -0.045631   \n",
      "29997 -0.757702 -0.729986 -0.752003  0.067131  0.111922  0.120018 -1.641267   \n",
      "29998 -2.299177  0.840252  0.856219  0.642448 -0.156213  0.679689  0.027147   \n",
      "29999  0.440374  0.488872  0.537169  0.392831  0.373109  0.003952  0.021300   \n",
      "\n",
      "            X19       X20       X21       X22       X23  \n",
      "0     -0.462205 -1.502291 -1.430993 -1.778571 -1.685021  \n",
      "1     -0.310921 -0.205920 -0.131055 -1.778571  0.509548  \n",
      "2     -0.123434 -0.205920 -0.131055  0.280704  0.871636  \n",
      "3      0.030976 -0.124692 -0.089093  0.296028  0.270117  \n",
      "4      2.698176  1.290655  1.272987  0.197210  0.147951  \n",
      "5     -0.026143 -0.375307 -0.131055  0.280704  0.198740  \n",
      "6      2.824278  2.856075  2.111581  0.976879  1.341891  \n",
      "7     -0.513157 -1.502291 -0.346281  0.403905  0.416457  \n",
      "8     -1.606483 -0.522296 -0.131055  0.280704  0.270117  \n",
      "9     -1.606483 -1.502291  1.626145  0.307212 -1.685021  \n",
      "10    -1.309873 -1.024704 -0.560772  0.605620 -0.442125  \n",
      "11     1.181555  1.151961  2.228021 -1.778571  0.739882  \n",
      "12     0.811367  0.917068  0.995023  0.536638 -1.685021  \n",
      "13    -1.606483  0.367399  0.443842  0.375600 -1.685021  \n",
      "14     0.262041  0.367399  0.443842  0.548062  0.662977  \n",
      "15    -0.123434 -0.164073 -0.049603  0.341619  0.301423  \n",
      "16    -1.606483 -0.018317 -1.430993  0.398534 -1.685021  \n",
      "17     1.184722  0.074667  2.097581  1.922358  0.406807  \n",
      "18    -1.606483 -1.502291 -1.430993 -1.778571 -1.685021  \n",
      "19    -1.606483 -1.502291 -1.430993 -1.778571 -1.685021  \n",
      "20    -0.111339 -0.205920  0.206826  0.264166  0.406807  \n",
      "21    -0.724039 -1.502291 -0.315428  0.033287 -1.685021  \n",
      "22     0.375805 -1.502291  0.561501 -1.778571  0.475322  \n",
      "23    -0.132387 -0.433748 -1.430993 -1.778571  0.309762  \n",
      "24    -1.606483  0.771795 -0.049603  0.451075  0.509548  \n",
      "25    -0.148235 -0.205488  0.034230  0.294514  0.269139  \n",
      "26    -0.310921 -1.502291 -0.399232 -1.778571  0.270117  \n",
      "27    -0.192515 -0.205920  0.057064  0.280704  0.274008  \n",
      "28     0.345650  0.142925  2.627423 -0.007845 -1.685021  \n",
      "29    -0.123434 -0.205920 -0.131055  0.391103 -1.685021  \n",
      "...         ...       ...       ...       ...       ...  \n",
      "29970  0.028268  1.184948 -0.942699  1.087316  0.406807  \n",
      "29971  0.151866  0.264165  0.346370  0.602914  0.662977  \n",
      "29972  0.427393  2.294778  1.380333  1.810743  0.854301  \n",
      "29973 -1.606483 -1.502291 -1.430993 -1.778571 -1.685021  \n",
      "29974  0.262041 -1.502291 -1.430993  0.280704  0.270117  \n",
      "29975  0.828970  0.843382  0.138205  0.422921  1.020521  \n",
      "29976 -1.606483  0.131034 -1.430993  0.589754 -1.685021  \n",
      "29977  0.871839  0.786029  0.863624  0.715142  0.871636  \n",
      "29978  1.109981  1.293352  1.174180  0.817392  1.187545  \n",
      "29979 -1.606483 -1.502291 -1.430993 -1.778571 -1.685021  \n",
      "29980  0.450094  0.714472  0.443842  0.655278  0.509548  \n",
      "29981 -0.060251 -1.502291 -0.387668  0.129328  0.102990  \n",
      "29982 -0.123434 -0.018317 -0.049603  0.501403 -1.685021  \n",
      "29983  0.202001  0.344262  1.299073  0.422921  0.451112  \n",
      "29984  0.257254  0.130761  0.455641  0.574332  0.270117  \n",
      "29985 -1.606483 -1.502291 -1.430993 -1.778571 -1.685021  \n",
      "29986 -1.606483 -1.502291 -1.430993 -1.778571 -1.685021  \n",
      "29987  0.025823  0.074667  0.632530  0.685411  0.778812  \n",
      "29988  1.068284  1.195367  0.931151  0.777743  0.951176  \n",
      "29989 -1.606483 -0.307433 -1.430993 -1.778571 -1.685021  \n",
      "29990  0.871839  0.593948  0.058716  0.445569  0.509548  \n",
      "29991 -1.606483 -1.502291 -1.430993 -1.778571 -1.685021  \n",
      "29992 -1.606483 -1.502291 -1.430993 -1.778571 -1.685021  \n",
      "29993  0.028268  0.555569  0.443842  0.445569  0.509548  \n",
      "29994  0.360562 -1.502291  1.055699 -1.778571  0.778299  \n",
      "29995  1.910214  0.714915  0.453582  0.683938  0.270117  \n",
      "29996  0.365421  1.194069 -0.774164 -1.778571 -1.685021  \n",
      "29997 -1.606483  2.130191  0.666364  0.445569  0.675844  \n",
      "29998  0.343365 -0.133162  0.186372  1.422298  0.472145  \n",
      "29999 -0.030509 -0.041770 -0.131055  0.280704  0.270117  \n",
      "\n",
      "[30000 rows x 19 columns]\n"
     ]
    }
   ],
   "source": [
    "print(dfnorm)"
   ]
  },
  {
   "cell_type": "code",
   "execution_count": 43,
   "metadata": {},
   "outputs": [
    {
     "data": {
      "text/html": [
       "<div>\n",
       "<style scoped>\n",
       "    .dataframe tbody tr th:only-of-type {\n",
       "        vertical-align: middle;\n",
       "    }\n",
       "\n",
       "    .dataframe tbody tr th {\n",
       "        vertical-align: top;\n",
       "    }\n",
       "\n",
       "    .dataframe thead th {\n",
       "        text-align: right;\n",
       "    }\n",
       "</style>\n",
       "<table border=\"1\" class=\"dataframe\">\n",
       "  <thead>\n",
       "    <tr style=\"text-align: right;\">\n",
       "      <th></th>\n",
       "      <th>X2</th>\n",
       "      <th>X3</th>\n",
       "      <th>X4</th>\n",
       "      <th>X5_Bins</th>\n",
       "      <th>X1</th>\n",
       "      <th>X6</th>\n",
       "      <th>X7</th>\n",
       "      <th>X8</th>\n",
       "      <th>X9</th>\n",
       "      <th>X10</th>\n",
       "      <th>...</th>\n",
       "      <th>X14</th>\n",
       "      <th>X15</th>\n",
       "      <th>X16</th>\n",
       "      <th>X17</th>\n",
       "      <th>X18</th>\n",
       "      <th>X19</th>\n",
       "      <th>X20</th>\n",
       "      <th>X21</th>\n",
       "      <th>X22</th>\n",
       "      <th>X23</th>\n",
       "    </tr>\n",
       "  </thead>\n",
       "  <tbody>\n",
       "    <tr>\n",
       "      <th>1</th>\n",
       "      <td>2</td>\n",
       "      <td>2</td>\n",
       "      <td>1</td>\n",
       "      <td>0</td>\n",
       "      <td>0.034263</td>\n",
       "      <td>-0.874991</td>\n",
       "      <td>1.782348</td>\n",
       "      <td>0.138865</td>\n",
       "      <td>0.188746</td>\n",
       "      <td>0.234917</td>\n",
       "      <td>...</td>\n",
       "      <td>-0.759368</td>\n",
       "      <td>-0.664866</td>\n",
       "      <td>-0.603803</td>\n",
       "      <td>-0.571497</td>\n",
       "      <td>-1.641267</td>\n",
       "      <td>-0.310921</td>\n",
       "      <td>-0.205920</td>\n",
       "      <td>-0.131055</td>\n",
       "      <td>-1.778571</td>\n",
       "      <td>0.509548</td>\n",
       "    </tr>\n",
       "    <tr>\n",
       "      <th>2</th>\n",
       "      <td>2</td>\n",
       "      <td>2</td>\n",
       "      <td>2</td>\n",
       "      <td>0</td>\n",
       "      <td>-0.271418</td>\n",
       "      <td>0.014861</td>\n",
       "      <td>0.111736</td>\n",
       "      <td>0.138865</td>\n",
       "      <td>0.188746</td>\n",
       "      <td>0.234917</td>\n",
       "      <td>...</td>\n",
       "      <td>-0.195635</td>\n",
       "      <td>-0.120099</td>\n",
       "      <td>-0.049507</td>\n",
       "      <td>0.011254</td>\n",
       "      <td>-0.143924</td>\n",
       "      <td>-0.123434</td>\n",
       "      <td>-0.205920</td>\n",
       "      <td>-0.131055</td>\n",
       "      <td>0.280704</td>\n",
       "      <td>0.871636</td>\n",
       "    </tr>\n",
       "    <tr>\n",
       "      <th>3</th>\n",
       "      <td>2</td>\n",
       "      <td>2</td>\n",
       "      <td>2</td>\n",
       "      <td>1</td>\n",
       "      <td>-0.895980</td>\n",
       "      <td>0.014861</td>\n",
       "      <td>0.111736</td>\n",
       "      <td>0.138865</td>\n",
       "      <td>0.188746</td>\n",
       "      <td>0.234917</td>\n",
       "      <td>...</td>\n",
       "      <td>0.530547</td>\n",
       "      <td>0.236909</td>\n",
       "      <td>0.304360</td>\n",
       "      <td>0.353863</td>\n",
       "      <td>0.000232</td>\n",
       "      <td>0.030976</td>\n",
       "      <td>-0.124692</td>\n",
       "      <td>-0.089093</td>\n",
       "      <td>0.296028</td>\n",
       "      <td>0.270117</td>\n",
       "    </tr>\n",
       "    <tr>\n",
       "      <th>4</th>\n",
       "      <td>2</td>\n",
       "      <td>2</td>\n",
       "      <td>1</td>\n",
       "      <td>1</td>\n",
       "      <td>-0.895980</td>\n",
       "      <td>-0.874991</td>\n",
       "      <td>0.111736</td>\n",
       "      <td>-0.696663</td>\n",
       "      <td>0.188746</td>\n",
       "      <td>0.234917</td>\n",
       "      <td>...</td>\n",
       "      <td>0.321150</td>\n",
       "      <td>0.068702</td>\n",
       "      <td>0.073899</td>\n",
       "      <td>0.113984</td>\n",
       "      <td>0.000232</td>\n",
       "      <td>2.698176</td>\n",
       "      <td>1.290655</td>\n",
       "      <td>1.272987</td>\n",
       "      <td>0.197210</td>\n",
       "      <td>0.147951</td>\n",
       "    </tr>\n",
       "    <tr>\n",
       "      <th>5</th>\n",
       "      <td>1</td>\n",
       "      <td>2</td>\n",
       "      <td>1</td>\n",
       "      <td>2</td>\n",
       "      <td>-0.895980</td>\n",
       "      <td>0.014861</td>\n",
       "      <td>0.111736</td>\n",
       "      <td>0.138865</td>\n",
       "      <td>0.188746</td>\n",
       "      <td>0.234917</td>\n",
       "      <td>...</td>\n",
       "      <td>0.641347</td>\n",
       "      <td>0.028569</td>\n",
       "      <td>0.086627</td>\n",
       "      <td>0.137559</td>\n",
       "      <td>0.126985</td>\n",
       "      <td>-0.026143</td>\n",
       "      <td>-0.375307</td>\n",
       "      <td>-0.131055</td>\n",
       "      <td>0.280704</td>\n",
       "      <td>0.198740</td>\n",
       "    </tr>\n",
       "  </tbody>\n",
       "</table>\n",
       "<p>5 rows × 23 columns</p>\n",
       "</div>"
      ],
      "text/plain": [
       "   X2  X3  X4  X5_Bins        X1        X6        X7        X8        X9  \\\n",
       "1   2   2   1        0  0.034263 -0.874991  1.782348  0.138865  0.188746   \n",
       "2   2   2   2        0 -0.271418  0.014861  0.111736  0.138865  0.188746   \n",
       "3   2   2   2        1 -0.895980  0.014861  0.111736  0.138865  0.188746   \n",
       "4   2   2   1        1 -0.895980 -0.874991  0.111736 -0.696663  0.188746   \n",
       "5   1   2   1        2 -0.895980  0.014861  0.111736  0.138865  0.188746   \n",
       "\n",
       "        X10    ...          X14       X15       X16       X17       X18  \\\n",
       "1  0.234917    ...    -0.759368 -0.664866 -0.603803 -0.571497 -1.641267   \n",
       "2  0.234917    ...    -0.195635 -0.120099 -0.049507  0.011254 -0.143924   \n",
       "3  0.234917    ...     0.530547  0.236909  0.304360  0.353863  0.000232   \n",
       "4  0.234917    ...     0.321150  0.068702  0.073899  0.113984  0.000232   \n",
       "5  0.234917    ...     0.641347  0.028569  0.086627  0.137559  0.126985   \n",
       "\n",
       "        X19       X20       X21       X22       X23  \n",
       "1 -0.310921 -0.205920 -0.131055 -1.778571  0.509548  \n",
       "2 -0.123434 -0.205920 -0.131055  0.280704  0.871636  \n",
       "3  0.030976 -0.124692 -0.089093  0.296028  0.270117  \n",
       "4  2.698176  1.290655  1.272987  0.197210  0.147951  \n",
       "5 -0.026143 -0.375307 -0.131055  0.280704  0.198740  \n",
       "\n",
       "[5 rows x 23 columns]"
      ]
     },
     "execution_count": 43,
     "metadata": {},
     "output_type": "execute_result"
    }
   ],
   "source": [
    "df = pd.concat([df,dfnorm], axis=1, join='inner')\n",
    "df.head()"
   ]
  },
  {
   "cell_type": "code",
   "execution_count": 44,
   "metadata": {},
   "outputs": [
    {
     "data": {
      "text/plain": [
       "X2         1.603753\n",
       "X3         1.853128\n",
       "X4         1.551885\n",
       "X5_Bins    0.937665\n",
       "X1         0.000062\n",
       "X6        -0.000060\n",
       "X7        -0.000059\n",
       "X8         0.000023\n",
       "X9         0.000022\n",
       "X10        0.000051\n",
       "X11        0.000050\n",
       "X12        0.000024\n",
       "X13        0.000025\n",
       "X14        0.000035\n",
       "X15        0.000051\n",
       "X16        0.000049\n",
       "X17        0.000047\n",
       "X18        0.000055\n",
       "X19        0.000015\n",
       "X20        0.000050\n",
       "X21        0.000048\n",
       "X22        0.000059\n",
       "X23        0.000056\n",
       "dtype: float64"
      ]
     },
     "execution_count": 44,
     "metadata": {},
     "output_type": "execute_result"
    }
   ],
   "source": [
    "# Checking mean for standardized \n",
    "# Want to see mean very close to 0 \n",
    "df.mean()"
   ]
  },
  {
   "cell_type": "code",
   "execution_count": 45,
   "metadata": {},
   "outputs": [
    {
     "data": {
      "text/plain": [
       "X2         0.489125\n",
       "X3         0.790361\n",
       "X4         0.521969\n",
       "X5_Bins    0.817328\n",
       "X1         0.999975\n",
       "X6         0.999980\n",
       "X7         0.999980\n",
       "X8         1.000025\n",
       "X9         1.000026\n",
       "X10        0.999994\n",
       "X11        0.999997\n",
       "X12        1.000024\n",
       "X13        1.000024\n",
       "X14        1.000015\n",
       "X15        0.999995\n",
       "X16        0.999997\n",
       "X17        1.000000\n",
       "X18        0.999988\n",
       "X19        1.000030\n",
       "X20        0.999996\n",
       "X21        0.999999\n",
       "X22        0.999981\n",
       "X23        0.999986\n",
       "dtype: float64"
      ]
     },
     "execution_count": 45,
     "metadata": {},
     "output_type": "execute_result"
    }
   ],
   "source": [
    "# Checking standard deviation of standardized data\n",
    "# Want std dev of each column close to 1 \n",
    "df.std()"
   ]
  },
  {
   "cell_type": "code",
   "execution_count": 46,
   "metadata": {},
   "outputs": [
    {
     "data": {
      "text/plain": [
       "array([[<matplotlib.axes._subplots.AxesSubplot object at 0x7f40e7ae34e0>,\n",
       "        <matplotlib.axes._subplots.AxesSubplot object at 0x7f40e8169278>,\n",
       "        <matplotlib.axes._subplots.AxesSubplot object at 0x7f40e4c95860>,\n",
       "        <matplotlib.axes._subplots.AxesSubplot object at 0x7f40e80dbb70>,\n",
       "        <matplotlib.axes._subplots.AxesSubplot object at 0x7f40e8339128>],\n",
       "       [<matplotlib.axes._subplots.AxesSubplot object at 0x7f40ea1736a0>,\n",
       "        <matplotlib.axes._subplots.AxesSubplot object at 0x7f40e7936c18>,\n",
       "        <matplotlib.axes._subplots.AxesSubplot object at 0x7f40ea121208>,\n",
       "        <matplotlib.axes._subplots.AxesSubplot object at 0x7f40ea121240>,\n",
       "        <matplotlib.axes._subplots.AxesSubplot object at 0x7f40e9f9dcc0>],\n",
       "       [<matplotlib.axes._subplots.AxesSubplot object at 0x7f40e9dcb240>,\n",
       "        <matplotlib.axes._subplots.AxesSubplot object at 0x7f40e9d677b8>,\n",
       "        <matplotlib.axes._subplots.AxesSubplot object at 0x7f40e9d42d30>,\n",
       "        <matplotlib.axes._subplots.AxesSubplot object at 0x7f40e84f72e8>,\n",
       "        <matplotlib.axes._subplots.AxesSubplot object at 0x7f40e83cb860>],\n",
       "       [<matplotlib.axes._subplots.AxesSubplot object at 0x7f40e82e8dd8>,\n",
       "        <matplotlib.axes._subplots.AxesSubplot object at 0x7f40e7f59390>,\n",
       "        <matplotlib.axes._subplots.AxesSubplot object at 0x7f40e7eb3908>,\n",
       "        <matplotlib.axes._subplots.AxesSubplot object at 0x7f40e7c0be80>,\n",
       "        <matplotlib.axes._subplots.AxesSubplot object at 0x7f40e7b40438>],\n",
       "       [<matplotlib.axes._subplots.AxesSubplot object at 0x7f40e79999b0>,\n",
       "        <matplotlib.axes._subplots.AxesSubplot object at 0x7f40e78f5f28>,\n",
       "        <matplotlib.axes._subplots.AxesSubplot object at 0x7f40ea1d7470>,\n",
       "        <matplotlib.axes._subplots.AxesSubplot object at 0x7f40ea76ea58>,\n",
       "        <matplotlib.axes._subplots.AxesSubplot object at 0x7f40e4c21fd0>]],\n",
       "      dtype=object)"
      ]
     },
     "execution_count": 46,
     "metadata": {},
     "output_type": "execute_result"
    },
    {
     "data": {
      "image/png": "[encoded data removed]",
      "text/plain": [
       "<Figure size 432x288 with 25 Axes>"
      ]
     },
     "metadata": {},
     "output_type": "display_data"
    }
   ],
   "source": [
    "df.hist()"
   ]
  },
  {
   "cell_type": "code",
   "execution_count": 47,
   "metadata": {},
   "outputs": [
    {
     "data": {
      "text/html": [
       "<div>\n",
       "<style scoped>\n",
       "    .dataframe tbody tr th:only-of-type {\n",
       "        vertical-align: middle;\n",
       "    }\n",
       "\n",
       "    .dataframe tbody tr th {\n",
       "        vertical-align: top;\n",
       "    }\n",
       "\n",
       "    .dataframe thead th {\n",
       "        text-align: right;\n",
       "    }\n",
       "</style>\n",
       "<table border=\"1\" class=\"dataframe\">\n",
       "  <thead>\n",
       "    <tr style=\"text-align: right;\">\n",
       "      <th></th>\n",
       "      <th>X2</th>\n",
       "      <th>X3</th>\n",
       "      <th>X4</th>\n",
       "      <th>X5_Bins</th>\n",
       "      <th>X1</th>\n",
       "      <th>X6</th>\n",
       "      <th>X7</th>\n",
       "      <th>X8</th>\n",
       "      <th>X9</th>\n",
       "      <th>X10</th>\n",
       "      <th>...</th>\n",
       "      <th>X15</th>\n",
       "      <th>X16</th>\n",
       "      <th>X17</th>\n",
       "      <th>X18</th>\n",
       "      <th>X19</th>\n",
       "      <th>X20</th>\n",
       "      <th>X21</th>\n",
       "      <th>X22</th>\n",
       "      <th>X23</th>\n",
       "      <th>Y</th>\n",
       "    </tr>\n",
       "  </thead>\n",
       "  <tbody>\n",
       "    <tr>\n",
       "      <th>1</th>\n",
       "      <td>2</td>\n",
       "      <td>2</td>\n",
       "      <td>1</td>\n",
       "      <td>0</td>\n",
       "      <td>0.034263</td>\n",
       "      <td>-0.874991</td>\n",
       "      <td>1.782348</td>\n",
       "      <td>0.138865</td>\n",
       "      <td>0.188746</td>\n",
       "      <td>0.234917</td>\n",
       "      <td>...</td>\n",
       "      <td>-0.664866</td>\n",
       "      <td>-0.603803</td>\n",
       "      <td>-0.571497</td>\n",
       "      <td>-1.641267</td>\n",
       "      <td>-0.310921</td>\n",
       "      <td>-0.205920</td>\n",
       "      <td>-0.131055</td>\n",
       "      <td>-1.778571</td>\n",
       "      <td>0.509548</td>\n",
       "      <td>1</td>\n",
       "    </tr>\n",
       "    <tr>\n",
       "      <th>2</th>\n",
       "      <td>2</td>\n",
       "      <td>2</td>\n",
       "      <td>2</td>\n",
       "      <td>0</td>\n",
       "      <td>-0.271418</td>\n",
       "      <td>0.014861</td>\n",
       "      <td>0.111736</td>\n",
       "      <td>0.138865</td>\n",
       "      <td>0.188746</td>\n",
       "      <td>0.234917</td>\n",
       "      <td>...</td>\n",
       "      <td>-0.120099</td>\n",
       "      <td>-0.049507</td>\n",
       "      <td>0.011254</td>\n",
       "      <td>-0.143924</td>\n",
       "      <td>-0.123434</td>\n",
       "      <td>-0.205920</td>\n",
       "      <td>-0.131055</td>\n",
       "      <td>0.280704</td>\n",
       "      <td>0.871636</td>\n",
       "      <td>1</td>\n",
       "    </tr>\n",
       "    <tr>\n",
       "      <th>3</th>\n",
       "      <td>2</td>\n",
       "      <td>2</td>\n",
       "      <td>2</td>\n",
       "      <td>1</td>\n",
       "      <td>-0.895980</td>\n",
       "      <td>0.014861</td>\n",
       "      <td>0.111736</td>\n",
       "      <td>0.138865</td>\n",
       "      <td>0.188746</td>\n",
       "      <td>0.234917</td>\n",
       "      <td>...</td>\n",
       "      <td>0.236909</td>\n",
       "      <td>0.304360</td>\n",
       "      <td>0.353863</td>\n",
       "      <td>0.000232</td>\n",
       "      <td>0.030976</td>\n",
       "      <td>-0.124692</td>\n",
       "      <td>-0.089093</td>\n",
       "      <td>0.296028</td>\n",
       "      <td>0.270117</td>\n",
       "      <td>0</td>\n",
       "    </tr>\n",
       "    <tr>\n",
       "      <th>4</th>\n",
       "      <td>2</td>\n",
       "      <td>2</td>\n",
       "      <td>1</td>\n",
       "      <td>1</td>\n",
       "      <td>-0.895980</td>\n",
       "      <td>-0.874991</td>\n",
       "      <td>0.111736</td>\n",
       "      <td>-0.696663</td>\n",
       "      <td>0.188746</td>\n",
       "      <td>0.234917</td>\n",
       "      <td>...</td>\n",
       "      <td>0.068702</td>\n",
       "      <td>0.073899</td>\n",
       "      <td>0.113984</td>\n",
       "      <td>0.000232</td>\n",
       "      <td>2.698176</td>\n",
       "      <td>1.290655</td>\n",
       "      <td>1.272987</td>\n",
       "      <td>0.197210</td>\n",
       "      <td>0.147951</td>\n",
       "      <td>0</td>\n",
       "    </tr>\n",
       "    <tr>\n",
       "      <th>5</th>\n",
       "      <td>1</td>\n",
       "      <td>2</td>\n",
       "      <td>1</td>\n",
       "      <td>2</td>\n",
       "      <td>-0.895980</td>\n",
       "      <td>0.014861</td>\n",
       "      <td>0.111736</td>\n",
       "      <td>0.138865</td>\n",
       "      <td>0.188746</td>\n",
       "      <td>0.234917</td>\n",
       "      <td>...</td>\n",
       "      <td>0.028569</td>\n",
       "      <td>0.086627</td>\n",
       "      <td>0.137559</td>\n",
       "      <td>0.126985</td>\n",
       "      <td>-0.026143</td>\n",
       "      <td>-0.375307</td>\n",
       "      <td>-0.131055</td>\n",
       "      <td>0.280704</td>\n",
       "      <td>0.198740</td>\n",
       "      <td>0</td>\n",
       "    </tr>\n",
       "  </tbody>\n",
       "</table>\n",
       "<p>5 rows × 24 columns</p>\n",
       "</div>"
      ],
      "text/plain": [
       "   X2  X3  X4  X5_Bins        X1        X6        X7        X8        X9  \\\n",
       "1   2   2   1        0  0.034263 -0.874991  1.782348  0.138865  0.188746   \n",
       "2   2   2   2        0 -0.271418  0.014861  0.111736  0.138865  0.188746   \n",
       "3   2   2   2        1 -0.895980  0.014861  0.111736  0.138865  0.188746   \n",
       "4   2   2   1        1 -0.895980 -0.874991  0.111736 -0.696663  0.188746   \n",
       "5   1   2   1        2 -0.895980  0.014861  0.111736  0.138865  0.188746   \n",
       "\n",
       "        X10 ...       X15       X16       X17       X18       X19       X20  \\\n",
       "1  0.234917 ... -0.664866 -0.603803 -0.571497 -1.641267 -0.310921 -0.205920   \n",
       "2  0.234917 ... -0.120099 -0.049507  0.011254 -0.143924 -0.123434 -0.205920   \n",
       "3  0.234917 ...  0.236909  0.304360  0.353863  0.000232  0.030976 -0.124692   \n",
       "4  0.234917 ...  0.068702  0.073899  0.113984  0.000232  2.698176  1.290655   \n",
       "5  0.234917 ...  0.028569  0.086627  0.137559  0.126985 -0.026143 -0.375307   \n",
       "\n",
       "        X21       X22       X23  Y  \n",
       "1 -0.131055 -1.778571  0.509548  1  \n",
       "2 -0.131055  0.280704  0.871636  1  \n",
       "3 -0.089093  0.296028  0.270117  0  \n",
       "4  1.272987  0.197210  0.147951  0  \n",
       "5 -0.131055  0.280704  0.198740  0  \n",
       "\n",
       "[5 rows x 24 columns]"
      ]
     },
     "execution_count": 47,
     "metadata": {},
     "output_type": "execute_result"
    }
   ],
   "source": [
    "df = pd.concat([df,target], axis=1, join='inner')\n",
    "df.head()"
   ]
  },
  {
   "cell_type": "code",
   "execution_count": 48,
   "metadata": {},
   "outputs": [],
   "source": [
    "y = df.loc[:, ['Y']].values.ravel()\n",
    "\n",
    "dfnew = df.drop(['Y'], axis=1)"
   ]
  },
  {
   "cell_type": "code",
   "execution_count": 49,
   "metadata": {},
   "outputs": [
    {
     "name": "stdout",
     "output_type": "stream",
     "text": [
      "[ True  True  True False False False False False False False False False\n",
      " False False False False False False False False False False False]\n",
      "{'X2': 1, 'X3': 1, 'X4': 1, 'X5_Bins': 11, 'X1': 14, 'X6': 2, 'X7': 20, 'X8': 17, 'X9': 7, 'X10': 8, 'X11': 13, 'X12': 16, 'X13': 15, 'X14': 3, 'X15': 4, 'X16': 5, 'X17': 6, 'X18': 10, 'X19': 18, 'X20': 9, 'X21': 12, 'X22': 21, 'X23': 19}\n"
     ]
    }
   ],
   "source": [
    "# Recursive Feature Elimination for Y1 target \n",
    "from sklearn import datasets\n",
    "from sklearn.feature_selection import RFE\n",
    "from sklearn.linear_model import LogisticRegression\n",
    "# create a base classifier used to evaluate a subset of attributes\n",
    "model = LogisticRegression()\n",
    "# create the RFE model and select 3 attributes\n",
    "rfe = RFE(model, 3)\n",
    "rfe = rfe.fit(dfnew, y)\n",
    "# summarize the selection of the attributes\n",
    "print(rfe.support_)\n",
    "print(dict(zip(df.columns, rfe.ranking_)))"
   ]
  },
  {
   "cell_type": "code",
   "execution_count": 50,
   "metadata": {},
   "outputs": [],
   "source": [
    "# Exporting DataFrame as CSV \n",
    "df.to_csv('Final3', ',')"
   ]
  },
  {
   "cell_type": "code",
   "execution_count": 51,
   "metadata": {},
   "outputs": [],
   "source": [
    "# FIN"
   ]
  },
  {
   "cell_type": "code",
   "execution_count": 52,
   "metadata": {},
   "outputs": [
    {
     "data": {
      "text/plain": [
       "array(['X2', 'X3', 'X4', 'X5_Bins', 'X1', 'X6', 'X7', 'X8', 'X9', 'X10',\n",
       "       'X11', 'X12', 'X13', 'X14', 'X15', 'X16', 'X17', 'X18', 'X19',\n",
       "       'X20', 'X21', 'X22', 'X23', 'Y'], dtype=object)"
      ]
     },
     "execution_count": 52,
     "metadata": {},
     "output_type": "execute_result"
    }
   ],
   "source": [
    "# Logistic Regression \n",
    "df.columns.values"
   ]
  },
  {
   "cell_type": "code",
   "execution_count": 53,
   "metadata": {},
   "outputs": [],
   "source": [
    "X = df.iloc[:,:-1] # Features\n",
    "y = df.Y # Target variable"
   ]
  },
  {
   "cell_type": "code",
   "execution_count": 54,
   "metadata": {},
   "outputs": [],
   "source": [
    "from sklearn.model_selection import train_test_split\n",
    "\n",
    "X_train,X_test,y_train,y_test=train_test_split(X,y,test_size=0.25,random_state=2019)"
   ]
  },
  {
   "cell_type": "code",
   "execution_count": 55,
   "metadata": {},
   "outputs": [],
   "source": [
    "# import the class\n",
    "from sklearn.linear_model import LogisticRegression\n",
    "\n",
    "# instantiate the model (using the default parameters)\n",
    "logreg = LogisticRegression()\n",
    "\n",
    "# fit the model with data\n",
    "logreg.fit(X_train,y_train)\n",
    "\n",
    "#\n",
    "y_pred=logreg.predict(X_test)"
   ]
  },
  {
   "cell_type": "code",
   "execution_count": 56,
   "metadata": {},
   "outputs": [
    {
     "data": {
      "text/plain": [
       "array([[5880,    0],\n",
       "       [1620,    0]])"
      ]
     },
     "execution_count": 56,
     "metadata": {},
     "output_type": "execute_result"
    }
   ],
   "source": [
    "# import the metrics class\n",
    "from sklearn import metrics\n",
    "cnf_matrix = metrics.confusion_matrix(y_test, y_pred)\n",
    "cnf_matrix"
   ]
  },
  {
   "cell_type": "code",
   "execution_count": 57,
   "metadata": {},
   "outputs": [
    {
     "data": {
      "text/plain": [
       "Text(0.5, 257.44, 'Predicted label')"
      ]
     },
     "execution_count": 57,
     "metadata": {},
     "output_type": "execute_result"
    },
    {
     "data": {
      "image/png": "[encoded data removed]",
      "text/plain": [
       "<Figure size 432x288 with 2 Axes>"
      ]
     },
     "metadata": {},
     "output_type": "display_data"
    }
   ],
   "source": [
    "import seaborn as sns\n",
    "\n",
    "\n",
    "class_names=[0,1] # name  of classes\n",
    "fig, ax = plt.subplots()\n",
    "tick_marks = np.arange(len(class_names))\n",
    "plt.xticks(tick_marks, class_names)\n",
    "plt.yticks(tick_marks, class_names)\n",
    "# create heatmap\n",
    "sns.heatmap(pd.DataFrame(cnf_matrix), annot=True, cmap=\"YlGnBu\" ,fmt='g')\n",
    "ax.xaxis.set_label_position(\"top\")\n",
    "plt.tight_layout()\n",
    "plt.title('Confusion matrix', y=1.1)\n",
    "plt.ylabel('Actual label')\n",
    "plt.xlabel('Predicted label')"
   ]
  },
  {
   "cell_type": "code",
   "execution_count": 58,
   "metadata": {},
   "outputs": [
    {
     "name": "stdout",
     "output_type": "stream",
     "text": [
      "Accuracy: 0.784\n",
      "Precision: 0.0\n",
      "Recall: 0.0\n"
     ]
    },
    {
     "name": "stderr",
     "output_type": "stream",
     "text": [
      "/home/jupyter-jhoffmann/.local/lib/python3.6/site-packages/sklearn/metrics/classification.py:1135: UndefinedMetricWarning: Precision is ill-defined and being set to 0.0 due to no predicted samples.\n",
      "  'precision', 'predicted', average, warn_for)\n"
     ]
    }
   ],
   "source": [
    "print(\"Accuracy:\",metrics.accuracy_score(y_test, y_pred))\n",
    "print(\"Precision:\",metrics.precision_score(y_test, y_pred))\n",
    "print(\"Recall:\",metrics.recall_score(y_test, y_pred))"
   ]
  },
  {
   "cell_type": "code",
   "execution_count": 59,
   "metadata": {},
   "outputs": [
    {
     "name": "stdout",
     "output_type": "stream",
     "text": [
      "{'X2': 0.00683676500117269, 'X3': 0.033280705252300605, 'X4': 0.02413348281406376, 'X5_Bins': 0.020562446607370867, 'X1': 0.08086304034960631, 'X6': 0.03021617091842153, 'X7': 0.02048492314913237, 'X8': 0.019887260579683912, 'X9': 0.019440276387926322, 'X10': 0.018666829538880315, 'X11': 0.02227293956646825, 'X12': 0.06595788060751648, 'X13': 0.061496425044009574, 'X14': 0.05927610343340428, 'X15': 0.05924571983365362, 'X16': 0.0581650399664597, 'X17': 0.0578065286072074, 'X18': 0.059671571384672606, 'X19': 0.05750688430797417, 'X20': 0.0563528828411944, 'X21': 0.05625760847354835, 'X22': 0.05382782927660875, 'X23': 0.05779068605872376}\n"
     ]
    }
   ],
   "source": [
    "# Feature Importance \n",
    "from sklearn import metrics \n",
    "from sklearn.ensemble import ExtraTreesClassifier\n",
    "\n",
    "# Fit an Extra Trees model to the data \n",
    "model = ExtraTreesClassifier()\n",
    "model.fit(X,y)\n",
    "\n",
    "# Display the relative importance of each attribute \n",
    "#print(model.feature_importances_)\n",
    "print(dict(zip(df.columns, model.feature_importances_)))"
   ]
  }
 ],
 "metadata": {
  "kernelspec": {
   "display_name": "Python 3",
   "language": "python",
   "name": "python3"
  },
  "language_info": {
   "codemirror_mode": {
    "name": "ipython",
    "version": 3
   },
   "file_extension": ".py",
   "mimetype": "text/x-python",
   "name": "python",
   "nbconvert_exporter": "python",
   "pygments_lexer": "ipython3",
   "version": "3.6.5"
  }
 },
 "nbformat": 4,
 "nbformat_minor": 2
}

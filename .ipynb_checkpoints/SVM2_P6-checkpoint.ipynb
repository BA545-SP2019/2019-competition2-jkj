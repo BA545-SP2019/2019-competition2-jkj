{
 "cells": [
  {
   "cell_type": "markdown",
   "metadata": {},
   "source": [
    "# 2. Gaussian Kernel"
   ]
  },
  {
   "cell_type": "code",
   "execution_count": 6,
   "metadata": {},
   "outputs": [],
   "source": [
    "import numpy as np \n",
    "import pandas as pd\n",
    "import matplotlib.pyplot as plt\n",
    "import seaborn as sns\n",
    "%matplotlib inline\n",
    "plt.style.use('ggplot')"
   ]
  },
  {
   "cell_type": "code",
   "execution_count": 7,
   "metadata": {},
   "outputs": [
    {
     "data": {
      "text/html": [
       "<div>\n",
       "<style scoped>\n",
       "    .dataframe tbody tr th:only-of-type {\n",
       "        vertical-align: middle;\n",
       "    }\n",
       "\n",
       "    .dataframe tbody tr th {\n",
       "        vertical-align: top;\n",
       "    }\n",
       "\n",
       "    .dataframe thead th {\n",
       "        text-align: right;\n",
       "    }\n",
       "</style>\n",
       "<table border=\"1\" class=\"dataframe\">\n",
       "  <thead>\n",
       "    <tr style=\"text-align: right;\">\n",
       "      <th></th>\n",
       "      <th>X2</th>\n",
       "      <th>X3</th>\n",
       "      <th>X4</th>\n",
       "      <th>X5_Bins</th>\n",
       "      <th>X6_BI</th>\n",
       "      <th>X7_BI</th>\n",
       "      <th>X8_BI</th>\n",
       "      <th>X9_BI</th>\n",
       "      <th>X10_BI</th>\n",
       "      <th>X11_BI</th>\n",
       "      <th>...</th>\n",
       "      <th>X15_ABS</th>\n",
       "      <th>X16_ABS</th>\n",
       "      <th>X17_ABS</th>\n",
       "      <th>X18</th>\n",
       "      <th>X19</th>\n",
       "      <th>X20</th>\n",
       "      <th>X21</th>\n",
       "      <th>X22</th>\n",
       "      <th>X23</th>\n",
       "      <th>Y</th>\n",
       "    </tr>\n",
       "  </thead>\n",
       "  <tbody>\n",
       "    <tr>\n",
       "      <th>2</th>\n",
       "      <td>2</td>\n",
       "      <td>2</td>\n",
       "      <td>2</td>\n",
       "      <td>0</td>\n",
       "      <td>0</td>\n",
       "      <td>1</td>\n",
       "      <td>0</td>\n",
       "      <td>0</td>\n",
       "      <td>0</td>\n",
       "      <td>1</td>\n",
       "      <td>...</td>\n",
       "      <td>-0.139167</td>\n",
       "      <td>-0.067265</td>\n",
       "      <td>-0.007117</td>\n",
       "      <td>-0.143924</td>\n",
       "      <td>0.125535</td>\n",
       "      <td>0.079375</td>\n",
       "      <td>0.140610</td>\n",
       "      <td>0.151622</td>\n",
       "      <td>0.720194</td>\n",
       "      <td>1</td>\n",
       "    </tr>\n",
       "    <tr>\n",
       "      <th>3</th>\n",
       "      <td>2</td>\n",
       "      <td>2</td>\n",
       "      <td>2</td>\n",
       "      <td>1</td>\n",
       "      <td>0</td>\n",
       "      <td>0</td>\n",
       "      <td>0</td>\n",
       "      <td>0</td>\n",
       "      <td>0</td>\n",
       "      <td>0</td>\n",
       "      <td>...</td>\n",
       "      <td>0.227939</td>\n",
       "      <td>0.296254</td>\n",
       "      <td>0.345181</td>\n",
       "      <td>0.000232</td>\n",
       "      <td>0.229369</td>\n",
       "      <td>0.137420</td>\n",
       "      <td>0.170409</td>\n",
       "      <td>0.172175</td>\n",
       "      <td>0.170829</td>\n",
       "      <td>0</td>\n",
       "    </tr>\n",
       "    <tr>\n",
       "      <th>4</th>\n",
       "      <td>2</td>\n",
       "      <td>2</td>\n",
       "      <td>1</td>\n",
       "      <td>1</td>\n",
       "      <td>0</td>\n",
       "      <td>0</td>\n",
       "      <td>0</td>\n",
       "      <td>0</td>\n",
       "      <td>0</td>\n",
       "      <td>0</td>\n",
       "      <td>...</td>\n",
       "      <td>0.054974</td>\n",
       "      <td>0.059507</td>\n",
       "      <td>0.098518</td>\n",
       "      <td>0.000232</td>\n",
       "      <td>1.564731</td>\n",
       "      <td>0.959451</td>\n",
       "      <td>0.963663</td>\n",
       "      <td>0.040988</td>\n",
       "      <td>0.059254</td>\n",
       "      <td>0</td>\n",
       "    </tr>\n",
       "    <tr>\n",
       "      <th>5</th>\n",
       "      <td>1</td>\n",
       "      <td>2</td>\n",
       "      <td>1</td>\n",
       "      <td>2</td>\n",
       "      <td>0</td>\n",
       "      <td>0</td>\n",
       "      <td>0</td>\n",
       "      <td>0</td>\n",
       "      <td>0</td>\n",
       "      <td>0</td>\n",
       "      <td>...</td>\n",
       "      <td>0.013707</td>\n",
       "      <td>0.072582</td>\n",
       "      <td>0.122760</td>\n",
       "      <td>0.126985</td>\n",
       "      <td>0.191554</td>\n",
       "      <td>-0.047834</td>\n",
       "      <td>0.140610</td>\n",
       "      <td>0.151622</td>\n",
       "      <td>0.105640</td>\n",
       "      <td>0</td>\n",
       "    </tr>\n",
       "    <tr>\n",
       "      <th>6</th>\n",
       "      <td>1</td>\n",
       "      <td>1</td>\n",
       "      <td>2</td>\n",
       "      <td>1</td>\n",
       "      <td>0</td>\n",
       "      <td>0</td>\n",
       "      <td>0</td>\n",
       "      <td>0</td>\n",
       "      <td>0</td>\n",
       "      <td>0</td>\n",
       "      <td>...</td>\n",
       "      <td>0.004727</td>\n",
       "      <td>0.030574</td>\n",
       "      <td>0.041317</td>\n",
       "      <td>3.313443</td>\n",
       "      <td>1.615399</td>\n",
       "      <td>1.647578</td>\n",
       "      <td>1.351815</td>\n",
       "      <td>1.158413</td>\n",
       "      <td>1.149676</td>\n",
       "      <td>0</td>\n",
       "    </tr>\n",
       "  </tbody>\n",
       "</table>\n",
       "<p>5 rows × 36 columns</p>\n",
       "</div>"
      ],
      "text/plain": [
       "   X2  X3  X4  X5_Bins  X6_BI  X7_BI  X8_BI  X9_BI  X10_BI  X11_BI ...  \\\n",
       "2   2   2   2        0      0      1      0      0       0       1 ...   \n",
       "3   2   2   2        1      0      0      0      0       0       0 ...   \n",
       "4   2   2   1        1      0      0      0      0       0       0 ...   \n",
       "5   1   2   1        2      0      0      0      0       0       0 ...   \n",
       "6   1   1   2        1      0      0      0      0       0       0 ...   \n",
       "\n",
       "    X15_ABS   X16_ABS   X17_ABS       X18       X19       X20       X21  \\\n",
       "2 -0.139167 -0.067265 -0.007117 -0.143924  0.125535  0.079375  0.140610   \n",
       "3  0.227939  0.296254  0.345181  0.000232  0.229369  0.137420  0.170409   \n",
       "4  0.054974  0.059507  0.098518  0.000232  1.564731  0.959451  0.963663   \n",
       "5  0.013707  0.072582  0.122760  0.126985  0.191554 -0.047834  0.140610   \n",
       "6  0.004727  0.030574  0.041317  3.313443  1.615399  1.647578  1.351815   \n",
       "\n",
       "        X22       X23  Y  \n",
       "2  0.151622  0.720194  1  \n",
       "3  0.172175  0.170829  0  \n",
       "4  0.040988  0.059254  0  \n",
       "5  0.151622  0.105640  0  \n",
       "6  1.158413  1.149676  0  \n",
       "\n",
       "[5 rows x 36 columns]"
      ]
     },
     "execution_count": 7,
     "metadata": {},
     "output_type": "execute_result"
    }
   ],
   "source": [
    "# Importing Excel file, calling the DataFrame comp_df\n",
    "df = pd.read_csv('Final5', header=0, index_col=0)\n",
    "df = df.iloc[1:, :]\n",
    "# Checking import \n",
    "df.head(5)"
   ]
  },
  {
   "cell_type": "code",
   "execution_count": 8,
   "metadata": {},
   "outputs": [
    {
     "data": {
      "text/plain": [
       "(29998, 36)"
      ]
     },
     "execution_count": 8,
     "metadata": {},
     "output_type": "execute_result"
    }
   ],
   "source": [
    "# print data(feature)shape\n",
    "df.shape"
   ]
  },
  {
   "cell_type": "code",
   "execution_count": 9,
   "metadata": {},
   "outputs": [],
   "source": [
    "X = df.iloc[:,:-1] # Features\n",
    "y = df.Y # Target variable"
   ]
  },
  {
   "cell_type": "code",
   "execution_count": 10,
   "metadata": {},
   "outputs": [],
   "source": [
    "from sklearn.model_selection import train_test_split\n",
    "\n",
    "# split data using train_test_split\n",
    "X_train, X_test, y_train, y_test=train_test_split(X,y, test_size=0.25, random_state=2019)"
   ]
  },
  {
   "cell_type": "code",
   "execution_count": 11,
   "metadata": {},
   "outputs": [
    {
     "data": {
      "text/plain": [
       "SVC(C=1.0, cache_size=200, class_weight=None, coef0=0.0,\n",
       "  decision_function_shape='ovr', degree=3, gamma='auto', kernel='rbf',\n",
       "  max_iter=-1, probability=False, random_state=None, shrinking=True,\n",
       "  tol=0.001, verbose=False)"
      ]
     },
     "execution_count": 11,
     "metadata": {},
     "output_type": "execute_result"
    }
   ],
   "source": [
    "from sklearn.svm import SVC  \n",
    "svclassifier = SVC(kernel='rbf')  #Kernel=rbf, non-linearly separable data\n",
    "svclassifier.fit(X_train, y_train) "
   ]
  },
  {
   "cell_type": "code",
   "execution_count": 12,
   "metadata": {},
   "outputs": [],
   "source": [
    "y_pred = svclassifier.predict(X_test)  "
   ]
  },
  {
   "cell_type": "code",
   "execution_count": 13,
   "metadata": {},
   "outputs": [
    {
     "name": "stdout",
     "output_type": "stream",
     "text": [
      "[[5544  261]\n",
      " [1148  547]]\n",
      "             precision    recall  f1-score   support\n",
      "\n",
      "          0       0.83      0.96      0.89      5805\n",
      "          1       0.68      0.32      0.44      1695\n",
      "\n",
      "avg / total       0.79      0.81      0.79      7500\n",
      "\n"
     ]
    }
   ],
   "source": [
    "from sklearn.metrics import classification_report, confusion_matrix  \n",
    "print(confusion_matrix(y_test, y_pred))  \n",
    "print(classification_report(y_test, y_pred))"
   ]
  },
  {
   "cell_type": "code",
   "execution_count": 14,
   "metadata": {},
   "outputs": [
    {
     "name": "stdout",
     "output_type": "stream",
     "text": [
      "Accuracy: 0.8121333333333334\n"
     ]
    }
   ],
   "source": [
    "# import the metrics class\n",
    "from sklearn import metrics\n",
    "\n",
    "# Model Accuracy, how often is the classifier correct?\n",
    "print(\"Accuracy:\",metrics.accuracy_score(y_test, y_pred))"
   ]
  },
  {
   "cell_type": "code",
   "execution_count": 15,
   "metadata": {},
   "outputs": [
    {
     "name": "stdout",
     "output_type": "stream",
     "text": [
      "0.18786666666666665\n"
     ]
    }
   ],
   "source": [
    "# Import `mean_absolute_error` from `sklearn.metrics`\n",
    "from sklearn.metrics import mean_absolute_error\n",
    "#calculate MAE\n",
    "MAE=mean_absolute_error(y_test, y_pred)\n",
    "print(MAE)"
   ]
  },
  {
   "cell_type": "code",
   "execution_count": null,
   "metadata": {},
   "outputs": [],
   "source": []
  },
  {
   "cell_type": "code",
   "execution_count": null,
   "metadata": {},
   "outputs": [],
   "source": []
  }
 ],
 "metadata": {
  "kernelspec": {
   "display_name": "Python 3",
   "language": "python",
   "name": "python3"
  },
  "language_info": {
   "codemirror_mode": {
    "name": "ipython",
    "version": 3
   },
   "file_extension": ".py",
   "mimetype": "text/x-python",
   "name": "python",
   "nbconvert_exporter": "python",
   "pygments_lexer": "ipython3",
   "version": "3.6.5"
  }
 },
 "nbformat": 4,
 "nbformat_minor": 2
}

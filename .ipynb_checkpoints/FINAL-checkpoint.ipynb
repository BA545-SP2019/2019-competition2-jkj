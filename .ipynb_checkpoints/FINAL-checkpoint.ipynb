{
 "cells": [
  {
   "cell_type": "markdown",
   "metadata": {},
   "source": [
    "# **Competition #2 - Final Notebook**\n",
    "\n",
    "May 6, 2019 \n",
    "\n",
    "Juliana Hoffmann, Kendall Stopa & Jonathan Uy"
   ]
  },
  {
   "cell_type": "markdown",
   "metadata": {},
   "source": [
    "# **Business Understanding** - JU\n",
    "\n",
    "**Framing Analytical Questions**\n",
    "\n",
    "- Who is likely to default on their credit card?\n",
    "- Which instances are associates with those most like to default?\n",
    "- Could other features impact the decision of whether someone would default?\n",
    "- Which is the best modeling technique to predict someone likely to default?\n",
    "\n",
    "*What does it mean to default?*\n",
    "- To default means going 180 days without making a credit card payment. \n",
    "- The credit card company writes off the charge as a bad debt expense. \n",
    "- The credit card company will sell your account to a collection agency. \n",
    "\n",
    "*What are the characteristics of credit card default customers generally?* \n",
    "- Barely keeping up with minimum credit card payments\n",
    "- Growing debt\n",
    "- Falling credit score\n",
    "- Customer avoidance of collection agencies \n",
    "- Several maxed out credit cards\n",
    "- Rising interest rates on personal debt\n",
    "- Credit card payments exceed 15% of gross income \n",
    "- Ratio of debt to income\n",
    "\n",
    "*What more information would be useful IF included within the dataset?*\n",
    "- Credit score \n",
    "- Number of credit cards the individual has \n",
    "- Credit card interest rate\n",
    "- Gross income of customer \n"
   ]
  },
  {
   "cell_type": "markdown",
   "metadata": {},
   "source": [
    "# **Data Table Dictionary** -JU"
   ]
  },
  {
   "cell_type": "markdown",
   "metadata": {},
   "source": [
    "**Default of Credit Card Clients Data Set**\n",
    "\n",
    "|Attributes   |  Description  | \n",
    "|---|---|\n",
    "|LIMIT_BAL |X1 -  Amount of the given credit (NT dollar): it includes both the individual consumer credit and his/her family (supplementary) credit |\n",
    "|SEX |X2 - Gender (1 = male; 2 = female) |\n",
    "|EDUCATION  |X3 - Education (1 = graduate school; 2 = university; 3 = high school; 4 = others).   |   \n",
    "|MARRIAGE  |X4 - Marital status (1 = married; 2 = single; 3 = others)|  \n",
    "|AGE |X5 - Age (year)|\n",
    "|PAY_1 |X6 - the repayment status in September, 2005; Repayment Measurement Scale: -1 = pay duly; 1 = payment delay for one month; 2 = payment delay for two months; 3 = payment delay for three months; 4 = payment delay for four months; 5 = payment delay for five months; 6 = payment delay for six months; 7 = payment delay for seven months;  8 = payment delay for eight months; 9 = payment delay for nine months and above|\n",
    "|PAY_2 |X7 - the repayment status in August, 2005; Repayment Measurement Scale: -1 = pay duly; 1 = payment delay for one month; 2 = payment delay for two months; 3 = payment delay for three months; 4 = payment delay for four months; 5 = payment delay for five months; 6 = payment delay for six months; 7 = payment delay for seven months;  8 = payment delay for eight months; 9 = payment delay for nine months and above|\n",
    "|PAY_3 |X8 - the repayment status in July, 2005; Repayment Measurement Scale: -1 = pay duly; 1 = payment delay for one month; 2 = payment delay for two months; 3 = payment delay for three months; 4 = payment delay for four months; 5 = payment delay for five months; 6 = payment delay for six months; 7 = payment delay for seven months;  8 = payment delay for eight months; 9 = payment delay for nine months and above|\n",
    "|PAY_4 |X9 - the repayment status in June, 2005; Repayment Measurement Scale: -1 = pay duly; 1 = payment delay for one month; 2 = payment delay for two months; 3 = payment delay for three months; 4 = payment delay for four months; 5 = payment delay for five months; 6 = payment delay for six months; 7 = payment delay for seven months;  8 = payment delay for eight months; 9 = payment delay for nine months and above|\n",
    "|PAY_5 |X10 - the repayment status in May, 2005; Repayment Measurement Scale: -1 = pay duly; 1 = payment delay for one month; 2 = payment delay for two months; 3 = payment delay for three months; 4 = payment delay for four months; 5 = payment delay for five months; 6 = payment delay for six months; 7 = payment delay for seven months;  8 = payment delay for eight months; 9 = payment delay for nine months and above|\n",
    "|PAY_6 |X11 - the repayment status in April, 2005; Repayment Measurement Scale: -1 = pay duly; 1 = payment delay for one month; 2 = payment delay for two months; 3 = payment delay for three months; 4 = payment delay for four months; 5 = payment delay for five months; 6 = payment delay for six months; 7 = payment delay for seven months;  8 = payment delay for eight months; 9 = payment delay for nine months and above|\n",
    "|BILL_AMT1  | Amount of bill statement (NT dollar) X12 = amount of bill statement in September, 2005|\n",
    "|BILL_AMT2 | Amount of bill statement (NT dollar) X13 = amount of bill statement in August, 2005|   \n",
    "|BILL_AMT3 |Amount of bill statement (NT dollar) X14 = amount of bill statement in July, 2005|  \n",
    "|BILL_AMT4 |Amount of bill statement (NT dollar) X15 = amount of bill statement in June, 2005|\n",
    "|BILL_AMT5 |Amount of bill statement (NT dollar) X16 = amount of bill statement in May, 2005|\n",
    "|BILL_AMT6 | Amount of bill statement (NT dollar) X17 = amount of bill statement in April, 2005|\n",
    "|PAY_AMT1 | Amount of previous payment (NT dollar) X18 = amount paid in September, 2005|\n",
    "|PAY_AMT2 | Amount of previous payment (NT dollar) X19 = amount paid in August, 2005|\n",
    "|PAY_AMT3| Amount of previous payment (NT dollar) X20 = amount paid in July, 2005|\n",
    "|PAY_AMT4| Amount of previous payment (NT dollar) X21 = amount paid in June, 2005|\n",
    "|PAY_AMT5 | Amount of previous payment (NT dollar) X22 = amount paid in May, 2005 |\n",
    "|PAY_AMT6 | Amount of previous payment (NT dollar) X23 = amount paid in April, 2005  | \n",
    "|Default Payment Next Month |Y - This research employed a binary variable, default payment (Yes = 1, No = 0), as the response variable  |\n"
   ]
  },
  {
   "cell_type": "code",
   "execution_count": 5,
   "metadata": {},
   "outputs": [],
   "source": [
    "#importing packages we know we will need upfront\n",
    "import numpy as np \n",
    "import pandas as pd\n",
    "import matplotlib.pyplot as plt\n",
    "import seaborn as sns\n",
    "%matplotlib inline\n",
    "from scipy.stats import iqr\n",
    "plt.style.use('ggplot')\n",
    "from sklearn import preprocessing\n",
    "from sklearn.metrics import roc_auc_score\n",
    "from sklearn.metrics import f1_score"
   ]
  },
  {
   "cell_type": "code",
   "execution_count": 6,
   "metadata": {},
   "outputs": [
    {
     "data": {
      "text/html": [
       "<div>\n",
       "<style scoped>\n",
       "    .dataframe tbody tr th:only-of-type {\n",
       "        vertical-align: middle;\n",
       "    }\n",
       "\n",
       "    .dataframe tbody tr th {\n",
       "        vertical-align: top;\n",
       "    }\n",
       "\n",
       "    .dataframe thead th {\n",
       "        text-align: right;\n",
       "    }\n",
       "</style>\n",
       "<table border=\"1\" class=\"dataframe\">\n",
       "  <thead>\n",
       "    <tr style=\"text-align: right;\">\n",
       "      <th></th>\n",
       "      <th>X1</th>\n",
       "      <th>X2</th>\n",
       "      <th>X3</th>\n",
       "      <th>X4</th>\n",
       "      <th>X5</th>\n",
       "      <th>X6</th>\n",
       "      <th>X7</th>\n",
       "      <th>X8</th>\n",
       "      <th>X9</th>\n",
       "      <th>X10</th>\n",
       "      <th>...</th>\n",
       "      <th>X15</th>\n",
       "      <th>X16</th>\n",
       "      <th>X17</th>\n",
       "      <th>X18</th>\n",
       "      <th>X19</th>\n",
       "      <th>X20</th>\n",
       "      <th>X21</th>\n",
       "      <th>X22</th>\n",
       "      <th>X23</th>\n",
       "      <th>Y</th>\n",
       "    </tr>\n",
       "  </thead>\n",
       "  <tbody>\n",
       "    <tr>\n",
       "      <th>1</th>\n",
       "      <td>20000</td>\n",
       "      <td>2</td>\n",
       "      <td>2</td>\n",
       "      <td>1</td>\n",
       "      <td>24</td>\n",
       "      <td>2</td>\n",
       "      <td>2</td>\n",
       "      <td>-1</td>\n",
       "      <td>-1</td>\n",
       "      <td>-2</td>\n",
       "      <td>...</td>\n",
       "      <td>0</td>\n",
       "      <td>0</td>\n",
       "      <td>0</td>\n",
       "      <td>0</td>\n",
       "      <td>689</td>\n",
       "      <td>0</td>\n",
       "      <td>0</td>\n",
       "      <td>0</td>\n",
       "      <td>0</td>\n",
       "      <td>1</td>\n",
       "    </tr>\n",
       "    <tr>\n",
       "      <th>2</th>\n",
       "      <td>120000</td>\n",
       "      <td>2</td>\n",
       "      <td>2</td>\n",
       "      <td>2</td>\n",
       "      <td>26</td>\n",
       "      <td>-1</td>\n",
       "      <td>2</td>\n",
       "      <td>0</td>\n",
       "      <td>0</td>\n",
       "      <td>0</td>\n",
       "      <td>...</td>\n",
       "      <td>3272</td>\n",
       "      <td>3455</td>\n",
       "      <td>3261</td>\n",
       "      <td>0</td>\n",
       "      <td>1000</td>\n",
       "      <td>1000</td>\n",
       "      <td>1000</td>\n",
       "      <td>0</td>\n",
       "      <td>2000</td>\n",
       "      <td>1</td>\n",
       "    </tr>\n",
       "    <tr>\n",
       "      <th>3</th>\n",
       "      <td>90000</td>\n",
       "      <td>2</td>\n",
       "      <td>2</td>\n",
       "      <td>2</td>\n",
       "      <td>34</td>\n",
       "      <td>0</td>\n",
       "      <td>0</td>\n",
       "      <td>0</td>\n",
       "      <td>0</td>\n",
       "      <td>0</td>\n",
       "      <td>...</td>\n",
       "      <td>14331</td>\n",
       "      <td>14948</td>\n",
       "      <td>15549</td>\n",
       "      <td>1518</td>\n",
       "      <td>1500</td>\n",
       "      <td>1000</td>\n",
       "      <td>1000</td>\n",
       "      <td>1000</td>\n",
       "      <td>5000</td>\n",
       "      <td>0</td>\n",
       "    </tr>\n",
       "    <tr>\n",
       "      <th>4</th>\n",
       "      <td>50000</td>\n",
       "      <td>2</td>\n",
       "      <td>2</td>\n",
       "      <td>1</td>\n",
       "      <td>37</td>\n",
       "      <td>0</td>\n",
       "      <td>0</td>\n",
       "      <td>0</td>\n",
       "      <td>0</td>\n",
       "      <td>0</td>\n",
       "      <td>...</td>\n",
       "      <td>28314</td>\n",
       "      <td>28959</td>\n",
       "      <td>29547</td>\n",
       "      <td>2000</td>\n",
       "      <td>2019</td>\n",
       "      <td>1200</td>\n",
       "      <td>1100</td>\n",
       "      <td>1069</td>\n",
       "      <td>1000</td>\n",
       "      <td>0</td>\n",
       "    </tr>\n",
       "    <tr>\n",
       "      <th>5</th>\n",
       "      <td>50000</td>\n",
       "      <td>1</td>\n",
       "      <td>2</td>\n",
       "      <td>1</td>\n",
       "      <td>57</td>\n",
       "      <td>-1</td>\n",
       "      <td>0</td>\n",
       "      <td>-1</td>\n",
       "      <td>0</td>\n",
       "      <td>0</td>\n",
       "      <td>...</td>\n",
       "      <td>20940</td>\n",
       "      <td>19146</td>\n",
       "      <td>19131</td>\n",
       "      <td>2000</td>\n",
       "      <td>36681</td>\n",
       "      <td>10000</td>\n",
       "      <td>9000</td>\n",
       "      <td>689</td>\n",
       "      <td>679</td>\n",
       "      <td>0</td>\n",
       "    </tr>\n",
       "  </tbody>\n",
       "</table>\n",
       "<p>5 rows × 24 columns</p>\n",
       "</div>"
      ],
      "text/plain": [
       "       X1 X2 X3 X4  X5  X6 X7  X8  X9 X10 ...    X15    X16    X17   X18  \\\n",
       "1   20000  2  2  1  24   2  2  -1  -1  -2 ...      0      0      0     0   \n",
       "2  120000  2  2  2  26  -1  2   0   0   0 ...   3272   3455   3261     0   \n",
       "3   90000  2  2  2  34   0  0   0   0   0 ...  14331  14948  15549  1518   \n",
       "4   50000  2  2  1  37   0  0   0   0   0 ...  28314  28959  29547  2000   \n",
       "5   50000  1  2  1  57  -1  0  -1   0   0 ...  20940  19146  19131  2000   \n",
       "\n",
       "     X19    X20   X21   X22   X23  Y  \n",
       "1    689      0     0     0     0  1  \n",
       "2   1000   1000  1000     0  2000  1  \n",
       "3   1500   1000  1000  1000  5000  0  \n",
       "4   2019   1200  1100  1069  1000  0  \n",
       "5  36681  10000  9000   689   679  0  \n",
       "\n",
       "[5 rows x 24 columns]"
      ]
     },
     "execution_count": 6,
     "metadata": {},
     "output_type": "execute_result"
    }
   ],
   "source": [
    "#importing raw data excel \n",
    "df = pd.read_excel ('default.xls', index_col=0, header=0) \n",
    "df=df.iloc[1:,:]\n",
    "df.head()"
   ]
  },
  {
   "cell_type": "code",
   "execution_count": 7,
   "metadata": {},
   "outputs": [
    {
     "data": {
      "text/html": [
       "<div>\n",
       "<style scoped>\n",
       "    .dataframe tbody tr th:only-of-type {\n",
       "        vertical-align: middle;\n",
       "    }\n",
       "\n",
       "    .dataframe tbody tr th {\n",
       "        vertical-align: top;\n",
       "    }\n",
       "\n",
       "    .dataframe thead th {\n",
       "        text-align: right;\n",
       "    }\n",
       "</style>\n",
       "<table border=\"1\" class=\"dataframe\">\n",
       "  <thead>\n",
       "    <tr style=\"text-align: right;\">\n",
       "      <th></th>\n",
       "      <th>X1</th>\n",
       "      <th>X2</th>\n",
       "      <th>X3</th>\n",
       "      <th>X4</th>\n",
       "      <th>X5</th>\n",
       "      <th>X6</th>\n",
       "      <th>X7</th>\n",
       "      <th>X8</th>\n",
       "      <th>X9</th>\n",
       "      <th>X10</th>\n",
       "      <th>...</th>\n",
       "      <th>X15</th>\n",
       "      <th>X16</th>\n",
       "      <th>X17</th>\n",
       "      <th>X18</th>\n",
       "      <th>X19</th>\n",
       "      <th>X20</th>\n",
       "      <th>X21</th>\n",
       "      <th>X22</th>\n",
       "      <th>X23</th>\n",
       "      <th>Y</th>\n",
       "    </tr>\n",
       "  </thead>\n",
       "  <tbody>\n",
       "    <tr>\n",
       "      <th>0</th>\n",
       "      <td>20000</td>\n",
       "      <td>2</td>\n",
       "      <td>2</td>\n",
       "      <td>1</td>\n",
       "      <td>24</td>\n",
       "      <td>2</td>\n",
       "      <td>2</td>\n",
       "      <td>-1</td>\n",
       "      <td>-1</td>\n",
       "      <td>-2</td>\n",
       "      <td>...</td>\n",
       "      <td>0</td>\n",
       "      <td>0</td>\n",
       "      <td>0</td>\n",
       "      <td>0</td>\n",
       "      <td>689</td>\n",
       "      <td>0</td>\n",
       "      <td>0</td>\n",
       "      <td>0</td>\n",
       "      <td>0</td>\n",
       "      <td>1</td>\n",
       "    </tr>\n",
       "    <tr>\n",
       "      <th>1</th>\n",
       "      <td>120000</td>\n",
       "      <td>2</td>\n",
       "      <td>2</td>\n",
       "      <td>2</td>\n",
       "      <td>26</td>\n",
       "      <td>-1</td>\n",
       "      <td>2</td>\n",
       "      <td>0</td>\n",
       "      <td>0</td>\n",
       "      <td>0</td>\n",
       "      <td>...</td>\n",
       "      <td>3272</td>\n",
       "      <td>3455</td>\n",
       "      <td>3261</td>\n",
       "      <td>0</td>\n",
       "      <td>1000</td>\n",
       "      <td>1000</td>\n",
       "      <td>1000</td>\n",
       "      <td>0</td>\n",
       "      <td>2000</td>\n",
       "      <td>1</td>\n",
       "    </tr>\n",
       "    <tr>\n",
       "      <th>2</th>\n",
       "      <td>90000</td>\n",
       "      <td>2</td>\n",
       "      <td>2</td>\n",
       "      <td>2</td>\n",
       "      <td>34</td>\n",
       "      <td>0</td>\n",
       "      <td>0</td>\n",
       "      <td>0</td>\n",
       "      <td>0</td>\n",
       "      <td>0</td>\n",
       "      <td>...</td>\n",
       "      <td>14331</td>\n",
       "      <td>14948</td>\n",
       "      <td>15549</td>\n",
       "      <td>1518</td>\n",
       "      <td>1500</td>\n",
       "      <td>1000</td>\n",
       "      <td>1000</td>\n",
       "      <td>1000</td>\n",
       "      <td>5000</td>\n",
       "      <td>0</td>\n",
       "    </tr>\n",
       "    <tr>\n",
       "      <th>3</th>\n",
       "      <td>50000</td>\n",
       "      <td>2</td>\n",
       "      <td>2</td>\n",
       "      <td>1</td>\n",
       "      <td>37</td>\n",
       "      <td>0</td>\n",
       "      <td>0</td>\n",
       "      <td>0</td>\n",
       "      <td>0</td>\n",
       "      <td>0</td>\n",
       "      <td>...</td>\n",
       "      <td>28314</td>\n",
       "      <td>28959</td>\n",
       "      <td>29547</td>\n",
       "      <td>2000</td>\n",
       "      <td>2019</td>\n",
       "      <td>1200</td>\n",
       "      <td>1100</td>\n",
       "      <td>1069</td>\n",
       "      <td>1000</td>\n",
       "      <td>0</td>\n",
       "    </tr>\n",
       "    <tr>\n",
       "      <th>4</th>\n",
       "      <td>50000</td>\n",
       "      <td>1</td>\n",
       "      <td>2</td>\n",
       "      <td>1</td>\n",
       "      <td>57</td>\n",
       "      <td>-1</td>\n",
       "      <td>0</td>\n",
       "      <td>-1</td>\n",
       "      <td>0</td>\n",
       "      <td>0</td>\n",
       "      <td>...</td>\n",
       "      <td>20940</td>\n",
       "      <td>19146</td>\n",
       "      <td>19131</td>\n",
       "      <td>2000</td>\n",
       "      <td>36681</td>\n",
       "      <td>10000</td>\n",
       "      <td>9000</td>\n",
       "      <td>689</td>\n",
       "      <td>679</td>\n",
       "      <td>0</td>\n",
       "    </tr>\n",
       "  </tbody>\n",
       "</table>\n",
       "<p>5 rows × 24 columns</p>\n",
       "</div>"
      ],
      "text/plain": [
       "       X1 X2 X3 X4  X5  X6 X7  X8  X9 X10 ...    X15    X16    X17   X18  \\\n",
       "0   20000  2  2  1  24   2  2  -1  -1  -2 ...      0      0      0     0   \n",
       "1  120000  2  2  2  26  -1  2   0   0   0 ...   3272   3455   3261     0   \n",
       "2   90000  2  2  2  34   0  0   0   0   0 ...  14331  14948  15549  1518   \n",
       "3   50000  2  2  1  37   0  0   0   0   0 ...  28314  28959  29547  2000   \n",
       "4   50000  1  2  1  57  -1  0  -1   0   0 ...  20940  19146  19131  2000   \n",
       "\n",
       "     X19    X20   X21   X22   X23  Y  \n",
       "0    689      0     0     0     0  1  \n",
       "1   1000   1000  1000     0  2000  1  \n",
       "2   1500   1000  1000  1000  5000  0  \n",
       "3   2019   1200  1100  1069  1000  0  \n",
       "4  36681  10000  9000   689   679  0  \n",
       "\n",
       "[5 rows x 24 columns]"
      ]
     },
     "execution_count": 7,
     "metadata": {},
     "output_type": "execute_result"
    }
   ],
   "source": [
    "#readjusting the header\n",
    "df = df.reset_index(drop=True)\n",
    "df.head()"
   ]
  },
  {
   "cell_type": "markdown",
   "metadata": {},
   "source": [
    "# **Descriptive Statistics** - JU"
   ]
  },
  {
   "cell_type": "code",
   "execution_count": 8,
   "metadata": {},
   "outputs": [
    {
     "name": "stdout",
     "output_type": "stream",
     "text": [
      "<class 'pandas.core.frame.DataFrame'>\n",
      "RangeIndex: 30000 entries, 0 to 29999\n",
      "Data columns (total 24 columns):\n",
      "X1     30000 non-null int64\n",
      "X2     30000 non-null int64\n",
      "X3     30000 non-null int64\n",
      "X4     30000 non-null int64\n",
      "X5     30000 non-null int64\n",
      "X6     30000 non-null int64\n",
      "X7     30000 non-null int64\n",
      "X8     30000 non-null int64\n",
      "X9     30000 non-null int64\n",
      "X10    30000 non-null int64\n",
      "X11    30000 non-null int64\n",
      "X12    30000 non-null int64\n",
      "X13    30000 non-null int64\n",
      "X14    30000 non-null int64\n",
      "X15    30000 non-null int64\n",
      "X16    30000 non-null int64\n",
      "X17    30000 non-null int64\n",
      "X18    30000 non-null int64\n",
      "X19    30000 non-null int64\n",
      "X20    30000 non-null int64\n",
      "X21    30000 non-null int64\n",
      "X22    30000 non-null int64\n",
      "X23    30000 non-null int64\n",
      "Y      30000 non-null int64\n",
      "dtypes: int64(24)\n",
      "memory usage: 5.5 MB\n"
     ]
    }
   ],
   "source": [
    "#changing data type from float to int \n",
    "df = df.astype(int)\n",
    "df.info()"
   ]
  },
  {
   "cell_type": "code",
   "execution_count": 9,
   "metadata": {},
   "outputs": [
    {
     "data": {
      "text/html": [
       "<div>\n",
       "<style scoped>\n",
       "    .dataframe tbody tr th:only-of-type {\n",
       "        vertical-align: middle;\n",
       "    }\n",
       "\n",
       "    .dataframe tbody tr th {\n",
       "        vertical-align: top;\n",
       "    }\n",
       "\n",
       "    .dataframe thead th {\n",
       "        text-align: right;\n",
       "    }\n",
       "</style>\n",
       "<table border=\"1\" class=\"dataframe\">\n",
       "  <thead>\n",
       "    <tr style=\"text-align: right;\">\n",
       "      <th></th>\n",
       "      <th>X1</th>\n",
       "      <th>X2</th>\n",
       "      <th>X3</th>\n",
       "      <th>X4</th>\n",
       "      <th>X5</th>\n",
       "      <th>X6</th>\n",
       "      <th>X7</th>\n",
       "      <th>X8</th>\n",
       "      <th>X9</th>\n",
       "      <th>X10</th>\n",
       "      <th>...</th>\n",
       "      <th>X15</th>\n",
       "      <th>X16</th>\n",
       "      <th>X17</th>\n",
       "      <th>X18</th>\n",
       "      <th>X19</th>\n",
       "      <th>X20</th>\n",
       "      <th>X21</th>\n",
       "      <th>X22</th>\n",
       "      <th>X23</th>\n",
       "      <th>Y</th>\n",
       "    </tr>\n",
       "  </thead>\n",
       "  <tbody>\n",
       "    <tr>\n",
       "      <th>count</th>\n",
       "      <td>30000.000000</td>\n",
       "      <td>30000.000000</td>\n",
       "      <td>30000.000000</td>\n",
       "      <td>30000.000000</td>\n",
       "      <td>30000.000000</td>\n",
       "      <td>30000.000000</td>\n",
       "      <td>30000.000000</td>\n",
       "      <td>30000.000000</td>\n",
       "      <td>30000.000000</td>\n",
       "      <td>30000.000000</td>\n",
       "      <td>...</td>\n",
       "      <td>30000.000000</td>\n",
       "      <td>30000.000000</td>\n",
       "      <td>30000.000000</td>\n",
       "      <td>30000.000000</td>\n",
       "      <td>3.000000e+04</td>\n",
       "      <td>30000.00000</td>\n",
       "      <td>30000.000000</td>\n",
       "      <td>30000.000000</td>\n",
       "      <td>30000.000000</td>\n",
       "      <td>30000.000000</td>\n",
       "    </tr>\n",
       "    <tr>\n",
       "      <th>mean</th>\n",
       "      <td>167484.322667</td>\n",
       "      <td>1.603733</td>\n",
       "      <td>1.853133</td>\n",
       "      <td>1.551867</td>\n",
       "      <td>35.485500</td>\n",
       "      <td>-0.016700</td>\n",
       "      <td>-0.133767</td>\n",
       "      <td>-0.166200</td>\n",
       "      <td>-0.220667</td>\n",
       "      <td>-0.266200</td>\n",
       "      <td>...</td>\n",
       "      <td>43262.948967</td>\n",
       "      <td>40311.400967</td>\n",
       "      <td>38871.760400</td>\n",
       "      <td>5663.580500</td>\n",
       "      <td>5.921163e+03</td>\n",
       "      <td>5225.68150</td>\n",
       "      <td>4826.076867</td>\n",
       "      <td>4799.387633</td>\n",
       "      <td>5215.502567</td>\n",
       "      <td>0.221200</td>\n",
       "    </tr>\n",
       "    <tr>\n",
       "      <th>std</th>\n",
       "      <td>129747.661567</td>\n",
       "      <td>0.489129</td>\n",
       "      <td>0.790349</td>\n",
       "      <td>0.521970</td>\n",
       "      <td>9.217904</td>\n",
       "      <td>1.123802</td>\n",
       "      <td>1.197186</td>\n",
       "      <td>1.196868</td>\n",
       "      <td>1.169139</td>\n",
       "      <td>1.133187</td>\n",
       "      <td>...</td>\n",
       "      <td>64332.856134</td>\n",
       "      <td>60797.155770</td>\n",
       "      <td>59554.107537</td>\n",
       "      <td>16563.280354</td>\n",
       "      <td>2.304087e+04</td>\n",
       "      <td>17606.96147</td>\n",
       "      <td>15666.159744</td>\n",
       "      <td>15278.305679</td>\n",
       "      <td>17777.465775</td>\n",
       "      <td>0.415062</td>\n",
       "    </tr>\n",
       "    <tr>\n",
       "      <th>min</th>\n",
       "      <td>10000.000000</td>\n",
       "      <td>1.000000</td>\n",
       "      <td>0.000000</td>\n",
       "      <td>0.000000</td>\n",
       "      <td>21.000000</td>\n",
       "      <td>-2.000000</td>\n",
       "      <td>-2.000000</td>\n",
       "      <td>-2.000000</td>\n",
       "      <td>-2.000000</td>\n",
       "      <td>-2.000000</td>\n",
       "      <td>...</td>\n",
       "      <td>-170000.000000</td>\n",
       "      <td>-81334.000000</td>\n",
       "      <td>-339603.000000</td>\n",
       "      <td>0.000000</td>\n",
       "      <td>0.000000e+00</td>\n",
       "      <td>0.00000</td>\n",
       "      <td>0.000000</td>\n",
       "      <td>0.000000</td>\n",
       "      <td>0.000000</td>\n",
       "      <td>0.000000</td>\n",
       "    </tr>\n",
       "    <tr>\n",
       "      <th>25%</th>\n",
       "      <td>50000.000000</td>\n",
       "      <td>1.000000</td>\n",
       "      <td>1.000000</td>\n",
       "      <td>1.000000</td>\n",
       "      <td>28.000000</td>\n",
       "      <td>-1.000000</td>\n",
       "      <td>-1.000000</td>\n",
       "      <td>-1.000000</td>\n",
       "      <td>-1.000000</td>\n",
       "      <td>-1.000000</td>\n",
       "      <td>...</td>\n",
       "      <td>2326.750000</td>\n",
       "      <td>1763.000000</td>\n",
       "      <td>1256.000000</td>\n",
       "      <td>1000.000000</td>\n",
       "      <td>8.330000e+02</td>\n",
       "      <td>390.00000</td>\n",
       "      <td>296.000000</td>\n",
       "      <td>252.500000</td>\n",
       "      <td>117.750000</td>\n",
       "      <td>0.000000</td>\n",
       "    </tr>\n",
       "    <tr>\n",
       "      <th>50%</th>\n",
       "      <td>140000.000000</td>\n",
       "      <td>2.000000</td>\n",
       "      <td>2.000000</td>\n",
       "      <td>2.000000</td>\n",
       "      <td>34.000000</td>\n",
       "      <td>0.000000</td>\n",
       "      <td>0.000000</td>\n",
       "      <td>0.000000</td>\n",
       "      <td>0.000000</td>\n",
       "      <td>0.000000</td>\n",
       "      <td>...</td>\n",
       "      <td>19052.000000</td>\n",
       "      <td>18104.500000</td>\n",
       "      <td>17071.000000</td>\n",
       "      <td>2100.000000</td>\n",
       "      <td>2.009000e+03</td>\n",
       "      <td>1800.00000</td>\n",
       "      <td>1500.000000</td>\n",
       "      <td>1500.000000</td>\n",
       "      <td>1500.000000</td>\n",
       "      <td>0.000000</td>\n",
       "    </tr>\n",
       "    <tr>\n",
       "      <th>75%</th>\n",
       "      <td>240000.000000</td>\n",
       "      <td>2.000000</td>\n",
       "      <td>2.000000</td>\n",
       "      <td>2.000000</td>\n",
       "      <td>41.000000</td>\n",
       "      <td>0.000000</td>\n",
       "      <td>0.000000</td>\n",
       "      <td>0.000000</td>\n",
       "      <td>0.000000</td>\n",
       "      <td>0.000000</td>\n",
       "      <td>...</td>\n",
       "      <td>54506.000000</td>\n",
       "      <td>50190.500000</td>\n",
       "      <td>49198.250000</td>\n",
       "      <td>5006.000000</td>\n",
       "      <td>5.000000e+03</td>\n",
       "      <td>4505.00000</td>\n",
       "      <td>4013.250000</td>\n",
       "      <td>4031.500000</td>\n",
       "      <td>4000.000000</td>\n",
       "      <td>0.000000</td>\n",
       "    </tr>\n",
       "    <tr>\n",
       "      <th>max</th>\n",
       "      <td>1000000.000000</td>\n",
       "      <td>2.000000</td>\n",
       "      <td>6.000000</td>\n",
       "      <td>3.000000</td>\n",
       "      <td>79.000000</td>\n",
       "      <td>8.000000</td>\n",
       "      <td>8.000000</td>\n",
       "      <td>8.000000</td>\n",
       "      <td>8.000000</td>\n",
       "      <td>8.000000</td>\n",
       "      <td>...</td>\n",
       "      <td>891586.000000</td>\n",
       "      <td>927171.000000</td>\n",
       "      <td>961664.000000</td>\n",
       "      <td>873552.000000</td>\n",
       "      <td>1.684259e+06</td>\n",
       "      <td>896040.00000</td>\n",
       "      <td>621000.000000</td>\n",
       "      <td>426529.000000</td>\n",
       "      <td>528666.000000</td>\n",
       "      <td>1.000000</td>\n",
       "    </tr>\n",
       "  </tbody>\n",
       "</table>\n",
       "<p>8 rows × 24 columns</p>\n",
       "</div>"
      ],
      "text/plain": [
       "                   X1            X2            X3            X4            X5  \\\n",
       "count    30000.000000  30000.000000  30000.000000  30000.000000  30000.000000   \n",
       "mean    167484.322667      1.603733      1.853133      1.551867     35.485500   \n",
       "std     129747.661567      0.489129      0.790349      0.521970      9.217904   \n",
       "min      10000.000000      1.000000      0.000000      0.000000     21.000000   \n",
       "25%      50000.000000      1.000000      1.000000      1.000000     28.000000   \n",
       "50%     140000.000000      2.000000      2.000000      2.000000     34.000000   \n",
       "75%     240000.000000      2.000000      2.000000      2.000000     41.000000   \n",
       "max    1000000.000000      2.000000      6.000000      3.000000     79.000000   \n",
       "\n",
       "                 X6            X7            X8            X9           X10  \\\n",
       "count  30000.000000  30000.000000  30000.000000  30000.000000  30000.000000   \n",
       "mean      -0.016700     -0.133767     -0.166200     -0.220667     -0.266200   \n",
       "std        1.123802      1.197186      1.196868      1.169139      1.133187   \n",
       "min       -2.000000     -2.000000     -2.000000     -2.000000     -2.000000   \n",
       "25%       -1.000000     -1.000000     -1.000000     -1.000000     -1.000000   \n",
       "50%        0.000000      0.000000      0.000000      0.000000      0.000000   \n",
       "75%        0.000000      0.000000      0.000000      0.000000      0.000000   \n",
       "max        8.000000      8.000000      8.000000      8.000000      8.000000   \n",
       "\n",
       "           ...                 X15            X16            X17  \\\n",
       "count      ...        30000.000000   30000.000000   30000.000000   \n",
       "mean       ...        43262.948967   40311.400967   38871.760400   \n",
       "std        ...        64332.856134   60797.155770   59554.107537   \n",
       "min        ...      -170000.000000  -81334.000000 -339603.000000   \n",
       "25%        ...         2326.750000    1763.000000    1256.000000   \n",
       "50%        ...        19052.000000   18104.500000   17071.000000   \n",
       "75%        ...        54506.000000   50190.500000   49198.250000   \n",
       "max        ...       891586.000000  927171.000000  961664.000000   \n",
       "\n",
       "                 X18           X19           X20            X21  \\\n",
       "count   30000.000000  3.000000e+04   30000.00000   30000.000000   \n",
       "mean     5663.580500  5.921163e+03    5225.68150    4826.076867   \n",
       "std     16563.280354  2.304087e+04   17606.96147   15666.159744   \n",
       "min         0.000000  0.000000e+00       0.00000       0.000000   \n",
       "25%      1000.000000  8.330000e+02     390.00000     296.000000   \n",
       "50%      2100.000000  2.009000e+03    1800.00000    1500.000000   \n",
       "75%      5006.000000  5.000000e+03    4505.00000    4013.250000   \n",
       "max    873552.000000  1.684259e+06  896040.00000  621000.000000   \n",
       "\n",
       "                 X22            X23             Y  \n",
       "count   30000.000000   30000.000000  30000.000000  \n",
       "mean     4799.387633    5215.502567      0.221200  \n",
       "std     15278.305679   17777.465775      0.415062  \n",
       "min         0.000000       0.000000      0.000000  \n",
       "25%       252.500000     117.750000      0.000000  \n",
       "50%      1500.000000    1500.000000      0.000000  \n",
       "75%      4031.500000    4000.000000      0.000000  \n",
       "max    426529.000000  528666.000000      1.000000  \n",
       "\n",
       "[8 rows x 24 columns]"
      ]
     },
     "execution_count": 9,
     "metadata": {},
     "output_type": "execute_result"
    }
   ],
   "source": [
    "#descriptive stats for each column\n",
    "df.describe()"
   ]
  },
  {
   "cell_type": "markdown",
   "metadata": {},
   "source": [
    "# **Histogram & Box Plot** -JU"
   ]
  },
  {
   "cell_type": "code",
   "execution_count": 10,
   "metadata": {},
   "outputs": [
    {
     "data": {
      "text/plain": [
       "array([[<matplotlib.axes._subplots.AxesSubplot object at 0x7f50aace9b70>,\n",
       "        <matplotlib.axes._subplots.AxesSubplot object at 0x7f50acc75630>,\n",
       "        <matplotlib.axes._subplots.AxesSubplot object at 0x7f50acc59898>,\n",
       "        <matplotlib.axes._subplots.AxesSubplot object at 0x7f50acbb6b00>,\n",
       "        <matplotlib.axes._subplots.AxesSubplot object at 0x7f50acb1acc0>],\n",
       "       [<matplotlib.axes._subplots.AxesSubplot object at 0x7f50acabbf28>,\n",
       "        <matplotlib.axes._subplots.AxesSubplot object at 0x7f50ac9f51d0>,\n",
       "        <matplotlib.axes._subplots.AxesSubplot object at 0x7f50ac9d1470>,\n",
       "        <matplotlib.axes._subplots.AxesSubplot object at 0x7f50ac9d14a8>,\n",
       "        <matplotlib.axes._subplots.AxesSubplot object at 0x7f50ac912908>],\n",
       "       [<matplotlib.axes._subplots.AxesSubplot object at 0x7f50ac871b70>,\n",
       "        <matplotlib.axes._subplots.AxesSubplot object at 0x7f50ac851dd8>,\n",
       "        <matplotlib.axes._subplots.AxesSubplot object at 0x7f50ac791080>,\n",
       "        <matplotlib.axes._subplots.AxesSubplot object at 0x7f50aac7b2e8>,\n",
       "        <matplotlib.axes._subplots.AxesSubplot object at 0x7f50aabdd550>],\n",
       "       [<matplotlib.axes._subplots.AxesSubplot object at 0x7f50aab027b8>,\n",
       "        <matplotlib.axes._subplots.AxesSubplot object at 0x7f50aaadfa20>,\n",
       "        <matplotlib.axes._subplots.AxesSubplot object at 0x7f50aaa43c88>,\n",
       "        <matplotlib.axes._subplots.AxesSubplot object at 0x7f50aaa22ef0>,\n",
       "        <matplotlib.axes._subplots.AxesSubplot object at 0x7f50aa95e198>],\n",
       "       [<matplotlib.axes._subplots.AxesSubplot object at 0x7f50aa83d400>,\n",
       "        <matplotlib.axes._subplots.AxesSubplot object at 0x7f50aa7da668>,\n",
       "        <matplotlib.axes._subplots.AxesSubplot object at 0x7f50acd318d0>,\n",
       "        <matplotlib.axes._subplots.AxesSubplot object at 0x7f50acd0fb38>,\n",
       "        <matplotlib.axes._subplots.AxesSubplot object at 0x7f50acaebda0>]],\n",
       "      dtype=object)"
      ]
     },
     "execution_count": 10,
     "metadata": {},
     "output_type": "execute_result"
    },
    {
     "data": {
      "image/png": "[encoded data removed]",
      "text/plain": [
       "<Figure size 1152x1512 with 25 Axes>"
      ]
     },
     "metadata": {},
     "output_type": "display_data"
    }
   ],
   "source": [
    "#Visualizing raw data through histograms and box plots \n",
    "df.hist(edgecolor = 'white', figsize=(16, 21), xlabelsize=8, ylabelsize=8, color=\"purple\")"
   ]
  },
  {
   "cell_type": "code",
   "execution_count": 11,
   "metadata": {},
   "outputs": [
    {
     "data": {
      "text/plain": [
       "{'whiskers': [<matplotlib.lines.Line2D at 0x7f50ab97c198>,\n",
       "  <matplotlib.lines.Line2D at 0x7f50ab97c4e0>],\n",
       " 'caps': [<matplotlib.lines.Line2D at 0x7f50ab97c828>,\n",
       "  <matplotlib.lines.Line2D at 0x7f50ab97cb70>],\n",
       " 'boxes': [<matplotlib.lines.Line2D at 0x7f50ab97c048>],\n",
       " 'medians': [<matplotlib.lines.Line2D at 0x7f50ab97ceb8>],\n",
       " 'fliers': [<matplotlib.lines.Line2D at 0x7f50ab972240>],\n",
       " 'means': []}"
      ]
     },
     "execution_count": 11,
     "metadata": {},
     "output_type": "execute_result"
    },
    {
     "data": {
      "image/png": "[encoded data removed]",
      "text/plain": [
       "<Figure size 864x288 with 2 Axes>"
      ]
     },
     "metadata": {},
     "output_type": "display_data"
    }
   ],
   "source": [
    "# Histogram & Box Plot to look at Central Tendancy for each column\n",
    "fig = plt.figure(figsize=(12,4))\n",
    "ax1 = fig.add_subplot(1,2,1)\n",
    "ax2 = fig.add_subplot(1,2,2)\n",
    "ax1.hist(df['X1'], color=\"red\", edgecolor = 'white')\n",
    "ax2.boxplot(df['X1'])"
   ]
  },
  {
   "cell_type": "code",
   "execution_count": 12,
   "metadata": {},
   "outputs": [
    {
     "data": {
      "text/plain": [
       "{'whiskers': [<matplotlib.lines.Line2D at 0x7f50adffbf98>,\n",
       "  <matplotlib.lines.Line2D at 0x7f50adff5320>],\n",
       " 'caps': [<matplotlib.lines.Line2D at 0x7f50adff5668>,\n",
       "  <matplotlib.lines.Line2D at 0x7f50adff59b0>],\n",
       " 'boxes': [<matplotlib.lines.Line2D at 0x7f50adffbcf8>],\n",
       " 'medians': [<matplotlib.lines.Line2D at 0x7f50adff5cf8>],\n",
       " 'fliers': [<matplotlib.lines.Line2D at 0x7f50ae00d080>],\n",
       " 'means': []}"
      ]
     },
     "execution_count": 12,
     "metadata": {},
     "output_type": "execute_result"
    },
    {
     "data": {
      "image/png": "[encoded data removed]",
      "text/plain": [
       "<Figure size 864x288 with 2 Axes>"
      ]
     },
     "metadata": {},
     "output_type": "display_data"
    }
   ],
   "source": [
    "fig = plt.figure(figsize=(12,4))\n",
    "ax1 = fig.add_subplot(1,2,1)\n",
    "ax2 = fig.add_subplot(1,2,2)\n",
    "ax1.hist(df['X2'], color=\"red\", edgecolor = 'white')\n",
    "ax2.boxplot(df['X2'])"
   ]
  },
  {
   "cell_type": "code",
   "execution_count": 13,
   "metadata": {},
   "outputs": [
    {
     "data": {
      "text/plain": [
       "{'whiskers': [<matplotlib.lines.Line2D at 0x7f50ac5086d8>,\n",
       "  <matplotlib.lines.Line2D at 0x7f50ac508a20>],\n",
       " 'caps': [<matplotlib.lines.Line2D at 0x7f50ac508d68>,\n",
       "  <matplotlib.lines.Line2D at 0x7f50ac4980f0>],\n",
       " 'boxes': [<matplotlib.lines.Line2D at 0x7f50ac508438>],\n",
       " 'medians': [<matplotlib.lines.Line2D at 0x7f50ac498438>],\n",
       " 'fliers': [<matplotlib.lines.Line2D at 0x7f50ac498780>],\n",
       " 'means': []}"
      ]
     },
     "execution_count": 13,
     "metadata": {},
     "output_type": "execute_result"
    },
    {
     "data": {
      "image/png": "[encoded data removed]",
      "text/plain": [
       "<Figure size 864x288 with 2 Axes>"
      ]
     },
     "metadata": {},
     "output_type": "display_data"
    }
   ],
   "source": [
    "fig = plt.figure(figsize=(12,4))\n",
    "ax1 = fig.add_subplot(1,2,1)\n",
    "ax2 = fig.add_subplot(1,2,2)\n",
    "ax1.hist(df['X3'], color=\"red\", edgecolor = 'white')\n",
    "ax2.boxplot(df['X3'])"
   ]
  },
  {
   "cell_type": "code",
   "execution_count": 14,
   "metadata": {},
   "outputs": [
    {
     "data": {
      "text/plain": [
       "{'whiskers': [<matplotlib.lines.Line2D at 0x7f50aba2a518>,\n",
       "  <matplotlib.lines.Line2D at 0x7f50aba2a860>],\n",
       " 'caps': [<matplotlib.lines.Line2D at 0x7f50aba2aba8>,\n",
       "  <matplotlib.lines.Line2D at 0x7f50aba2aef0>],\n",
       " 'boxes': [<matplotlib.lines.Line2D at 0x7f50aba2a278>],\n",
       " 'medians': [<matplotlib.lines.Line2D at 0x7f50aba43278>],\n",
       " 'fliers': [<matplotlib.lines.Line2D at 0x7f50aba435c0>],\n",
       " 'means': []}"
      ]
     },
     "execution_count": 14,
     "metadata": {},
     "output_type": "execute_result"
    },
    {
     "data": {
      "image/png": "[encoded data removed]",
      "text/plain": [
       "<Figure size 864x288 with 2 Axes>"
      ]
     },
     "metadata": {},
     "output_type": "display_data"
    }
   ],
   "source": [
    "fig = plt.figure(figsize=(12,4))\n",
    "ax1 = fig.add_subplot(1,2,1)\n",
    "ax2 = fig.add_subplot(1,2,2)\n",
    "ax1.hist(df['X4'], color=\"red\", edgecolor = 'white')\n",
    "ax2.boxplot(df['X4'])"
   ]
  },
  {
   "cell_type": "code",
   "execution_count": 15,
   "metadata": {},
   "outputs": [
    {
     "data": {
      "text/plain": [
       "{'whiskers': [<matplotlib.lines.Line2D at 0x7f50aad97748>,\n",
       "  <matplotlib.lines.Line2D at 0x7f50aad97a90>],\n",
       " 'caps': [<matplotlib.lines.Line2D at 0x7f50aad97dd8>,\n",
       "  <matplotlib.lines.Line2D at 0x7f50aada3160>],\n",
       " 'boxes': [<matplotlib.lines.Line2D at 0x7f50aad974a8>],\n",
       " 'medians': [<matplotlib.lines.Line2D at 0x7f50aada34a8>],\n",
       " 'fliers': [<matplotlib.lines.Line2D at 0x7f50aada37f0>],\n",
       " 'means': []}"
      ]
     },
     "execution_count": 15,
     "metadata": {},
     "output_type": "execute_result"
    },
    {
     "data": {
      "image/png": "[encoded data removed]",
      "text/plain": [
       "<Figure size 864x288 with 2 Axes>"
      ]
     },
     "metadata": {},
     "output_type": "display_data"
    }
   ],
   "source": [
    "fig = plt.figure(figsize=(12,4))\n",
    "ax1 = fig.add_subplot(1,2,1)\n",
    "ax2 = fig.add_subplot(1,2,2)\n",
    "ax1.hist(df['X5'], color=\"red\", edgecolor = 'white')\n",
    "ax2.boxplot(df['X5'])"
   ]
  },
  {
   "cell_type": "code",
   "execution_count": 16,
   "metadata": {},
   "outputs": [
    {
     "data": {
      "text/plain": [
       "{'whiskers': [<matplotlib.lines.Line2D at 0x7f50ae7e0f28>,\n",
       "  <matplotlib.lines.Line2D at 0x7f50ae76b2b0>],\n",
       " 'caps': [<matplotlib.lines.Line2D at 0x7f50ae76b5f8>,\n",
       "  <matplotlib.lines.Line2D at 0x7f50ae76b940>],\n",
       " 'boxes': [<matplotlib.lines.Line2D at 0x7f50ae7e0c88>],\n",
       " 'medians': [<matplotlib.lines.Line2D at 0x7f50ae76bc88>],\n",
       " 'fliers': [<matplotlib.lines.Line2D at 0x7f50ae76bfd0>],\n",
       " 'means': []}"
      ]
     },
     "execution_count": 16,
     "metadata": {},
     "output_type": "execute_result"
    },
    {
     "data": {
      "image/png": "[encoded data removed]",
      "text/plain": [
       "<Figure size 864x288 with 2 Axes>"
      ]
     },
     "metadata": {},
     "output_type": "display_data"
    }
   ],
   "source": [
    "fig = plt.figure(figsize=(12,4))\n",
    "ax1 = fig.add_subplot(1,2,1)\n",
    "ax2 = fig.add_subplot(1,2,2)\n",
    "ax1.hist(df['X6'], color=\"red\", edgecolor = 'white')\n",
    "ax2.boxplot(df['X6'])"
   ]
  },
  {
   "cell_type": "code",
   "execution_count": 17,
   "metadata": {},
   "outputs": [
    {
     "data": {
      "text/plain": [
       "{'whiskers': [<matplotlib.lines.Line2D at 0x7f50ae6ac320>,\n",
       "  <matplotlib.lines.Line2D at 0x7f50ae6ac668>],\n",
       " 'caps': [<matplotlib.lines.Line2D at 0x7f50ae6ac9b0>,\n",
       "  <matplotlib.lines.Line2D at 0x7f50ae6accf8>],\n",
       " 'boxes': [<matplotlib.lines.Line2D at 0x7f50ae6ac048>],\n",
       " 'medians': [<matplotlib.lines.Line2D at 0x7f50ae6b7080>],\n",
       " 'fliers': [<matplotlib.lines.Line2D at 0x7f50ae6b73c8>],\n",
       " 'means': []}"
      ]
     },
     "execution_count": 17,
     "metadata": {},
     "output_type": "execute_result"
    },
    {
     "data": {
      "image/png": "[encoded data removed]",
      "text/plain": [
       "<Figure size 864x288 with 2 Axes>"
      ]
     },
     "metadata": {},
     "output_type": "display_data"
    }
   ],
   "source": [
    "fig = plt.figure(figsize=(12,4))\n",
    "ax1 = fig.add_subplot(1,2,1)\n",
    "ax2 = fig.add_subplot(1,2,2)\n",
    "ax1.hist(df['X7'], color=\"red\", edgecolor = 'white')\n",
    "ax2.boxplot(df['X7'])"
   ]
  },
  {
   "cell_type": "code",
   "execution_count": 18,
   "metadata": {},
   "outputs": [
    {
     "data": {
      "text/plain": [
       "{'whiskers': [<matplotlib.lines.Line2D at 0x7f50ae5edc88>,\n",
       "  <matplotlib.lines.Line2D at 0x7f50ae5edfd0>],\n",
       " 'caps': [<matplotlib.lines.Line2D at 0x7f50ae5f8358>,\n",
       "  <matplotlib.lines.Line2D at 0x7f50ae5f86a0>],\n",
       " 'boxes': [<matplotlib.lines.Line2D at 0x7f50ae5ed9e8>],\n",
       " 'medians': [<matplotlib.lines.Line2D at 0x7f50ae5f89e8>],\n",
       " 'fliers': [<matplotlib.lines.Line2D at 0x7f50ae5f8d30>],\n",
       " 'means': []}"
      ]
     },
     "execution_count": 18,
     "metadata": {},
     "output_type": "execute_result"
    },
    {
     "data": {
      "image/png": "[encoded data removed]",
      "text/plain": [
       "<Figure size 864x288 with 2 Axes>"
      ]
     },
     "metadata": {},
     "output_type": "display_data"
    }
   ],
   "source": [
    "fig = plt.figure(figsize=(12,4))\n",
    "ax1 = fig.add_subplot(1,2,1)\n",
    "ax2 = fig.add_subplot(1,2,2)\n",
    "ax1.hist(df['X8'], color=\"red\", edgecolor = 'white')\n",
    "ax2.boxplot(df['X8'])"
   ]
  },
  {
   "cell_type": "code",
   "execution_count": 19,
   "metadata": {},
   "outputs": [
    {
     "data": {
      "text/plain": [
       "{'whiskers': [<matplotlib.lines.Line2D at 0x7f50ae539630>,\n",
       "  <matplotlib.lines.Line2D at 0x7f50ae539978>],\n",
       " 'caps': [<matplotlib.lines.Line2D at 0x7f50ae539cc0>,\n",
       "  <matplotlib.lines.Line2D at 0x7f50ae544048>],\n",
       " 'boxes': [<matplotlib.lines.Line2D at 0x7f50ae539390>],\n",
       " 'medians': [<matplotlib.lines.Line2D at 0x7f50ae544390>],\n",
       " 'fliers': [<matplotlib.lines.Line2D at 0x7f50ae5446d8>],\n",
       " 'means': []}"
      ]
     },
     "execution_count": 19,
     "metadata": {},
     "output_type": "execute_result"
    },
    {
     "data": {
      "image/png": "[encoded data removed]",
      "text/plain": [
       "<Figure size 864x288 with 2 Axes>"
      ]
     },
     "metadata": {},
     "output_type": "display_data"
    }
   ],
   "source": [
    "fig = plt.figure(figsize=(12,4))\n",
    "ax1 = fig.add_subplot(1,2,1)\n",
    "ax2 = fig.add_subplot(1,2,2)\n",
    "ax1.hist(df['X9'], color=\"red\", edgecolor = 'white')\n",
    "ax2.boxplot(df['X9'])"
   ]
  },
  {
   "cell_type": "code",
   "execution_count": 20,
   "metadata": {},
   "outputs": [
    {
     "data": {
      "text/plain": [
       "{'whiskers': [<matplotlib.lines.Line2D at 0x7f50ae47cf98>,\n",
       "  <matplotlib.lines.Line2D at 0x7f50ae488320>],\n",
       " 'caps': [<matplotlib.lines.Line2D at 0x7f50ae488668>,\n",
       "  <matplotlib.lines.Line2D at 0x7f50ae4889b0>],\n",
       " 'boxes': [<matplotlib.lines.Line2D at 0x7f50ae47ccf8>],\n",
       " 'medians': [<matplotlib.lines.Line2D at 0x7f50ae488cf8>],\n",
       " 'fliers': [<matplotlib.lines.Line2D at 0x7f50ae491080>],\n",
       " 'means': []}"
      ]
     },
     "execution_count": 20,
     "metadata": {},
     "output_type": "execute_result"
    },
    {
     "data": {
      "image/png": "[encoded data removed]",
      "text/plain": [
       "<Figure size 864x288 with 2 Axes>"
      ]
     },
     "metadata": {},
     "output_type": "display_data"
    }
   ],
   "source": [
    "fig = plt.figure(figsize=(12,4))\n",
    "ax1 = fig.add_subplot(1,2,1)\n",
    "ax2 = fig.add_subplot(1,2,2)\n",
    "ax1.hist(df['X10'], color=\"red\", edgecolor = 'white')\n",
    "ax2.boxplot(df['X10'])"
   ]
  },
  {
   "cell_type": "code",
   "execution_count": 21,
   "metadata": {},
   "outputs": [
    {
     "data": {
      "text/plain": [
       "{'whiskers': [<matplotlib.lines.Line2D at 0x7f50ae3cb940>,\n",
       "  <matplotlib.lines.Line2D at 0x7f50ae3cbc88>],\n",
       " 'caps': [<matplotlib.lines.Line2D at 0x7f50ae3cbfd0>,\n",
       "  <matplotlib.lines.Line2D at 0x7f50ae3d6358>],\n",
       " 'boxes': [<matplotlib.lines.Line2D at 0x7f50ae3cb6a0>],\n",
       " 'medians': [<matplotlib.lines.Line2D at 0x7f50ae3d66a0>],\n",
       " 'fliers': [<matplotlib.lines.Line2D at 0x7f50ae3d69e8>],\n",
       " 'means': []}"
      ]
     },
     "execution_count": 21,
     "metadata": {},
     "output_type": "execute_result"
    },
    {
     "data": {
      "image/png": "[encoded data removed]",
      "text/plain": [
       "<Figure size 864x288 with 2 Axes>"
      ]
     },
     "metadata": {},
     "output_type": "display_data"
    }
   ],
   "source": [
    "fig = plt.figure(figsize=(12,4))\n",
    "ax1 = fig.add_subplot(1,2,1)\n",
    "ax2 = fig.add_subplot(1,2,2)\n",
    "ax1.hist(df['X11'], color=\"red\", edgecolor = 'white')\n",
    "ax2.boxplot(df['X11'])"
   ]
  },
  {
   "cell_type": "code",
   "execution_count": 22,
   "metadata": {},
   "outputs": [
    {
     "data": {
      "text/plain": [
       "{'whiskers': [<matplotlib.lines.Line2D at 0x7f50ae3182e8>,\n",
       "  <matplotlib.lines.Line2D at 0x7f50ae318630>],\n",
       " 'caps': [<matplotlib.lines.Line2D at 0x7f50ae318978>,\n",
       "  <matplotlib.lines.Line2D at 0x7f50ae318cc0>],\n",
       " 'boxes': [<matplotlib.lines.Line2D at 0x7f50ae318048>],\n",
       " 'medians': [<matplotlib.lines.Line2D at 0x7f50ae2a5048>],\n",
       " 'fliers': [<matplotlib.lines.Line2D at 0x7f50ae2a5390>],\n",
       " 'means': []}"
      ]
     },
     "execution_count": 22,
     "metadata": {},
     "output_type": "execute_result"
    },
    {
     "data": {
      "image/png": "[encoded data removed]",
      "text/plain": [
       "<Figure size 864x288 with 2 Axes>"
      ]
     },
     "metadata": {},
     "output_type": "display_data"
    }
   ],
   "source": [
    "fig = plt.figure(figsize=(12,4))\n",
    "ax1 = fig.add_subplot(1,2,1)\n",
    "ax2 = fig.add_subplot(1,2,2)\n",
    "ax1.hist(df['X12'], color=\"red\", edgecolor = 'white')\n",
    "ax2.boxplot(df['X12'])"
   ]
  },
  {
   "cell_type": "code",
   "execution_count": 23,
   "metadata": {},
   "outputs": [
    {
     "data": {
      "text/plain": [
       "{'whiskers': [<matplotlib.lines.Line2D at 0x7f50ad5152b0>,\n",
       "  <matplotlib.lines.Line2D at 0x7f50ad5155f8>],\n",
       " 'caps': [<matplotlib.lines.Line2D at 0x7f50ad515940>,\n",
       "  <matplotlib.lines.Line2D at 0x7f50ad515c88>],\n",
       " 'boxes': [<matplotlib.lines.Line2D at 0x7f50ad5150f0>],\n",
       " 'medians': [<matplotlib.lines.Line2D at 0x7f50ad515fd0>],\n",
       " 'fliers': [<matplotlib.lines.Line2D at 0x7f50ad4a1358>],\n",
       " 'means': []}"
      ]
     },
     "execution_count": 23,
     "metadata": {},
     "output_type": "execute_result"
    },
    {
     "data": {
      "image/png": "[encoded data removed]",
      "text/plain": [
       "<Figure size 864x288 with 2 Axes>"
      ]
     },
     "metadata": {},
     "output_type": "display_data"
    }
   ],
   "source": [
    "fig = plt.figure(figsize=(12,4))\n",
    "ax1 = fig.add_subplot(1,2,1)\n",
    "ax2 = fig.add_subplot(1,2,2)\n",
    "ax1.hist(df['X13'], color=\"red\", edgecolor = 'white')\n",
    "ax2.boxplot(df['X13'])"
   ]
  },
  {
   "cell_type": "code",
   "execution_count": 24,
   "metadata": {},
   "outputs": [
    {
     "data": {
      "text/plain": [
       "{'whiskers': [<matplotlib.lines.Line2D at 0x7f50ad3da400>,\n",
       "  <matplotlib.lines.Line2D at 0x7f50ad3da748>],\n",
       " 'caps': [<matplotlib.lines.Line2D at 0x7f50ad3daa90>,\n",
       "  <matplotlib.lines.Line2D at 0x7f50ad3dadd8>],\n",
       " 'boxes': [<matplotlib.lines.Line2D at 0x7f50ad3da160>],\n",
       " 'medians': [<matplotlib.lines.Line2D at 0x7f50ad3e5160>],\n",
       " 'fliers': [<matplotlib.lines.Line2D at 0x7f50ad3e54a8>],\n",
       " 'means': []}"
      ]
     },
     "execution_count": 24,
     "metadata": {},
     "output_type": "execute_result"
    },
    {
     "data": {
      "image/png": "[encoded data removed]",
      "text/plain": [
       "<Figure size 864x288 with 2 Axes>"
      ]
     },
     "metadata": {},
     "output_type": "display_data"
    }
   ],
   "source": [
    "fig = plt.figure(figsize=(12,4))\n",
    "ax1 = fig.add_subplot(1,2,1)\n",
    "ax2 = fig.add_subplot(1,2,2)\n",
    "ax1.hist(df['X14'], color=\"red\", edgecolor = 'white')\n",
    "ax2.boxplot(df['X14'])"
   ]
  },
  {
   "cell_type": "code",
   "execution_count": 25,
   "metadata": {},
   "outputs": [
    {
     "data": {
      "text/plain": [
       "{'whiskers': [<matplotlib.lines.Line2D at 0x7f50ad331908>,\n",
       "  <matplotlib.lines.Line2D at 0x7f50ad331c50>],\n",
       " 'caps': [<matplotlib.lines.Line2D at 0x7f50ad331f98>,\n",
       "  <matplotlib.lines.Line2D at 0x7f50ad33b320>],\n",
       " 'boxes': [<matplotlib.lines.Line2D at 0x7f50ad331668>],\n",
       " 'medians': [<matplotlib.lines.Line2D at 0x7f50ad33b668>],\n",
       " 'fliers': [<matplotlib.lines.Line2D at 0x7f50ad33b9b0>],\n",
       " 'means': []}"
      ]
     },
     "execution_count": 25,
     "metadata": {},
     "output_type": "execute_result"
    },
    {
     "data": {
      "image/png": "[encoded data removed]",
      "text/plain": [
       "<Figure size 864x288 with 2 Axes>"
      ]
     },
     "metadata": {},
     "output_type": "display_data"
    }
   ],
   "source": [
    "fig = plt.figure(figsize=(12,4))\n",
    "ax1 = fig.add_subplot(1,2,1)\n",
    "ax2 = fig.add_subplot(1,2,2)\n",
    "ax1.hist(df['X15'], color=\"red\", edgecolor = 'white')\n",
    "ax2.boxplot(df['X15'])"
   ]
  },
  {
   "cell_type": "code",
   "execution_count": 26,
   "metadata": {},
   "outputs": [
    {
     "data": {
      "text/plain": [
       "{'whiskers': [<matplotlib.lines.Line2D at 0x7f50ad280470>,\n",
       "  <matplotlib.lines.Line2D at 0x7f50ad2807b8>],\n",
       " 'caps': [<matplotlib.lines.Line2D at 0x7f50ad280b00>,\n",
       "  <matplotlib.lines.Line2D at 0x7f50ad280e48>],\n",
       " 'boxes': [<matplotlib.lines.Line2D at 0x7f50ad2801d0>],\n",
       " 'medians': [<matplotlib.lines.Line2D at 0x7f50ad2891d0>],\n",
       " 'fliers': [<matplotlib.lines.Line2D at 0x7f50ad289518>],\n",
       " 'means': []}"
      ]
     },
     "execution_count": 26,
     "metadata": {},
     "output_type": "execute_result"
    },
    {
     "data": {
      "image/png": "[encoded data removed]",
      "text/plain": [
       "<Figure size 864x288 with 2 Axes>"
      ]
     },
     "metadata": {},
     "output_type": "display_data"
    }
   ],
   "source": [
    "fig = plt.figure(figsize=(12,4))\n",
    "ax1 = fig.add_subplot(1,2,1)\n",
    "ax2 = fig.add_subplot(1,2,2)\n",
    "ax1.hist(df['X16'], color=\"red\", edgecolor = 'white')\n",
    "ax2.boxplot(df['X16'])"
   ]
  },
  {
   "cell_type": "code",
   "execution_count": 27,
   "metadata": {},
   "outputs": [
    {
     "data": {
      "text/plain": [
       "{'whiskers': [<matplotlib.lines.Line2D at 0x7f50ad1c04e0>,\n",
       "  <matplotlib.lines.Line2D at 0x7f50ad1c0828>],\n",
       " 'caps': [<matplotlib.lines.Line2D at 0x7f50ad1c0b70>,\n",
       "  <matplotlib.lines.Line2D at 0x7f50ad1c0eb8>],\n",
       " 'boxes': [<matplotlib.lines.Line2D at 0x7f50ad1c0240>],\n",
       " 'medians': [<matplotlib.lines.Line2D at 0x7f50ad1ca240>],\n",
       " 'fliers': [<matplotlib.lines.Line2D at 0x7f50ad1ca588>],\n",
       " 'means': []}"
      ]
     },
     "execution_count": 27,
     "metadata": {},
     "output_type": "execute_result"
    },
    {
     "data": {
      "image/png": "[encoded data removed]",
      "text/plain": [
       "<Figure size 864x288 with 2 Axes>"
      ]
     },
     "metadata": {},
     "output_type": "display_data"
    }
   ],
   "source": [
    "fig = plt.figure(figsize=(12,4))\n",
    "ax1 = fig.add_subplot(1,2,1)\n",
    "ax2 = fig.add_subplot(1,2,2)\n",
    "ax1.hist(df['X17'], color=\"red\", edgecolor = 'white')\n",
    "ax2.boxplot(df['X17'])"
   ]
  },
  {
   "cell_type": "code",
   "execution_count": 28,
   "metadata": {},
   "outputs": [
    {
     "data": {
      "text/plain": [
       "{'whiskers': [<matplotlib.lines.Line2D at 0x7f50ad102f98>,\n",
       "  <matplotlib.lines.Line2D at 0x7f50ad10b320>],\n",
       " 'caps': [<matplotlib.lines.Line2D at 0x7f50ad10b668>,\n",
       "  <matplotlib.lines.Line2D at 0x7f50ad10b9b0>],\n",
       " 'boxes': [<matplotlib.lines.Line2D at 0x7f50ad102cf8>],\n",
       " 'medians': [<matplotlib.lines.Line2D at 0x7f50ad10bcf8>],\n",
       " 'fliers': [<matplotlib.lines.Line2D at 0x7f50ad114080>],\n",
       " 'means': []}"
      ]
     },
     "execution_count": 28,
     "metadata": {},
     "output_type": "execute_result"
    },
    {
     "data": {
      "image/png": "[encoded data removed]",
      "text/plain": [
       "<Figure size 864x288 with 2 Axes>"
      ]
     },
     "metadata": {},
     "output_type": "display_data"
    }
   ],
   "source": [
    "fig = plt.figure(figsize=(12,4))\n",
    "ax1 = fig.add_subplot(1,2,1)\n",
    "ax2 = fig.add_subplot(1,2,2)\n",
    "ax1.hist(df['X18'], color=\"red\", edgecolor = 'white')\n",
    "ax2.boxplot(df['X18'])"
   ]
  },
  {
   "cell_type": "code",
   "execution_count": 29,
   "metadata": {},
   "outputs": [
    {
     "data": {
      "text/plain": [
       "{'whiskers': [<matplotlib.lines.Line2D at 0x7f50acf85438>,\n",
       "  <matplotlib.lines.Line2D at 0x7f50acf85780>],\n",
       " 'caps': [<matplotlib.lines.Line2D at 0x7f50acf85ac8>,\n",
       "  <matplotlib.lines.Line2D at 0x7f50acf85e10>],\n",
       " 'boxes': [<matplotlib.lines.Line2D at 0x7f50acf85198>],\n",
       " 'medians': [<matplotlib.lines.Line2D at 0x7f50acf90198>],\n",
       " 'fliers': [<matplotlib.lines.Line2D at 0x7f50acf904e0>],\n",
       " 'means': []}"
      ]
     },
     "execution_count": 29,
     "metadata": {},
     "output_type": "execute_result"
    },
    {
     "data": {
      "image/png": "[encoded data removed]",
      "text/plain": [
       "<Figure size 864x288 with 2 Axes>"
      ]
     },
     "metadata": {},
     "output_type": "display_data"
    }
   ],
   "source": [
    "fig = plt.figure(figsize=(12,4))\n",
    "ax1 = fig.add_subplot(1,2,1)\n",
    "ax2 = fig.add_subplot(1,2,2)\n",
    "ax1.hist(df['X19'], color=\"red\", edgecolor = 'white')\n",
    "ax2.boxplot(df['X19'])"
   ]
  },
  {
   "cell_type": "code",
   "execution_count": 30,
   "metadata": {},
   "outputs": [
    {
     "data": {
      "text/plain": [
       "{'whiskers': [<matplotlib.lines.Line2D at 0x7f50aceceb70>,\n",
       "  <matplotlib.lines.Line2D at 0x7f50aceceeb8>],\n",
       " 'caps': [<matplotlib.lines.Line2D at 0x7f50ace5a240>,\n",
       "  <matplotlib.lines.Line2D at 0x7f50ace5a588>],\n",
       " 'boxes': [<matplotlib.lines.Line2D at 0x7f50acece8d0>],\n",
       " 'medians': [<matplotlib.lines.Line2D at 0x7f50ace5a8d0>],\n",
       " 'fliers': [<matplotlib.lines.Line2D at 0x7f50ace5ac18>],\n",
       " 'means': []}"
      ]
     },
     "execution_count": 30,
     "metadata": {},
     "output_type": "execute_result"
    },
    {
     "data": {
      "image/png": "[encoded data removed]",
      "text/plain": [
       "<Figure size 864x288 with 2 Axes>"
      ]
     },
     "metadata": {},
     "output_type": "display_data"
    }
   ],
   "source": [
    "fig = plt.figure(figsize=(12,4))\n",
    "ax1 = fig.add_subplot(1,2,1)\n",
    "ax2 = fig.add_subplot(1,2,2)\n",
    "ax1.hist(df['X20'], color=\"red\", edgecolor = 'white')\n",
    "ax2.boxplot(df['X20'])"
   ]
  },
  {
   "cell_type": "code",
   "execution_count": 31,
   "metadata": {},
   "outputs": [
    {
     "data": {
      "text/plain": [
       "{'whiskers': [<matplotlib.lines.Line2D at 0x7f50ace06c88>,\n",
       "  <matplotlib.lines.Line2D at 0x7f50ace06fd0>],\n",
       " 'caps': [<matplotlib.lines.Line2D at 0x7f50ace10358>,\n",
       "  <matplotlib.lines.Line2D at 0x7f50ace106a0>],\n",
       " 'boxes': [<matplotlib.lines.Line2D at 0x7f50ace069e8>],\n",
       " 'medians': [<matplotlib.lines.Line2D at 0x7f50ace109e8>],\n",
       " 'fliers': [<matplotlib.lines.Line2D at 0x7f50ace10d30>],\n",
       " 'means': []}"
      ]
     },
     "execution_count": 31,
     "metadata": {},
     "output_type": "execute_result"
    },
    {
     "data": {
      "image/png": "[encoded data removed]",
      "text/plain": [
       "<Figure size 864x288 with 2 Axes>"
      ]
     },
     "metadata": {},
     "output_type": "display_data"
    }
   ],
   "source": [
    "fig = plt.figure(figsize=(12,4))\n",
    "ax1 = fig.add_subplot(1,2,1)\n",
    "ax2 = fig.add_subplot(1,2,2)\n",
    "ax1.hist(df['X21'], color=\"red\", edgecolor = 'white')\n",
    "ax2.boxplot(df['X21'])"
   ]
  },
  {
   "cell_type": "code",
   "execution_count": 32,
   "metadata": {},
   "outputs": [
    {
     "data": {
      "text/plain": [
       "{'whiskers': [<matplotlib.lines.Line2D at 0x7f50a4e5d908>,\n",
       "  <matplotlib.lines.Line2D at 0x7f50a4e5dc50>],\n",
       " 'caps': [<matplotlib.lines.Line2D at 0x7f50a4e5df98>,\n",
       "  <matplotlib.lines.Line2D at 0x7f50a4de8320>],\n",
       " 'boxes': [<matplotlib.lines.Line2D at 0x7f50a4e5d668>],\n",
       " 'medians': [<matplotlib.lines.Line2D at 0x7f50a4de8668>],\n",
       " 'fliers': [<matplotlib.lines.Line2D at 0x7f50a4de89b0>],\n",
       " 'means': []}"
      ]
     },
     "execution_count": 32,
     "metadata": {},
     "output_type": "execute_result"
    },
    {
     "data": {
      "image/png": "[encoded data removed]",
      "text/plain": [
       "<Figure size 864x288 with 2 Axes>"
      ]
     },
     "metadata": {},
     "output_type": "display_data"
    }
   ],
   "source": [
    "fig = plt.figure(figsize=(12,4))\n",
    "ax1 = fig.add_subplot(1,2,1)\n",
    "ax2 = fig.add_subplot(1,2,2)\n",
    "ax1.hist(df['X22'], color=\"red\", edgecolor = 'white')\n",
    "ax2.boxplot(df['X22'])"
   ]
  },
  {
   "cell_type": "code",
   "execution_count": 33,
   "metadata": {},
   "outputs": [
    {
     "data": {
      "text/plain": [
       "{'whiskers': [<matplotlib.lines.Line2D at 0x7f50a4d93c18>,\n",
       "  <matplotlib.lines.Line2D at 0x7f50a4d93f60>],\n",
       " 'caps': [<matplotlib.lines.Line2D at 0x7f50a4d9f2e8>,\n",
       "  <matplotlib.lines.Line2D at 0x7f50a4d9f630>],\n",
       " 'boxes': [<matplotlib.lines.Line2D at 0x7f50a4d93978>],\n",
       " 'medians': [<matplotlib.lines.Line2D at 0x7f50a4d9f978>],\n",
       " 'fliers': [<matplotlib.lines.Line2D at 0x7f50a4d9fcc0>],\n",
       " 'means': []}"
      ]
     },
     "execution_count": 33,
     "metadata": {},
     "output_type": "execute_result"
    },
    {
     "data": {
      "image/png": "[encoded data removed]",
      "text/plain": [
       "<Figure size 864x288 with 2 Axes>"
      ]
     },
     "metadata": {},
     "output_type": "display_data"
    }
   ],
   "source": [
    "fig = plt.figure(figsize=(12,4))\n",
    "ax1 = fig.add_subplot(1,2,1)\n",
    "ax2 = fig.add_subplot(1,2,2)\n",
    "ax1.hist(df['X23'], color=\"red\", edgecolor = 'white')\n",
    "ax2.boxplot(df['X23'])"
   ]
  },
  {
   "cell_type": "markdown",
   "metadata": {},
   "source": [
    "# **Correlation** -KS"
   ]
  },
  {
   "cell_type": "code",
   "execution_count": 34,
   "metadata": {},
   "outputs": [
    {
     "name": "stdout",
     "output_type": "stream",
     "text": [
      "           X1        X2        X3        X4        X5        X6        X7  \\\n",
      "X1   1.000000  0.056995 -0.263575 -0.113535  0.186485 -0.296461 -0.342596   \n",
      "X2   0.056995  1.000000  0.015616 -0.031535 -0.091697 -0.053356 -0.072143   \n",
      "X3  -0.263575  0.015616  1.000000 -0.162415  0.158731  0.132288  0.168715   \n",
      "X4  -0.113535 -0.031535 -0.162415  1.000000 -0.462810  0.023312  0.036950   \n",
      "X5   0.186485 -0.091697  0.158731 -0.462810  1.000000 -0.063733 -0.083271   \n",
      "X6  -0.296461 -0.053356  0.132288  0.023312 -0.063733  1.000000  0.627170   \n",
      "X7  -0.342596 -0.072143  0.168715  0.036950 -0.083271  0.627170  1.000000   \n",
      "X8  -0.331615 -0.067361  0.162047  0.041867 -0.083192  0.548112  0.799388   \n",
      "X9  -0.308658 -0.060257  0.151878  0.044805 -0.080190  0.516156  0.713212   \n",
      "X10 -0.284936 -0.053317  0.136501  0.046881 -0.083149  0.486441  0.673749   \n",
      "X11 -0.264105 -0.043202  0.123835  0.044305 -0.076144  0.463892  0.635207   \n",
      "X12  0.054384 -0.041048  0.094977  0.003490  0.001019  0.314574  0.571325   \n",
      "X13  0.048586 -0.040141  0.092474  0.005613  0.001513  0.329814  0.551146   \n",
      "X14  0.060617 -0.029986  0.081371  0.003285  0.001831  0.314329  0.518599   \n",
      "X15  0.072894 -0.023057  0.069018  0.005736 -0.003330  0.306818  0.497540   \n",
      "X16  0.080694 -0.015097  0.060286  0.003680 -0.000342  0.298782  0.478029   \n",
      "X17  0.088094 -0.010868  0.055977  0.004795  0.000217  0.289055  0.459427   \n",
      "X18  0.272367 -0.003834 -0.041727 -0.003407  0.033580 -0.098315  0.020401   \n",
      "X19  0.278401  0.008007 -0.046651 -0.015065  0.044192 -0.063549  0.083520   \n",
      "X20  0.284468  0.020450 -0.042048 -0.012432  0.033356 -0.054153  0.087311   \n",
      "X21  0.283411  0.013536 -0.043324 -0.015854  0.040529 -0.034312  0.095036   \n",
      "X22  0.293749  0.014731 -0.049463 -0.012817  0.038125 -0.026223  0.099155   \n",
      "X23  0.317459  0.033591 -0.053060 -0.014808  0.038977 -0.045015  0.082265   \n",
      "Y   -0.169586 -0.039961  0.044369 -0.026490  0.005149  0.292213  0.216919   \n",
      "\n",
      "           X8        X9       X10    ...          X15       X16       X17  \\\n",
      "X1  -0.331615 -0.308658 -0.284936    ...     0.072894  0.080694  0.088094   \n",
      "X2  -0.067361 -0.060257 -0.053317    ...    -0.023057 -0.015097 -0.010868   \n",
      "X3   0.162047  0.151878  0.136501    ...     0.069018  0.060286  0.055977   \n",
      "X4   0.041867  0.044805  0.046881    ...     0.005736  0.003680  0.004795   \n",
      "X5  -0.083192 -0.080190 -0.083149    ...    -0.003330 -0.000342  0.000217   \n",
      "X6   0.548112  0.516156  0.486441    ...     0.306818  0.298782  0.289055   \n",
      "X7   0.799388  0.713212  0.673749    ...     0.497540  0.478029  0.459427   \n",
      "X8   1.000000  0.801047  0.718457    ...     0.531436  0.507209  0.484530   \n",
      "X9   0.801047  1.000000  0.822179    ...     0.592718  0.561290  0.533639   \n",
      "X10  0.718457  0.822179  1.000000    ...     0.649666  0.618225  0.579321   \n",
      "X11  0.671428  0.731866  0.820880    ...     0.606196  0.667710  0.629897   \n",
      "X12  0.524146  0.512443  0.499136    ...     0.807302  0.769048  0.734275   \n",
      "X13  0.588586  0.558359  0.537640    ...     0.848381  0.802947  0.765220   \n",
      "X14  0.557356  0.619312  0.587022    ...     0.903640  0.848547  0.804246   \n",
      "X15  0.531436  0.592718  0.649666    ...     1.000000  0.902787  0.847983   \n",
      "X16  0.507209  0.561290  0.618225    ...     0.902787  1.000000  0.902097   \n",
      "X17  0.484530  0.533639  0.579321    ...     0.847983  0.902097  1.000000   \n",
      "X18  0.215548  0.185478  0.175423    ...     0.512285  0.482558  0.456124   \n",
      "X19  0.037020  0.246221  0.221993    ...     0.554883  0.515136  0.486636   \n",
      "X20  0.103370  0.069251  0.260066    ...     0.633535  0.549295  0.518780   \n",
      "X21  0.118790  0.144446  0.106758    ...     0.506858  0.647095  0.569959   \n",
      "X22  0.124204  0.161743  0.184848    ...     0.504235  0.524688  0.666477   \n",
      "X23  0.098356  0.142570  0.172170    ...     0.481353  0.509480  0.529173   \n",
      "Y    0.194771  0.173690  0.159043    ...    -0.008357 -0.006851 -0.000076   \n",
      "\n",
      "          X18       X19       X20       X21       X22       X23         Y  \n",
      "X1   0.272367  0.278401  0.284468  0.283411  0.293749  0.317459 -0.169586  \n",
      "X2  -0.003834  0.008007  0.020450  0.013536  0.014731  0.033591 -0.039961  \n",
      "X3  -0.041727 -0.046651 -0.042048 -0.043324 -0.049463 -0.053060  0.044369  \n",
      "X4  -0.003407 -0.015065 -0.012432 -0.015854 -0.012817 -0.014808 -0.026490  \n",
      "X5   0.033580  0.044192  0.033356  0.040529  0.038125  0.038977  0.005149  \n",
      "X6  -0.098315 -0.063549 -0.054153 -0.034312 -0.026223 -0.045015  0.292213  \n",
      "X7   0.020401  0.083520  0.087311  0.095036  0.099155  0.082265  0.216919  \n",
      "X8   0.215548  0.037020  0.103370  0.118790  0.124204  0.098356  0.194771  \n",
      "X9   0.185478  0.246221  0.069251  0.144446  0.161743  0.142570  0.173690  \n",
      "X10  0.175423  0.221993  0.260066  0.106758  0.184848  0.172170  0.159043  \n",
      "X11  0.177536  0.199939  0.237571  0.283836  0.141080  0.197928  0.142523  \n",
      "X12  0.502339  0.472158  0.440547  0.441925  0.424971  0.410465 -0.025327  \n",
      "X13  0.635634  0.497603  0.468164  0.461064  0.448785  0.429334 -0.015554  \n",
      "X14  0.549733  0.637539  0.491950  0.488544  0.477489  0.458451 -0.012670  \n",
      "X15  0.512285  0.554883  0.633535  0.506858  0.504235  0.481353 -0.008357  \n",
      "X16  0.482558  0.515136  0.549295  0.647095  0.524688  0.509480 -0.006851  \n",
      "X17  0.456124  0.486636  0.518780  0.569959  0.666477  0.529173 -0.000076  \n",
      "X18  1.000000  0.511614  0.519142  0.486075  0.467924  0.455322 -0.160493  \n",
      "X19  0.511614  1.000000  0.516245  0.519887  0.497375  0.490986 -0.150977  \n",
      "X20  0.519142  0.516245  1.000000  0.515762  0.533691  0.505485 -0.139388  \n",
      "X21  0.486075  0.519887  0.515762  1.000000  0.534367  0.546974 -0.127979  \n",
      "X22  0.467924  0.497375  0.533691  0.534367  1.000000  0.548522 -0.116587  \n",
      "X23  0.455322  0.490986  0.505485  0.546974  0.548522  1.000000 -0.121444  \n",
      "Y   -0.160493 -0.150977 -0.139388 -0.127979 -0.116587 -0.121444  1.000000  \n",
      "\n",
      "[24 rows x 24 columns]\n"
     ]
    }
   ],
   "source": [
    "#Calculate Spearman correlation with .corr(): \n",
    "print(df.corr(method = 'spearman'))"
   ]
  },
  {
   "cell_type": "code",
   "execution_count": 35,
   "metadata": {},
   "outputs": [
    {
     "data": {
      "text/plain": [
       "<matplotlib.axes._subplots.AxesSubplot at 0x7f50a4ce77f0>"
      ]
     },
     "execution_count": 35,
     "metadata": {},
     "output_type": "execute_result"
    },
    {
     "data": {
      "image/png": "[encoded data removed]",
      "text/plain": [
       "<Figure size 864x720 with 2 Axes>"
      ]
     },
     "metadata": {},
     "output_type": "display_data"
    }
   ],
   "source": [
    "# Compute the correlation matrix\n",
    "corr = df.corr(method = 'spearman')\n",
    "\n",
    "# Generate a mask for the upper triangle\n",
    "mask = np.zeros_like(corr, dtype=np.bool)\n",
    "mask[np.triu_indices_from(mask)] = True\n",
    "\n",
    "sns.set(style=\"white\")\n",
    "\n",
    "# Generate a custom diverging colormap\n",
    "cmap = sns.diverging_palette(220, 10, as_cmap=True)\n",
    "\n",
    "# Set up the matplotlib figure\n",
    "ax = plt.subplots(figsize=(12, 10))\n",
    "\n",
    "# Draw the heatmap with the mask and aspect ratio\n",
    "sns.heatmap(corr, mask=mask, cmap='gist_ncar', vmin=-1, vmax= 1, center=0,\n",
    "            square=True, linewidths=.8, annot=True,annot_kws={\"size\": 8}, cbar_kws={\"shrink\": .8})"
   ]
  },
  {
   "cell_type": "code",
   "execution_count": 36,
   "metadata": {},
   "outputs": [
    {
     "data": {
      "text/plain": [
       "X1      True\n",
       "X2     False\n",
       "X3     False\n",
       "X4     False\n",
       "X5     False\n",
       "X6      True\n",
       "X7      True\n",
       "X8      True\n",
       "X9      True\n",
       "X10     True\n",
       "X11     True\n",
       "X12    False\n",
       "X13    False\n",
       "X14    False\n",
       "X15    False\n",
       "X16    False\n",
       "X17    False\n",
       "X18    False\n",
       "X19    False\n",
       "X20    False\n",
       "X21    False\n",
       "X22    False\n",
       "X23    False\n",
       "Y       True\n",
       "Name: Y, dtype: bool"
      ]
     },
     "execution_count": 36,
     "metadata": {},
     "output_type": "execute_result"
    }
   ],
   "source": [
    "# check if features are highly correlated with Target Variables\n",
    "##Y1 (>.1 or <-.1)\n",
    "\n",
    "s1 = df.corr()['Y'] > 0.1 \n",
    "s2 = df.corr()['Y'] < -0.1\n",
    "s1 | s2 # logical OR\n",
    "\n",
    "# between .1 and -.1, true = stronger than the other variables,"
   ]
  },
  {
   "cell_type": "markdown",
   "metadata": {},
   "source": [
    "# **Understanding Raw Data** -JH\n",
    "\n",
    "The Raw Dataset was run through a Logistic Regression and Decision Tree to understand what we were starting with. That can be found in:  [RawData](./RawData.ipynb). \n",
    "\n",
    "The logistic regression provided us with: \n",
    "\n",
    "1. Accuracy: 0.6485333333333333\n",
    "2. F1_Score: 0.6794693790243869\n",
    "3. AUC: 0.6522520746398724\n",
    "\n",
    "The decision tree provided us with: \n",
    "1. Accuracy: 0.7274666666666667\n",
    "2. F1_Score: 0.7299311624705724\n",
    "3. AUC: 0.6022903361360605"
   ]
  },
  {
   "cell_type": "markdown",
   "metadata": {},
   "source": [
    "# **Data Processing** -JH"
   ]
  },
  {
   "cell_type": "code",
   "execution_count": 37,
   "metadata": {},
   "outputs": [
    {
     "name": "stdout",
     "output_type": "stream",
     "text": [
      "[0, 0, 0, 0, 0, 0, 0, 0, 0, 0, 0, 0, 0, 0, 0, 0, 0, 0, 0, 0, 0, 0, 0, 0]\n"
     ]
    }
   ],
   "source": [
    "# checking for null values \n",
    "print(df.isnull().sum(axis=0).tolist())"
   ]
  },
  {
   "cell_type": "code",
   "execution_count": 38,
   "metadata": {},
   "outputs": [],
   "source": [
    "# Separating Target from rest of data \n",
    "target = df.iloc[:, -1:]\n",
    "target.head()\n",
    "\n",
    "# Taking target out of main dataframe \n",
    "df = df.iloc[:, :-1]"
   ]
  },
  {
   "cell_type": "code",
   "execution_count": 40,
   "metadata": {},
   "outputs": [
    {
     "data": {
      "text/html": [
       "<div>\n",
       "<style scoped>\n",
       "    .dataframe tbody tr th:only-of-type {\n",
       "        vertical-align: middle;\n",
       "    }\n",
       "\n",
       "    .dataframe tbody tr th {\n",
       "        vertical-align: top;\n",
       "    }\n",
       "\n",
       "    .dataframe thead th {\n",
       "        text-align: right;\n",
       "    }\n",
       "</style>\n",
       "<table border=\"1\" class=\"dataframe\">\n",
       "  <thead>\n",
       "    <tr style=\"text-align: right;\">\n",
       "      <th></th>\n",
       "      <th>Y</th>\n",
       "    </tr>\n",
       "  </thead>\n",
       "  <tbody>\n",
       "    <tr>\n",
       "      <th>0</th>\n",
       "      <td>1</td>\n",
       "    </tr>\n",
       "    <tr>\n",
       "      <th>1</th>\n",
       "      <td>1</td>\n",
       "    </tr>\n",
       "    <tr>\n",
       "      <th>2</th>\n",
       "      <td>0</td>\n",
       "    </tr>\n",
       "    <tr>\n",
       "      <th>3</th>\n",
       "      <td>0</td>\n",
       "    </tr>\n",
       "    <tr>\n",
       "      <th>4</th>\n",
       "      <td>0</td>\n",
       "    </tr>\n",
       "  </tbody>\n",
       "</table>\n",
       "</div>"
      ],
      "text/plain": [
       "   Y\n",
       "0  1\n",
       "1  1\n",
       "2  0\n",
       "3  0\n",
       "4  0"
      ]
     },
     "execution_count": 40,
     "metadata": {},
     "output_type": "execute_result"
    }
   ],
   "source": [
    "#Investing target data\n",
    "target.head()"
   ]
  },
  {
   "cell_type": "markdown",
   "metadata": {},
   "source": [
    "# **Binning and Feature Engineering of the Variables** -JH"
   ]
  },
  {
   "cell_type": "code",
   "execution_count": 41,
   "metadata": {},
   "outputs": [
    {
     "data": {
      "text/plain": [
       "count    30000.000000\n",
       "mean        35.485500\n",
       "std          9.217904\n",
       "min         21.000000\n",
       "25%         28.000000\n",
       "50%         34.000000\n",
       "75%         41.000000\n",
       "max         79.000000\n",
       "Name: X5, dtype: float64"
      ]
     },
     "execution_count": 41,
     "metadata": {},
     "output_type": "execute_result"
    },
    {
     "data": {
      "image/png": "[encoded data removed]",
      "text/plain": [
       "<Figure size 432x288 with 1 Axes>"
      ]
     },
     "metadata": {},
     "output_type": "display_data"
    }
   ],
   "source": [
    "# Distribution of Age in the Dataset \n",
    "df['X5'].hist()\n",
    "df['X5'].describe()"
   ]
  },
  {
   "cell_type": "code",
   "execution_count": 44,
   "metadata": {},
   "outputs": [
    {
     "data": {
      "text/plain": [
       "0        (20.999, 30.0]\n",
       "1        (20.999, 30.0]\n",
       "2          (30.0, 39.0]\n",
       "3          (30.0, 39.0]\n",
       "4          (39.0, 79.0]\n",
       "5          (30.0, 39.0]\n",
       "6        (20.999, 30.0]\n",
       "7        (20.999, 30.0]\n",
       "8        (20.999, 30.0]\n",
       "9          (30.0, 39.0]\n",
       "10         (30.0, 39.0]\n",
       "11         (39.0, 79.0]\n",
       "12         (39.0, 79.0]\n",
       "13       (20.999, 30.0]\n",
       "14       (20.999, 30.0]\n",
       "15       (20.999, 30.0]\n",
       "16       (20.999, 30.0]\n",
       "17         (39.0, 79.0]\n",
       "18         (39.0, 79.0]\n",
       "19       (20.999, 30.0]\n",
       "20         (30.0, 39.0]\n",
       "21         (30.0, 39.0]\n",
       "22       (20.999, 30.0]\n",
       "23         (39.0, 79.0]\n",
       "24       (20.999, 30.0]\n",
       "25       (20.999, 30.0]\n",
       "26       (20.999, 30.0]\n",
       "27       (20.999, 30.0]\n",
       "28         (39.0, 79.0]\n",
       "29       (20.999, 30.0]\n",
       "              ...      \n",
       "29970      (30.0, 39.0]\n",
       "29971      (30.0, 39.0]\n",
       "29972      (30.0, 39.0]\n",
       "29973      (30.0, 39.0]\n",
       "29974      (30.0, 39.0]\n",
       "29975      (39.0, 79.0]\n",
       "29976      (39.0, 79.0]\n",
       "29977      (30.0, 39.0]\n",
       "29978      (30.0, 39.0]\n",
       "29979      (30.0, 39.0]\n",
       "29980      (39.0, 79.0]\n",
       "29981      (39.0, 79.0]\n",
       "29982      (30.0, 39.0]\n",
       "29983      (39.0, 79.0]\n",
       "29984      (30.0, 39.0]\n",
       "29985    (20.999, 30.0]\n",
       "29986      (30.0, 39.0]\n",
       "29987      (30.0, 39.0]\n",
       "29988      (30.0, 39.0]\n",
       "29989      (30.0, 39.0]\n",
       "29990      (39.0, 79.0]\n",
       "29991      (30.0, 39.0]\n",
       "29992      (39.0, 79.0]\n",
       "29993      (30.0, 39.0]\n",
       "29994      (30.0, 39.0]\n",
       "29995      (30.0, 39.0]\n",
       "29996      (39.0, 79.0]\n",
       "29997      (30.0, 39.0]\n",
       "29998      (39.0, 79.0]\n",
       "29999      (39.0, 79.0]\n",
       "Name: X5, Length: 30000, dtype: category\n",
       "Categories (3, interval[float64]): [(20.999, 30.0] < (30.0, 39.0] < (39.0, 79.0]]"
      ]
     },
     "execution_count": 44,
     "metadata": {},
     "output_type": "execute_result"
    }
   ],
   "source": [
    "# Trying to create bins out of the age variable using qcut \n",
    "pd.qcut(df['X5'], 3)\n",
    "# Creating 3 equal height bins for Age "
   ]
  },
  {
   "cell_type": "code",
   "execution_count": 45,
   "metadata": {},
   "outputs": [
    {
     "data": {
      "text/html": [
       "<div>\n",
       "<style scoped>\n",
       "    .dataframe tbody tr th:only-of-type {\n",
       "        vertical-align: middle;\n",
       "    }\n",
       "\n",
       "    .dataframe tbody tr th {\n",
       "        vertical-align: top;\n",
       "    }\n",
       "\n",
       "    .dataframe thead th {\n",
       "        text-align: right;\n",
       "    }\n",
       "</style>\n",
       "<table border=\"1\" class=\"dataframe\">\n",
       "  <thead>\n",
       "    <tr style=\"text-align: right;\">\n",
       "      <th></th>\n",
       "      <th>X1</th>\n",
       "      <th>X2</th>\n",
       "      <th>X3</th>\n",
       "      <th>X4</th>\n",
       "      <th>X5</th>\n",
       "      <th>X6</th>\n",
       "      <th>X7</th>\n",
       "      <th>X8</th>\n",
       "      <th>X9</th>\n",
       "      <th>X10</th>\n",
       "      <th>...</th>\n",
       "      <th>X15</th>\n",
       "      <th>X16</th>\n",
       "      <th>X17</th>\n",
       "      <th>X18</th>\n",
       "      <th>X19</th>\n",
       "      <th>X20</th>\n",
       "      <th>X21</th>\n",
       "      <th>X22</th>\n",
       "      <th>X23</th>\n",
       "      <th>X5_Bins</th>\n",
       "    </tr>\n",
       "  </thead>\n",
       "  <tbody>\n",
       "    <tr>\n",
       "      <th>0</th>\n",
       "      <td>20000</td>\n",
       "      <td>2</td>\n",
       "      <td>2</td>\n",
       "      <td>1</td>\n",
       "      <td>24</td>\n",
       "      <td>2</td>\n",
       "      <td>2</td>\n",
       "      <td>-1</td>\n",
       "      <td>-1</td>\n",
       "      <td>-2</td>\n",
       "      <td>...</td>\n",
       "      <td>0</td>\n",
       "      <td>0</td>\n",
       "      <td>0</td>\n",
       "      <td>0</td>\n",
       "      <td>689</td>\n",
       "      <td>0</td>\n",
       "      <td>0</td>\n",
       "      <td>0</td>\n",
       "      <td>0</td>\n",
       "      <td>0</td>\n",
       "    </tr>\n",
       "    <tr>\n",
       "      <th>1</th>\n",
       "      <td>120000</td>\n",
       "      <td>2</td>\n",
       "      <td>2</td>\n",
       "      <td>2</td>\n",
       "      <td>26</td>\n",
       "      <td>-1</td>\n",
       "      <td>2</td>\n",
       "      <td>0</td>\n",
       "      <td>0</td>\n",
       "      <td>0</td>\n",
       "      <td>...</td>\n",
       "      <td>3272</td>\n",
       "      <td>3455</td>\n",
       "      <td>3261</td>\n",
       "      <td>0</td>\n",
       "      <td>1000</td>\n",
       "      <td>1000</td>\n",
       "      <td>1000</td>\n",
       "      <td>0</td>\n",
       "      <td>2000</td>\n",
       "      <td>0</td>\n",
       "    </tr>\n",
       "    <tr>\n",
       "      <th>2</th>\n",
       "      <td>90000</td>\n",
       "      <td>2</td>\n",
       "      <td>2</td>\n",
       "      <td>2</td>\n",
       "      <td>34</td>\n",
       "      <td>0</td>\n",
       "      <td>0</td>\n",
       "      <td>0</td>\n",
       "      <td>0</td>\n",
       "      <td>0</td>\n",
       "      <td>...</td>\n",
       "      <td>14331</td>\n",
       "      <td>14948</td>\n",
       "      <td>15549</td>\n",
       "      <td>1518</td>\n",
       "      <td>1500</td>\n",
       "      <td>1000</td>\n",
       "      <td>1000</td>\n",
       "      <td>1000</td>\n",
       "      <td>5000</td>\n",
       "      <td>1</td>\n",
       "    </tr>\n",
       "    <tr>\n",
       "      <th>3</th>\n",
       "      <td>50000</td>\n",
       "      <td>2</td>\n",
       "      <td>2</td>\n",
       "      <td>1</td>\n",
       "      <td>37</td>\n",
       "      <td>0</td>\n",
       "      <td>0</td>\n",
       "      <td>0</td>\n",
       "      <td>0</td>\n",
       "      <td>0</td>\n",
       "      <td>...</td>\n",
       "      <td>28314</td>\n",
       "      <td>28959</td>\n",
       "      <td>29547</td>\n",
       "      <td>2000</td>\n",
       "      <td>2019</td>\n",
       "      <td>1200</td>\n",
       "      <td>1100</td>\n",
       "      <td>1069</td>\n",
       "      <td>1000</td>\n",
       "      <td>1</td>\n",
       "    </tr>\n",
       "    <tr>\n",
       "      <th>4</th>\n",
       "      <td>50000</td>\n",
       "      <td>1</td>\n",
       "      <td>2</td>\n",
       "      <td>1</td>\n",
       "      <td>57</td>\n",
       "      <td>-1</td>\n",
       "      <td>0</td>\n",
       "      <td>-1</td>\n",
       "      <td>0</td>\n",
       "      <td>0</td>\n",
       "      <td>...</td>\n",
       "      <td>20940</td>\n",
       "      <td>19146</td>\n",
       "      <td>19131</td>\n",
       "      <td>2000</td>\n",
       "      <td>36681</td>\n",
       "      <td>10000</td>\n",
       "      <td>9000</td>\n",
       "      <td>689</td>\n",
       "      <td>679</td>\n",
       "      <td>2</td>\n",
       "    </tr>\n",
       "    <tr>\n",
       "      <th>5</th>\n",
       "      <td>50000</td>\n",
       "      <td>1</td>\n",
       "      <td>1</td>\n",
       "      <td>2</td>\n",
       "      <td>37</td>\n",
       "      <td>0</td>\n",
       "      <td>0</td>\n",
       "      <td>0</td>\n",
       "      <td>0</td>\n",
       "      <td>0</td>\n",
       "      <td>...</td>\n",
       "      <td>19394</td>\n",
       "      <td>19619</td>\n",
       "      <td>20024</td>\n",
       "      <td>2500</td>\n",
       "      <td>1815</td>\n",
       "      <td>657</td>\n",
       "      <td>1000</td>\n",
       "      <td>1000</td>\n",
       "      <td>800</td>\n",
       "      <td>1</td>\n",
       "    </tr>\n",
       "    <tr>\n",
       "      <th>6</th>\n",
       "      <td>500000</td>\n",
       "      <td>1</td>\n",
       "      <td>1</td>\n",
       "      <td>2</td>\n",
       "      <td>29</td>\n",
       "      <td>0</td>\n",
       "      <td>0</td>\n",
       "      <td>0</td>\n",
       "      <td>0</td>\n",
       "      <td>0</td>\n",
       "      <td>...</td>\n",
       "      <td>542653</td>\n",
       "      <td>483003</td>\n",
       "      <td>473944</td>\n",
       "      <td>55000</td>\n",
       "      <td>40000</td>\n",
       "      <td>38000</td>\n",
       "      <td>20239</td>\n",
       "      <td>13750</td>\n",
       "      <td>13770</td>\n",
       "      <td>0</td>\n",
       "    </tr>\n",
       "    <tr>\n",
       "      <th>7</th>\n",
       "      <td>100000</td>\n",
       "      <td>2</td>\n",
       "      <td>2</td>\n",
       "      <td>2</td>\n",
       "      <td>23</td>\n",
       "      <td>0</td>\n",
       "      <td>-1</td>\n",
       "      <td>-1</td>\n",
       "      <td>0</td>\n",
       "      <td>0</td>\n",
       "      <td>...</td>\n",
       "      <td>221</td>\n",
       "      <td>-159</td>\n",
       "      <td>567</td>\n",
       "      <td>380</td>\n",
       "      <td>601</td>\n",
       "      <td>0</td>\n",
       "      <td>581</td>\n",
       "      <td>1687</td>\n",
       "      <td>1542</td>\n",
       "      <td>0</td>\n",
       "    </tr>\n",
       "    <tr>\n",
       "      <th>8</th>\n",
       "      <td>140000</td>\n",
       "      <td>2</td>\n",
       "      <td>3</td>\n",
       "      <td>1</td>\n",
       "      <td>28</td>\n",
       "      <td>0</td>\n",
       "      <td>0</td>\n",
       "      <td>2</td>\n",
       "      <td>0</td>\n",
       "      <td>0</td>\n",
       "      <td>...</td>\n",
       "      <td>12211</td>\n",
       "      <td>11793</td>\n",
       "      <td>3719</td>\n",
       "      <td>3329</td>\n",
       "      <td>0</td>\n",
       "      <td>432</td>\n",
       "      <td>1000</td>\n",
       "      <td>1000</td>\n",
       "      <td>1000</td>\n",
       "      <td>0</td>\n",
       "    </tr>\n",
       "    <tr>\n",
       "      <th>9</th>\n",
       "      <td>20000</td>\n",
       "      <td>1</td>\n",
       "      <td>3</td>\n",
       "      <td>2</td>\n",
       "      <td>35</td>\n",
       "      <td>-2</td>\n",
       "      <td>-2</td>\n",
       "      <td>-2</td>\n",
       "      <td>-2</td>\n",
       "      <td>-1</td>\n",
       "      <td>...</td>\n",
       "      <td>0</td>\n",
       "      <td>13007</td>\n",
       "      <td>13912</td>\n",
       "      <td>0</td>\n",
       "      <td>0</td>\n",
       "      <td>0</td>\n",
       "      <td>13007</td>\n",
       "      <td>1122</td>\n",
       "      <td>0</td>\n",
       "      <td>1</td>\n",
       "    </tr>\n",
       "    <tr>\n",
       "      <th>10</th>\n",
       "      <td>200000</td>\n",
       "      <td>2</td>\n",
       "      <td>3</td>\n",
       "      <td>2</td>\n",
       "      <td>34</td>\n",
       "      <td>0</td>\n",
       "      <td>0</td>\n",
       "      <td>2</td>\n",
       "      <td>0</td>\n",
       "      <td>0</td>\n",
       "      <td>...</td>\n",
       "      <td>2513</td>\n",
       "      <td>1828</td>\n",
       "      <td>3731</td>\n",
       "      <td>2306</td>\n",
       "      <td>12</td>\n",
       "      <td>50</td>\n",
       "      <td>300</td>\n",
       "      <td>3738</td>\n",
       "      <td>66</td>\n",
       "      <td>1</td>\n",
       "    </tr>\n",
       "    <tr>\n",
       "      <th>11</th>\n",
       "      <td>260000</td>\n",
       "      <td>2</td>\n",
       "      <td>1</td>\n",
       "      <td>2</td>\n",
       "      <td>51</td>\n",
       "      <td>-1</td>\n",
       "      <td>-1</td>\n",
       "      <td>-1</td>\n",
       "      <td>-1</td>\n",
       "      <td>-1</td>\n",
       "      <td>...</td>\n",
       "      <td>8517</td>\n",
       "      <td>22287</td>\n",
       "      <td>13668</td>\n",
       "      <td>21818</td>\n",
       "      <td>9966</td>\n",
       "      <td>8583</td>\n",
       "      <td>22301</td>\n",
       "      <td>0</td>\n",
       "      <td>3640</td>\n",
       "      <td>2</td>\n",
       "    </tr>\n",
       "    <tr>\n",
       "      <th>12</th>\n",
       "      <td>630000</td>\n",
       "      <td>2</td>\n",
       "      <td>2</td>\n",
       "      <td>2</td>\n",
       "      <td>41</td>\n",
       "      <td>-1</td>\n",
       "      <td>0</td>\n",
       "      <td>-1</td>\n",
       "      <td>-1</td>\n",
       "      <td>-1</td>\n",
       "      <td>...</td>\n",
       "      <td>6500</td>\n",
       "      <td>6500</td>\n",
       "      <td>2870</td>\n",
       "      <td>1000</td>\n",
       "      <td>6500</td>\n",
       "      <td>6500</td>\n",
       "      <td>6500</td>\n",
       "      <td>2870</td>\n",
       "      <td>0</td>\n",
       "      <td>2</td>\n",
       "    </tr>\n",
       "    <tr>\n",
       "      <th>13</th>\n",
       "      <td>70000</td>\n",
       "      <td>1</td>\n",
       "      <td>2</td>\n",
       "      <td>2</td>\n",
       "      <td>30</td>\n",
       "      <td>1</td>\n",
       "      <td>2</td>\n",
       "      <td>2</td>\n",
       "      <td>0</td>\n",
       "      <td>0</td>\n",
       "      <td>...</td>\n",
       "      <td>66782</td>\n",
       "      <td>36137</td>\n",
       "      <td>36894</td>\n",
       "      <td>3200</td>\n",
       "      <td>0</td>\n",
       "      <td>3000</td>\n",
       "      <td>3000</td>\n",
       "      <td>1500</td>\n",
       "      <td>0</td>\n",
       "      <td>0</td>\n",
       "    </tr>\n",
       "    <tr>\n",
       "      <th>14</th>\n",
       "      <td>250000</td>\n",
       "      <td>1</td>\n",
       "      <td>1</td>\n",
       "      <td>2</td>\n",
       "      <td>29</td>\n",
       "      <td>0</td>\n",
       "      <td>0</td>\n",
       "      <td>0</td>\n",
       "      <td>0</td>\n",
       "      <td>0</td>\n",
       "      <td>...</td>\n",
       "      <td>59696</td>\n",
       "      <td>56875</td>\n",
       "      <td>55512</td>\n",
       "      <td>3000</td>\n",
       "      <td>3000</td>\n",
       "      <td>3000</td>\n",
       "      <td>3000</td>\n",
       "      <td>3000</td>\n",
       "      <td>3000</td>\n",
       "      <td>0</td>\n",
       "    </tr>\n",
       "  </tbody>\n",
       "</table>\n",
       "<p>15 rows × 24 columns</p>\n",
       "</div>"
      ],
      "text/plain": [
       "        X1  X2  X3  X4  X5  X6  X7  X8  X9  X10   ...        X15     X16  \\\n",
       "0    20000   2   2   1  24   2   2  -1  -1   -2   ...          0       0   \n",
       "1   120000   2   2   2  26  -1   2   0   0    0   ...       3272    3455   \n",
       "2    90000   2   2   2  34   0   0   0   0    0   ...      14331   14948   \n",
       "3    50000   2   2   1  37   0   0   0   0    0   ...      28314   28959   \n",
       "4    50000   1   2   1  57  -1   0  -1   0    0   ...      20940   19146   \n",
       "5    50000   1   1   2  37   0   0   0   0    0   ...      19394   19619   \n",
       "6   500000   1   1   2  29   0   0   0   0    0   ...     542653  483003   \n",
       "7   100000   2   2   2  23   0  -1  -1   0    0   ...        221    -159   \n",
       "8   140000   2   3   1  28   0   0   2   0    0   ...      12211   11793   \n",
       "9    20000   1   3   2  35  -2  -2  -2  -2   -1   ...          0   13007   \n",
       "10  200000   2   3   2  34   0   0   2   0    0   ...       2513    1828   \n",
       "11  260000   2   1   2  51  -1  -1  -1  -1   -1   ...       8517   22287   \n",
       "12  630000   2   2   2  41  -1   0  -1  -1   -1   ...       6500    6500   \n",
       "13   70000   1   2   2  30   1   2   2   0    0   ...      66782   36137   \n",
       "14  250000   1   1   2  29   0   0   0   0    0   ...      59696   56875   \n",
       "\n",
       "       X17    X18    X19    X20    X21    X22    X23  X5_Bins  \n",
       "0        0      0    689      0      0      0      0        0  \n",
       "1     3261      0   1000   1000   1000      0   2000        0  \n",
       "2    15549   1518   1500   1000   1000   1000   5000        1  \n",
       "3    29547   2000   2019   1200   1100   1069   1000        1  \n",
       "4    19131   2000  36681  10000   9000    689    679        2  \n",
       "5    20024   2500   1815    657   1000   1000    800        1  \n",
       "6   473944  55000  40000  38000  20239  13750  13770        0  \n",
       "7      567    380    601      0    581   1687   1542        0  \n",
       "8     3719   3329      0    432   1000   1000   1000        0  \n",
       "9    13912      0      0      0  13007   1122      0        1  \n",
       "10    3731   2306     12     50    300   3738     66        1  \n",
       "11   13668  21818   9966   8583  22301      0   3640        2  \n",
       "12    2870   1000   6500   6500   6500   2870      0        2  \n",
       "13   36894   3200      0   3000   3000   1500      0        0  \n",
       "14   55512   3000   3000   3000   3000   3000   3000        0  \n",
       "\n",
       "[15 rows x 24 columns]"
      ]
     },
     "execution_count": 45,
     "metadata": {},
     "output_type": "execute_result"
    }
   ],
   "source": [
    "#Defining a Function to bin Age\n",
    "def binning(X5):\n",
    "    if X5 > 20 and X5 <= 30:                \n",
    "        return(0)\n",
    "    if X5 > 30 and X5 <= 39:        \n",
    "        return(1)\n",
    "    if X5 > 39:      \n",
    "        return(2)\n",
    "df['X5_Bins'] = df['X5'].apply(binning)\n",
    "df.head(15)"
   ]
  },
  {
   "cell_type": "code",
   "execution_count": 47,
   "metadata": {},
   "outputs": [
    {
     "ename": "KeyError",
     "evalue": "\"['X5'] not found in axis\"",
     "output_type": "error",
     "traceback": [
      "\u001b[0;31m---------------------------------------------------------------------------\u001b[0m",
      "\u001b[0;31mKeyError\u001b[0m                                  Traceback (most recent call last)",
      "\u001b[0;32m<ipython-input-47-b2d9bd1f9ea6>\u001b[0m in \u001b[0;36m<module>\u001b[0;34m()\u001b[0m\n\u001b[1;32m      1\u001b[0m \u001b[0;31m#Dropping original X5\u001b[0m\u001b[0;34m\u001b[0m\u001b[0;34m\u001b[0m\u001b[0m\n\u001b[0;32m----> 2\u001b[0;31m \u001b[0mdf\u001b[0m \u001b[0;34m=\u001b[0m \u001b[0mdf\u001b[0m\u001b[0;34m.\u001b[0m\u001b[0mdrop\u001b[0m\u001b[0;34m(\u001b[0m\u001b[0;34m[\u001b[0m\u001b[0;34m'X5'\u001b[0m\u001b[0;34m]\u001b[0m\u001b[0;34m,\u001b[0m \u001b[0maxis\u001b[0m\u001b[0;34m=\u001b[0m\u001b[0;36m1\u001b[0m\u001b[0;34m)\u001b[0m\u001b[0;34m\u001b[0m\u001b[0m\n\u001b[0m",
      "\u001b[0;32m/opt/tljh/user/lib/python3.6/site-packages/pandas/core/frame.py\u001b[0m in \u001b[0;36mdrop\u001b[0;34m(self, labels, axis, index, columns, level, inplace, errors)\u001b[0m\n\u001b[1;32m   3695\u001b[0m                                            \u001b[0mindex\u001b[0m\u001b[0;34m=\u001b[0m\u001b[0mindex\u001b[0m\u001b[0;34m,\u001b[0m \u001b[0mcolumns\u001b[0m\u001b[0;34m=\u001b[0m\u001b[0mcolumns\u001b[0m\u001b[0;34m,\u001b[0m\u001b[0;34m\u001b[0m\u001b[0m\n\u001b[1;32m   3696\u001b[0m                                            \u001b[0mlevel\u001b[0m\u001b[0;34m=\u001b[0m\u001b[0mlevel\u001b[0m\u001b[0;34m,\u001b[0m \u001b[0minplace\u001b[0m\u001b[0;34m=\u001b[0m\u001b[0minplace\u001b[0m\u001b[0;34m,\u001b[0m\u001b[0;34m\u001b[0m\u001b[0m\n\u001b[0;32m-> 3697\u001b[0;31m                                            errors=errors)\n\u001b[0m\u001b[1;32m   3698\u001b[0m \u001b[0;34m\u001b[0m\u001b[0m\n\u001b[1;32m   3699\u001b[0m     @rewrite_axis_style_signature('mapper', [('copy', True),\n",
      "\u001b[0;32m/opt/tljh/user/lib/python3.6/site-packages/pandas/core/generic.py\u001b[0m in \u001b[0;36mdrop\u001b[0;34m(self, labels, axis, index, columns, level, inplace, errors)\u001b[0m\n\u001b[1;32m   3109\u001b[0m         \u001b[0;32mfor\u001b[0m \u001b[0maxis\u001b[0m\u001b[0;34m,\u001b[0m \u001b[0mlabels\u001b[0m \u001b[0;32min\u001b[0m \u001b[0maxes\u001b[0m\u001b[0;34m.\u001b[0m\u001b[0mitems\u001b[0m\u001b[0;34m(\u001b[0m\u001b[0;34m)\u001b[0m\u001b[0;34m:\u001b[0m\u001b[0;34m\u001b[0m\u001b[0m\n\u001b[1;32m   3110\u001b[0m             \u001b[0;32mif\u001b[0m \u001b[0mlabels\u001b[0m \u001b[0;32mis\u001b[0m \u001b[0;32mnot\u001b[0m \u001b[0;32mNone\u001b[0m\u001b[0;34m:\u001b[0m\u001b[0;34m\u001b[0m\u001b[0m\n\u001b[0;32m-> 3111\u001b[0;31m                 \u001b[0mobj\u001b[0m \u001b[0;34m=\u001b[0m \u001b[0mobj\u001b[0m\u001b[0;34m.\u001b[0m\u001b[0m_drop_axis\u001b[0m\u001b[0;34m(\u001b[0m\u001b[0mlabels\u001b[0m\u001b[0;34m,\u001b[0m \u001b[0maxis\u001b[0m\u001b[0;34m,\u001b[0m \u001b[0mlevel\u001b[0m\u001b[0;34m=\u001b[0m\u001b[0mlevel\u001b[0m\u001b[0;34m,\u001b[0m \u001b[0merrors\u001b[0m\u001b[0;34m=\u001b[0m\u001b[0merrors\u001b[0m\u001b[0;34m)\u001b[0m\u001b[0;34m\u001b[0m\u001b[0m\n\u001b[0m\u001b[1;32m   3112\u001b[0m \u001b[0;34m\u001b[0m\u001b[0m\n\u001b[1;32m   3113\u001b[0m         \u001b[0;32mif\u001b[0m \u001b[0minplace\u001b[0m\u001b[0;34m:\u001b[0m\u001b[0;34m\u001b[0m\u001b[0m\n",
      "\u001b[0;32m/opt/tljh/user/lib/python3.6/site-packages/pandas/core/generic.py\u001b[0m in \u001b[0;36m_drop_axis\u001b[0;34m(self, labels, axis, level, errors)\u001b[0m\n\u001b[1;32m   3141\u001b[0m                 \u001b[0mnew_axis\u001b[0m \u001b[0;34m=\u001b[0m \u001b[0maxis\u001b[0m\u001b[0;34m.\u001b[0m\u001b[0mdrop\u001b[0m\u001b[0;34m(\u001b[0m\u001b[0mlabels\u001b[0m\u001b[0;34m,\u001b[0m \u001b[0mlevel\u001b[0m\u001b[0;34m=\u001b[0m\u001b[0mlevel\u001b[0m\u001b[0;34m,\u001b[0m \u001b[0merrors\u001b[0m\u001b[0;34m=\u001b[0m\u001b[0merrors\u001b[0m\u001b[0;34m)\u001b[0m\u001b[0;34m\u001b[0m\u001b[0m\n\u001b[1;32m   3142\u001b[0m             \u001b[0;32melse\u001b[0m\u001b[0;34m:\u001b[0m\u001b[0;34m\u001b[0m\u001b[0m\n\u001b[0;32m-> 3143\u001b[0;31m                 \u001b[0mnew_axis\u001b[0m \u001b[0;34m=\u001b[0m \u001b[0maxis\u001b[0m\u001b[0;34m.\u001b[0m\u001b[0mdrop\u001b[0m\u001b[0;34m(\u001b[0m\u001b[0mlabels\u001b[0m\u001b[0;34m,\u001b[0m \u001b[0merrors\u001b[0m\u001b[0;34m=\u001b[0m\u001b[0merrors\u001b[0m\u001b[0;34m)\u001b[0m\u001b[0;34m\u001b[0m\u001b[0m\n\u001b[0m\u001b[1;32m   3144\u001b[0m             \u001b[0mresult\u001b[0m \u001b[0;34m=\u001b[0m \u001b[0mself\u001b[0m\u001b[0;34m.\u001b[0m\u001b[0mreindex\u001b[0m\u001b[0;34m(\u001b[0m\u001b[0;34m**\u001b[0m\u001b[0;34m{\u001b[0m\u001b[0maxis_name\u001b[0m\u001b[0;34m:\u001b[0m \u001b[0mnew_axis\u001b[0m\u001b[0;34m}\u001b[0m\u001b[0;34m)\u001b[0m\u001b[0;34m\u001b[0m\u001b[0m\n\u001b[1;32m   3145\u001b[0m \u001b[0;34m\u001b[0m\u001b[0m\n",
      "\u001b[0;32m/opt/tljh/user/lib/python3.6/site-packages/pandas/core/indexes/base.py\u001b[0m in \u001b[0;36mdrop\u001b[0;34m(self, labels, errors)\u001b[0m\n\u001b[1;32m   4402\u001b[0m             \u001b[0;32mif\u001b[0m \u001b[0merrors\u001b[0m \u001b[0;34m!=\u001b[0m \u001b[0;34m'ignore'\u001b[0m\u001b[0;34m:\u001b[0m\u001b[0;34m\u001b[0m\u001b[0m\n\u001b[1;32m   4403\u001b[0m                 raise KeyError(\n\u001b[0;32m-> 4404\u001b[0;31m                     '{} not found in axis'.format(labels[mask]))\n\u001b[0m\u001b[1;32m   4405\u001b[0m             \u001b[0mindexer\u001b[0m \u001b[0;34m=\u001b[0m \u001b[0mindexer\u001b[0m\u001b[0;34m[\u001b[0m\u001b[0;34m~\u001b[0m\u001b[0mmask\u001b[0m\u001b[0;34m]\u001b[0m\u001b[0;34m\u001b[0m\u001b[0m\n\u001b[1;32m   4406\u001b[0m         \u001b[0;32mreturn\u001b[0m \u001b[0mself\u001b[0m\u001b[0;34m.\u001b[0m\u001b[0mdelete\u001b[0m\u001b[0;34m(\u001b[0m\u001b[0mindexer\u001b[0m\u001b[0;34m)\u001b[0m\u001b[0;34m\u001b[0m\u001b[0m\n",
      "\u001b[0;31mKeyError\u001b[0m: \"['X5'] not found in axis\""
     ]
    }
   ],
   "source": [
    "#Dropping original X5\n",
    "df = df.drop(['X5'], axis=1)"
   ]
  },
  {
   "cell_type": "code",
   "execution_count": 48,
   "metadata": {},
   "outputs": [
    {
     "data": {
      "text/html": [
       "<div>\n",
       "<style scoped>\n",
       "    .dataframe tbody tr th:only-of-type {\n",
       "        vertical-align: middle;\n",
       "    }\n",
       "\n",
       "    .dataframe tbody tr th {\n",
       "        vertical-align: top;\n",
       "    }\n",
       "\n",
       "    .dataframe thead th {\n",
       "        text-align: right;\n",
       "    }\n",
       "</style>\n",
       "<table border=\"1\" class=\"dataframe\">\n",
       "  <thead>\n",
       "    <tr style=\"text-align: right;\">\n",
       "      <th></th>\n",
       "      <th>X1</th>\n",
       "      <th>X2</th>\n",
       "      <th>X3</th>\n",
       "      <th>X4</th>\n",
       "      <th>X6</th>\n",
       "      <th>X7</th>\n",
       "      <th>X8</th>\n",
       "      <th>X9</th>\n",
       "      <th>X10</th>\n",
       "      <th>X11</th>\n",
       "      <th>...</th>\n",
       "      <th>X21</th>\n",
       "      <th>X22</th>\n",
       "      <th>X23</th>\n",
       "      <th>X5_Bins</th>\n",
       "      <th>X6_BI</th>\n",
       "      <th>X7_BI</th>\n",
       "      <th>X8_BI</th>\n",
       "      <th>X9_BI</th>\n",
       "      <th>X10_BI</th>\n",
       "      <th>X11_BI</th>\n",
       "    </tr>\n",
       "  </thead>\n",
       "  <tbody>\n",
       "    <tr>\n",
       "      <th>0</th>\n",
       "      <td>20000</td>\n",
       "      <td>2</td>\n",
       "      <td>2</td>\n",
       "      <td>1</td>\n",
       "      <td>2</td>\n",
       "      <td>2</td>\n",
       "      <td>-1</td>\n",
       "      <td>-1</td>\n",
       "      <td>-2</td>\n",
       "      <td>-2</td>\n",
       "      <td>...</td>\n",
       "      <td>0</td>\n",
       "      <td>0</td>\n",
       "      <td>0</td>\n",
       "      <td>0</td>\n",
       "      <td>1</td>\n",
       "      <td>1</td>\n",
       "      <td>0</td>\n",
       "      <td>0</td>\n",
       "      <td>0</td>\n",
       "      <td>0</td>\n",
       "    </tr>\n",
       "    <tr>\n",
       "      <th>1</th>\n",
       "      <td>120000</td>\n",
       "      <td>2</td>\n",
       "      <td>2</td>\n",
       "      <td>2</td>\n",
       "      <td>-1</td>\n",
       "      <td>2</td>\n",
       "      <td>0</td>\n",
       "      <td>0</td>\n",
       "      <td>0</td>\n",
       "      <td>2</td>\n",
       "      <td>...</td>\n",
       "      <td>1000</td>\n",
       "      <td>0</td>\n",
       "      <td>2000</td>\n",
       "      <td>0</td>\n",
       "      <td>0</td>\n",
       "      <td>1</td>\n",
       "      <td>0</td>\n",
       "      <td>0</td>\n",
       "      <td>0</td>\n",
       "      <td>1</td>\n",
       "    </tr>\n",
       "    <tr>\n",
       "      <th>2</th>\n",
       "      <td>90000</td>\n",
       "      <td>2</td>\n",
       "      <td>2</td>\n",
       "      <td>2</td>\n",
       "      <td>0</td>\n",
       "      <td>0</td>\n",
       "      <td>0</td>\n",
       "      <td>0</td>\n",
       "      <td>0</td>\n",
       "      <td>0</td>\n",
       "      <td>...</td>\n",
       "      <td>1000</td>\n",
       "      <td>1000</td>\n",
       "      <td>5000</td>\n",
       "      <td>1</td>\n",
       "      <td>0</td>\n",
       "      <td>0</td>\n",
       "      <td>0</td>\n",
       "      <td>0</td>\n",
       "      <td>0</td>\n",
       "      <td>0</td>\n",
       "    </tr>\n",
       "    <tr>\n",
       "      <th>3</th>\n",
       "      <td>50000</td>\n",
       "      <td>2</td>\n",
       "      <td>2</td>\n",
       "      <td>1</td>\n",
       "      <td>0</td>\n",
       "      <td>0</td>\n",
       "      <td>0</td>\n",
       "      <td>0</td>\n",
       "      <td>0</td>\n",
       "      <td>0</td>\n",
       "      <td>...</td>\n",
       "      <td>1100</td>\n",
       "      <td>1069</td>\n",
       "      <td>1000</td>\n",
       "      <td>1</td>\n",
       "      <td>0</td>\n",
       "      <td>0</td>\n",
       "      <td>0</td>\n",
       "      <td>0</td>\n",
       "      <td>0</td>\n",
       "      <td>0</td>\n",
       "    </tr>\n",
       "    <tr>\n",
       "      <th>4</th>\n",
       "      <td>50000</td>\n",
       "      <td>1</td>\n",
       "      <td>2</td>\n",
       "      <td>1</td>\n",
       "      <td>-1</td>\n",
       "      <td>0</td>\n",
       "      <td>-1</td>\n",
       "      <td>0</td>\n",
       "      <td>0</td>\n",
       "      <td>0</td>\n",
       "      <td>...</td>\n",
       "      <td>9000</td>\n",
       "      <td>689</td>\n",
       "      <td>679</td>\n",
       "      <td>2</td>\n",
       "      <td>0</td>\n",
       "      <td>0</td>\n",
       "      <td>0</td>\n",
       "      <td>0</td>\n",
       "      <td>0</td>\n",
       "      <td>0</td>\n",
       "    </tr>\n",
       "  </tbody>\n",
       "</table>\n",
       "<p>5 rows × 29 columns</p>\n",
       "</div>"
      ],
      "text/plain": [
       "       X1  X2  X3  X4  X6  X7  X8  X9  X10  X11   ...     X21   X22   X23  \\\n",
       "0   20000   2   2   1   2   2  -1  -1   -2   -2   ...       0     0     0   \n",
       "1  120000   2   2   2  -1   2   0   0    0    2   ...    1000     0  2000   \n",
       "2   90000   2   2   2   0   0   0   0    0    0   ...    1000  1000  5000   \n",
       "3   50000   2   2   1   0   0   0   0    0    0   ...    1100  1069  1000   \n",
       "4   50000   1   2   1  -1   0  -1   0    0    0   ...    9000   689   679   \n",
       "\n",
       "   X5_Bins  X6_BI  X7_BI  X8_BI  X9_BI  X10_BI  X11_BI  \n",
       "0        0      1      1      0      0       0       0  \n",
       "1        0      0      1      0      0       0       1  \n",
       "2        1      0      0      0      0       0       0  \n",
       "3        1      0      0      0      0       0       0  \n",
       "4        2      0      0      0      0       0       0  \n",
       "\n",
       "[5 rows x 29 columns]"
      ]
     },
     "execution_count": 48,
     "metadata": {},
     "output_type": "execute_result"
    }
   ],
   "source": [
    "# Binning X6-X10, Easier to understand if a customer has a payment or not\n",
    "df['X6_BI']= np.where(df['X6']>0 ,1,0)\n",
    "df['X7_BI']= np.where(df['X7']>0 ,1,0)\n",
    "df['X8_BI']= np.where(df['X8']>0 ,1,0)\n",
    "df['X9_BI']= np.where(df['X9']>0 ,1,0)\n",
    "df['X10_BI']= np.where(df['X10']>0 ,1,0)\n",
    "df['X11_BI']= np.where(df['X11']>0 ,1,0)\n",
    "df.head()"
   ]
  },
  {
   "cell_type": "code",
   "execution_count": 49,
   "metadata": {},
   "outputs": [],
   "source": [
    "# Dropping Original Variables\n",
    "df = df.drop(['X6', 'X7', 'X8', 'X10', 'X11', 'X9'], axis=1)"
   ]
  },
  {
   "cell_type": "code",
   "execution_count": 50,
   "metadata": {},
   "outputs": [
    {
     "data": {
      "text/html": [
       "<div>\n",
       "<style scoped>\n",
       "    .dataframe tbody tr th:only-of-type {\n",
       "        vertical-align: middle;\n",
       "    }\n",
       "\n",
       "    .dataframe tbody tr th {\n",
       "        vertical-align: top;\n",
       "    }\n",
       "\n",
       "    .dataframe thead th {\n",
       "        text-align: right;\n",
       "    }\n",
       "</style>\n",
       "<table border=\"1\" class=\"dataframe\">\n",
       "  <thead>\n",
       "    <tr style=\"text-align: right;\">\n",
       "      <th></th>\n",
       "      <th>X1</th>\n",
       "      <th>X2</th>\n",
       "      <th>X3</th>\n",
       "      <th>X4</th>\n",
       "      <th>X12</th>\n",
       "      <th>X13</th>\n",
       "      <th>X14</th>\n",
       "      <th>X15</th>\n",
       "      <th>X16</th>\n",
       "      <th>X17</th>\n",
       "      <th>...</th>\n",
       "      <th>X8_BI</th>\n",
       "      <th>X9_BI</th>\n",
       "      <th>X10_BI</th>\n",
       "      <th>X11_BI</th>\n",
       "      <th>X12_BI</th>\n",
       "      <th>X13_BI</th>\n",
       "      <th>X14_BI</th>\n",
       "      <th>X15_BI</th>\n",
       "      <th>X16_BI</th>\n",
       "      <th>X17_BI</th>\n",
       "    </tr>\n",
       "  </thead>\n",
       "  <tbody>\n",
       "    <tr>\n",
       "      <th>0</th>\n",
       "      <td>20000</td>\n",
       "      <td>2</td>\n",
       "      <td>2</td>\n",
       "      <td>1</td>\n",
       "      <td>3913</td>\n",
       "      <td>3102</td>\n",
       "      <td>689</td>\n",
       "      <td>0</td>\n",
       "      <td>0</td>\n",
       "      <td>0</td>\n",
       "      <td>...</td>\n",
       "      <td>0</td>\n",
       "      <td>0</td>\n",
       "      <td>0</td>\n",
       "      <td>0</td>\n",
       "      <td>1</td>\n",
       "      <td>1</td>\n",
       "      <td>1</td>\n",
       "      <td>0</td>\n",
       "      <td>0</td>\n",
       "      <td>0</td>\n",
       "    </tr>\n",
       "    <tr>\n",
       "      <th>1</th>\n",
       "      <td>120000</td>\n",
       "      <td>2</td>\n",
       "      <td>2</td>\n",
       "      <td>2</td>\n",
       "      <td>2682</td>\n",
       "      <td>1725</td>\n",
       "      <td>2682</td>\n",
       "      <td>3272</td>\n",
       "      <td>3455</td>\n",
       "      <td>3261</td>\n",
       "      <td>...</td>\n",
       "      <td>0</td>\n",
       "      <td>0</td>\n",
       "      <td>0</td>\n",
       "      <td>1</td>\n",
       "      <td>1</td>\n",
       "      <td>1</td>\n",
       "      <td>1</td>\n",
       "      <td>1</td>\n",
       "      <td>1</td>\n",
       "      <td>1</td>\n",
       "    </tr>\n",
       "    <tr>\n",
       "      <th>2</th>\n",
       "      <td>90000</td>\n",
       "      <td>2</td>\n",
       "      <td>2</td>\n",
       "      <td>2</td>\n",
       "      <td>29239</td>\n",
       "      <td>14027</td>\n",
       "      <td>13559</td>\n",
       "      <td>14331</td>\n",
       "      <td>14948</td>\n",
       "      <td>15549</td>\n",
       "      <td>...</td>\n",
       "      <td>0</td>\n",
       "      <td>0</td>\n",
       "      <td>0</td>\n",
       "      <td>0</td>\n",
       "      <td>1</td>\n",
       "      <td>1</td>\n",
       "      <td>1</td>\n",
       "      <td>1</td>\n",
       "      <td>1</td>\n",
       "      <td>1</td>\n",
       "    </tr>\n",
       "    <tr>\n",
       "      <th>3</th>\n",
       "      <td>50000</td>\n",
       "      <td>2</td>\n",
       "      <td>2</td>\n",
       "      <td>1</td>\n",
       "      <td>46990</td>\n",
       "      <td>48233</td>\n",
       "      <td>49291</td>\n",
       "      <td>28314</td>\n",
       "      <td>28959</td>\n",
       "      <td>29547</td>\n",
       "      <td>...</td>\n",
       "      <td>0</td>\n",
       "      <td>0</td>\n",
       "      <td>0</td>\n",
       "      <td>0</td>\n",
       "      <td>1</td>\n",
       "      <td>1</td>\n",
       "      <td>1</td>\n",
       "      <td>1</td>\n",
       "      <td>1</td>\n",
       "      <td>1</td>\n",
       "    </tr>\n",
       "    <tr>\n",
       "      <th>4</th>\n",
       "      <td>50000</td>\n",
       "      <td>1</td>\n",
       "      <td>2</td>\n",
       "      <td>1</td>\n",
       "      <td>8617</td>\n",
       "      <td>5670</td>\n",
       "      <td>35835</td>\n",
       "      <td>20940</td>\n",
       "      <td>19146</td>\n",
       "      <td>19131</td>\n",
       "      <td>...</td>\n",
       "      <td>0</td>\n",
       "      <td>0</td>\n",
       "      <td>0</td>\n",
       "      <td>0</td>\n",
       "      <td>1</td>\n",
       "      <td>1</td>\n",
       "      <td>1</td>\n",
       "      <td>1</td>\n",
       "      <td>1</td>\n",
       "      <td>1</td>\n",
       "    </tr>\n",
       "  </tbody>\n",
       "</table>\n",
       "<p>5 rows × 29 columns</p>\n",
       "</div>"
      ],
      "text/plain": [
       "       X1  X2  X3  X4    X12    X13    X14    X15    X16    X17   ...    \\\n",
       "0   20000   2   2   1   3913   3102    689      0      0      0   ...     \n",
       "1  120000   2   2   2   2682   1725   2682   3272   3455   3261   ...     \n",
       "2   90000   2   2   2  29239  14027  13559  14331  14948  15549   ...     \n",
       "3   50000   2   2   1  46990  48233  49291  28314  28959  29547   ...     \n",
       "4   50000   1   2   1   8617   5670  35835  20940  19146  19131   ...     \n",
       "\n",
       "   X8_BI  X9_BI  X10_BI  X11_BI  X12_BI  X13_BI  X14_BI  X15_BI  X16_BI  \\\n",
       "0      0      0       0       0       1       1       1       0       0   \n",
       "1      0      0       0       1       1       1       1       1       1   \n",
       "2      0      0       0       0       1       1       1       1       1   \n",
       "3      0      0       0       0       1       1       1       1       1   \n",
       "4      0      0       0       0       1       1       1       1       1   \n",
       "\n",
       "   X17_BI  \n",
       "0       0  \n",
       "1       1  \n",
       "2       1  \n",
       "3       1  \n",
       "4       1  \n",
       "\n",
       "[5 rows x 29 columns]"
      ]
     },
     "execution_count": 50,
     "metadata": {},
     "output_type": "execute_result"
    }
   ],
   "source": [
    "# Binning X12-X17 as part of Feauture Engineering, breaking down all the parts of this data. \n",
    "# First seeing if customer had a bill payment \n",
    "df['X12_BI']= np.where(df['X12']>0 ,1,0)\n",
    "df['X13_BI']= np.where(df['X13']>0 ,1,0)\n",
    "df['X14_BI']= np.where(df['X14']>0 ,1,0)\n",
    "df['X15_BI']= np.where(df['X15']>0 ,1,0)\n",
    "df['X16_BI']= np.where(df['X16']>0 ,1,0)\n",
    "df['X17_BI']= np.where(df['X17']>0 ,1,0)\n",
    "df.head(5)"
   ]
  },
  {
   "cell_type": "code",
   "execution_count": 51,
   "metadata": {},
   "outputs": [
    {
     "data": {
      "text/html": [
       "<div>\n",
       "<style scoped>\n",
       "    .dataframe tbody tr th:only-of-type {\n",
       "        vertical-align: middle;\n",
       "    }\n",
       "\n",
       "    .dataframe tbody tr th {\n",
       "        vertical-align: top;\n",
       "    }\n",
       "\n",
       "    .dataframe thead th {\n",
       "        text-align: right;\n",
       "    }\n",
       "</style>\n",
       "<table border=\"1\" class=\"dataframe\">\n",
       "  <thead>\n",
       "    <tr style=\"text-align: right;\">\n",
       "      <th></th>\n",
       "      <th>X1</th>\n",
       "      <th>X2</th>\n",
       "      <th>X3</th>\n",
       "      <th>X4</th>\n",
       "      <th>X12</th>\n",
       "      <th>X13</th>\n",
       "      <th>X14</th>\n",
       "      <th>X15</th>\n",
       "      <th>X16</th>\n",
       "      <th>X17</th>\n",
       "      <th>...</th>\n",
       "      <th>X14_BI</th>\n",
       "      <th>X15_BI</th>\n",
       "      <th>X16_BI</th>\n",
       "      <th>X17_BI</th>\n",
       "      <th>X12_ABS</th>\n",
       "      <th>X13_ABS</th>\n",
       "      <th>X14_ABS</th>\n",
       "      <th>X15_ABS</th>\n",
       "      <th>X16_ABS</th>\n",
       "      <th>X17_ABS</th>\n",
       "    </tr>\n",
       "  </thead>\n",
       "  <tbody>\n",
       "    <tr>\n",
       "      <th>0</th>\n",
       "      <td>20000</td>\n",
       "      <td>2</td>\n",
       "      <td>2</td>\n",
       "      <td>1</td>\n",
       "      <td>3913</td>\n",
       "      <td>3102</td>\n",
       "      <td>689</td>\n",
       "      <td>0</td>\n",
       "      <td>0</td>\n",
       "      <td>0</td>\n",
       "      <td>...</td>\n",
       "      <td>1</td>\n",
       "      <td>0</td>\n",
       "      <td>0</td>\n",
       "      <td>0</td>\n",
       "      <td>3913</td>\n",
       "      <td>3102</td>\n",
       "      <td>689</td>\n",
       "      <td>0</td>\n",
       "      <td>0</td>\n",
       "      <td>0</td>\n",
       "    </tr>\n",
       "    <tr>\n",
       "      <th>1</th>\n",
       "      <td>120000</td>\n",
       "      <td>2</td>\n",
       "      <td>2</td>\n",
       "      <td>2</td>\n",
       "      <td>2682</td>\n",
       "      <td>1725</td>\n",
       "      <td>2682</td>\n",
       "      <td>3272</td>\n",
       "      <td>3455</td>\n",
       "      <td>3261</td>\n",
       "      <td>...</td>\n",
       "      <td>1</td>\n",
       "      <td>1</td>\n",
       "      <td>1</td>\n",
       "      <td>1</td>\n",
       "      <td>2682</td>\n",
       "      <td>1725</td>\n",
       "      <td>2682</td>\n",
       "      <td>3272</td>\n",
       "      <td>3455</td>\n",
       "      <td>3261</td>\n",
       "    </tr>\n",
       "    <tr>\n",
       "      <th>2</th>\n",
       "      <td>90000</td>\n",
       "      <td>2</td>\n",
       "      <td>2</td>\n",
       "      <td>2</td>\n",
       "      <td>29239</td>\n",
       "      <td>14027</td>\n",
       "      <td>13559</td>\n",
       "      <td>14331</td>\n",
       "      <td>14948</td>\n",
       "      <td>15549</td>\n",
       "      <td>...</td>\n",
       "      <td>1</td>\n",
       "      <td>1</td>\n",
       "      <td>1</td>\n",
       "      <td>1</td>\n",
       "      <td>29239</td>\n",
       "      <td>14027</td>\n",
       "      <td>13559</td>\n",
       "      <td>14331</td>\n",
       "      <td>14948</td>\n",
       "      <td>15549</td>\n",
       "    </tr>\n",
       "    <tr>\n",
       "      <th>3</th>\n",
       "      <td>50000</td>\n",
       "      <td>2</td>\n",
       "      <td>2</td>\n",
       "      <td>1</td>\n",
       "      <td>46990</td>\n",
       "      <td>48233</td>\n",
       "      <td>49291</td>\n",
       "      <td>28314</td>\n",
       "      <td>28959</td>\n",
       "      <td>29547</td>\n",
       "      <td>...</td>\n",
       "      <td>1</td>\n",
       "      <td>1</td>\n",
       "      <td>1</td>\n",
       "      <td>1</td>\n",
       "      <td>46990</td>\n",
       "      <td>48233</td>\n",
       "      <td>49291</td>\n",
       "      <td>28314</td>\n",
       "      <td>28959</td>\n",
       "      <td>29547</td>\n",
       "    </tr>\n",
       "    <tr>\n",
       "      <th>4</th>\n",
       "      <td>50000</td>\n",
       "      <td>1</td>\n",
       "      <td>2</td>\n",
       "      <td>1</td>\n",
       "      <td>8617</td>\n",
       "      <td>5670</td>\n",
       "      <td>35835</td>\n",
       "      <td>20940</td>\n",
       "      <td>19146</td>\n",
       "      <td>19131</td>\n",
       "      <td>...</td>\n",
       "      <td>1</td>\n",
       "      <td>1</td>\n",
       "      <td>1</td>\n",
       "      <td>1</td>\n",
       "      <td>8617</td>\n",
       "      <td>5670</td>\n",
       "      <td>35835</td>\n",
       "      <td>20940</td>\n",
       "      <td>19146</td>\n",
       "      <td>19131</td>\n",
       "    </tr>\n",
       "  </tbody>\n",
       "</table>\n",
       "<p>5 rows × 35 columns</p>\n",
       "</div>"
      ],
      "text/plain": [
       "       X1  X2  X3  X4    X12    X13    X14    X15    X16    X17   ...     \\\n",
       "0   20000   2   2   1   3913   3102    689      0      0      0   ...      \n",
       "1  120000   2   2   2   2682   1725   2682   3272   3455   3261   ...      \n",
       "2   90000   2   2   2  29239  14027  13559  14331  14948  15549   ...      \n",
       "3   50000   2   2   1  46990  48233  49291  28314  28959  29547   ...      \n",
       "4   50000   1   2   1   8617   5670  35835  20940  19146  19131   ...      \n",
       "\n",
       "   X14_BI  X15_BI  X16_BI  X17_BI  X12_ABS  X13_ABS  X14_ABS  X15_ABS  \\\n",
       "0       1       0       0       0     3913     3102      689        0   \n",
       "1       1       1       1       1     2682     1725     2682     3272   \n",
       "2       1       1       1       1    29239    14027    13559    14331   \n",
       "3       1       1       1       1    46990    48233    49291    28314   \n",
       "4       1       1       1       1     8617     5670    35835    20940   \n",
       "\n",
       "   X16_ABS  X17_ABS  \n",
       "0        0        0  \n",
       "1     3455     3261  \n",
       "2    14948    15549  \n",
       "3    28959    29547  \n",
       "4    19146    19131  \n",
       "\n",
       "[5 rows x 35 columns]"
      ]
     },
     "execution_count": 51,
     "metadata": {},
     "output_type": "execute_result"
    }
   ],
   "source": [
    "# Creating absolute value of the payment \n",
    "df['X12_ABS'] = abs(df['X12'])\n",
    "df['X13_ABS'] = abs(df['X13'])\n",
    "df['X14_ABS'] = abs(df['X14'])\n",
    "df['X15_ABS'] = abs(df['X15'])\n",
    "df['X16_ABS'] = abs(df['X16'])\n",
    "df['X17_ABS'] = abs(df['X17'])\n",
    "df.head(5)"
   ]
  },
  {
   "cell_type": "code",
   "execution_count": 52,
   "metadata": {},
   "outputs": [
    {
     "data": {
      "text/html": [
       "<div>\n",
       "<style scoped>\n",
       "    .dataframe tbody tr th:only-of-type {\n",
       "        vertical-align: middle;\n",
       "    }\n",
       "\n",
       "    .dataframe tbody tr th {\n",
       "        vertical-align: top;\n",
       "    }\n",
       "\n",
       "    .dataframe thead th {\n",
       "        text-align: right;\n",
       "    }\n",
       "</style>\n",
       "<table border=\"1\" class=\"dataframe\">\n",
       "  <thead>\n",
       "    <tr style=\"text-align: right;\">\n",
       "      <th></th>\n",
       "      <th>X1</th>\n",
       "      <th>X2</th>\n",
       "      <th>X3</th>\n",
       "      <th>X4</th>\n",
       "      <th>X12</th>\n",
       "      <th>X13</th>\n",
       "      <th>X14</th>\n",
       "      <th>X15</th>\n",
       "      <th>X16</th>\n",
       "      <th>X17</th>\n",
       "      <th>...</th>\n",
       "      <th>X14_ABS</th>\n",
       "      <th>X15_ABS</th>\n",
       "      <th>X16_ABS</th>\n",
       "      <th>X17_ABS</th>\n",
       "      <th>X12_M</th>\n",
       "      <th>X13_M</th>\n",
       "      <th>X14_M</th>\n",
       "      <th>X15_M</th>\n",
       "      <th>X16_M</th>\n",
       "      <th>X17_M</th>\n",
       "    </tr>\n",
       "  </thead>\n",
       "  <tbody>\n",
       "    <tr>\n",
       "      <th>0</th>\n",
       "      <td>20000</td>\n",
       "      <td>2</td>\n",
       "      <td>2</td>\n",
       "      <td>1</td>\n",
       "      <td>3913</td>\n",
       "      <td>3102</td>\n",
       "      <td>689</td>\n",
       "      <td>0</td>\n",
       "      <td>0</td>\n",
       "      <td>0</td>\n",
       "      <td>...</td>\n",
       "      <td>689</td>\n",
       "      <td>0</td>\n",
       "      <td>0</td>\n",
       "      <td>0</td>\n",
       "      <td>6</td>\n",
       "      <td>5</td>\n",
       "      <td>4</td>\n",
       "      <td>3</td>\n",
       "      <td>2</td>\n",
       "      <td>1</td>\n",
       "    </tr>\n",
       "    <tr>\n",
       "      <th>1</th>\n",
       "      <td>120000</td>\n",
       "      <td>2</td>\n",
       "      <td>2</td>\n",
       "      <td>2</td>\n",
       "      <td>2682</td>\n",
       "      <td>1725</td>\n",
       "      <td>2682</td>\n",
       "      <td>3272</td>\n",
       "      <td>3455</td>\n",
       "      <td>3261</td>\n",
       "      <td>...</td>\n",
       "      <td>2682</td>\n",
       "      <td>3272</td>\n",
       "      <td>3455</td>\n",
       "      <td>3261</td>\n",
       "      <td>6</td>\n",
       "      <td>5</td>\n",
       "      <td>4</td>\n",
       "      <td>3</td>\n",
       "      <td>2</td>\n",
       "      <td>1</td>\n",
       "    </tr>\n",
       "    <tr>\n",
       "      <th>2</th>\n",
       "      <td>90000</td>\n",
       "      <td>2</td>\n",
       "      <td>2</td>\n",
       "      <td>2</td>\n",
       "      <td>29239</td>\n",
       "      <td>14027</td>\n",
       "      <td>13559</td>\n",
       "      <td>14331</td>\n",
       "      <td>14948</td>\n",
       "      <td>15549</td>\n",
       "      <td>...</td>\n",
       "      <td>13559</td>\n",
       "      <td>14331</td>\n",
       "      <td>14948</td>\n",
       "      <td>15549</td>\n",
       "      <td>6</td>\n",
       "      <td>5</td>\n",
       "      <td>4</td>\n",
       "      <td>3</td>\n",
       "      <td>2</td>\n",
       "      <td>1</td>\n",
       "    </tr>\n",
       "    <tr>\n",
       "      <th>3</th>\n",
       "      <td>50000</td>\n",
       "      <td>2</td>\n",
       "      <td>2</td>\n",
       "      <td>1</td>\n",
       "      <td>46990</td>\n",
       "      <td>48233</td>\n",
       "      <td>49291</td>\n",
       "      <td>28314</td>\n",
       "      <td>28959</td>\n",
       "      <td>29547</td>\n",
       "      <td>...</td>\n",
       "      <td>49291</td>\n",
       "      <td>28314</td>\n",
       "      <td>28959</td>\n",
       "      <td>29547</td>\n",
       "      <td>6</td>\n",
       "      <td>5</td>\n",
       "      <td>4</td>\n",
       "      <td>3</td>\n",
       "      <td>2</td>\n",
       "      <td>1</td>\n",
       "    </tr>\n",
       "    <tr>\n",
       "      <th>4</th>\n",
       "      <td>50000</td>\n",
       "      <td>1</td>\n",
       "      <td>2</td>\n",
       "      <td>1</td>\n",
       "      <td>8617</td>\n",
       "      <td>5670</td>\n",
       "      <td>35835</td>\n",
       "      <td>20940</td>\n",
       "      <td>19146</td>\n",
       "      <td>19131</td>\n",
       "      <td>...</td>\n",
       "      <td>35835</td>\n",
       "      <td>20940</td>\n",
       "      <td>19146</td>\n",
       "      <td>19131</td>\n",
       "      <td>6</td>\n",
       "      <td>5</td>\n",
       "      <td>4</td>\n",
       "      <td>3</td>\n",
       "      <td>2</td>\n",
       "      <td>1</td>\n",
       "    </tr>\n",
       "  </tbody>\n",
       "</table>\n",
       "<p>5 rows × 41 columns</p>\n",
       "</div>"
      ],
      "text/plain": [
       "       X1  X2  X3  X4    X12    X13    X14    X15    X16    X17  ...    \\\n",
       "0   20000   2   2   1   3913   3102    689      0      0      0  ...     \n",
       "1  120000   2   2   2   2682   1725   2682   3272   3455   3261  ...     \n",
       "2   90000   2   2   2  29239  14027  13559  14331  14948  15549  ...     \n",
       "3   50000   2   2   1  46990  48233  49291  28314  28959  29547  ...     \n",
       "4   50000   1   2   1   8617   5670  35835  20940  19146  19131  ...     \n",
       "\n",
       "   X14_ABS  X15_ABS  X16_ABS  X17_ABS  X12_M  X13_M  X14_M  X15_M  X16_M  \\\n",
       "0      689        0        0        0      6      5      4      3      2   \n",
       "1     2682     3272     3455     3261      6      5      4      3      2   \n",
       "2    13559    14331    14948    15549      6      5      4      3      2   \n",
       "3    49291    28314    28959    29547      6      5      4      3      2   \n",
       "4    35835    20940    19146    19131      6      5      4      3      2   \n",
       "\n",
       "   X17_M  \n",
       "0      1  \n",
       "1      1  \n",
       "2      1  \n",
       "3      1  \n",
       "4      1  \n",
       "\n",
       "[5 rows x 41 columns]"
      ]
     },
     "execution_count": 52,
     "metadata": {},
     "output_type": "execute_result"
    }
   ],
   "source": [
    "# Creating a countdown of the months as the last attribute of the X12-X17\n",
    "df['X12_M']= np.where(df['X12'].isnull(),6,6)\n",
    "df['X13_M']= np.where(df['X13'].isnull(),5,5)\n",
    "df['X14_M']= np.where(df['X14'].isnull(),4,4)\n",
    "df['X15_M']= np.where(df['X15'].isnull(),3,3)\n",
    "df['X16_M']= np.where(df['X16'].isnull(),2,2)\n",
    "df['X17_M']= np.where(df['X17'].isnull(),1,1)\n",
    "df.head()"
   ]
  },
  {
   "cell_type": "code",
   "execution_count": 53,
   "metadata": {},
   "outputs": [],
   "source": [
    "# Dropping original variables \n",
    "df = df.drop(['X12', 'X13', 'X14', 'X15', 'X16', 'X17'], axis=1)"
   ]
  },
  {
   "cell_type": "code",
   "execution_count": 54,
   "metadata": {},
   "outputs": [
    {
     "data": {
      "text/html": [
       "<div>\n",
       "<style scoped>\n",
       "    .dataframe tbody tr th:only-of-type {\n",
       "        vertical-align: middle;\n",
       "    }\n",
       "\n",
       "    .dataframe tbody tr th {\n",
       "        vertical-align: top;\n",
       "    }\n",
       "\n",
       "    .dataframe thead th {\n",
       "        text-align: right;\n",
       "    }\n",
       "</style>\n",
       "<table border=\"1\" class=\"dataframe\">\n",
       "  <thead>\n",
       "    <tr style=\"text-align: right;\">\n",
       "      <th></th>\n",
       "      <th>X1</th>\n",
       "      <th>X2</th>\n",
       "      <th>X3</th>\n",
       "      <th>X4</th>\n",
       "      <th>X18</th>\n",
       "      <th>X19</th>\n",
       "      <th>X20</th>\n",
       "      <th>X21</th>\n",
       "      <th>X22</th>\n",
       "      <th>X23</th>\n",
       "      <th>...</th>\n",
       "      <th>X14_M</th>\n",
       "      <th>X15_M</th>\n",
       "      <th>X16_M</th>\n",
       "      <th>X17_M</th>\n",
       "      <th>X18_BI</th>\n",
       "      <th>X19_BI</th>\n",
       "      <th>X20_BI</th>\n",
       "      <th>X21_BI</th>\n",
       "      <th>X22_BI</th>\n",
       "      <th>X23_BI</th>\n",
       "    </tr>\n",
       "  </thead>\n",
       "  <tbody>\n",
       "    <tr>\n",
       "      <th>0</th>\n",
       "      <td>20000</td>\n",
       "      <td>2</td>\n",
       "      <td>2</td>\n",
       "      <td>1</td>\n",
       "      <td>0</td>\n",
       "      <td>689</td>\n",
       "      <td>0</td>\n",
       "      <td>0</td>\n",
       "      <td>0</td>\n",
       "      <td>0</td>\n",
       "      <td>...</td>\n",
       "      <td>4</td>\n",
       "      <td>3</td>\n",
       "      <td>2</td>\n",
       "      <td>1</td>\n",
       "      <td>0</td>\n",
       "      <td>1</td>\n",
       "      <td>0</td>\n",
       "      <td>0</td>\n",
       "      <td>0</td>\n",
       "      <td>0</td>\n",
       "    </tr>\n",
       "    <tr>\n",
       "      <th>1</th>\n",
       "      <td>120000</td>\n",
       "      <td>2</td>\n",
       "      <td>2</td>\n",
       "      <td>2</td>\n",
       "      <td>0</td>\n",
       "      <td>1000</td>\n",
       "      <td>1000</td>\n",
       "      <td>1000</td>\n",
       "      <td>0</td>\n",
       "      <td>2000</td>\n",
       "      <td>...</td>\n",
       "      <td>4</td>\n",
       "      <td>3</td>\n",
       "      <td>2</td>\n",
       "      <td>1</td>\n",
       "      <td>0</td>\n",
       "      <td>1</td>\n",
       "      <td>1</td>\n",
       "      <td>1</td>\n",
       "      <td>0</td>\n",
       "      <td>1</td>\n",
       "    </tr>\n",
       "    <tr>\n",
       "      <th>2</th>\n",
       "      <td>90000</td>\n",
       "      <td>2</td>\n",
       "      <td>2</td>\n",
       "      <td>2</td>\n",
       "      <td>1518</td>\n",
       "      <td>1500</td>\n",
       "      <td>1000</td>\n",
       "      <td>1000</td>\n",
       "      <td>1000</td>\n",
       "      <td>5000</td>\n",
       "      <td>...</td>\n",
       "      <td>4</td>\n",
       "      <td>3</td>\n",
       "      <td>2</td>\n",
       "      <td>1</td>\n",
       "      <td>1</td>\n",
       "      <td>1</td>\n",
       "      <td>1</td>\n",
       "      <td>1</td>\n",
       "      <td>1</td>\n",
       "      <td>1</td>\n",
       "    </tr>\n",
       "    <tr>\n",
       "      <th>3</th>\n",
       "      <td>50000</td>\n",
       "      <td>2</td>\n",
       "      <td>2</td>\n",
       "      <td>1</td>\n",
       "      <td>2000</td>\n",
       "      <td>2019</td>\n",
       "      <td>1200</td>\n",
       "      <td>1100</td>\n",
       "      <td>1069</td>\n",
       "      <td>1000</td>\n",
       "      <td>...</td>\n",
       "      <td>4</td>\n",
       "      <td>3</td>\n",
       "      <td>2</td>\n",
       "      <td>1</td>\n",
       "      <td>1</td>\n",
       "      <td>1</td>\n",
       "      <td>1</td>\n",
       "      <td>1</td>\n",
       "      <td>1</td>\n",
       "      <td>1</td>\n",
       "    </tr>\n",
       "    <tr>\n",
       "      <th>4</th>\n",
       "      <td>50000</td>\n",
       "      <td>1</td>\n",
       "      <td>2</td>\n",
       "      <td>1</td>\n",
       "      <td>2000</td>\n",
       "      <td>36681</td>\n",
       "      <td>10000</td>\n",
       "      <td>9000</td>\n",
       "      <td>689</td>\n",
       "      <td>679</td>\n",
       "      <td>...</td>\n",
       "      <td>4</td>\n",
       "      <td>3</td>\n",
       "      <td>2</td>\n",
       "      <td>1</td>\n",
       "      <td>1</td>\n",
       "      <td>1</td>\n",
       "      <td>1</td>\n",
       "      <td>1</td>\n",
       "      <td>1</td>\n",
       "      <td>1</td>\n",
       "    </tr>\n",
       "  </tbody>\n",
       "</table>\n",
       "<p>5 rows × 41 columns</p>\n",
       "</div>"
      ],
      "text/plain": [
       "       X1  X2  X3  X4   X18    X19    X20   X21   X22   X23   ...    X14_M  \\\n",
       "0   20000   2   2   1     0    689      0     0     0     0   ...        4   \n",
       "1  120000   2   2   2     0   1000   1000  1000     0  2000   ...        4   \n",
       "2   90000   2   2   2  1518   1500   1000  1000  1000  5000   ...        4   \n",
       "3   50000   2   2   1  2000   2019   1200  1100  1069  1000   ...        4   \n",
       "4   50000   1   2   1  2000  36681  10000  9000   689   679   ...        4   \n",
       "\n",
       "   X15_M  X16_M  X17_M  X18_BI  X19_BI  X20_BI  X21_BI  X22_BI  X23_BI  \n",
       "0      3      2      1       0       1       0       0       0       0  \n",
       "1      3      2      1       0       1       1       1       0       1  \n",
       "2      3      2      1       1       1       1       1       1       1  \n",
       "3      3      2      1       1       1       1       1       1       1  \n",
       "4      3      2      1       1       1       1       1       1       1  \n",
       "\n",
       "[5 rows x 41 columns]"
      ]
     },
     "execution_count": 54,
     "metadata": {},
     "output_type": "execute_result"
    }
   ],
   "source": [
    "# Binning variables X18-X23 to show if they had a payment or not \n",
    "df['X18_BI']= np.where(df['X18']>0 ,1,0)\n",
    "df['X19_BI']= np.where(df['X19']>0 ,1,0)\n",
    "df['X20_BI']= np.where(df['X20']>0 ,1,0)\n",
    "df['X21_BI']= np.where(df['X21']>0 ,1,0)\n",
    "df['X22_BI']= np.where(df['X22']>0 ,1,0)\n",
    "df['X23_BI']= np.where(df['X23']>0 ,1,0)\n",
    "df.head(5)"
   ]
  },
  {
   "cell_type": "code",
   "execution_count": 55,
   "metadata": {},
   "outputs": [],
   "source": [
    "# Dropping original variables\n",
    "df = df.drop(['X18', 'X19', 'X20', 'X21', 'X22', 'X23'], axis=1)"
   ]
  },
  {
   "cell_type": "markdown",
   "metadata": {},
   "source": [
    "# **Skew** -JH"
   ]
  },
  {
   "cell_type": "code",
   "execution_count": 56,
   "metadata": {},
   "outputs": [
    {
     "data": {
      "text/plain": [
       "X1         0.992867\n",
       "X2        -0.424183\n",
       "X3         0.970972\n",
       "X4        -0.018742\n",
       "X5_Bins    0.115017\n",
       "X6_BI      1.301689\n",
       "X7_BI      1.983384\n",
       "X8_BI      2.069933\n",
       "X9_BI      2.383292\n",
       "X10_BI     2.686696\n",
       "X11_BI     2.618870\n",
       "X12_BI    -2.939901\n",
       "X13_BI    -2.562779\n",
       "X14_BI    -2.375783\n",
       "X15_BI    -2.213715\n",
       "X16_BI    -2.090760\n",
       "X17_BI    -1.886434\n",
       "X12_ABS    2.667725\n",
       "X13_ABS    2.708496\n",
       "X14_ABS    3.093013\n",
       "X15_ABS    2.828133\n",
       "X16_ABS    2.881514\n",
       "X17_ABS    2.872948\n",
       "X12_M      0.000000\n",
       "X13_M      0.000000\n",
       "X14_M      0.000000\n",
       "X15_M      0.000000\n",
       "X16_M      0.000000\n",
       "X17_M      0.000000\n",
       "X18_BI    -1.711064\n",
       "X19_BI    -1.667113\n",
       "X20_BI    -1.508434\n",
       "X21_BI    -1.397663\n",
       "X22_BI    -1.327970\n",
       "X23_BI    -1.223411\n",
       "dtype: float64"
      ]
     },
     "execution_count": 56,
     "metadata": {},
     "output_type": "execute_result"
    }
   ],
   "source": [
    "# Checking Skew of Data \n",
    "df.skew()\n",
    "# Goal to get Skew of data between [-0.5, 0.5]"
   ]
  },
  {
   "cell_type": "code",
   "execution_count": 57,
   "metadata": {},
   "outputs": [
    {
     "data": {
      "text/plain": [
       "-0.5134595917536328"
      ]
     },
     "execution_count": 57,
     "metadata": {},
     "output_type": "execute_result"
    },
    {
     "data": {
      "image/png": "[encoded data removed]",
      "text/plain": [
       "<Figure size 432x288 with 1 Axes>"
      ]
     },
     "metadata": {},
     "output_type": "display_data"
    }
   ],
   "source": [
    "df['X1'] = np.log10(df['X1'])\n",
    "plt.hist(df['X1'])\n",
    "plt.title(\"Fixed Shew\")\n",
    "df['X1'].skew()"
   ]
  },
  {
   "cell_type": "code",
   "execution_count": 58,
   "metadata": {},
   "outputs": [
    {
     "data": {
      "text/plain": [
       "0.27374698076891496"
      ]
     },
     "execution_count": 58,
     "metadata": {},
     "output_type": "execute_result"
    },
    {
     "data": {
      "image/png": "[encoded data removed]",
      "text/plain": [
       "<Figure size 432x288 with 1 Axes>"
      ]
     },
     "metadata": {},
     "output_type": "display_data"
    }
   ],
   "source": [
    "df['X12_ABS'] = np.cbrt(df['X12_ABS'])\n",
    "plt.hist(df['X12_ABS'])\n",
    "plt.title(\"Fixed Shew\")\n",
    "df['X12_ABS'].skew()"
   ]
  },
  {
   "cell_type": "code",
   "execution_count": 59,
   "metadata": {},
   "outputs": [
    {
     "data": {
      "text/plain": [
       "0.24408719608956556"
      ]
     },
     "execution_count": 59,
     "metadata": {},
     "output_type": "execute_result"
    },
    {
     "data": {
      "image/png": "[encoded data removed]",
      "text/plain": [
       "<Figure size 432x288 with 1 Axes>"
      ]
     },
     "metadata": {},
     "output_type": "display_data"
    }
   ],
   "source": [
    "df['X13_ABS'] = np.cbrt(df['X13_ABS'])\n",
    "plt.hist(df['X13_ABS'])\n",
    "plt.title(\"Fixed Shew\")\n",
    "df['X13_ABS'].skew()"
   ]
  },
  {
   "cell_type": "code",
   "execution_count": 60,
   "metadata": {},
   "outputs": [
    {
     "data": {
      "text/plain": [
       "0.2430896950960733"
      ]
     },
     "execution_count": 60,
     "metadata": {},
     "output_type": "execute_result"
    },
    {
     "data": {
      "image/png": "[encoded data removed]",
      "text/plain": [
       "<Figure size 432x288 with 1 Axes>"
      ]
     },
     "metadata": {},
     "output_type": "display_data"
    }
   ],
   "source": [
    "df['X14_ABS'] = np.cbrt(df['X14_ABS'])\n",
    "plt.hist(df['X14_ABS'])\n",
    "plt.title(\"Fixed Shew\")\n",
    "df['X14_ABS'].skew()"
   ]
  },
  {
   "cell_type": "code",
   "execution_count": 61,
   "metadata": {},
   "outputs": [
    {
     "data": {
      "text/plain": [
       "0.24825485958557886"
      ]
     },
     "execution_count": 61,
     "metadata": {},
     "output_type": "execute_result"
    },
    {
     "data": {
      "image/png": "[encoded data removed]",
      "text/plain": [
       "<Figure size 432x288 with 1 Axes>"
      ]
     },
     "metadata": {},
     "output_type": "display_data"
    }
   ],
   "source": [
    "df['X15_ABS'] = np.cbrt(df['X15_ABS'])\n",
    "plt.hist(df['X15_ABS'])\n",
    "plt.title(\"Fixed Shew\")\n",
    "df['X15_ABS'].skew()"
   ]
  },
  {
   "cell_type": "code",
   "execution_count": 62,
   "metadata": {},
   "outputs": [
    {
     "data": {
      "text/plain": [
       "0.2622261458854033"
      ]
     },
     "execution_count": 62,
     "metadata": {},
     "output_type": "execute_result"
    },
    {
     "data": {
      "image/png": "[encoded data removed]",
      "text/plain": [
       "<Figure size 432x288 with 1 Axes>"
      ]
     },
     "metadata": {},
     "output_type": "display_data"
    }
   ],
   "source": [
    "df['X16_ABS'] = np.cbrt(df['X16_ABS'])\n",
    "plt.hist(df['X16_ABS'])\n",
    "plt.title(\"Fixed Shew\")\n",
    "df['X16_ABS'].skew()"
   ]
  },
  {
   "cell_type": "code",
   "execution_count": 63,
   "metadata": {},
   "outputs": [
    {
     "data": {
      "text/plain": [
       "0.2725666865305751"
      ]
     },
     "execution_count": 63,
     "metadata": {},
     "output_type": "execute_result"
    },
    {
     "data": {
      "image/png": "[encoded data removed]",
      "text/plain": [
       "<Figure size 432x288 with 1 Axes>"
      ]
     },
     "metadata": {},
     "output_type": "display_data"
    }
   ],
   "source": [
    "df['X17_ABS'] = np.cbrt(df['X17_ABS'])\n",
    "plt.hist(df['X17_ABS'])\n",
    "plt.title(\"Fixed Shew\")\n",
    "df['X17_ABS'].skew()"
   ]
  },
  {
   "cell_type": "code",
   "execution_count": 64,
   "metadata": {},
   "outputs": [
    {
     "data": {
      "text/plain": [
       "X1        -0.513460\n",
       "X2        -0.424183\n",
       "X3         0.970972\n",
       "X4        -0.018742\n",
       "X5_Bins    0.115017\n",
       "X6_BI      1.301689\n",
       "X7_BI      1.983384\n",
       "X8_BI      2.069933\n",
       "X9_BI      2.383292\n",
       "X10_BI     2.686696\n",
       "X11_BI     2.618870\n",
       "X12_BI    -2.939901\n",
       "X13_BI    -2.562779\n",
       "X14_BI    -2.375783\n",
       "X15_BI    -2.213715\n",
       "X16_BI    -2.090760\n",
       "X17_BI    -1.886434\n",
       "X12_ABS    0.273747\n",
       "X13_ABS    0.244087\n",
       "X14_ABS    0.243090\n",
       "X15_ABS    0.248255\n",
       "X16_ABS    0.262226\n",
       "X17_ABS    0.272567\n",
       "X12_M      0.000000\n",
       "X13_M      0.000000\n",
       "X14_M      0.000000\n",
       "X15_M      0.000000\n",
       "X16_M      0.000000\n",
       "X17_M      0.000000\n",
       "X18_BI    -1.711064\n",
       "X19_BI    -1.667113\n",
       "X20_BI    -1.508434\n",
       "X21_BI    -1.397663\n",
       "X22_BI    -1.327970\n",
       "X23_BI    -1.223411\n",
       "dtype: float64"
      ]
     },
     "execution_count": 64,
     "metadata": {},
     "output_type": "execute_result"
    }
   ],
   "source": [
    "df.skew()"
   ]
  },
  {
   "cell_type": "markdown",
   "metadata": {},
   "source": [
    "# **Outliers** -JH"
   ]
  },
  {
   "cell_type": "code",
   "execution_count": 65,
   "metadata": {},
   "outputs": [],
   "source": [
    "# Replacing Outliers in the data by replacing numbers more than 3 Standard Deviations away from the Mean \n",
    "def sd_outlier_replace(x): \n",
    "    if x > (mean + (3*SD)): \n",
    "        x = median\n",
    "    # If a values is greater than the mean plus three times the standard deviation\n",
    "    # This value is then replaced by the median of the columns\n",
    "    elif x < (mean - (3*SD)): \n",
    "        x = median\n",
    "    # If a values is less than the mean minus three times the standard deviation\n",
    "    # This value is then replaced by the median of the columns\n",
    "    else: \n",
    "        pass\n",
    "    # Otherwise, leave the value as is \n",
    "    return(x)"
   ]
  },
  {
   "cell_type": "code",
   "execution_count": 66,
   "metadata": {},
   "outputs": [
    {
     "data": {
      "text/plain": [
       "Text(0.5, 1.0, 'Fixed Outliers')"
      ]
     },
     "execution_count": 66,
     "metadata": {},
     "output_type": "execute_result"
    },
    {
     "data": {
      "image/png": "[encoded data removed]",
      "text/plain": [
       "<Figure size 432x288 with 1 Axes>"
      ]
     },
     "metadata": {},
     "output_type": "display_data"
    }
   ],
   "source": [
    "# Applying function to columns with outliers \n",
    "mean = df['X1'].mean()\n",
    "SD = df['X1'].std()\n",
    "median = df['X1'].median()\n",
    "df['X1'] = df['X1'].apply(lambda x: sd_outlier_replace(x))\n",
    "\n",
    "# Checking with Boxplot \n",
    "plt.boxplot(df['X1'])\n",
    "plt.title(\"Fixed Outliers\")"
   ]
  },
  {
   "cell_type": "code",
   "execution_count": 67,
   "metadata": {},
   "outputs": [
    {
     "data": {
      "text/plain": [
       "Text(0.5, 1.0, 'Fixed Outliers')"
      ]
     },
     "execution_count": 67,
     "metadata": {},
     "output_type": "execute_result"
    },
    {
     "data": {
      "image/png": "[encoded data removed]",
      "text/plain": [
       "<Figure size 432x288 with 1 Axes>"
      ]
     },
     "metadata": {},
     "output_type": "display_data"
    }
   ],
   "source": [
    "# Applying function to columns with outliers \n",
    "mean = df['X12_ABS'].mean()\n",
    "SD = df['X12_ABS'].std()\n",
    "median = df['X12_ABS'].median()\n",
    "df['X12_ABS'] = df['X12_ABS'].apply(lambda x: sd_outlier_replace(x))\n",
    "\n",
    "# Checking with Boxplot \n",
    "plt.boxplot(df['X12_ABS'])\n",
    "plt.title(\"Fixed Outliers\")"
   ]
  },
  {
   "cell_type": "code",
   "execution_count": 68,
   "metadata": {},
   "outputs": [
    {
     "data": {
      "text/plain": [
       "Text(0.5, 1.0, 'Fixed Outliers')"
      ]
     },
     "execution_count": 68,
     "metadata": {},
     "output_type": "execute_result"
    },
    {
     "data": {
      "image/png": "[encoded data removed]",
      "text/plain": [
       "<Figure size 432x288 with 1 Axes>"
      ]
     },
     "metadata": {},
     "output_type": "display_data"
    }
   ],
   "source": [
    "# Applying function to columns with outliers \n",
    "mean = df['X13_ABS'].mean()\n",
    "SD = df['X13_ABS'].std()\n",
    "median = df['X13_ABS'].median()\n",
    "df['X13_ABS'] = df['X13_ABS'].apply(lambda x: sd_outlier_replace(x))\n",
    "\n",
    "# Checking with Boxplot \n",
    "plt.boxplot(df['X13_ABS'])\n",
    "plt.title(\"Fixed Outliers\")"
   ]
  },
  {
   "cell_type": "code",
   "execution_count": 69,
   "metadata": {},
   "outputs": [
    {
     "data": {
      "text/plain": [
       "Text(0.5, 1.0, 'Fixed Outliers')"
      ]
     },
     "execution_count": 69,
     "metadata": {},
     "output_type": "execute_result"
    },
    {
     "data": {
      "image/png": "[encoded data removed]",
      "text/plain": [
       "<Figure size 432x288 with 1 Axes>"
      ]
     },
     "metadata": {},
     "output_type": "display_data"
    }
   ],
   "source": [
    "# Applying function to columns with outliers \n",
    "mean = df['X14_ABS'].mean()\n",
    "SD = df['X14_ABS'].std()\n",
    "median = df['X14_ABS'].median()\n",
    "df['X14_ABS'] = df['X14_ABS'].apply(lambda x: sd_outlier_replace(x))\n",
    "\n",
    "# Checking with Boxplot \n",
    "plt.boxplot(df['X14_ABS'])\n",
    "plt.title(\"Fixed Outliers\")"
   ]
  },
  {
   "cell_type": "code",
   "execution_count": 70,
   "metadata": {},
   "outputs": [
    {
     "data": {
      "text/plain": [
       "Text(0.5, 1.0, 'Fixed Outliers')"
      ]
     },
     "execution_count": 70,
     "metadata": {},
     "output_type": "execute_result"
    },
    {
     "data": {
      "image/png": "[encoded data removed]",
      "text/plain": [
       "<Figure size 432x288 with 1 Axes>"
      ]
     },
     "metadata": {},
     "output_type": "display_data"
    }
   ],
   "source": [
    "# Applying function to columns with outliers \n",
    "mean = df['X15_ABS'].mean()\n",
    "SD = df['X15_ABS'].std()\n",
    "median = df['X15_ABS'].median()\n",
    "df['X15_ABS'] = df['X15_ABS'].apply(lambda x: sd_outlier_replace(x))\n",
    "\n",
    "# Checking with Boxplot \n",
    "plt.boxplot(df['X15_ABS'])\n",
    "plt.title(\"Fixed Outliers\")"
   ]
  },
  {
   "cell_type": "code",
   "execution_count": 71,
   "metadata": {},
   "outputs": [
    {
     "data": {
      "text/plain": [
       "Text(0.5, 1.0, 'Fixed Outliers')"
      ]
     },
     "execution_count": 71,
     "metadata": {},
     "output_type": "execute_result"
    },
    {
     "data": {
      "image/png": "[encoded data removed]",
      "text/plain": [
       "<Figure size 432x288 with 1 Axes>"
      ]
     },
     "metadata": {},
     "output_type": "display_data"
    }
   ],
   "source": [
    "# Applying function to columns with outliers \n",
    "mean = df['X16_ABS'].mean()\n",
    "SD = df['X16_ABS'].std()\n",
    "median = df['X16_ABS'].median()\n",
    "df['X16_ABS'] = df['X16_ABS'].apply(lambda x: sd_outlier_replace(x))\n",
    "\n",
    "# Checking with Boxplot \n",
    "plt.boxplot(df['X16_ABS'])\n",
    "plt.title(\"Fixed Outliers\")"
   ]
  },
  {
   "cell_type": "code",
   "execution_count": 72,
   "metadata": {},
   "outputs": [
    {
     "data": {
      "text/plain": [
       "Text(0.5, 1.0, 'Fixed Outliers')"
      ]
     },
     "execution_count": 72,
     "metadata": {},
     "output_type": "execute_result"
    },
    {
     "data": {
      "image/png": "[encoded data removed]",
      "text/plain": [
       "<Figure size 432x288 with 1 Axes>"
      ]
     },
     "metadata": {},
     "output_type": "display_data"
    }
   ],
   "source": [
    "# Applying function to columns with outliers \n",
    "mean = df['X17_ABS'].mean()\n",
    "SD = df['X17_ABS'].std()\n",
    "median = df['X17_ABS'].median()\n",
    "df['X17_ABS'] = df['X17_ABS'].apply(lambda x: sd_outlier_replace(x))\n",
    "\n",
    "# Checking with Boxplot \n",
    "plt.boxplot(df['X17_ABS'])\n",
    "plt.title(\"Fixed Outliers\")"
   ]
  },
  {
   "cell_type": "code",
   "execution_count": 73,
   "metadata": {},
   "outputs": [],
   "source": [
    "# Filtering out variables that do not have to be normalized \n",
    "dfnorm = df.filter(['X1', \"X12_ABS\", \"X13_ABS\", \"X14_ABS\", \"X15_ABS\", \"X16_ABS\", \"X17_ABS\"], axis=1)\n",
    "\n",
    "df = df.drop([\"X1\", 'X12_ABS', 'X13_ABS', 'X14_ABS', 'X15_ABS', 'X16_ABS', 'X17_ABS'], axis=1)"
   ]
  },
  {
   "cell_type": "code",
   "execution_count": 74,
   "metadata": {},
   "outputs": [],
   "source": [
    "# Normalizing using Standard Scaler function \n",
    "# Column Names \n",
    "cols = dfnorm.columns\n",
    "\n",
    "# Scaler function from Preprocessing \n",
    "scaler = preprocessing.StandardScaler()\n",
    "\n",
    "# Transforming norm_df\n",
    "dfnorm = scaler.fit_transform(dfnorm)\n",
    "\n",
    "# Making DataFrame from Standardized data \n",
    "# Using column names defined earlier \n",
    "dfnorm = pd.DataFrame(dfnorm, columns=cols)"
   ]
  },
  {
   "cell_type": "code",
   "execution_count": 75,
   "metadata": {},
   "outputs": [
    {
     "data": {
      "text/html": [
       "<div>\n",
       "<style scoped>\n",
       "    .dataframe tbody tr th:only-of-type {\n",
       "        vertical-align: middle;\n",
       "    }\n",
       "\n",
       "    .dataframe tbody tr th {\n",
       "        vertical-align: top;\n",
       "    }\n",
       "\n",
       "    .dataframe thead th {\n",
       "        text-align: right;\n",
       "    }\n",
       "</style>\n",
       "<table border=\"1\" class=\"dataframe\">\n",
       "  <thead>\n",
       "    <tr style=\"text-align: right;\">\n",
       "      <th></th>\n",
       "      <th>X1</th>\n",
       "      <th>X12_ABS</th>\n",
       "      <th>X13_ABS</th>\n",
       "      <th>X14_ABS</th>\n",
       "      <th>X15_ABS</th>\n",
       "      <th>X16_ABS</th>\n",
       "      <th>X17_ABS</th>\n",
       "      <th>X2</th>\n",
       "      <th>X3</th>\n",
       "      <th>X4</th>\n",
       "      <th>...</th>\n",
       "      <th>X14_M</th>\n",
       "      <th>X15_M</th>\n",
       "      <th>X16_M</th>\n",
       "      <th>X17_M</th>\n",
       "      <th>X18_BI</th>\n",
       "      <th>X19_BI</th>\n",
       "      <th>X20_BI</th>\n",
       "      <th>X21_BI</th>\n",
       "      <th>X22_BI</th>\n",
       "      <th>X23_BI</th>\n",
       "    </tr>\n",
       "  </thead>\n",
       "  <tbody>\n",
       "    <tr>\n",
       "      <th>0</th>\n",
       "      <td>-1.869598</td>\n",
       "      <td>-0.758386</td>\n",
       "      <td>-0.785153</td>\n",
       "      <td>-1.088616</td>\n",
       "      <td>-1.579920</td>\n",
       "      <td>-1.541281</td>\n",
       "      <td>-1.483532</td>\n",
       "      <td>2</td>\n",
       "      <td>2</td>\n",
       "      <td>1</td>\n",
       "      <td>...</td>\n",
       "      <td>4</td>\n",
       "      <td>3</td>\n",
       "      <td>2</td>\n",
       "      <td>1</td>\n",
       "      <td>0</td>\n",
       "      <td>1</td>\n",
       "      <td>0</td>\n",
       "      <td>0</td>\n",
       "      <td>0</td>\n",
       "      <td>0</td>\n",
       "    </tr>\n",
       "    <tr>\n",
       "      <th>1</th>\n",
       "      <td>0.034263</td>\n",
       "      <td>-0.866772</td>\n",
       "      <td>-0.935035</td>\n",
       "      <td>-0.794573</td>\n",
       "      <td>-0.699341</td>\n",
       "      <td>-0.636680</td>\n",
       "      <td>-0.606347</td>\n",
       "      <td>2</td>\n",
       "      <td>2</td>\n",
       "      <td>2</td>\n",
       "      <td>...</td>\n",
       "      <td>4</td>\n",
       "      <td>3</td>\n",
       "      <td>2</td>\n",
       "      <td>1</td>\n",
       "      <td>0</td>\n",
       "      <td>1</td>\n",
       "      <td>1</td>\n",
       "      <td>1</td>\n",
       "      <td>0</td>\n",
       "      <td>1</td>\n",
       "    </tr>\n",
       "    <tr>\n",
       "      <th>2</th>\n",
       "      <td>-0.271418</td>\n",
       "      <td>0.116536</td>\n",
       "      <td>-0.233725</td>\n",
       "      <td>-0.216424</td>\n",
       "      <td>-0.139167</td>\n",
       "      <td>-0.067265</td>\n",
       "      <td>-0.007117</td>\n",
       "      <td>2</td>\n",
       "      <td>2</td>\n",
       "      <td>2</td>\n",
       "      <td>...</td>\n",
       "      <td>4</td>\n",
       "      <td>3</td>\n",
       "      <td>2</td>\n",
       "      <td>1</td>\n",
       "      <td>1</td>\n",
       "      <td>1</td>\n",
       "      <td>1</td>\n",
       "      <td>1</td>\n",
       "      <td>1</td>\n",
       "      <td>1</td>\n",
       "    </tr>\n",
       "    <tr>\n",
       "      <th>3</th>\n",
       "      <td>-0.895980</td>\n",
       "      <td>0.423406</td>\n",
       "      <td>0.476861</td>\n",
       "      <td>0.528327</td>\n",
       "      <td>0.227939</td>\n",
       "      <td>0.296254</td>\n",
       "      <td>0.345181</td>\n",
       "      <td>2</td>\n",
       "      <td>2</td>\n",
       "      <td>1</td>\n",
       "      <td>...</td>\n",
       "      <td>4</td>\n",
       "      <td>3</td>\n",
       "      <td>2</td>\n",
       "      <td>1</td>\n",
       "      <td>1</td>\n",
       "      <td>1</td>\n",
       "      <td>1</td>\n",
       "      <td>1</td>\n",
       "      <td>1</td>\n",
       "      <td>1</td>\n",
       "    </tr>\n",
       "    <tr>\n",
       "      <th>4</th>\n",
       "      <td>-0.895980</td>\n",
       "      <td>-0.482617</td>\n",
       "      <td>-0.597292</td>\n",
       "      <td>0.313576</td>\n",
       "      <td>0.054974</td>\n",
       "      <td>0.059507</td>\n",
       "      <td>0.098518</td>\n",
       "      <td>1</td>\n",
       "      <td>2</td>\n",
       "      <td>1</td>\n",
       "      <td>...</td>\n",
       "      <td>4</td>\n",
       "      <td>3</td>\n",
       "      <td>2</td>\n",
       "      <td>1</td>\n",
       "      <td>1</td>\n",
       "      <td>1</td>\n",
       "      <td>1</td>\n",
       "      <td>1</td>\n",
       "      <td>1</td>\n",
       "      <td>1</td>\n",
       "    </tr>\n",
       "  </tbody>\n",
       "</table>\n",
       "<p>5 rows × 35 columns</p>\n",
       "</div>"
      ],
      "text/plain": [
       "         X1   X12_ABS   X13_ABS   X14_ABS   X15_ABS   X16_ABS   X17_ABS  X2  \\\n",
       "0 -1.869598 -0.758386 -0.785153 -1.088616 -1.579920 -1.541281 -1.483532   2   \n",
       "1  0.034263 -0.866772 -0.935035 -0.794573 -0.699341 -0.636680 -0.606347   2   \n",
       "2 -0.271418  0.116536 -0.233725 -0.216424 -0.139167 -0.067265 -0.007117   2   \n",
       "3 -0.895980  0.423406  0.476861  0.528327  0.227939  0.296254  0.345181   2   \n",
       "4 -0.895980 -0.482617 -0.597292  0.313576  0.054974  0.059507  0.098518   1   \n",
       "\n",
       "   X3  X4   ...    X14_M  X15_M  X16_M  X17_M  X18_BI  X19_BI  X20_BI  X21_BI  \\\n",
       "0   2   1   ...        4      3      2      1       0       1       0       0   \n",
       "1   2   2   ...        4      3      2      1       0       1       1       1   \n",
       "2   2   2   ...        4      3      2      1       1       1       1       1   \n",
       "3   2   1   ...        4      3      2      1       1       1       1       1   \n",
       "4   2   1   ...        4      3      2      1       1       1       1       1   \n",
       "\n",
       "   X22_BI  X23_BI  \n",
       "0       0       0  \n",
       "1       0       1  \n",
       "2       1       1  \n",
       "3       1       1  \n",
       "4       1       1  \n",
       "\n",
       "[5 rows x 35 columns]"
      ]
     },
     "execution_count": 75,
     "metadata": {},
     "output_type": "execute_result"
    }
   ],
   "source": [
    "# Concating the normalized data with the data that did not have to be normalized \n",
    "df = pd.concat([dfnorm,df], axis=1)\n",
    "df.head()"
   ]
  },
  {
   "cell_type": "code",
   "execution_count": 76,
   "metadata": {},
   "outputs": [
    {
     "data": {
      "text/plain": [
       "X1         1.068575e-15\n",
       "X12_ABS   -2.496151e-17\n",
       "X13_ABS   -2.206994e-16\n",
       "X14_ABS   -2.675897e-16\n",
       "X15_ABS    1.103393e-15\n",
       "X16_ABS   -7.092475e-18\n",
       "X17_ABS   -8.101461e-16\n",
       "X2         1.603733e+00\n",
       "X3         1.853133e+00\n",
       "X4         1.551867e+00\n",
       "X5_Bins    9.377000e-01\n",
       "X6_BI      2.272667e-01\n",
       "X7_BI      1.479333e-01\n",
       "X8_BI      1.404333e-01\n",
       "X9_BI      1.170000e-01\n",
       "X10_BI     9.893333e-02\n",
       "X11_BI     1.026333e-01\n",
       "X12_BI     9.134000e-01\n",
       "X13_BI     8.941667e-01\n",
       "X14_BI     8.825000e-01\n",
       "X15_BI     8.710000e-01\n",
       "X16_BI     8.613000e-01\n",
       "X17_BI     8.430667e-01\n",
       "X12_M      6.000000e+00\n",
       "X13_M      5.000000e+00\n",
       "X14_M      4.000000e+00\n",
       "X15_M      3.000000e+00\n",
       "X16_M      2.000000e+00\n",
       "X17_M      1.000000e+00\n",
       "X18_BI     8.250333e-01\n",
       "X19_BI     8.201333e-01\n",
       "X20_BI     8.010667e-01\n",
       "X21_BI     7.864000e-01\n",
       "X22_BI     7.765667e-01\n",
       "X23_BI     7.609000e-01\n",
       "dtype: float64"
      ]
     },
     "execution_count": 76,
     "metadata": {},
     "output_type": "execute_result"
    }
   ],
   "source": [
    "# Checking mean for standardized \n",
    "# Want to see mean very close to 0 \n",
    "df.mean()"
   ]
  },
  {
   "cell_type": "code",
   "execution_count": 77,
   "metadata": {},
   "outputs": [
    {
     "data": {
      "text/plain": [
       "X1         1.000017\n",
       "X12_ABS    1.000017\n",
       "X13_ABS    1.000017\n",
       "X14_ABS    1.000017\n",
       "X15_ABS    1.000017\n",
       "X16_ABS    1.000017\n",
       "X17_ABS    1.000017\n",
       "X2         0.489129\n",
       "X3         0.790349\n",
       "X4         0.521970\n",
       "X5_Bins    0.817338\n",
       "X6_BI      0.419073\n",
       "X7_BI      0.355040\n",
       "X8_BI      0.347442\n",
       "X9_BI      0.321426\n",
       "X10_BI     0.298577\n",
       "X11_BI     0.303484\n",
       "X12_BI     0.281253\n",
       "X13_BI     0.307629\n",
       "X14_BI     0.322021\n",
       "X15_BI     0.335206\n",
       "X16_BI     0.345639\n",
       "X17_BI     0.363744\n",
       "X12_M      0.000000\n",
       "X13_M      0.000000\n",
       "X14_M      0.000000\n",
       "X15_M      0.000000\n",
       "X16_M      0.000000\n",
       "X17_M      0.000000\n",
       "X18_BI     0.379945\n",
       "X19_BI     0.384083\n",
       "X20_BI     0.399204\n",
       "X21_BI     0.409854\n",
       "X22_BI     0.416553\n",
       "X23_BI     0.426541\n",
       "dtype: float64"
      ]
     },
     "execution_count": 77,
     "metadata": {},
     "output_type": "execute_result"
    }
   ],
   "source": [
    "# Checking standard deviation of standardized data\n",
    "# Want std dev of each column close to 1 \n",
    "df.std()"
   ]
  },
  {
   "cell_type": "code",
   "execution_count": 78,
   "metadata": {},
   "outputs": [
    {
     "data": {
      "text/html": [
       "<div>\n",
       "<style scoped>\n",
       "    .dataframe tbody tr th:only-of-type {\n",
       "        vertical-align: middle;\n",
       "    }\n",
       "\n",
       "    .dataframe tbody tr th {\n",
       "        vertical-align: top;\n",
       "    }\n",
       "\n",
       "    .dataframe thead th {\n",
       "        text-align: right;\n",
       "    }\n",
       "</style>\n",
       "<table border=\"1\" class=\"dataframe\">\n",
       "  <thead>\n",
       "    <tr style=\"text-align: right;\">\n",
       "      <th></th>\n",
       "      <th>X1</th>\n",
       "      <th>X12_ABS</th>\n",
       "      <th>X13_ABS</th>\n",
       "      <th>X14_ABS</th>\n",
       "      <th>X15_ABS</th>\n",
       "      <th>X16_ABS</th>\n",
       "      <th>X17_ABS</th>\n",
       "      <th>X2</th>\n",
       "      <th>X3</th>\n",
       "      <th>X4</th>\n",
       "      <th>...</th>\n",
       "      <th>X15_M</th>\n",
       "      <th>X16_M</th>\n",
       "      <th>X17_M</th>\n",
       "      <th>X18_BI</th>\n",
       "      <th>X19_BI</th>\n",
       "      <th>X20_BI</th>\n",
       "      <th>X21_BI</th>\n",
       "      <th>X22_BI</th>\n",
       "      <th>X23_BI</th>\n",
       "      <th>Y</th>\n",
       "    </tr>\n",
       "  </thead>\n",
       "  <tbody>\n",
       "    <tr>\n",
       "      <th>29995</th>\n",
       "      <td>0.678321</td>\n",
       "      <td>1.661553</td>\n",
       "      <td>1.713041</td>\n",
       "      <td>1.842375</td>\n",
       "      <td>1.058425</td>\n",
       "      <td>0.343225</td>\n",
       "      <td>0.006401</td>\n",
       "      <td>1</td>\n",
       "      <td>3</td>\n",
       "      <td>1</td>\n",
       "      <td>...</td>\n",
       "      <td>3</td>\n",
       "      <td>2</td>\n",
       "      <td>1</td>\n",
       "      <td>1</td>\n",
       "      <td>1</td>\n",
       "      <td>1</td>\n",
       "      <td>1</td>\n",
       "      <td>1</td>\n",
       "      <td>1</td>\n",
       "      <td>0</td>\n",
       "    </tr>\n",
       "    <tr>\n",
       "      <th>29996</th>\n",
       "      <td>0.271367</td>\n",
       "      <td>-0.982979</td>\n",
       "      <td>-0.921493</td>\n",
       "      <td>-0.719511</td>\n",
       "      <td>-0.347080</td>\n",
       "      <td>-0.505272</td>\n",
       "      <td>-1.483532</td>\n",
       "      <td>1</td>\n",
       "      <td>3</td>\n",
       "      <td>2</td>\n",
       "      <td>...</td>\n",
       "      <td>3</td>\n",
       "      <td>2</td>\n",
       "      <td>1</td>\n",
       "      <td>1</td>\n",
       "      <td>1</td>\n",
       "      <td>1</td>\n",
       "      <td>1</td>\n",
       "      <td>0</td>\n",
       "      <td>0</td>\n",
       "      <td>0</td>\n",
       "    </tr>\n",
       "    <tr>\n",
       "      <th>29997</th>\n",
       "      <td>-1.438765</td>\n",
       "      <td>-0.786392</td>\n",
       "      <td>-0.762728</td>\n",
       "      <td>-0.787020</td>\n",
       "      <td>0.053359</td>\n",
       "      <td>0.098567</td>\n",
       "      <td>0.104723</td>\n",
       "      <td>1</td>\n",
       "      <td>2</td>\n",
       "      <td>2</td>\n",
       "      <td>...</td>\n",
       "      <td>3</td>\n",
       "      <td>2</td>\n",
       "      <td>1</td>\n",
       "      <td>0</td>\n",
       "      <td>0</td>\n",
       "      <td>1</td>\n",
       "      <td>1</td>\n",
       "      <td>1</td>\n",
       "      <td>1</td>\n",
       "      <td>1</td>\n",
       "    </tr>\n",
       "    <tr>\n",
       "      <th>29998</th>\n",
       "      <td>-0.396570</td>\n",
       "      <td>-0.988224</td>\n",
       "      <td>0.846757</td>\n",
       "      <td>0.862328</td>\n",
       "      <td>0.644947</td>\n",
       "      <td>-0.176882</td>\n",
       "      <td>0.680220</td>\n",
       "      <td>1</td>\n",
       "      <td>3</td>\n",
       "      <td>1</td>\n",
       "      <td>...</td>\n",
       "      <td>3</td>\n",
       "      <td>2</td>\n",
       "      <td>1</td>\n",
       "      <td>1</td>\n",
       "      <td>1</td>\n",
       "      <td>1</td>\n",
       "      <td>1</td>\n",
       "      <td>1</td>\n",
       "      <td>1</td>\n",
       "      <td>1</td>\n",
       "    </tr>\n",
       "    <tr>\n",
       "      <th>29999</th>\n",
       "      <td>-0.895980</td>\n",
       "      <td>0.437288</td>\n",
       "      <td>0.486595</td>\n",
       "      <td>0.535119</td>\n",
       "      <td>0.388270</td>\n",
       "      <td>0.366877</td>\n",
       "      <td>-0.014625</td>\n",
       "      <td>1</td>\n",
       "      <td>2</td>\n",
       "      <td>1</td>\n",
       "      <td>...</td>\n",
       "      <td>3</td>\n",
       "      <td>2</td>\n",
       "      <td>1</td>\n",
       "      <td>1</td>\n",
       "      <td>1</td>\n",
       "      <td>1</td>\n",
       "      <td>1</td>\n",
       "      <td>1</td>\n",
       "      <td>1</td>\n",
       "      <td>1</td>\n",
       "    </tr>\n",
       "  </tbody>\n",
       "</table>\n",
       "<p>5 rows × 36 columns</p>\n",
       "</div>"
      ],
      "text/plain": [
       "             X1   X12_ABS   X13_ABS   X14_ABS   X15_ABS   X16_ABS   X17_ABS  \\\n",
       "29995  0.678321  1.661553  1.713041  1.842375  1.058425  0.343225  0.006401   \n",
       "29996  0.271367 -0.982979 -0.921493 -0.719511 -0.347080 -0.505272 -1.483532   \n",
       "29997 -1.438765 -0.786392 -0.762728 -0.787020  0.053359  0.098567  0.104723   \n",
       "29998 -0.396570 -0.988224  0.846757  0.862328  0.644947 -0.176882  0.680220   \n",
       "29999 -0.895980  0.437288  0.486595  0.535119  0.388270  0.366877 -0.014625   \n",
       "\n",
       "       X2  X3  X4 ...  X15_M  X16_M  X17_M  X18_BI  X19_BI  X20_BI  X21_BI  \\\n",
       "29995   1   3   1 ...      3      2      1       1       1       1       1   \n",
       "29996   1   3   2 ...      3      2      1       1       1       1       1   \n",
       "29997   1   2   2 ...      3      2      1       0       0       1       1   \n",
       "29998   1   3   1 ...      3      2      1       1       1       1       1   \n",
       "29999   1   2   1 ...      3      2      1       1       1       1       1   \n",
       "\n",
       "       X22_BI  X23_BI  Y  \n",
       "29995       1       1  0  \n",
       "29996       0       0  0  \n",
       "29997       1       1  1  \n",
       "29998       1       1  1  \n",
       "29999       1       1  1  \n",
       "\n",
       "[5 rows x 36 columns]"
      ]
     },
     "execution_count": 78,
     "metadata": {},
     "output_type": "execute_result"
    }
   ],
   "source": [
    "# Adding the Y target variable back into the main dataframe\n",
    "df = pd.concat([df,target], axis=1)\n",
    "df.tail()"
   ]
  },
  {
   "cell_type": "code",
   "execution_count": 79,
   "metadata": {},
   "outputs": [],
   "source": [
    "# Exporting DataFrame as CSV \n",
    "df.to_csv('Final5', ',')"
   ]
  },
  {
   "cell_type": "markdown",
   "metadata": {},
   "source": [
    "# **Modeling** -KS"
   ]
  },
  {
   "cell_type": "markdown",
   "metadata": {},
   "source": [
    "# **Splitting and Resampling Data** -KS"
   ]
  },
  {
   "cell_type": "code",
   "execution_count": 80,
   "metadata": {},
   "outputs": [
    {
     "data": {
      "text/html": [
       "<div>\n",
       "<style scoped>\n",
       "    .dataframe tbody tr th:only-of-type {\n",
       "        vertical-align: middle;\n",
       "    }\n",
       "\n",
       "    .dataframe tbody tr th {\n",
       "        vertical-align: top;\n",
       "    }\n",
       "\n",
       "    .dataframe thead th {\n",
       "        text-align: right;\n",
       "    }\n",
       "</style>\n",
       "<table border=\"1\" class=\"dataframe\">\n",
       "  <thead>\n",
       "    <tr style=\"text-align: right;\">\n",
       "      <th></th>\n",
       "      <th>X1</th>\n",
       "      <th>X12_ABS</th>\n",
       "      <th>X13_ABS</th>\n",
       "      <th>X14_ABS</th>\n",
       "      <th>X15_ABS</th>\n",
       "      <th>X16_ABS</th>\n",
       "      <th>X17_ABS</th>\n",
       "      <th>X2</th>\n",
       "      <th>X3</th>\n",
       "      <th>X4</th>\n",
       "      <th>...</th>\n",
       "      <th>X15_M</th>\n",
       "      <th>X16_M</th>\n",
       "      <th>X17_M</th>\n",
       "      <th>X18_BI</th>\n",
       "      <th>X19_BI</th>\n",
       "      <th>X20_BI</th>\n",
       "      <th>X21_BI</th>\n",
       "      <th>X22_BI</th>\n",
       "      <th>X23_BI</th>\n",
       "      <th>Y</th>\n",
       "    </tr>\n",
       "  </thead>\n",
       "  <tbody>\n",
       "    <tr>\n",
       "      <th>0</th>\n",
       "      <td>-1.869598</td>\n",
       "      <td>-0.758386</td>\n",
       "      <td>-0.785153</td>\n",
       "      <td>-1.088616</td>\n",
       "      <td>-1.579920</td>\n",
       "      <td>-1.541281</td>\n",
       "      <td>-1.483532</td>\n",
       "      <td>2</td>\n",
       "      <td>2</td>\n",
       "      <td>1</td>\n",
       "      <td>...</td>\n",
       "      <td>3</td>\n",
       "      <td>2</td>\n",
       "      <td>1</td>\n",
       "      <td>0</td>\n",
       "      <td>1</td>\n",
       "      <td>0</td>\n",
       "      <td>0</td>\n",
       "      <td>0</td>\n",
       "      <td>0</td>\n",
       "      <td>1</td>\n",
       "    </tr>\n",
       "    <tr>\n",
       "      <th>1</th>\n",
       "      <td>0.034263</td>\n",
       "      <td>-0.866772</td>\n",
       "      <td>-0.935035</td>\n",
       "      <td>-0.794573</td>\n",
       "      <td>-0.699341</td>\n",
       "      <td>-0.636680</td>\n",
       "      <td>-0.606347</td>\n",
       "      <td>2</td>\n",
       "      <td>2</td>\n",
       "      <td>2</td>\n",
       "      <td>...</td>\n",
       "      <td>3</td>\n",
       "      <td>2</td>\n",
       "      <td>1</td>\n",
       "      <td>0</td>\n",
       "      <td>1</td>\n",
       "      <td>1</td>\n",
       "      <td>1</td>\n",
       "      <td>0</td>\n",
       "      <td>1</td>\n",
       "      <td>1</td>\n",
       "    </tr>\n",
       "    <tr>\n",
       "      <th>2</th>\n",
       "      <td>-0.271418</td>\n",
       "      <td>0.116536</td>\n",
       "      <td>-0.233725</td>\n",
       "      <td>-0.216424</td>\n",
       "      <td>-0.139167</td>\n",
       "      <td>-0.067265</td>\n",
       "      <td>-0.007117</td>\n",
       "      <td>2</td>\n",
       "      <td>2</td>\n",
       "      <td>2</td>\n",
       "      <td>...</td>\n",
       "      <td>3</td>\n",
       "      <td>2</td>\n",
       "      <td>1</td>\n",
       "      <td>1</td>\n",
       "      <td>1</td>\n",
       "      <td>1</td>\n",
       "      <td>1</td>\n",
       "      <td>1</td>\n",
       "      <td>1</td>\n",
       "      <td>0</td>\n",
       "    </tr>\n",
       "    <tr>\n",
       "      <th>3</th>\n",
       "      <td>-0.895980</td>\n",
       "      <td>0.423406</td>\n",
       "      <td>0.476861</td>\n",
       "      <td>0.528327</td>\n",
       "      <td>0.227939</td>\n",
       "      <td>0.296254</td>\n",
       "      <td>0.345181</td>\n",
       "      <td>2</td>\n",
       "      <td>2</td>\n",
       "      <td>1</td>\n",
       "      <td>...</td>\n",
       "      <td>3</td>\n",
       "      <td>2</td>\n",
       "      <td>1</td>\n",
       "      <td>1</td>\n",
       "      <td>1</td>\n",
       "      <td>1</td>\n",
       "      <td>1</td>\n",
       "      <td>1</td>\n",
       "      <td>1</td>\n",
       "      <td>0</td>\n",
       "    </tr>\n",
       "    <tr>\n",
       "      <th>4</th>\n",
       "      <td>-0.895980</td>\n",
       "      <td>-0.482617</td>\n",
       "      <td>-0.597292</td>\n",
       "      <td>0.313576</td>\n",
       "      <td>0.054974</td>\n",
       "      <td>0.059507</td>\n",
       "      <td>0.098518</td>\n",
       "      <td>1</td>\n",
       "      <td>2</td>\n",
       "      <td>1</td>\n",
       "      <td>...</td>\n",
       "      <td>3</td>\n",
       "      <td>2</td>\n",
       "      <td>1</td>\n",
       "      <td>1</td>\n",
       "      <td>1</td>\n",
       "      <td>1</td>\n",
       "      <td>1</td>\n",
       "      <td>1</td>\n",
       "      <td>1</td>\n",
       "      <td>0</td>\n",
       "    </tr>\n",
       "  </tbody>\n",
       "</table>\n",
       "<p>5 rows × 36 columns</p>\n",
       "</div>"
      ],
      "text/plain": [
       "         X1   X12_ABS   X13_ABS   X14_ABS   X15_ABS   X16_ABS   X17_ABS  X2  \\\n",
       "0 -1.869598 -0.758386 -0.785153 -1.088616 -1.579920 -1.541281 -1.483532   2   \n",
       "1  0.034263 -0.866772 -0.935035 -0.794573 -0.699341 -0.636680 -0.606347   2   \n",
       "2 -0.271418  0.116536 -0.233725 -0.216424 -0.139167 -0.067265 -0.007117   2   \n",
       "3 -0.895980  0.423406  0.476861  0.528327  0.227939  0.296254  0.345181   2   \n",
       "4 -0.895980 -0.482617 -0.597292  0.313576  0.054974  0.059507  0.098518   1   \n",
       "\n",
       "   X3  X4 ...  X15_M  X16_M  X17_M  X18_BI  X19_BI  X20_BI  X21_BI  X22_BI  \\\n",
       "0   2   1 ...      3      2      1       0       1       0       0       0   \n",
       "1   2   2 ...      3      2      1       0       1       1       1       0   \n",
       "2   2   2 ...      3      2      1       1       1       1       1       1   \n",
       "3   2   1 ...      3      2      1       1       1       1       1       1   \n",
       "4   2   1 ...      3      2      1       1       1       1       1       1   \n",
       "\n",
       "   X23_BI  Y  \n",
       "0       0  1  \n",
       "1       1  1  \n",
       "2       1  0  \n",
       "3       1  0  \n",
       "4       1  0  \n",
       "\n",
       "[5 rows x 36 columns]"
      ]
     },
     "execution_count": 80,
     "metadata": {},
     "output_type": "execute_result"
    }
   ],
   "source": [
    "# Importing Excel file, calling the DataFrame comp_df\n",
    "df = pd.read_csv('Final5', header=0, index_col=0)\n",
    "# Checking import \n",
    "df.head(5)"
   ]
  },
  {
   "cell_type": "code",
   "execution_count": 81,
   "metadata": {},
   "outputs": [],
   "source": [
    "# Separating the Features from the Target Variable\n",
    "X = df.iloc[:,:-1] # Features\n",
    "y = df.Y # Target variable"
   ]
  },
  {
   "cell_type": "code",
   "execution_count": 82,
   "metadata": {},
   "outputs": [],
   "source": [
    "# Train/Test spilt on our data having test size be 25% of the main data\n",
    "from sklearn.model_selection import train_test_split\n",
    "\n",
    "X_train,X_test,y_train,y_test=train_test_split(X,y,test_size=0.25,random_state=2019)"
   ]
  },
  {
   "cell_type": "code",
   "execution_count": 86,
   "metadata": {},
   "outputs": [],
   "source": [
    "# Since the target variable is not 50/50 we are oversampling so that the target option (Churn, Yes or No) is even\n",
    "from imblearn.over_sampling import RandomOverSampler\n",
    "ros = RandomOverSampler(random_state=2019)\n",
    "X_train_resample, y_train_resample = ros.fit_resample(X_train, y_train)"
   ]
  },
  {
   "cell_type": "markdown",
   "metadata": {},
   "source": [
    "# **Logistic Regression** -KS"
   ]
  },
  {
   "cell_type": "code",
   "execution_count": 87,
   "metadata": {},
   "outputs": [
    {
     "name": "stdout",
     "output_type": "stream",
     "text": [
      "['X1' 'X12_ABS' 'X13_ABS' 'X14_ABS' 'X15_ABS' 'X16_ABS' 'X17_ABS' 'X2'\n",
      " 'X3' 'X4' 'X5_Bins' 'X6_BI' 'X7_BI' 'X8_BI' 'X9_BI' 'X10_BI' 'X11_BI'\n",
      " 'X12_BI' 'X13_BI' 'X14_BI' 'X15_BI' 'X16_BI' 'X17_BI' 'X12_M' 'X13_M'\n",
      " 'X14_M' 'X15_M' 'X16_M' 'X17_M' 'X18_BI' 'X19_BI' 'X20_BI' 'X21_BI'\n",
      " 'X22_BI' 'X23_BI' 'Y']\n"
     ]
    }
   ],
   "source": [
    "cols = df.columns.values\n",
    "print(cols)"
   ]
  },
  {
   "cell_type": "code",
   "execution_count": 88,
   "metadata": {},
   "outputs": [],
   "source": [
    "# import the class\n",
    "from sklearn.linear_model import LogisticRegression\n",
    "\n",
    "# instantiate the model (using the default parameters)\n",
    "logreg = LogisticRegression(solver='liblinear')\n",
    "\n",
    "# fit the model with data\n",
    "logreg = logreg.fit(X_train_resample,y_train_resample)\n",
    "\n",
    "#\n",
    "y_pred=logreg.predict(X_test)"
   ]
  },
  {
   "cell_type": "code",
   "execution_count": 89,
   "metadata": {},
   "outputs": [
    {
     "data": {
      "text/plain": [
       "array([[4734, 1172],\n",
       "       [ 608,  986]])"
      ]
     },
     "execution_count": 89,
     "metadata": {},
     "output_type": "execute_result"
    }
   ],
   "source": [
    "# import the metrics class\n",
    "from sklearn import metrics\n",
    "cnf_matrix = metrics.confusion_matrix(y_test, y_pred)\n",
    "cnf_matrix"
   ]
  },
  {
   "cell_type": "code",
   "execution_count": 90,
   "metadata": {},
   "outputs": [
    {
     "data": {
      "text/plain": [
       "Text(0.5, 257.44, 'Predicted label')"
      ]
     },
     "execution_count": 90,
     "metadata": {},
     "output_type": "execute_result"
    },
    {
     "data": {
      "image/png": "[encoded data removed]",
      "text/plain": [
       "<Figure size 432x288 with 2 Axes>"
      ]
     },
     "metadata": {},
     "output_type": "display_data"
    }
   ],
   "source": [
    "class_names=[0,1] # name  of classes\n",
    "fig, ax = plt.subplots()\n",
    "tick_marks = np.arange(len(class_names))\n",
    "plt.xticks(tick_marks, class_names)\n",
    "plt.yticks(tick_marks, class_names)\n",
    "# create heatmap\n",
    "sns.heatmap(pd.DataFrame(cnf_matrix), annot=True, cmap=\"YlGnBu\" ,fmt='g')\n",
    "ax.xaxis.set_label_position(\"top\")\n",
    "plt.tight_layout()\n",
    "plt.title('Confusion matrix', y=1.1)\n",
    "plt.ylabel('Actual label')\n",
    "plt.xlabel('Predicted label')"
   ]
  },
  {
   "cell_type": "code",
   "execution_count": 91,
   "metadata": {},
   "outputs": [
    {
     "name": "stdout",
     "output_type": "stream",
     "text": [
      "Accuracy: 0.7626666666666667\n",
      "F1_Score: 0.7745544063870851\n",
      "AUC: 0.7100636870145879\n"
     ]
    }
   ],
   "source": [
    "#Model Accuracy \n",
    "print(\"Accuracy:\",metrics.accuracy_score(y_test, y_pred))\n",
    "print(\"F1_Score:\",f1_score(y_test, y_pred, average='weighted'))\n",
    "print(\"AUC:\",roc_auc_score(y_test, y_pred))"
   ]
  },
  {
   "cell_type": "markdown",
   "metadata": {},
   "source": [
    "# **Decision Tree** -KS"
   ]
  },
  {
   "cell_type": "code",
   "execution_count": 92,
   "metadata": {},
   "outputs": [
    {
     "name": "stdout",
     "output_type": "stream",
     "text": [
      "Accuracy: 0.7348\n",
      "F1_Score: 0.7373945939521303\n",
      "AUC: 0.6140461330395349\n"
     ]
    }
   ],
   "source": [
    "# Import Decision Tree Classifier  \n",
    "from sklearn.tree import DecisionTreeClassifier\n",
    "\n",
    "# Create Decision Tree Classifier Object \n",
    "clf = DecisionTreeClassifier()\n",
    "clf = clf.fit(X_train_resample, y_train_resample)\n",
    "\n",
    "# Predict the response for test dataset \n",
    "y_pred = clf.predict(X_test)\n",
    "\n",
    "# Model Accuracy \n",
    "print(\"Accuracy:\",metrics.accuracy_score(y_test, y_pred))\n",
    "print(\"F1_Score:\",f1_score(y_test, y_pred, average='weighted'))\n",
    "print(\"AUC:\",roc_auc_score(y_test, y_pred))"
   ]
  },
  {
   "cell_type": "markdown",
   "metadata": {},
   "source": [
    "# **Feature Importance** -KS"
   ]
  },
  {
   "cell_type": "code",
   "execution_count": 93,
   "metadata": {},
   "outputs": [
    {
     "data": {
      "text/plain": [
       "X6_BI      0.157478\n",
       "X12_ABS    0.117063\n",
       "X13_ABS    0.097674\n",
       "X17_ABS    0.096888\n",
       "X14_ABS    0.090307\n",
       "X15_ABS    0.089516\n",
       "X1         0.086037\n",
       "X16_ABS    0.079461\n",
       "X3         0.029911\n",
       "X5_Bins    0.023810\n",
       "X4         0.018888\n",
       "X8_BI      0.016118\n",
       "X2         0.013853\n",
       "X23_BI     0.012861\n",
       "X12_BI     0.012767\n",
       "X21_BI     0.008968\n",
       "X10_BI     0.007058\n",
       "X22_BI     0.006792\n",
       "X20_BI     0.005868\n",
       "X9_BI      0.005717\n",
       "X11_BI     0.004861\n",
       "X18_BI     0.004363\n",
       "X7_BI      0.003324\n",
       "X17_BI     0.003075\n",
       "X19_BI     0.002217\n",
       "X15_BI     0.001991\n",
       "X16_BI     0.001493\n",
       "X14_BI     0.000895\n",
       "X13_BI     0.000746\n",
       "X14_M      0.000000\n",
       "X15_M      0.000000\n",
       "X16_M      0.000000\n",
       "X17_M      0.000000\n",
       "X13_M      0.000000\n",
       "X12_M      0.000000\n",
       "dtype: float64"
      ]
     },
     "execution_count": 93,
     "metadata": {},
     "output_type": "execute_result"
    }
   ],
   "source": [
    "feature_importance = pd.Series(clf.feature_importances_, index=df.iloc[:,:-1].columns).sort_values(ascending=False)\n",
    "feature_importance"
   ]
  },
  {
   "cell_type": "code",
   "execution_count": 94,
   "metadata": {},
   "outputs": [
    {
     "data": {
      "image/png": "[encoded data removed]",
      "text/plain": [
       "<Figure size 864x720 with 1 Axes>"
      ]
     },
     "metadata": {},
     "output_type": "display_data"
    }
   ],
   "source": [
    "import matplotlib.pyplot as plt\n",
    "import seaborn as sns\n",
    "%matplotlib inline\n",
    "plt.style.use('ggplot')\n",
    "plt.figure(figsize=(12,10))\n",
    "\n",
    "sns.barplot(x=feature_importance, y=feature_importance.index)\n",
    "\n",
    "plt.xlabel('Feature Importance Score')\n",
    "plt.ylabel('Features')\n",
    "plt.title(\"Visualing Feature Importance\")\n",
    "\n",
    "plt.show()"
   ]
  },
  {
   "cell_type": "markdown",
   "metadata": {},
   "source": [
    "# **SVM Gaussian Kernel** -KS"
   ]
  },
  {
   "cell_type": "code",
   "execution_count": 95,
   "metadata": {},
   "outputs": [],
   "source": [
    "#from sklearn.svm import SVC  \n",
    "#svclassifier = SVC(kernel='rbf', gamma='auto')  #Kernel=rbf, non-linearly separable data\n",
    "#svclassifier = svclassifier.fit(X_train_resample, y_train_resample) "
   ]
  },
  {
   "cell_type": "code",
   "execution_count": 96,
   "metadata": {},
   "outputs": [],
   "source": [
    "#y_pred = svclassifier.predict(X_test)  "
   ]
  },
  {
   "cell_type": "code",
   "execution_count": 97,
   "metadata": {},
   "outputs": [],
   "source": [
    "#from sklearn.metrics import classification_report, confusion_matrix  \n",
    "#print(confusion_matrix(y_test, y_pred))  \n",
    "#print(classification_report(y_test, y_pred))"
   ]
  },
  {
   "cell_type": "code",
   "execution_count": 98,
   "metadata": {},
   "outputs": [],
   "source": [
    "# Model Accuracy\n",
    "#print(\"Accuracy:\",metrics.accuracy_score(y_test, y_pred))\n",
    "#print(\"F1_Score:\",f1_score(y_test, y_pred, average='weighted'))\n",
    "#print(\"AUC:\",roc_auc_score(y_test, y_pred))"
   ]
  },
  {
   "cell_type": "markdown",
   "metadata": {},
   "source": [
    "# **K-Neighbors Classifier** -KS"
   ]
  },
  {
   "cell_type": "code",
   "execution_count": 99,
   "metadata": {},
   "outputs": [],
   "source": [
    "from sklearn.neighbors import KNeighborsClassifier\n",
    "kneigh = KNeighborsClassifier()\n",
    "kneigh = kneigh.fit(X_train_resample, y_train_resample)\n",
    "y_pred = kneigh.predict(X_test)"
   ]
  },
  {
   "cell_type": "code",
   "execution_count": 100,
   "metadata": {},
   "outputs": [
    {
     "name": "stdout",
     "output_type": "stream",
     "text": [
      "Accuracy: 0.6664\n",
      "F1_Score: 0.6940704830304599\n",
      "AUC: 0.650313506329399\n"
     ]
    }
   ],
   "source": [
    "# Model Accuracy\n",
    "print(\"Accuracy:\",metrics.accuracy_score(y_test, y_pred))\n",
    "print(\"F1_Score:\",f1_score(y_test, y_pred, average='weighted'))\n",
    "print(\"AUC:\",roc_auc_score(y_test, y_pred))"
   ]
  },
  {
   "cell_type": "markdown",
   "metadata": {},
   "source": [
    "# **ADA Classifier** -KS"
   ]
  },
  {
   "cell_type": "code",
   "execution_count": 101,
   "metadata": {},
   "outputs": [],
   "source": [
    "from sklearn.ensemble import AdaBoostClassifier\n",
    "ADA = AdaBoostClassifier(n_estimators=70, random_state=2019)\n",
    "ADA = ADA.fit(X_train_resample, y_train_resample)\n",
    "y_pred = ADA.predict(X_test)"
   ]
  },
  {
   "cell_type": "code",
   "execution_count": 102,
   "metadata": {},
   "outputs": [
    {
     "name": "stdout",
     "output_type": "stream",
     "text": [
      "Accuracy: 0.7622666666666666\n",
      "F1_Score: 0.7742218312582383\n",
      "AUC: 0.7098097080101855\n"
     ]
    }
   ],
   "source": [
    "# Model Accuracy\n",
    "print(\"Accuracy:\",metrics.accuracy_score(y_test, y_pred))\n",
    "print(\"F1_Score:\",f1_score(y_test, y_pred, average='weighted'))\n",
    "print(\"AUC:\",roc_auc_score(y_test, y_pred))"
   ]
  },
  {
   "cell_type": "markdown",
   "metadata": {},
   "source": [
    "# **Random Forest** -KS"
   ]
  },
  {
   "cell_type": "code",
   "execution_count": 92,
   "metadata": {},
   "outputs": [],
   "source": [
    "#from sklearn.ensemble import RandomForestClassifier\n",
    "#clf = RandomForestClassifier(n_estimators=100)\n",
    "\n",
    "#clf.fit(X_train_resample, y_train_resample)\n",
    "\n",
    "#y_pred = clf.predict(X_test)"
   ]
  },
  {
   "cell_type": "code",
   "execution_count": 93,
   "metadata": {},
   "outputs": [],
   "source": [
    "# Model Accuracy\n",
    "#print(\"Accuracy:\",metrics.accuracy_score(y_test, y_pred))\n",
    "#print(\"F1_Score:\",f1_score(y_test, y_pred, average='weighted'))\n",
    "#print(\"AUC:\",roc_auc_score(y_test, y_pred))"
   ]
  },
  {
   "cell_type": "markdown",
   "metadata": {},
   "source": [
    "# **Cross Validation Check** -JH\n",
    "# **Turning the 'Nobs' on the Models** -JH"
   ]
  },
  {
   "cell_type": "code",
   "execution_count": null,
   "metadata": {},
   "outputs": [],
   "source": [
    "X = df.iloc[:,:-1] # Features\n",
    "y = df.Y # Target variable"
   ]
  },
  {
   "cell_type": "code",
   "execution_count": null,
   "metadata": {},
   "outputs": [],
   "source": [
    "from imblearn.over_sampling import RandomOverSampler\n",
    "ros = RandomOverSampler(random_state=2019)\n",
    "X_resample, y_resample = ros.fit_resample(X, y)"
   ]
  },
  {
   "cell_type": "code",
   "execution_count": null,
   "metadata": {},
   "outputs": [],
   "source": [
    "# cross_valid_ex.py\n",
    "\n",
    "import numpy as np\n",
    "import matplotlib.pyplot as plt\n",
    "from sklearn.model_selection import cross_val_score\n",
    "from sklearn.model_selection import StratifiedKFold\n",
    "\n",
    "from sklearn.linear_model import LogisticRegression\n",
    "from sklearn.neighbors import KNeighborsClassifier\n",
    "from sklearn.svm import SVC\n",
    "from sklearn.tree import DecisionTreeClassifier\n",
    "from sklearn.ensemble import AdaBoostClassifier\n",
    "from sklearn.ensemble import RandomForestClassifier\n",
    "\n",
    "\n",
    "features, targets = X_resample, y_resample\n",
    "\n",
    "models = []\n",
    "models.append(('LogisticRegression', LogisticRegression(solver='liblinear')))\n",
    "models.append(('KNeighborsClassifier', KNeighborsClassifier()))\n",
    "#models.append(('SVC', SVC(kernel='rbf', gamma='auto')))\n",
    "models.append(('DecisionTreeClassifier', DecisionTreeClassifier()))\n",
    "models.append(('AdaClassifier', AdaBoostClassifier()))\n",
    "#models.append(('RandomForest', RandomForestClassifier()))\n",
    "\n",
    "\n",
    "# KFold with 'stratify' option\n",
    "cv = StratifiedKFold(n_splits=10, shuffle=True, random_state=2019)\n",
    "for name, model in models:\n",
    "    score = cross_val_score(model, features, targets, cv=cv, scoring='roc_auc')\n",
    "    print(\"Model:{0}, Score: AUC={1:0.5f}, var={2:0.5f}\".format(\n",
    "        name,\n",
    "        score.mean(),\n",
    "        score.var()\n",
    "        )\n",
    "    )\n",
    "cv1 = StratifiedKFold(n_splits=10, shuffle=True, random_state=2019)\n",
    "for name, model in models:\n",
    "    score = cross_val_score(model, features, targets, cv=cv1, scoring='f1')\n",
    "    print(\"Model:{0}, Score: F1={1:0.5f}, var={2:0.5f}\".format(\n",
    "        name,\n",
    "        score.mean(),\n",
    "        score.var()\n",
    "        )\n",
    "    )    \n"
   ]
  },
  {
   "cell_type": "code",
   "execution_count": null,
   "metadata": {},
   "outputs": [],
   "source": [
    "# **TPOT results** \n",
    "# Average CV score on the training set was:0.7567618699583566\n",
    "exported_pipeline = make_pipeline(\n",
    "    StackingEstimator(estimator=DecisionTreeClassifier(criterion=\"entropy\", max_depth=6, min_samples_leaf=20, min_samples_split=15)),\n",
    "    GaussianNB())"
   ]
  },
  {
   "cell_type": "code",
   "execution_count": 103,
   "metadata": {},
   "outputs": [],
   "source": [
    "# **Best Performance**\n"
   ]
  },
  {
   "cell_type": "code",
   "execution_count": null,
   "metadata": {},
   "outputs": [],
   "source": [
    "# **Best Repeatibility** \n",
    "from sklearn.ensemble import RandomForestClassifier\n",
    "clf = RandomForestClassifier(n_estimators=100, max_depth=10 ,max_features=8)\n",
    "\n",
    "clf.fit(X_train_resample, y_train_resample)\n",
    "\n",
    "y_pred = clf.predict(X_test)\n",
    "\n",
    "# Model Accuracy, how often is the classifier correct?\n",
    "print(\"Accuracy:\",metrics.accuracy_score(y_test, y_pred))\n",
    "print(\"F1_Score:\",f1_score(y_test, y_pred, average='weighted'))\n",
    "print(\"AUC:\",roc_auc_score(y_test, y_pred))"
   ]
  },
  {
   "cell_type": "code",
   "execution_count": null,
   "metadata": {},
   "outputs": [],
   "source": [
    "from sklearn.model_selection import cross_val_score\n",
    "from sklearn.model_selection import StratifiedKFold\n",
    "\n",
    "features, targets = X_resample, y_resample\n",
    "models = []\n",
    "models.append(('RandomForest', RandomForestClassifier(n_estimators=100, max_depth=10 ,max_features=8)))\n",
    "\n",
    "\n",
    "cv = StratifiedKFold(n_splits=10, shuffle=True, random_state=2019)\n",
    "for name, model in models:\n",
    "    score = cross_val_score(model, features, targets, cv=cv, scoring='roc_auc')\n",
    "    print(\"Model:{0}, Score: AUC={1:0.5f}, var={2:0.5f}\".format(\n",
    "        name,\n",
    "        score.mean(),\n",
    "        score.var()\n",
    "        )\n",
    "    )\n",
    "cv1 = StratifiedKFold(n_splits=10, shuffle=True, random_state=2019)\n",
    "for name, model in models:\n",
    "    score = cross_val_score(model, features, targets, cv=cv1, scoring='f1')\n",
    "    print(\"Model:{0}, Score: F1={1:0.5f}, var={2:0.5f}\".format(\n",
    "        name,\n",
    "        score.mean(),\n",
    "        score.var()\n",
    "        )\n",
    "    )    \n",
    "cv2 = StratifiedKFold(n_splits=10, shuffle=True, random_state=2019)\n",
    "for name, model in models:\n",
    "    score = cross_val_score(model, features, targets, cv=cv2, scoring='accuracy')\n",
    "    print(\"Model:{0}, Score: Accuracy={1:0.5f}, var={2:0.5f}\".format(\n",
    "        name,\n",
    "        score.mean(),\n",
    "        score.var()\n",
    "        )\n",
    "    )    "
   ]
  }
 ],
 "metadata": {
  "kernelspec": {
   "display_name": "Python 3",
   "language": "python",
   "name": "python3"
  },
  "language_info": {
   "codemirror_mode": {
    "name": "ipython",
    "version": 3
   },
   "file_extension": ".py",
   "mimetype": "text/x-python",
   "name": "python",
   "nbconvert_exporter": "python",
   "pygments_lexer": "ipython3",
   "version": "3.6.5"
  }
 },
 "nbformat": 4,
 "nbformat_minor": 2
}
